{
 "cells": [
  {
   "cell_type": "code",
   "execution_count": 1,
   "metadata": {
    "collapsed": false,
    "slideshow": {
     "slide_type": "slide"
    }
   },
   "outputs": [],
   "source": [
    "import matplotlib.pyplot as plt\n",
    "import os, re\n",
    "import pandas as pd\n",
    "import numpy as np\n",
    "\n",
    "from datetime import datetime as dt\n",
    "import cPickle as pickle\n",
    "import re #Regex\n",
    "import seaborn as sns\n",
    "sns.set()\n",
    "%matplotlib inline"
   ]
  },
  {
   "cell_type": "markdown",
   "metadata": {},
   "source": [
    "# 1. Evaluating Crawling Indicator"
   ]
  },
  {
   "cell_type": "code",
   "execution_count": 38,
   "metadata": {
    "collapsed": false
   },
   "outputs": [
    {
     "name": "stdout",
     "output_type": "stream",
     "text": [
      "Wall time: 41 ms\n"
     ]
    },
    {
     "data": {
      "text/html": [
       "<div>\n",
       "<table border=\"1\" class=\"dataframe\">\n",
       "  <thead>\n",
       "    <tr style=\"text-align: right;\">\n",
       "      <th></th>\n",
       "      <th>crawlMem</th>\n",
       "      <th>crawlTime</th>\n",
       "    </tr>\n",
       "  </thead>\n",
       "  <tbody>\n",
       "    <tr>\n",
       "      <th>count</th>\n",
       "      <td>148.000000</td>\n",
       "      <td>148.000000</td>\n",
       "    </tr>\n",
       "    <tr>\n",
       "      <th>mean</th>\n",
       "      <td>3571.027027</td>\n",
       "      <td>0.872446</td>\n",
       "    </tr>\n",
       "    <tr>\n",
       "      <th>std</th>\n",
       "      <td>782.478827</td>\n",
       "      <td>4.687685</td>\n",
       "    </tr>\n",
       "    <tr>\n",
       "      <th>min</th>\n",
       "      <td>2088.000000</td>\n",
       "      <td>0.077400</td>\n",
       "    </tr>\n",
       "    <tr>\n",
       "      <th>25%</th>\n",
       "      <td>2936.000000</td>\n",
       "      <td>0.134975</td>\n",
       "    </tr>\n",
       "    <tr>\n",
       "      <th>50%</th>\n",
       "      <td>3932.000000</td>\n",
       "      <td>0.149150</td>\n",
       "    </tr>\n",
       "    <tr>\n",
       "      <th>75%</th>\n",
       "      <td>4080.000000</td>\n",
       "      <td>0.285525</td>\n",
       "    </tr>\n",
       "    <tr>\n",
       "      <th>max</th>\n",
       "      <td>6832.000000</td>\n",
       "      <td>54.813600</td>\n",
       "    </tr>\n",
       "  </tbody>\n",
       "</table>\n",
       "</div>"
      ],
      "text/plain": [
       "          crawlMem   crawlTime\n",
       "count   148.000000  148.000000\n",
       "mean   3571.027027    0.872446\n",
       "std     782.478827    4.687685\n",
       "min    2088.000000    0.077400\n",
       "25%    2936.000000    0.134975\n",
       "50%    3932.000000    0.149150\n",
       "75%    4080.000000    0.285525\n",
       "max    6832.000000   54.813600"
      ]
     },
     "execution_count": 38,
     "metadata": {},
     "output_type": "execute_result"
    }
   ],
   "source": [
    "# %time DATACrawl = pickle.load( open( \"v1.4\\DATA_ANALSISIS_crawl.p\", \"rb\" ) )\n",
    "%time DATACrawl = pickle.load( open( \"v1.4\\DATA_CRAWL-v4c.p\", \"rb\" ) )\n",
    "crawlIndicator = pd.DataFrame([DATACrawl.crawlMem,DATACrawl.crawlTime]).transpose()\n",
    "crawlIndicator.describe()"
   ]
  },
  {
   "cell_type": "code",
   "execution_count": 39,
   "metadata": {
    "collapsed": false
   },
   "outputs": [
    {
     "name": "stdout",
     "output_type": "stream",
     "text": [
      "Memory Positif :  340288.0 Byte\n",
      "Memory Semua   :  528512.0 Byte\n",
      "Time Positif   :  48.7722 Detik\n",
      "Time Semua     :  129.122 Detik\n"
     ]
    },
    {
     "data": {
      "text/html": [
       "<div>\n",
       "<table border=\"1\" class=\"dataframe\">\n",
       "  <thead>\n",
       "    <tr style=\"text-align: right;\">\n",
       "      <th></th>\n",
       "      <th>Memory Positif</th>\n",
       "      <th>Time Positif</th>\n",
       "      <th>Memory Semua</th>\n",
       "      <th>Time Semua</th>\n",
       "    </tr>\n",
       "  </thead>\n",
       "  <tbody>\n",
       "    <tr>\n",
       "      <th>count</th>\n",
       "      <td>97.000000</td>\n",
       "      <td>97.000000</td>\n",
       "      <td>148.000000</td>\n",
       "      <td>148.000000</td>\n",
       "    </tr>\n",
       "    <tr>\n",
       "      <th>mean</th>\n",
       "      <td>3508.123711</td>\n",
       "      <td>0.502806</td>\n",
       "      <td>3571.027027</td>\n",
       "      <td>0.872446</td>\n",
       "    </tr>\n",
       "    <tr>\n",
       "      <th>std</th>\n",
       "      <td>867.912525</td>\n",
       "      <td>1.370002</td>\n",
       "      <td>782.478827</td>\n",
       "      <td>4.687685</td>\n",
       "    </tr>\n",
       "    <tr>\n",
       "      <th>min</th>\n",
       "      <td>2368.000000</td>\n",
       "      <td>0.090900</td>\n",
       "      <td>2088.000000</td>\n",
       "      <td>0.077400</td>\n",
       "    </tr>\n",
       "    <tr>\n",
       "      <th>25%</th>\n",
       "      <td>2520.000000</td>\n",
       "      <td>0.132100</td>\n",
       "      <td>2936.000000</td>\n",
       "      <td>0.134975</td>\n",
       "    </tr>\n",
       "    <tr>\n",
       "      <th>50%</th>\n",
       "      <td>3920.000000</td>\n",
       "      <td>0.148100</td>\n",
       "      <td>3932.000000</td>\n",
       "      <td>0.149150</td>\n",
       "    </tr>\n",
       "    <tr>\n",
       "      <th>75%</th>\n",
       "      <td>4072.000000</td>\n",
       "      <td>0.244300</td>\n",
       "      <td>4080.000000</td>\n",
       "      <td>0.285525</td>\n",
       "    </tr>\n",
       "    <tr>\n",
       "      <th>max</th>\n",
       "      <td>6832.000000</td>\n",
       "      <td>12.173000</td>\n",
       "      <td>6832.000000</td>\n",
       "      <td>54.813600</td>\n",
       "    </tr>\n",
       "  </tbody>\n",
       "</table>\n",
       "</div>"
      ],
      "text/plain": [
       "       Memory Positif  Time Positif  Memory Semua  Time Semua\n",
       "count       97.000000     97.000000    148.000000  148.000000\n",
       "mean      3508.123711      0.502806   3571.027027    0.872446\n",
       "std        867.912525      1.370002    782.478827    4.687685\n",
       "min       2368.000000      0.090900   2088.000000    0.077400\n",
       "25%       2520.000000      0.132100   2936.000000    0.134975\n",
       "50%       3920.000000      0.148100   3932.000000    0.149150\n",
       "75%       4072.000000      0.244300   4080.000000    0.285525\n",
       "max       6832.000000     12.173000   6832.000000   54.813600"
      ]
     },
     "execution_count": 39,
     "metadata": {},
     "output_type": "execute_result"
    }
   ],
   "source": [
    "DATA_ANALSISIS_crawl    = DATACrawl[DATACrawl.flag.isin([-1, 1])]\n",
    "\n",
    "DATA_ANALSISIS_crawlPos = DATA_ANALSISIS_crawl[DATA_ANALSISIS_crawl.flag == 1]\n",
    "DATA_ANALSISIS_crawlNeg = DATA_ANALSISIS_crawl\n",
    "crawlAnalysis = pd.DataFrame([DATA_ANALSISIS_crawlPos.crawlMem,DATA_ANALSISIS_crawlPos.crawlTime,\n",
    "                              DATA_ANALSISIS_crawlNeg.crawlMem,DATA_ANALSISIS_crawlNeg.crawlTime]).transpose()\n",
    "crawlAnalysis.columns = ['Memory Positif','Time Positif','Memory Semua','Time Semua']\n",
    "print 'Memory Positif : ',sum(DATA_ANALSISIS_crawlPos.crawlMem), 'Byte'\n",
    "print 'Memory Semua   : ',sum(DATA_ANALSISIS_crawlNeg.crawlMem), 'Byte'\n",
    "print 'Time Positif   : ',sum(DATA_ANALSISIS_crawlPos.crawlTime), 'Detik'\n",
    "print 'Time Semua     : ',sum(DATA_ANALSISIS_crawlNeg.crawlTime),'Detik'\n",
    "crawlAnalysis.describe()"
   ]
  },
  {
   "cell_type": "code",
   "execution_count": 40,
   "metadata": {
    "collapsed": false
   },
   "outputs": [
    {
     "data": {
      "image/png": "[encoded data removed]",
      "text/plain": [
       "<matplotlib.figure.Figure at 0xcb21390>"
      ]
     },
     "metadata": {},
     "output_type": "display_data"
    }
   ],
   "source": [
    "import numpy as np\n",
    "import matplotlib.pyplot as plt\n",
    "\n",
    "x = [1,2,3,5,6,7,8]\n",
    "labels = ['Viva.co.id',  'Merdeka.com', 'Liputan6.com', 'Okezone.com', 'JPNN.com', 'Suara.com', 'Bisnis.com']\n",
    "y1 = [DATACrawl[DATACrawl.sumber == i].crawlMem.mean() for i in x]\n",
    "y2 = [DATACrawl[DATACrawl.sumber == i].crawlTime.mean() for i in x]\n",
    "\n",
    "plt.plot(y1, y2,'s')\n",
    "plt.xlabel('Memori (Byte)', fontsize=10)\n",
    "plt.ylabel('Waktu (Detik)', fontsize=10)\n",
    "for label, x, y in zip(labels, y1, y2):\n",
    "    plt.annotate(\n",
    "        label, \n",
    "        xy = (x, y), xytext = (-20, 20),\n",
    "        textcoords = 'offset points', ha = 'right', va = 'bottom',\n",
    "        bbox = dict(boxstyle = 'round,pad=0.5', fc = 'yellow', alpha = 0.5),\n",
    "        arrowprops = dict(arrowstyle = '->', connectionstyle = 'arc3,rad=0'))\n",
    "    \n",
    "plt.show()"
   ]
  },
  {
   "cell_type": "code",
   "execution_count": 41,
   "metadata": {
    "collapsed": false
   },
   "outputs": [
    {
     "data": {
      "image/png": "[encoded data removed]",
      "text/plain": [
       "<matplotlib.figure.Figure at 0xc8d1898>"
      ]
     },
     "metadata": {},
     "output_type": "display_data"
    }
   ],
   "source": [
    "import matplotlib.pyplot as plt\n",
    "\n",
    "fig, ax = plt.subplots(nrows=2,figsize=(16,16))\n",
    "\n",
    "sns.boxplot(crawlIndicator.crawlMem, orient = 'h',ax=ax[0])\n",
    "sns.boxplot(crawlIndicator.crawlTime, orient = 'h', ax=ax[1])\n",
    "\n",
    "plt.show()"
   ]
  },
  {
   "cell_type": "markdown",
   "metadata": {},
   "source": [
    "#### Terlihat total penggunaan waktu dan memory sangat signifikan, hal tersebut karena jumlah berita positif dan negatif yang berbeda jauh"
   ]
  },
  {
   "cell_type": "markdown",
   "metadata": {
    "slideshow": {
     "slide_type": "slide"
    }
   },
   "source": [
    "# 2.Evaluating the Classifier v1.4 vs v1.6 vs v2.0\n",
    "\n",
    "\n",
    "## 2.1 Load from the 'Pickled' dump"
   ]
  },
  {
   "cell_type": "code",
   "execution_count": 64,
   "metadata": {
    "collapsed": false,
    "slideshow": {
     "slide_type": "subslide"
    }
   },
   "outputs": [
    {
     "name": "stdout",
     "output_type": "stream",
     "text": [
      "Wall time: 2 ms\n",
      "Wall time: 3 ms\n",
      "Wall time: 15 ms\n",
      "Wall time: 5 ms\n",
      "Wall time: 5 ms\n",
      "Wall time: 9 ms\n",
      "Wall time: 6 ms\n",
      "Wall time: 7 ms\n",
      "Wall time: 8 ms\n",
      "Wall time: 2 ms\n"
     ]
    }
   ],
   "source": [
    "DATAStd  = pd.DataFrame()\n",
    "DATAPost = pd.DataFrame()\n",
    "\n",
    "#Load standard striped Text\n",
    "%time DATAStd['Judul'] = pickle.load( open( \"v1.4\\DATA_JUDULStriped-v4c.p\", \"rb\" ) )\n",
    "%time DATAStd['Short'] = pickle.load( open( \"v1.4\\DATA_SHORTStriped-v4c.p\", \"rb\" ) )\n",
    "%time DATAStd['Long']  = pickle.load( open( \"v1.4\\DATA_LONGStriped-v4c.p\", \"rb\" ) )\n",
    "\n",
    "#Load from PosTagged Noun and verb only Text\n",
    "%time DATAPost['Judul'] = pickle.load( open( \"v1.6\\DATA_JUDULpostag-v5c.p\", \"rb\" ) )\n",
    "%time DATAPost['Short'] = pickle.load( open( \"v1.6\\DATA_SHORTpostag-v5c.p\", \"rb\" ) )\n",
    "%time DATAPost['Long']  = pickle.load( open( \"v1.6\\DATA_LONGpostag-v5c.p\", \"rb\" ) )\n",
    "\n",
    "#Load number of total tag in Text\n",
    "%time AllFracJudul = pickle.load( open( \"v2.0\\DATA_JUDUL-v6c.p\", \"rb\" ) )\n",
    "%time AllFracShort = pickle.load( open( \"v2.0\\DATA_SHORT-v6c.p\", \"rb\" ) )\n",
    "%time AllFracLong  = pickle.load( open( \"v2.0\\DATA_LONG-v6c.p\", \"rb\" ) )\n",
    "\n",
    "#Load number of total noun-verb only in Text\n",
    "# %time NVFracJudul = pickle.load( open( \"v2.0\\DATA_JUDUL-v2.p\", \"rb\" ) )\n",
    "# %time NVFracShort = pickle.load( open( \"v2.0\\DATA_SHORT-v2.p\", \"rb\" ) )\n",
    "# %time NVFracLong  = pickle.load( open( \"v2.0\\DATA_LONG-v2.p\", \"rb\" ) )\n",
    "\n",
    "%time DATA_TARGET = pickle.load( open( \"v1.4\\DATA_TARGET-v4c.p\", \"rb\" ) )\n",
    "\n",
    "DATA_TARGET = DATA_TARGET.reset_index(drop=True)\n",
    "DATAStd  = DATAStd.reset_index(drop=True)\n",
    "DATAPost = DATAPost.reset_index(drop=True)"
   ]
  },
  {
   "cell_type": "code",
   "execution_count": 65,
   "metadata": {
    "collapsed": false
   },
   "outputs": [
    {
     "name": "stdout",
     "output_type": "stream",
     "text": [
      "Total Negative Instances    :  51\n",
      "Training Negative Instances :  51\n",
      "Training Positif Instances  :  97\n"
     ]
    }
   ],
   "source": [
    "#We only use 2% of total negative instance\n",
    "factor = 100.0/100\n",
    "size   = int(factor*DATA_TARGET[DATA_TARGET.values == -1].count())\n",
    "print 'Total Negative Instances    : ',DATA_TARGET[DATA_TARGET.values == -1].count()\n",
    "print 'Training Negative Instances : ',size\n",
    "print 'Training Positif Instances  : ',DATA_TARGET[DATA_TARGET.values == 1].count()"
   ]
  },
  {
   "cell_type": "code",
   "execution_count": 44,
   "metadata": {
    "collapsed": false
   },
   "outputs": [],
   "source": [
    "from sklearn.feature_extraction.text import TfidfVectorizer,CountVectorizer\n",
    "#Stopwords data source : https://www.illc.uva.nl/Research/Publications/Reports/MoL-2003-02.text.pdf\n",
    "stopword_html = open(\"id.stopwords.01.01.2016.txt\",'r').read()\n",
    "stopwords     = stopword_html.split(\"\\n\")\n",
    "\n",
    "vect1 = TfidfVectorizer(decode_error='ignore')\n",
    "vect2 = TfidfVectorizer(stop_words=stopwords,decode_error='ignore')\n",
    "\n",
    "vectStds = vect1.fit_transform(DATAStd['Long'])\n",
    "vectStop = vect2.fit_transform(DATAStd['Long'])\n",
    "vectPost = vect1.fit_transform(DATAPost['Long'])"
   ]
  },
  {
   "cell_type": "code",
   "execution_count": 45,
   "metadata": {
    "collapsed": false
   },
   "outputs": [
    {
     "data": {
      "text/plain": [
       "<148x4685 sparse matrix of type '<type 'numpy.float64'>'\n",
       "\twith 20663 stored elements in Compressed Sparse Row format>"
      ]
     },
     "execution_count": 45,
     "metadata": {},
     "output_type": "execute_result"
    }
   ],
   "source": [
    "vectStds"
   ]
  },
  {
   "cell_type": "code",
   "execution_count": 46,
   "metadata": {
    "collapsed": false
   },
   "outputs": [
    {
     "data": {
      "text/plain": [
       "<148x4246 sparse matrix of type '<type 'numpy.float64'>'\n",
       "\twith 13657 stored elements in Compressed Sparse Row format>"
      ]
     },
     "execution_count": 46,
     "metadata": {},
     "output_type": "execute_result"
    }
   ],
   "source": [
    "vectStop"
   ]
  },
  {
   "cell_type": "code",
   "execution_count": 47,
   "metadata": {
    "collapsed": false
   },
   "outputs": [
    {
     "data": {
      "text/plain": [
       "<148x4406 sparse matrix of type '<type 'numpy.float64'>'\n",
       "\twith 15264 stored elements in Compressed Sparse Row format>"
      ]
     },
     "execution_count": 47,
     "metadata": {},
     "output_type": "execute_result"
    }
   ],
   "source": [
    "vectPost"
   ]
  },
  {
   "cell_type": "code",
   "execution_count": 48,
   "metadata": {
    "collapsed": false
   },
   "outputs": [
    {
     "name": "stdout",
     "output_type": "stream",
     "text": [
      "(148L, 29L)\n"
     ]
    }
   ],
   "source": [
    "print AllFracLong.shape"
   ]
  },
  {
   "cell_type": "code",
   "execution_count": 49,
   "metadata": {
    "collapsed": false
   },
   "outputs": [
    {
     "name": "stdout",
     "output_type": "stream",
     "text": [
      "52266025\n",
      "51202553\n",
      "46967840\n"
     ]
    }
   ],
   "source": [
    "print (1871*28112)-331527\n",
    "print (1871*27489)-229366\n",
    "print (1871*25228)-233748"
   ]
  },
  {
   "cell_type": "markdown",
   "metadata": {},
   "source": [
    "#### Data Teks berita yang sudah dibersihkan dari tag HTML di v1.4"
   ]
  },
  {
   "cell_type": "code",
   "execution_count": 50,
   "metadata": {
    "collapsed": false
   },
   "outputs": [
    {
     "name": "stdout",
     "output_type": "stream",
     "text": [
      "['laba anjlok  astra agro lestari tak bagi dividen']\n"
     ]
    }
   ],
   "source": [
    "print DATAStd.Judul.head(1).values"
   ]
  },
  {
   "cell_type": "markdown",
   "metadata": {},
   "source": [
    "#### Data Teks berita yang sudah di-POSTag verb dan noun di v1.6"
   ]
  },
  {
   "cell_type": "code",
   "execution_count": 51,
   "metadata": {
    "collapsed": false
   },
   "outputs": [
    {
     "name": "stdout",
     "output_type": "stream",
     "text": [
      "['laba anjlok astra agro lestari dividen']\n"
     ]
    }
   ],
   "source": [
    "print DATAPost.Judul.head(1).values"
   ]
  },
  {
   "cell_type": "markdown",
   "metadata": {},
   "source": [
    "#### Data Teks berita yang sudah diambil fraction verb dan noun di v2.0"
   ]
  },
  {
   "cell_type": "code",
   "execution_count": 52,
   "metadata": {
    "collapsed": false
   },
   "outputs": [
    {
     "data": {
      "text/plain": [
       "array([[ 0.,  1.,  0.,  0.,  0.,  0.,  0.,  6.,  0.,  0.,  0.,  0.,  0.,\n",
       "         0.,  0.,  0.,  0.,  0.,  0.,  0.,  0.,  0.,  1.,  0.,  0.,  0.,\n",
       "         0.,  0.,  0.]])"
      ]
     },
     "execution_count": 52,
     "metadata": {},
     "output_type": "execute_result"
    }
   ],
   "source": [
    "AllFracJudul[:1]"
   ]
  },
  {
   "cell_type": "markdown",
   "metadata": {},
   "source": [
    "## 2. Evaluate\n",
    "\n",
    "### Preprocessing\n",
    "\n",
    "![smiley](img/evaluasi_preproc.png)"
   ]
  },
  {
   "cell_type": "code",
   "execution_count": 53,
   "metadata": {
    "collapsed": false
   },
   "outputs": [],
   "source": [
    "#Stopwords data source : https://www.illc.uva.nl/Research/Publications/Reports/MoL-2003-02.text.pdf\n",
    "stopword_html = open(\"id.stopwords.01.01.2016.txt\",'r').read()\n",
    "stopwords     = stopword_html.split(\"\\n\")"
   ]
  },
  {
   "cell_type": "code",
   "execution_count": 54,
   "metadata": {
    "collapsed": false
   },
   "outputs": [],
   "source": [
    "from sklearn import cross_validation\n",
    "from sklearn.metrics import confusion_matrix, f1_score, accuracy_score\n",
    "from sklearn.metrics import precision_score, recall_score, classification_report, roc_auc_score,roc_curve,auc\n",
    "from scipy import interp\n",
    "import datetime\n",
    "\n",
    "def skorStratCV(clf,X,y,nfolds=10):\n",
    "    metrics = []\n",
    "    \n",
    "    trainTime,testTime = [],[]\n",
    "    precis,recals,f1s,accs,rocs = [],[],[],[],[]\n",
    "    \n",
    "    mean_tpr = 0.0\n",
    "    mean_fpr = np.linspace(0, 1, 100)\n",
    "    all_tpr = []\n",
    "\n",
    "    skf = cross_validation.StratifiedKFold(y, n_folds=nfolds)\n",
    "    for train_index, test_index in skf:\n",
    "        X_train,y_train = X[train_index],y[train_index]\n",
    "        X_test,y_test   = X[test_index],y[test_index]\n",
    "        \n",
    "        #training time\n",
    "        start = dt.now()\n",
    "        clf.fit(X_train, y_train)\n",
    "        end = dt.now()\n",
    "        trainTime.append((end-start).microseconds)\n",
    "        \n",
    "        #testing time\n",
    "        start = dt.now()\n",
    "        yhat = clf.predict(X_test)\n",
    "        end = dt.now()\n",
    "        testTime.append((end-start).microseconds)\n",
    "        \n",
    "        #score\n",
    "        precis.append(precision_score(y_test, yhat, average='binary'))\n",
    "        recals.append(recall_score(y_test, yhat, average='binary'))\n",
    "        f1s.append(f1_score(y_test, yhat, average='binary'))\n",
    "        accs.append(accuracy_score(y_test, yhat))\n",
    "        \n",
    "        probas_              = clf.fit(X_train, y_train).predict_proba(X_test)\n",
    "        fpr, tpr, thresholds = roc_curve(y_test, probas_[:, 1])\n",
    "        mean_tpr            += interp(mean_fpr, fpr, tpr)\n",
    "        mean_tpr[0]          = 0.0\n",
    "        \n",
    "    def ave(lis):\n",
    "        return sum(lis)/len(lis)\n",
    "    \n",
    "    metrics.append(ave(trainTime)+ave(testTime))\n",
    "#     metrics.append(ave(testTime))\n",
    "    metrics.append(ave(precis))\n",
    "    metrics.append(ave(recals))\n",
    "    metrics.append(ave(f1s))\n",
    "    metrics.append(ave(accs))\n",
    "    \n",
    "    mean_tpr /= nfolds\n",
    "    mean_tpr[-1] = 1.0\n",
    "    mean_auc = auc(mean_fpr, mean_tpr)\n",
    "    metrics.append(mean_auc)\n",
    "    \n",
    "    return metrics,mean_fpr,mean_tpr"
   ]
  },
  {
   "cell_type": "code",
   "execution_count": 6,
   "metadata": {
    "collapsed": false
   },
   "outputs": [],
   "source": [
    "from sklearn.linear_model import SGDClassifier\n",
    "from sklearn.naive_bayes import MultinomialNB\n",
    "from sklearn.svm import SVC\n",
    "from sklearn.tree import DecisionTreeClassifier\n",
    "from sklearn.feature_extraction.text import TfidfVectorizer\n",
    "from sklearn.neighbors import KNeighborsClassifier\n",
    "from sklearn.pipeline import Pipeline\n",
    "\n",
    "mnb = MultinomialNB(alpha=0.1)\n",
    "#knn = KNeighborsClassifier()\n",
    "svc = SVC(kernel='linear',cache_size=800,probability=True)\n",
    "#tre = DecisionTreeClassifier(class_weight='balanced')\n",
    "\n",
    "vectCnts = TfidfVectorizer(decode_error='ignore')\n",
    "vectStds = TfidfVectorizer(decode_error='ignore')\n",
    "#vectStop = TfidfVectorizer(stop_words=stopwords,decode_error='ignore')\n",
    "\n",
    "kombinasi13 = [{'name' : 'MNB', 'pipe' : Pipeline([('vect', vectCnts),('clf', mnb)])},\n",
    "               #{'name' : 'KNN', 'pipe' : Pipeline([('vect', vect),('clf', knn)])},\n",
    "               {'name' : 'SVM', 'pipe' : Pipeline([('vect', vectCnts),('clf', svc)])},\n",
    "               #{'name' : 'TREE', 'pipe' : Pipeline([('vect', vect),('clf', tre)])}\n",
    "              ]\n",
    "\n",
    "kombinasi24= [{'name' : 'MNB', 'pipe' : Pipeline([('vect', vectStds),('clf', mnb)])},\n",
    "             #{'name' : 'KNN', 'pipe' : Pipeline([('vect', vect),('clf', knn)])},\n",
    "             {'name' : 'SVM', 'pipe' : Pipeline([('vect', vectStds),('clf', svc)])},\n",
    "             #{'name' : 'TREE', 'pipe' : Pipeline([('vect', vect),('clf', tre)])}\n",
    "             ]\n",
    "\n",
    "kombinasi5 = [{'name' : 'MNB', 'pipe' : mnb},\n",
    "               {'name' : 'SVM', 'pipe' : svc},\n",
    "             ]"
   ]
  },
  {
   "cell_type": "code",
   "execution_count": 56,
   "metadata": {
    "collapsed": false
   },
   "outputs": [
    {
     "data": {
      "text/plain": [
       "Pipeline(steps=[('vect', TfidfVectorizer(analyzer=u'word', binary=False, decode_error='ignore',\n",
       "        dtype=<type 'numpy.int64'>, encoding=u'utf-8', input=u'content',\n",
       "        lowercase=True, max_df=1.0, max_features=None, min_df=1,\n",
       "        ngram_range=(1, 1), norm=u'l2', preprocessor=None, smooth_idf=True,...rue,\n",
       "        vocabulary=None)), ('clf', MultinomialNB(alpha=0.1, class_prior=None, fit_prior=True))])"
      ]
     },
     "execution_count": 56,
     "metadata": {},
     "output_type": "execute_result"
    }
   ],
   "source": [
    "kombinasi13[0]['pipe']"
   ]
  },
  {
   "cell_type": "code",
   "execution_count": 57,
   "metadata": {
    "collapsed": false
   },
   "outputs": [
    {
     "name": "stdout",
     "output_type": "stream",
     "text": [
      "148\n",
      "148\n",
      "148\n"
     ]
    }
   ],
   "source": [
    "print len(AllFracJudul)\n",
    "print len(AllFracShort)\n",
    "print len(AllFracJudul+AllFracShort)"
   ]
  },
  {
   "cell_type": "code",
   "execution_count": 59,
   "metadata": {
    "collapsed": false
   },
   "outputs": [
    {
     "name": "stdout",
     "output_type": "stream",
     "text": [
      "memakan makanan\n"
     ]
    }
   ],
   "source": [
    "k = 'aku akan memakan semua makanan itu'\n",
    "\n",
    "def stopwordRemoval(text):\n",
    "    text = ' '.join([word for word in text.split() if word not in stopwords])\n",
    "    return text\n",
    "\n",
    "print stopwordRemoval(k)\n",
    "JudulStop = DATAStd['Judul'].map(lambda x: stopwordRemoval(x))\n",
    "ShortStop = DATAStd['Short'].map(lambda x: stopwordRemoval(x))\n",
    "LongStop  = DATAStd['Long'].map(lambda x: stopwordRemoval(x))\n",
    "Feed1Stop  = JudulStop+' '+ShortStop\n",
    "Feed2Stop  = JudulStop+' '+LongStop+' '+ShortStop\n",
    "\n",
    "JudulPostStop = DATAPost['Judul'].map(lambda x: stopwordRemoval(x))\n",
    "ShortPostStop = DATAPost['Short'].map(lambda x: stopwordRemoval(x))\n",
    "LongPostStop  = DATAPost['Long'].map(lambda x: stopwordRemoval(x))\n",
    "Feed1PostStop  = JudulPostStop+' '+ShortPostStop\n",
    "Feed2PostStop  = JudulPostStop+' '+LongPostStop+' '+ShortPostStop\n",
    "\n",
    "# print DATAStd['Judul'][198]\n",
    "# print JudulStop[198]"
   ]
  },
  {
   "cell_type": "code",
   "execution_count": 68,
   "metadata": {
    "collapsed": false
   },
   "outputs": [],
   "source": [
    "X0 = []\n",
    "# X0.append({'name':'Judul','Prep':'Kombinasi1','Data':DATAStd['Judul']})\n",
    "# X0.append({'name':'Short','Prep':'Kombinasi1','Data':DATAStd['Short']})\n",
    "# X0.append({'name':'Long' ,'Prep':'Kombinasi1','Data':DATAStd['Long']})\n",
    "X0.append({'name':'Feed1' ,'Prep':'Kombinasi1','Data':DATAStd['Judul']+' '+DATAStd['Short']})\n",
    "X0.append({'name':'Feed2' ,'Prep':'Kombinasi1','Data':DATAStd['Judul']+' '+DATAStd['Long']+' '+DATAStd['Short']})\n",
    "\n",
    "\n",
    "# X1 = []\n",
    "# X1.append({'name':'Judul','Prep':'Kombinasi2','Data':JudulStop})\n",
    "# X1.append({'name':'Short','Prep':'Kombinasi2','Data':ShortStop})\n",
    "# X1.append({'name':'Long' ,'Prep':'Kombinasi2','Data':LongStop})\n",
    "# X1.append({'name':'Feed' ,'Prep':'Kombinasi2','Data':FeedStop})\n",
    "\n",
    "# X2 = []\n",
    "# X2.append({'name':'Judul','Prep':'Kombinasi3','Data':DATAPost['Judul']})\n",
    "# X2.append({'name':'Short','Prep':'Kombinasi3','Data':DATAPost['Short']})\n",
    "# X2.append({'name':'Long' ,'Prep':'Kombinasi3','Data':DATAPost['Long']})\n",
    "# X2.append({'name':'Feed' ,'Prep':'Kombinasi3','Data':DATAPost['Judul']+' '+DATAPost['Short']})\n",
    "\n",
    "X3 = []\n",
    "# X3.append({'name':'Judul','Prep':'Kombinasi4','Data':JudulPostStop})\n",
    "# X3.append({'name':'Short','Prep':'Kombinasi4','Data':ShortPostStop})\n",
    "# X3.append({'name':'Long' ,'Prep':'Kombinasi4','Data':LongPostStop})\n",
    "X3.append({'name':'Feed1' ,'Prep':'Kombinasi2','Data':Feed1PostStop})\n",
    "X3.append({'name':'Feed2' ,'Prep':'Kombinasi2','Data':Feed2PostStop})\n",
    "\n",
    "X4 = []\n",
    "# X4.append({'name':'Judul','Prep':'Kombinasi5','Data':AllFracJudul})\n",
    "# X4.append({'name':'Short','Prep':'Kombinasi5','Data':AllFracShort})\n",
    "# X4.append({'name':'Long' ,'Prep':'Kombinasi5','Data':AllFracLong})\n",
    "X4.append({'name':'Feed1' ,'Prep':'Kombinasi3','Data':AllFracJudul+AllFracShort})\n",
    "X4.append({'name':'Feed2' ,'Prep':'Kombinasi3','Data':AllFracJudul+AllFracLong+AllFracShort})\n",
    "\n",
    "# X2.append({'name':'Judul','Prep':'NVTag','Data':NVFracJudul})\n",
    "# X2.append({'name':'Short','Prep':'NVTag','Data':NVFracShort})\n",
    "# X2.append({'name':'Long' ,'Prep':'NVTag','Data':NVFracLong})\n",
    "\n",
    "y_  = DATA_TARGET"
   ]
  },
  {
   "cell_type": "markdown",
   "metadata": {},
   "source": [
    "## Kombinasi 1"
   ]
  },
  {
   "cell_type": "code",
   "execution_count": 69,
   "metadata": {
    "collapsed": false
   },
   "outputs": [
    {
     "name": "stdout",
     "output_type": "stream",
     "text": [
      "(148, 1222)\n",
      "(148, 4752)\n"
     ]
    }
   ],
   "source": [
    "for i in X0:\n",
    "    k     = vect1.fit_transform(i['Data'])\n",
    "    print k.get_shape()"
   ]
  },
  {
   "cell_type": "code",
   "execution_count": 70,
   "metadata": {
    "collapsed": false
   },
   "outputs": [
    {
     "data": {
      "image/png": "[encoded data removed]",
      "text/plain": [
       "<matplotlib.figure.Figure at 0x9a1a550>"
      ]
     },
     "metadata": {},
     "output_type": "display_data"
    }
   ],
   "source": [
    "import matplotlib.pyplot as plt\n",
    "\n",
    "metric = []\n",
    "for xi in X0:\n",
    "    X_ = xi['Data']\n",
    "    for mod in kombinasi13:\n",
    "        xP = X_[y_[y_.values == 1].index]\n",
    "        xN = X_[y_[y_.values == -1].index][:size]\n",
    "        X  = np.append(xP,xN)\n",
    "        \n",
    "        yP = y_[y_.values == 1]\n",
    "        yN = y_[y_.values == -1][:size]\n",
    "        y  = np.append(yP,yN)\n",
    "        \n",
    "        metrics,mean_fpr,mean_tpr = skorStratCV(mod['pipe'],X,y)\n",
    "        name = xi['name']+' '+xi['Prep']+' '+mod['name']\n",
    "        plt.plot(mean_fpr, mean_tpr,label='Mean ROC %s (area = %0.2f)' % (name,metrics[5]), lw=2)\n",
    "        \n",
    "        metric.append({'name':name,'metrics':metrics})\n",
    "\n",
    "plt.plot([0, 1], [0, 1], '--', color=(0.6, 0.6, 0.6), label='Luck')\n",
    "plt.xlim([-0.05, 1.05])\n",
    "plt.ylim([-0.05, 1.05])\n",
    "plt.xlabel('False Positive Rate')\n",
    "plt.ylabel('True Positive Rate')\n",
    "plt.title('Receiver Operating Characteristic of Kombinasi1')\n",
    "plt.legend(loc=\"lower right\")\n",
    "plt.show()"
   ]
  },
  {
   "cell_type": "markdown",
   "metadata": {},
   "source": [
    "## Kombinasi 2"
   ]
  },
  {
   "cell_type": "code",
   "execution_count": null,
   "metadata": {
    "collapsed": false
   },
   "outputs": [],
   "source": [
    "# for i in X1:\n",
    "#     k     = vect2.fit_transform(i['Data'])\n",
    "#     print k.get_shape()"
   ]
  },
  {
   "cell_type": "code",
   "execution_count": null,
   "metadata": {
    "collapsed": false
   },
   "outputs": [],
   "source": [
    "# #metric = []\n",
    "# for xi in X1:\n",
    "#     X_ = xi['Data']\n",
    "#     for mod in kombinasi24:\n",
    "#         xP = X_[y_[y_.values == 1].index]\n",
    "#         xN = X_[y_[y_.values == -1].index][:size]\n",
    "#         X  = np.append(xP,xN)\n",
    "        \n",
    "#         yP = y_[y_.values == 1]\n",
    "#         yN = y_[y_.values == -1][:size]\n",
    "#         y  = np.append(yP,yN)\n",
    "        \n",
    "#         metrics,mean_fpr,mean_tpr = skorStratCV(mod['pipe'],X,y)\n",
    "#         name = xi['name']+' '+xi['Prep']+' '+mod['name']\n",
    "#         plt.plot(mean_fpr, mean_tpr,label='Mean ROC %s (area = %0.2f)' % (name,metrics[5]), lw=2)\n",
    "        \n",
    "#         metric.append({'name':name,'metrics':metrics})\n",
    "\n",
    "# plt.plot([0, 1], [0, 1], '--', color=(0.6, 0.6, 0.6), label='Luck')\n",
    "# plt.xlim([-0.05, 1.05])\n",
    "# plt.ylim([-0.05, 1.05])\n",
    "# plt.xlabel('False Positive Rate')\n",
    "# plt.ylabel('True Positive Rate')\n",
    "# plt.title('Receiver Operating Characteristic of Kombinasi2')\n",
    "# plt.legend(loc=\"lower right\")\n",
    "# plt.show()"
   ]
  },
  {
   "cell_type": "markdown",
   "metadata": {},
   "source": [
    "## Kombinasi 3"
   ]
  },
  {
   "cell_type": "code",
   "execution_count": null,
   "metadata": {
    "collapsed": false
   },
   "outputs": [],
   "source": [
    "# for i in X2:\n",
    "#     k     = vect1.fit_transform(i['Data'])\n",
    "#     print k.get_shape()"
   ]
  },
  {
   "cell_type": "code",
   "execution_count": null,
   "metadata": {
    "collapsed": false
   },
   "outputs": [],
   "source": [
    "# #metric = []\n",
    "# for xi in X2:\n",
    "#     X_ = xi['Data']\n",
    "#     for mod in kombinasi13:\n",
    "#         xP = X_[y_[y_.values == 1].index]\n",
    "#         xN = X_[y_[y_.values == -1].index][:size]\n",
    "#         X  = np.append(xP,xN)\n",
    "        \n",
    "#         yP = y_[y_.values == 1]\n",
    "#         yN = y_[y_.values == -1][:size]\n",
    "#         y  = np.append(yP,yN)\n",
    "        \n",
    "#         metrics,mean_fpr,mean_tpr = skorStratCV(mod['pipe'],X,y)\n",
    "#         name = xi['name']+' '+xi['Prep']+' '+mod['name']\n",
    "#         plt.plot(mean_fpr, mean_tpr,label='Mean ROC %s (area = %0.2f)' % (name,metrics[5]), lw=2)\n",
    "        \n",
    "#         metric.append({'name':name,'metrics':metrics})\n",
    "\n",
    "# plt.plot([0, 1], [0, 1], '--', color=(0.6, 0.6, 0.6), label='Luck')\n",
    "# plt.xlim([-0.05, 1.05])\n",
    "# plt.ylim([-0.05, 1.05])\n",
    "# plt.xlabel('False Positive Rate')\n",
    "# plt.ylabel('True Positive Rate')\n",
    "# plt.title('Receiver Operating Characteristic of Kombinasi3')\n",
    "# plt.legend(loc=\"lower right\")\n",
    "# plt.show()"
   ]
  },
  {
   "cell_type": "markdown",
   "metadata": {},
   "source": [
    "## Kombinasi 4"
   ]
  },
  {
   "cell_type": "code",
   "execution_count": 71,
   "metadata": {
    "collapsed": false
   },
   "outputs": [
    {
     "name": "stdout",
     "output_type": "stream",
     "text": [
      "(148, 988)\n",
      "(148, 4211)\n"
     ]
    }
   ],
   "source": [
    "for i in X3:\n",
    "    k     = vect2.fit_transform(i['Data'])\n",
    "    print k.get_shape()"
   ]
  },
  {
   "cell_type": "code",
   "execution_count": 72,
   "metadata": {
    "collapsed": false
   },
   "outputs": [
    {
     "data": {
      "image/png": "[encoded data removed]",
      "text/plain": [
       "<matplotlib.figure.Figure at 0xb98bc18>"
      ]
     },
     "metadata": {},
     "output_type": "display_data"
    }
   ],
   "source": [
    "#metric = []\n",
    "for xi in X3:\n",
    "    X_ = xi['Data']\n",
    "    for mod in kombinasi24:\n",
    "        xP = X_[y_[y_.values == 1].index]\n",
    "        xN = X_[y_[y_.values == -1].index][:size]\n",
    "        X  = np.append(xP,xN)\n",
    "        \n",
    "        yP = y_[y_.values == 1]\n",
    "        yN = y_[y_.values == -1][:size]\n",
    "        y  = np.append(yP,yN)\n",
    "        \n",
    "        metrics,mean_fpr,mean_tpr = skorStratCV(mod['pipe'],X,y)\n",
    "        name = xi['name']+' '+xi['Prep']+' '+mod['name']\n",
    "        plt.plot(mean_fpr, mean_tpr,label='Mean ROC %s (area = %0.2f)' % (name,metrics[5]), lw=2)\n",
    "        \n",
    "        metric.append({'name':name,'metrics':metrics})\n",
    "\n",
    "plt.plot([0, 1], [0, 1], '--', color=(0.6, 0.6, 0.6), label='Luck')\n",
    "plt.xlim([-0.05, 1.05])\n",
    "plt.ylim([-0.05, 1.05])\n",
    "plt.xlabel('False Positive Rate')\n",
    "plt.ylabel('True Positive Rate')\n",
    "plt.title('Receiver Operating Characteristic of Kombinasi2')\n",
    "plt.legend(loc=\"lower right\")\n",
    "plt.show()"
   ]
  },
  {
   "cell_type": "markdown",
   "metadata": {},
   "source": [
    "## Kombinasi 5"
   ]
  },
  {
   "cell_type": "code",
   "execution_count": 74,
   "metadata": {
    "collapsed": false
   },
   "outputs": [
    {
     "data": {
      "image/png": "[encoded data removed]",
      "text/plain": [
       "<matplotlib.figure.Figure at 0xced0f98>"
      ]
     },
     "metadata": {},
     "output_type": "display_data"
    }
   ],
   "source": [
    "#metric = []\n",
    "y2_  = pickle.load( open( \"v2.0\\DATA_TARGET-v6c.p\", \"rb\" ) )\n",
    "for xi in X4:\n",
    "    X_ = xi['Data']\n",
    "    for mod in kombinasi5:\n",
    "        xP = X_[y2_[y2_.values == 1].index]\n",
    "        xN = X_[y2_[y2_.values == -1].index][:size]\n",
    "        X  = np.vstack((xP,xN))\n",
    "\n",
    "        yP = y2_[y2_.values == 1]\n",
    "        yN = y2_[y2_.values == -1][:size]\n",
    "        y  = np.append(yP,yN)\n",
    "        \n",
    "        metrics,mean_fpr,mean_tpr = skorStratCV(mod['pipe'],X,y)\n",
    "        name = xi['name']+' '+xi['Prep']+' '+mod['name']\n",
    "        plt.plot(mean_fpr, mean_tpr,label='Mean ROC %s (area = %0.2f)' % (name,metrics[5]), lw=2)\n",
    "        \n",
    "        metric.append({'name':name,'metrics':metrics})\n",
    "\n",
    "plt.plot([0, 1], [0, 1], '--', color=(0.6, 0.6, 0.6), label='Luck')\n",
    "plt.xlim([-0.05, 1.05])\n",
    "plt.ylim([-0.05, 1.05])\n",
    "plt.xlabel('False Positive Rate')\n",
    "plt.ylabel('True Positive Rate')\n",
    "plt.title('Receiver Operating Characteristic of Total All tags & Total Noun-Verb tags')\n",
    "plt.legend(loc=\"lower right\")\n",
    "plt.show()"
   ]
  },
  {
   "cell_type": "code",
   "execution_count": 75,
   "metadata": {
    "collapsed": false
   },
   "outputs": [
    {
     "data": {
      "text/html": [
       "<table border=\"1\" cellpadding=\"3\" cellspacing=\"0\"  style=\"border:1px solid black;border-collapse:collapse;\"><tr><td  style=\"background-color:White;border-left: 1px solid transparent;border-top: 1px solid transparent;\"><b>id</b></td><td  style=\"background-color:LightGray;\"><b>nama</b></td><td  style=\"background-color:LightGray;\"><b>time</b></td><td  style=\"background-color:LightGray;\"><b>p_1</b></td><td  style=\"background-color:LightGray;\"><b>r_1</b></td><td  style=\"background-color:LightGray;\"><b>F1&nbspscore</b></td><td  style=\"background-color:LightGray;\"><b>accuracy</b></td><td  style=\"background-color:LightGray;text-align:center;\"><b>AUC</b></td></tr><tr><td  style=\"background-color:LightGray;\"><b>1</b></td><td  style=\"background-color:Ivory;\">Feed1&nbspKombinasi1&nbspMNB</td><td  style=\"background-color:Ivory;\">12600</td><td  style=\"background-color:Ivory;\">0.8843</td><td  style=\"background-color:Ivory;\">0.9500</td><td  style=\"background-color:Ivory;\">0.9087</td><td  style=\"background-color:Ivory;\">0.8717</td><td  style=\"background-color:Ivory;text-align:center;\">0.9655</td></tr><tr><td  style=\"background-color:LightGray;\"><b>2</b></td><td  style=\"background-color:AliceBlue;\">Feed1&nbspKombinasi1&nbspSVM</td><td  style=\"background-color:AliceBlue;\">32900</td><td  style=\"background-color:AliceBlue;\">0.8708</td><td  style=\"background-color:AliceBlue;\">0.9300</td><td  style=\"background-color:AliceBlue;\">0.8883</td><td  style=\"background-color:AliceBlue;\">0.8440</td><td  style=\"background-color:AliceBlue;text-align:center;\">0.9577</td></tr><tr><td  style=\"background-color:LightGray;\"><b>3</b></td><td  style=\"background-color:Ivory;\">Feed2&nbspKombinasi1&nbspMNB</td><td  style=\"background-color:Ivory;\">67700</td><td  style=\"background-color:Ivory;\">0.8542</td><td  style=\"background-color:Ivory;\">0.9600</td><td  style=\"background-color:Ivory;\">0.8958</td><td  style=\"background-color:Ivory;\">0.8449</td><td  style=\"background-color:Ivory;text-align:center;\">0.9667</td></tr><tr><td  style=\"background-color:LightGray;\"><b>4</b></td><td  style=\"background-color:AliceBlue;\">Feed2&nbspKombinasi1&nbspSVM</td><td  style=\"background-color:AliceBlue;\">216600</td><td  style=\"background-color:AliceBlue;\">0.8890</td><td  style=\"background-color:AliceBlue;\">0.9200</td><td  style=\"background-color:AliceBlue;\">0.8927</td><td  style=\"background-color:AliceBlue;\">0.8517</td><td  style=\"background-color:AliceBlue;text-align:center;\">0.9671</td></tr><tr><td  style=\"background-color:LightGray;\"><b>5</b></td><td  style=\"background-color:Ivory;\">Feed1&nbspKombinasi2&nbspMNB</td><td  style=\"background-color:Ivory;\">10900</td><td  style=\"background-color:Ivory;\">0.8795</td><td  style=\"background-color:Ivory;\">0.9500</td><td  style=\"background-color:Ivory;\">0.9059</td><td  style=\"background-color:Ivory;\">0.8659</td><td  style=\"background-color:Ivory;text-align:center;\">0.9568</td></tr><tr><td  style=\"background-color:LightGray;\"><b>6</b></td><td  style=\"background-color:AliceBlue;\">Feed1&nbspKombinasi2&nbspSVM</td><td  style=\"background-color:AliceBlue;\">24400</td><td  style=\"background-color:AliceBlue;\">0.8637</td><td  style=\"background-color:AliceBlue;\">0.9300</td><td  style=\"background-color:AliceBlue;\">0.8824</td><td  style=\"background-color:AliceBlue;\">0.8311</td><td  style=\"background-color:AliceBlue;text-align:center;\">0.9485</td></tr><tr><td  style=\"background-color:LightGray;\"><b>7</b></td><td  style=\"background-color:Ivory;\">Feed2&nbspKombinasi2&nbspMNB</td><td  style=\"background-color:Ivory;\">57000</td><td  style=\"background-color:Ivory;\">0.8542</td><td  style=\"background-color:Ivory;\">0.9400</td><td  style=\"background-color:Ivory;\">0.8847</td><td  style=\"background-color:Ivory;\">0.8316</td><td  style=\"background-color:Ivory;text-align:center;\">0.9606</td></tr><tr><td  style=\"background-color:LightGray;\"><b>8</b></td><td  style=\"background-color:AliceBlue;\">Feed2&nbspKombinasi2&nbspSVM</td><td  style=\"background-color:AliceBlue;\">132000</td><td  style=\"background-color:AliceBlue;\">0.8801</td><td  style=\"background-color:AliceBlue;\">0.9300</td><td  style=\"background-color:AliceBlue;\">0.8921</td><td  style=\"background-color:AliceBlue;\">0.8458</td><td  style=\"background-color:AliceBlue;text-align:center;\">0.9611</td></tr><tr><td  style=\"background-color:LightGray;\"><b>9</b></td><td  style=\"background-color:Ivory;\">Feed1&nbspKombinasi3&nbspMNB</td><td  style=\"background-color:Ivory;\">1100</td><td  style=\"background-color:Ivory;\">0.6977</td><td  style=\"background-color:Ivory;\">0.8222</td><td  style=\"background-color:Ivory;\">0.7509</td><td  style=\"background-color:Ivory;\">0.6464</td><td  style=\"background-color:Ivory;text-align:center;\">0.6655</td></tr><tr><td  style=\"background-color:LightGray;\"><b>10</b></td><td  style=\"background-color:AliceBlue;\">Feed1&nbspKombinasi3&nbspSVM</td><td  style=\"background-color:AliceBlue;\">17300</td><td  style=\"background-color:AliceBlue;\">0.7000</td><td  style=\"background-color:AliceBlue;\">0.8322</td><td  style=\"background-color:AliceBlue;\">0.7582</td><td  style=\"background-color:AliceBlue;\">0.6535</td><td  style=\"background-color:AliceBlue;text-align:center;\">0.6284</td></tr><tr><td  style=\"background-color:LightGray;\"><b>11</b></td><td  style=\"background-color:Ivory;\">Feed2&nbspKombinasi3&nbspMNB</td><td  style=\"background-color:Ivory;\">700</td><td  style=\"background-color:Ivory;\">0.7232</td><td  style=\"background-color:Ivory;\">0.7033</td><td  style=\"background-color:Ivory;\">0.6963</td><td  style=\"background-color:Ivory;\">0.6273</td><td  style=\"background-color:Ivory;text-align:center;\">0.6780</td></tr><tr><td  style=\"background-color:LightGray;\"><b>12</b></td><td  style=\"background-color:AliceBlue;\">Feed2&nbspKombinasi3&nbspSVM</td><td  style=\"background-color:AliceBlue;\">478100</td><td  style=\"background-color:AliceBlue;\">0.7379</td><td  style=\"background-color:AliceBlue;\">0.7822</td><td  style=\"background-color:AliceBlue;\">0.7546</td><td  style=\"background-color:AliceBlue;\">0.6740</td><td  style=\"background-color:AliceBlue;text-align:center;\">0.7273</td></tr></table>"
      ],
      "text/plain": [
       "<ipy_table.IpyTable at 0xd451198>"
      ]
     },
     "execution_count": 75,
     "metadata": {},
     "output_type": "execute_result"
    }
   ],
   "source": [
    "from ipy_table import *\n",
    "metrics_table = []\n",
    "tables = []\n",
    "columns = (['id', 'nama','time','p_1',\n",
    "            'r_1','F1 score','accuracy','AUC'])\n",
    "tables.append(columns)\n",
    "\n",
    "i = 0\n",
    "\n",
    "for me in metric:\n",
    "    i += 1\n",
    "    \n",
    "    metr = []\n",
    "    metr.append(i)\n",
    "    metr.append(me['name'])\n",
    "    for m in me['metrics']:\n",
    "        metr.append(m)\n",
    "\n",
    "    tables.append(metr)\n",
    "    metrics_table.append(metr)\n",
    "    #print metric\n",
    "    \n",
    "make_table(tables)\n",
    "\n",
    "# styling\n",
    "apply_theme('basic_both')\n",
    "set_column_style(7, align='center')"
   ]
  },
  {
   "cell_type": "code",
   "execution_count": 76,
   "metadata": {
    "collapsed": false
   },
   "outputs": [],
   "source": [
    "evals = pd.DataFrame(metrics_table,columns=columns)\n",
    "evals['Vars'] = [i.split()[0] for i in evals['nama']]\n",
    "evals['Prep'] = [i.split()[1] for i in evals['nama']]\n",
    "evals['Algs'] = [i.split()[2] for i in evals['nama']]\n",
    "evals['Time'] = evals['time']\n",
    "evals.drop('nama',axis=1,inplace=True)\n",
    "evals.drop('id',axis=1,inplace=True)"
   ]
  },
  {
   "cell_type": "code",
   "execution_count": 77,
   "metadata": {
    "collapsed": false
   },
   "outputs": [],
   "source": [
    "evals.to_csv('Hasil5.csv')"
   ]
  },
  {
   "cell_type": "code",
   "execution_count": null,
   "metadata": {
    "collapsed": false
   },
   "outputs": [],
   "source": [
    "splitter1 = ['Judul','Short','Long']\n",
    "# splitter2 = ['Kombinasi1','Kombinasi2','Kombinasi3','Kombinasi4','Kombinasi5']\n",
    "splitter2 = ['Kombinasi1','Kombinasi2','Kombinasi3']\n",
    "eval_teks = evals[evals.Prep.isin(splitter2)]\n",
    "eval_teks = pd.DataFrame([eval_teks[eval_teks.Vars == i].mean() for i in splitter1]).transpose()\n",
    "eval_teks.set_axis(1,splitter1)\n",
    "eval_teks"
   ]
  },
  {
   "cell_type": "code",
   "execution_count": null,
   "metadata": {
    "collapsed": false
   },
   "outputs": [],
   "source": [
    "# splitter = ['Kombinasi1','Kombinasi2','Kombinasi3','Kombinasi4','Kombinasi5']\n",
    "splitter = ['Kombinasi1','Kombinasi2','Kombinasi3']\n",
    "eval_prep = pd.DataFrame([evals[evals.Prep == i].mean() for i in splitter]).transpose()\n",
    "eval_prep.set_axis(1,splitter)\n",
    "eval_prep"
   ]
  },
  {
   "cell_type": "code",
   "execution_count": null,
   "metadata": {
    "collapsed": false
   },
   "outputs": [],
   "source": [
    "splitter1 = ['MNB','SVM']\n",
    "eval_teks = evals[evals.Algs.isin(splitter1)]\n",
    "eval_teks = pd.DataFrame([eval_teks[eval_teks.Algs == i].mean() for i in splitter1]).transpose()\n",
    "eval_teks.set_axis(1,splitter1)\n",
    "eval_teks"
   ]
  },
  {
   "cell_type": "code",
   "execution_count": null,
   "metadata": {
    "collapsed": false
   },
   "outputs": [],
   "source": [
    "mnb"
   ]
  },
  {
   "cell_type": "code",
   "execution_count": null,
   "metadata": {
    "collapsed": false
   },
   "outputs": [],
   "source": [
    "#knn\n",
    "# knn_params = {'n_neighbors': range(1,21), 'weights': ['uniform', 'distance'], 'algorithm': ['ball_tree', 'kd_tree'],\n",
    "#               'leaf_size': [15, 30, 50, 100], 'p': [1,2]}"
   ]
  },
  {
   "cell_type": "code",
   "execution_count": null,
   "metadata": {
    "collapsed": false
   },
   "outputs": [],
   "source": [
    "svc\n",
    "# lsvm_params = {'loss':['hinge', 'squared_hinge'],'class_weight':['balanced']}"
   ]
  },
  {
   "cell_type": "code",
   "execution_count": null,
   "metadata": {
    "collapsed": false
   },
   "outputs": [],
   "source": [
    "#tre\n",
    "# tree_param = {\"criterion\": [\"gini\", \"entropy\"],\"class_weight\" : ['balanced']}"
   ]
  },
  {
   "cell_type": "code",
   "execution_count": 2,
   "metadata": {
    "collapsed": true
   },
   "outputs": [],
   "source": [
    "from HTMLParser import HTMLParser\n",
    "import string\n",
    "\n",
    "class MLStripper(HTMLParser):\n",
    "    def __init__(self):\n",
    "        self.reset()\n",
    "        self.fed = []\n",
    "    def handle_data(self, d):\n",
    "        self.fed.append(d)\n",
    "    def get_data(self):\n",
    "        return ' '.join(self.fed)\n",
    "\n",
    "def strip_tags(html):\n",
    "    s = MLStripper()\n",
    "    s.feed(html)\n",
    "    striped  = s.get_data()                         #get HTML-Tags free text\n",
    "    lowers   = striped.lower()                      #Lowercase all words\n",
    "    nospace  = lowers.strip()                      #Remove leading and trailing white space\n",
    "    alphanum = re.sub(r'[^a-zA-Z]', ' ', nospace)\n",
    "    return str(alphanum)"
   ]
  },
  {
   "cell_type": "code",
   "execution_count": 13,
   "metadata": {
    "collapsed": false
   },
   "outputs": [
    {
     "name": "stdout",
     "output_type": "stream",
     "text": [
      "Wall time: 3.99 s\n"
     ]
    }
   ],
   "source": [
    "import string\n",
    "%time postagger = pickle.load(open( \"POSTAGGER.p\", \"rb\" ))\n",
    "def onlyAZ(teks):\n",
    "    return re.sub(r'[^a-zA-Z]',' ', teks)\n",
    "    \n",
    "def onlyNVFromSentence(teks):\n",
    "    splitted = postagger.tag(onlyAZ(teks).split())\n",
    "    nouns = [word for word,pos in splitted \\\n",
    "        if (pos == 'NN' or pos == 'NNP' or \n",
    "            pos == 'NNS' or pos == 'VB')]\n",
    "    nounsSentence = string.join(nouns)\n",
    "    return nounsSentence\n",
    "\n",
    "def onlyNVFromParagraph(par):\n",
    "    par = strip_tags(par)\n",
    "    splittedPar = par.split('.')\n",
    "    nounsPar = string.join([onlyNVFromSentence(i) for i in splittedPar])\n",
    "    return  nounsPar.strip() "
   ]
  },
  {
   "cell_type": "code",
   "execution_count": 57,
   "metadata": {
    "collapsed": true
   },
   "outputs": [],
   "source": [
    "DTRAIN = pickle.load( open( \"v1.4\\DTRAIN-v1.p\", \"rb\" ) )\n",
    "DTEST  = pickle.load( open( \"v1.4\\DTEST-v1.p\", \"rb\" ) )"
   ]
  },
  {
   "cell_type": "code",
   "execution_count": 58,
   "metadata": {
    "collapsed": false
   },
   "outputs": [],
   "source": [
    "kombinasi13 = [{'name' : 'MNB', 'pipe' : Pipeline([('vect', vectCnts),('clf', mnb)])},\n",
    "               #{'name' : 'KNN', 'pipe' : Pipeline([('vect', vect),('clf', knn)])},\n",
    "               {'name' : 'SVM', 'pipe' : Pipeline([('vect', vectCnts),('clf', svc)])},\n",
    "               #{'name' : 'TREE', 'pipe' : Pipeline([('vect', vect),('clf', tre)])}\n",
    "              ]\n",
    "\n",
    "kombinasi24= [{'name' : 'MNB', 'pipe' : Pipeline([('vect', vectStds),('clf', mnb)])},\n",
    "             #{'name' : 'KNN', 'pipe' : Pipeline([('vect', vect),('clf', knn)])},\n",
    "             {'name' : 'SVM', 'pipe' : Pipeline([('vect', vectStds),('clf', svc)])},\n",
    "             #{'name' : 'TREE', 'pipe' : Pipeline([('vect', vect),('clf', tre)])}\n",
    "             ]"
   ]
  },
  {
   "cell_type": "code",
   "execution_count": 54,
   "metadata": {
    "collapsed": false
   },
   "outputs": [],
   "source": [
    "X1K1_train = DTRAIN.judul+' '+DTRAIN.shortDesc\n",
    "X1K2_train = DTRAIN.judul.map(lambda x:onlyNVFromParagraph(x))+' '+DTRAIN.shortDesc.map(lambda x:onlyNVFromParagraph(x))\n",
    "y_train    = DTRAIN.flag\n",
    "X2K1_train = DTRAIN.judul+' '+DTRAIN.longDesc+' '+DTRAIN.shortDesc\n",
    "X2K2_train = DTRAIN.judul.map(lambda x:onlyNVFromParagraph(x))+' '+DTRAIN.longDesc.map(lambda x:onlyNVFromParagraph(x))+' '+DTRAIN.shortDesc.map(lambda x:onlyNVFromParagraph(x))"
   ]
  },
  {
   "cell_type": "code",
   "execution_count": 59,
   "metadata": {
    "collapsed": true
   },
   "outputs": [],
   "source": [
    "X1K1_test = DTEST.judul+' '+DTEST.shortDesc\n",
    "X1K2_test = DTEST.judul.map(lambda x:onlyNVFromParagraph(x))+' '+DTEST.shortDesc.map(lambda x:onlyNVFromParagraph(x))\n",
    "y_test    = DTEST.flag\n",
    "X2K1_test = DTEST.judul+' '+DTEST.longDesc+' '+DTEST.shortDesc\n",
    "X2K2_test = DTEST.judul.map(lambda x:onlyNVFromParagraph(x))+' '+DTEST.longDesc.map(lambda x:onlyNVFromParagraph(x))+' '+DTEST.shortDesc.map(lambda x:onlyNVFromParagraph(x))"
   ]
  },
  {
   "cell_type": "code",
   "execution_count": 60,
   "metadata": {
    "collapsed": false
   },
   "outputs": [
    {
     "name": "stdout",
     "output_type": "stream",
     "text": [
      "AUC :  0.917901234568\n",
      "None\n",
      "AUC :  0.88950617284\n",
      "None\n",
      "AUC :  0.903086419753\n",
      "None\n",
      "AUC :  0.882716049383\n",
      "None\n"
     ]
    }
   ],
   "source": [
    "print skorPrint(kombinasi13[0]['pipe'],X1K1_train,y_train,X1K1_test,y_test)\n",
    "print skorPrint(kombinasi13[1]['pipe'],X2K1_train,y_train,X2K1_test,y_test)\n",
    "print skorPrint(kombinasi13[0]['pipe'],X1K2_train,y_train,X1K2_test,y_test)\n",
    "print skorPrint(kombinasi13[1]['pipe'],X2K2_train,y_train,X2K2_test,y_test)"
   ]
  },
  {
   "cell_type": "code",
   "execution_count": 51,
   "metadata": {
    "collapsed": false
   },
   "outputs": [],
   "source": [
    "from sklearn import cross_validation\n",
    "from sklearn.metrics import confusion_matrix, f1_score, accuracy_score\n",
    "from sklearn.metrics import precision_score, recall_score, classification_report, roc_auc_score,roc_curve,auc\n",
    "from scipy import interp\n",
    "import datetime\n",
    "\n",
    "def skorPrint(pipa,XK_train,y_train,XK_test,y_test):\n",
    "    pipa.fit(XK_train,y_train)\n",
    "    yhat = pipa.predict(XK_test)\n",
    "    probas_ = pipa.fit(XK_train, y_train).predict_proba(XK_test)\n",
    "    \n",
    "#     print 'Precision : ',precision_score(y_test, yhat, average='binary')\n",
    "#     print 'Recall    : ',recall_score(y_test, yhat, average='binary')\n",
    "#     print 'F1-Score  : ',f1_score(y_test, yhat, average='binary')\n",
    "#     print 'Accuracy  : ',accuracy_score(y_test, yhat)\n",
    "\n",
    "    fpr, tpr, thresholds = roc_curve(y_test, probas_[:, 1])\n",
    "#     print 'TPR : ',tpr\n",
    "#     print 'FPR : ',fpr\n",
    "    print 'AUC : ',auc(fpr, tpr)\n",
    "#     print thresholds"
   ]
  }
 ],
 "metadata": {
  "kernelspec": {
   "display_name": "Python 2",
   "language": "python",
   "name": "python2"
  },
  "language_info": {
   "codemirror_mode": {
    "name": "ipython",
    "version": 2
   },
   "file_extension": ".py",
   "mimetype": "text/x-python",
   "name": "python",
   "nbconvert_exporter": "python",
   "pygments_lexer": "ipython2",
   "version": "2.7.11"
  }
 },
 "nbformat": 4,
 "nbformat_minor": 0
}
