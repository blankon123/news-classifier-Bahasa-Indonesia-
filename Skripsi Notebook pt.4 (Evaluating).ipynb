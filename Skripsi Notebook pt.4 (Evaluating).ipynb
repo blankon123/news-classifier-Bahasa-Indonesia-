{
 "cells": [
  {
   "cell_type": "code",
   "execution_count": 1,
   "metadata": {
    "collapsed": true,
    "slideshow": {
     "slide_type": "slide"
    }
   },
   "outputs": [],
   "source": [
    "import matplotlib.pyplot as plt\n",
    "import os, re\n",
    "import pandas as pd\n",
    "import numpy as np\n",
    "\n",
    "from datetime import datetime as dt\n",
    "import cPickle as pickle\n",
    "import re #Regex\n",
    "import seaborn as sns\n",
    "sns.set()\n",
    "%matplotlib inline"
   ]
  },
  {
   "cell_type": "markdown",
   "metadata": {},
   "source": [
    "# 1. Evaluating Crawling Indicator"
   ]
  },
  {
   "cell_type": "code",
   "execution_count": 2,
   "metadata": {
    "collapsed": false
   },
   "outputs": [
    {
     "name": "stdout",
     "output_type": "stream",
     "text": [
      "Wall time: 464 ms\n"
     ]
    },
    {
     "data": {
      "text/html": [
       "<div>\n",
       "<table border=\"1\" class=\"dataframe\">\n",
       "  <thead>\n",
       "    <tr style=\"text-align: right;\">\n",
       "      <th></th>\n",
       "      <th>crawlMem</th>\n",
       "      <th>crawlTime</th>\n",
       "    </tr>\n",
       "  </thead>\n",
       "  <tbody>\n",
       "    <tr>\n",
       "      <th>count</th>\n",
       "      <td>1344.000000</td>\n",
       "      <td>1344.000000</td>\n",
       "    </tr>\n",
       "    <tr>\n",
       "      <th>mean</th>\n",
       "      <td>3305.297619</td>\n",
       "      <td>0.560610</td>\n",
       "    </tr>\n",
       "    <tr>\n",
       "      <th>std</th>\n",
       "      <td>707.734448</td>\n",
       "      <td>2.438639</td>\n",
       "    </tr>\n",
       "    <tr>\n",
       "      <th>min</th>\n",
       "      <td>2088.000000</td>\n",
       "      <td>0.033300</td>\n",
       "    </tr>\n",
       "    <tr>\n",
       "      <th>25%</th>\n",
       "      <td>2520.000000</td>\n",
       "      <td>0.126500</td>\n",
       "    </tr>\n",
       "    <tr>\n",
       "      <th>50%</th>\n",
       "      <td>3400.000000</td>\n",
       "      <td>0.149500</td>\n",
       "    </tr>\n",
       "    <tr>\n",
       "      <th>75%</th>\n",
       "      <td>4064.000000</td>\n",
       "      <td>0.465025</td>\n",
       "    </tr>\n",
       "    <tr>\n",
       "      <th>max</th>\n",
       "      <td>6832.000000</td>\n",
       "      <td>55.697400</td>\n",
       "    </tr>\n",
       "  </tbody>\n",
       "</table>\n",
       "</div>"
      ],
      "text/plain": [
       "          crawlMem    crawlTime\n",
       "count  1344.000000  1344.000000\n",
       "mean   3305.297619     0.560610\n",
       "std     707.734448     2.438639\n",
       "min    2088.000000     0.033300\n",
       "25%    2520.000000     0.126500\n",
       "50%    3400.000000     0.149500\n",
       "75%    4064.000000     0.465025\n",
       "max    6832.000000    55.697400"
      ]
     },
     "execution_count": 2,
     "metadata": {},
     "output_type": "execute_result"
    }
   ],
   "source": [
    "# %time DATACrawl = pickle.load( open( \"v1.4\\DATA_ANALSISIS_crawl.p\", \"rb\" ) )\n",
    "%time DATACrawl = pickle.load( open( \"v1.4\\DATA_CRAWL-v4a.p\", \"rb\" ) )\n",
    "crawlIndicator = pd.DataFrame([DATACrawl.crawlMem,DATACrawl.crawlTime]).transpose()\n",
    "crawlIndicator.describe()"
   ]
  },
  {
   "cell_type": "code",
   "execution_count": 3,
   "metadata": {
    "collapsed": false
   },
   "outputs": [
    {
     "name": "stdout",
     "output_type": "stream",
     "text": [
      "Memory Positif :  1390864.0 Byte\n",
      "Memory Semua   :  4442320.0 Byte\n",
      "Time Positif   :  226.653 Detik\n",
      "Time Semua     :  753.4597 Detik\n"
     ]
    },
    {
     "data": {
      "text/html": [
       "<div>\n",
       "<table border=\"1\" class=\"dataframe\">\n",
       "  <thead>\n",
       "    <tr style=\"text-align: right;\">\n",
       "      <th></th>\n",
       "      <th>Memory Positif</th>\n",
       "      <th>Time Positif</th>\n",
       "      <th>Memory Semua</th>\n",
       "      <th>Time Semua</th>\n",
       "    </tr>\n",
       "  </thead>\n",
       "  <tbody>\n",
       "    <tr>\n",
       "      <th>count</th>\n",
       "      <td>399.000000</td>\n",
       "      <td>399.000000</td>\n",
       "      <td>1344.000000</td>\n",
       "      <td>1344.000000</td>\n",
       "    </tr>\n",
       "    <tr>\n",
       "      <th>mean</th>\n",
       "      <td>3485.874687</td>\n",
       "      <td>0.568053</td>\n",
       "      <td>3305.297619</td>\n",
       "      <td>0.560610</td>\n",
       "    </tr>\n",
       "    <tr>\n",
       "      <th>std</th>\n",
       "      <td>760.059224</td>\n",
       "      <td>2.974858</td>\n",
       "      <td>707.734448</td>\n",
       "      <td>2.438639</td>\n",
       "    </tr>\n",
       "    <tr>\n",
       "      <th>min</th>\n",
       "      <td>2368.000000</td>\n",
       "      <td>0.046600</td>\n",
       "      <td>2088.000000</td>\n",
       "      <td>0.033300</td>\n",
       "    </tr>\n",
       "    <tr>\n",
       "      <th>25%</th>\n",
       "      <td>2808.000000</td>\n",
       "      <td>0.131350</td>\n",
       "      <td>2520.000000</td>\n",
       "      <td>0.126500</td>\n",
       "    </tr>\n",
       "    <tr>\n",
       "      <th>50%</th>\n",
       "      <td>3912.000000</td>\n",
       "      <td>0.146100</td>\n",
       "      <td>3400.000000</td>\n",
       "      <td>0.149500</td>\n",
       "    </tr>\n",
       "    <tr>\n",
       "      <th>75%</th>\n",
       "      <td>4072.000000</td>\n",
       "      <td>0.304900</td>\n",
       "      <td>4064.000000</td>\n",
       "      <td>0.465025</td>\n",
       "    </tr>\n",
       "    <tr>\n",
       "      <th>max</th>\n",
       "      <td>6832.000000</td>\n",
       "      <td>55.697400</td>\n",
       "      <td>6832.000000</td>\n",
       "      <td>55.697400</td>\n",
       "    </tr>\n",
       "  </tbody>\n",
       "</table>\n",
       "</div>"
      ],
      "text/plain": [
       "       Memory Positif  Time Positif  Memory Semua   Time Semua\n",
       "count      399.000000    399.000000   1344.000000  1344.000000\n",
       "mean      3485.874687      0.568053   3305.297619     0.560610\n",
       "std        760.059224      2.974858    707.734448     2.438639\n",
       "min       2368.000000      0.046600   2088.000000     0.033300\n",
       "25%       2808.000000      0.131350   2520.000000     0.126500\n",
       "50%       3912.000000      0.146100   3400.000000     0.149500\n",
       "75%       4072.000000      0.304900   4064.000000     0.465025\n",
       "max       6832.000000     55.697400   6832.000000    55.697400"
      ]
     },
     "execution_count": 3,
     "metadata": {},
     "output_type": "execute_result"
    }
   ],
   "source": [
    "DATA_ANALSISIS_crawl    = DATACrawl[DATACrawl.flag.isin([-1, 1])]\n",
    "\n",
    "DATA_ANALSISIS_crawlPos = DATA_ANALSISIS_crawl[DATA_ANALSISIS_crawl.flag == 1]\n",
    "DATA_ANALSISIS_crawlNeg = DATA_ANALSISIS_crawl\n",
    "crawlAnalysis = pd.DataFrame([DATA_ANALSISIS_crawlPos.crawlMem,DATA_ANALSISIS_crawlPos.crawlTime,\n",
    "                              DATA_ANALSISIS_crawlNeg.crawlMem,DATA_ANALSISIS_crawlNeg.crawlTime]).transpose()\n",
    "crawlAnalysis.columns = ['Memory Positif','Time Positif','Memory Semua','Time Semua']\n",
    "print 'Memory Positif : ',sum(DATA_ANALSISIS_crawlPos.crawlMem), 'Byte'\n",
    "print 'Memory Semua   : ',sum(DATA_ANALSISIS_crawlNeg.crawlMem), 'Byte'\n",
    "print 'Time Positif   : ',sum(DATA_ANALSISIS_crawlPos.crawlTime), 'Detik'\n",
    "print 'Time Semua     : ',sum(DATA_ANALSISIS_crawlNeg.crawlTime),'Detik'\n",
    "crawlAnalysis.describe()"
   ]
  },
  {
   "cell_type": "code",
   "execution_count": 4,
   "metadata": {
    "collapsed": false
   },
   "outputs": [
    {
     "data": {
      "image/png": "[encoded data removed]",
      "text/plain": [
       "<matplotlib.figure.Figure at 0x97ea7b8>"
      ]
     },
     "metadata": {},
     "output_type": "display_data"
    }
   ],
   "source": [
    "import numpy as np\n",
    "import matplotlib.pyplot as plt\n",
    "\n",
    "x = [1,2,3,5,6,7,8]\n",
    "labels = ['Viva.co.id',  'Merdeka.com', 'Liputan6.com', 'Okezone.com', 'JPNN.com', 'Suara.com', 'Bisnis.com']\n",
    "y1 = [DATACrawl[DATACrawl.sumber == i].crawlMem.mean() for i in x]\n",
    "y2 = [DATACrawl[DATACrawl.sumber == i].crawlTime.mean() for i in x]\n",
    "\n",
    "plt.plot(y1, y2,'s')\n",
    "plt.xlabel('Memori (Byte)', fontsize=10)\n",
    "plt.ylabel('Waktu (Detik)', fontsize=10)\n",
    "for label, x, y in zip(labels, y1, y2):\n",
    "    plt.annotate(\n",
    "        label, \n",
    "        xy = (x, y), xytext = (-20, 20),\n",
    "        textcoords = 'offset points', ha = 'right', va = 'bottom',\n",
    "        bbox = dict(boxstyle = 'round,pad=0.5', fc = 'yellow', alpha = 0.5),\n",
    "        arrowprops = dict(arrowstyle = '->', connectionstyle = 'arc3,rad=0'))\n",
    "    \n",
    "plt.show()"
   ]
  },
  {
   "cell_type": "code",
   "execution_count": 5,
   "metadata": {
    "collapsed": false
   },
   "outputs": [
    {
     "data": {
      "image/png": "[encoded data removed]",
      "text/plain": [
       "<matplotlib.figure.Figure at 0x9c8d0f0>"
      ]
     },
     "metadata": {},
     "output_type": "display_data"
    }
   ],
   "source": [
    "import matplotlib.pyplot as plt\n",
    "\n",
    "fig, ax = plt.subplots(nrows=2,figsize=(16,16))\n",
    "\n",
    "sns.boxplot(crawlIndicator.crawlMem, orient = 'h',ax=ax[0])\n",
    "sns.boxplot(crawlIndicator.crawlTime, orient = 'h', ax=ax[1])\n",
    "\n",
    "plt.show()"
   ]
  },
  {
   "cell_type": "markdown",
   "metadata": {},
   "source": [
    "#### Terlihat total penggunaan waktu dan memory sangat signifikan, hal tersebut karena jumlah berita positif dan negatif yang berbeda jauh"
   ]
  },
  {
   "cell_type": "markdown",
   "metadata": {
    "slideshow": {
     "slide_type": "slide"
    }
   },
   "source": [
    "# 2.Evaluating the Classifier v1.4 vs v1.6 vs v2.0\n",
    "\n",
    "\n",
    "## 2.1 Load from the 'Pickled' dump"
   ]
  },
  {
   "cell_type": "code",
   "execution_count": 6,
   "metadata": {
    "collapsed": false,
    "slideshow": {
     "slide_type": "subslide"
    }
   },
   "outputs": [
    {
     "name": "stdout",
     "output_type": "stream",
     "text": [
      "Wall time: 28 ms\n",
      "Wall time: 25 ms\n",
      "Wall time: 226 ms\n",
      "Wall time: 18 ms\n",
      "Wall time: 19 ms\n",
      "Wall time: 145 ms\n",
      "Wall time: 92 ms\n",
      "Wall time: 97 ms\n",
      "Wall time: 92 ms\n",
      "Wall time: 10 ms\n"
     ]
    }
   ],
   "source": [
    "DATAStd  = pd.DataFrame()\n",
    "DATAPost = pd.DataFrame()\n",
    "\n",
    "#Load standard striped Text\n",
    "%time DATAStd['Judul'] = pickle.load( open( \"v1.4\\DATA_JUDULStriped-v4a.p\", \"rb\" ) )\n",
    "%time DATAStd['Short'] = pickle.load( open( \"v1.4\\DATA_SHORTStriped-v4a.p\", \"rb\" ) )\n",
    "%time DATAStd['Long']  = pickle.load( open( \"v1.4\\DATA_LONGStriped-v4a.p\", \"rb\" ) )\n",
    "\n",
    "#Load from PosTagged Noun and verb only Text\n",
    "%time DATAPost['Judul'] = pickle.load( open( \"v1.6\\DATA_JUDULpostag-v5a.p\", \"rb\" ) )\n",
    "%time DATAPost['Short'] = pickle.load( open( \"v1.6\\DATA_SHORTpostag-v5a.p\", \"rb\" ) )\n",
    "%time DATAPost['Long']  = pickle.load( open( \"v1.6\\DATA_LONGpostag-v5a.p\", \"rb\" ) )\n",
    "\n",
    "#Load number of total tag in Text\n",
    "%time AllFracJudul = pickle.load( open( \"v2.0\\DATA_JUDUL-v6a.p\", \"rb\" ) )\n",
    "%time AllFracShort = pickle.load( open( \"v2.0\\DATA_SHORT-v6a.p\", \"rb\" ) )\n",
    "%time AllFracLong  = pickle.load( open( \"v2.0\\DATA_LONG-v6a.p\", \"rb\" ) )\n",
    "\n",
    "#Load number of total noun-verb only in Text\n",
    "# %time NVFracJudul = pickle.load( open( \"v2.0\\DATA_JUDUL-v2.p\", \"rb\" ) )\n",
    "# %time NVFracShort = pickle.load( open( \"v2.0\\DATA_SHORT-v2.p\", \"rb\" ) )\n",
    "# %time NVFracLong  = pickle.load( open( \"v2.0\\DATA_LONG-v2.p\", \"rb\" ) )\n",
    "\n",
    "%time DATA_TARGET = pickle.load( open( \"v1.4\\DATA_TARGET-v4a.p\", \"rb\" ) )\n",
    "\n",
    "DATA_TARGET = DATA_TARGET.reset_index(drop=True)\n",
    "DATAStd  = DATAStd.reset_index(drop=True)\n",
    "DATAPost = DATAPost.reset_index(drop=True)"
   ]
  },
  {
   "cell_type": "code",
   "execution_count": 7,
   "metadata": {
    "collapsed": false
   },
   "outputs": [
    {
     "name": "stdout",
     "output_type": "stream",
     "text": [
      "Total Negative Instances    :  945\n",
      "Training Negative Instances :  945\n",
      "Training Positif Instances  :  399\n"
     ]
    }
   ],
   "source": [
    "#We only use 2% of total negative instance\n",
    "factor = 100.0/100\n",
    "size   = int(factor*DATA_TARGET[DATA_TARGET.values == -1].count())\n",
    "print 'Total Negative Instances    : ',DATA_TARGET[DATA_TARGET.values == -1].count()\n",
    "print 'Training Negative Instances : ',size\n",
    "print 'Training Positif Instances  : ',DATA_TARGET[DATA_TARGET.values == 1].count()"
   ]
  },
  {
   "cell_type": "code",
   "execution_count": 8,
   "metadata": {
    "collapsed": false
   },
   "outputs": [],
   "source": [
    "from sklearn.feature_extraction.text import TfidfVectorizer,CountVectorizer\n",
    "#Stopwords data source : https://www.illc.uva.nl/Research/Publications/Reports/MoL-2003-02.text.pdf\n",
    "stopword_html = open(\"id.stopwords.01.01.2016.txt\",'r').read()\n",
    "stopwords     = stopword_html.split(\"\\n\")\n",
    "\n",
    "vect1 = CountVectorizer(decode_error='ignore')\n",
    "vect2 = TfidfVectorizer(stop_words=stopwords,decode_error='ignore')\n",
    "\n",
    "vectStds = vect1.fit_transform(DATAStd['Long'])\n",
    "vectStop = vect2.fit_transform(DATAStd['Long'])\n",
    "vectPost = vect1.fit_transform(DATAPost['Long'])"
   ]
  },
  {
   "cell_type": "code",
   "execution_count": 9,
   "metadata": {
    "collapsed": false
   },
   "outputs": [
    {
     "data": {
      "text/plain": [
       "<1344x22042 sparse matrix of type '<type 'numpy.int64'>'\n",
       "\twith 221332 stored elements in Compressed Sparse Row format>"
      ]
     },
     "execution_count": 9,
     "metadata": {},
     "output_type": "execute_result"
    }
   ],
   "source": [
    "vectStds"
   ]
  },
  {
   "cell_type": "code",
   "execution_count": 10,
   "metadata": {
    "collapsed": false
   },
   "outputs": [
    {
     "data": {
      "text/plain": [
       "<1344x21439 sparse matrix of type '<type 'numpy.float64'>'\n",
       "\twith 148905 stored elements in Compressed Sparse Row format>"
      ]
     },
     "execution_count": 10,
     "metadata": {},
     "output_type": "execute_result"
    }
   ],
   "source": [
    "vectStop"
   ]
  },
  {
   "cell_type": "code",
   "execution_count": 11,
   "metadata": {
    "collapsed": false
   },
   "outputs": [
    {
     "data": {
      "text/plain": [
       "<1344x19768 sparse matrix of type '<type 'numpy.int64'>'\n",
       "\twith 152161 stored elements in Compressed Sparse Row format>"
      ]
     },
     "execution_count": 11,
     "metadata": {},
     "output_type": "execute_result"
    }
   ],
   "source": [
    "vectPost"
   ]
  },
  {
   "cell_type": "code",
   "execution_count": 12,
   "metadata": {
    "collapsed": false
   },
   "outputs": [
    {
     "name": "stdout",
     "output_type": "stream",
     "text": [
      "(1344L, 29L)\n"
     ]
    }
   ],
   "source": [
    "print AllFracLong.shape"
   ]
  },
  {
   "cell_type": "code",
   "execution_count": 13,
   "metadata": {
    "collapsed": false
   },
   "outputs": [
    {
     "name": "stdout",
     "output_type": "stream",
     "text": [
      "52266025\n",
      "51202553\n",
      "46967840\n"
     ]
    }
   ],
   "source": [
    "print (1871*28112)-331527\n",
    "print (1871*27489)-229366\n",
    "print (1871*25228)-233748"
   ]
  },
  {
   "cell_type": "markdown",
   "metadata": {},
   "source": [
    "#### Data Teks berita yang sudah dibersihkan dari tag HTML di v1.4"
   ]
  },
  {
   "cell_type": "code",
   "execution_count": 14,
   "metadata": {
    "collapsed": false
   },
   "outputs": [
    {
     "name": "stdout",
     "output_type": "stream",
     "text": [
      "['6 keuntungan mengambil kpr saat masih lajang']\n"
     ]
    }
   ],
   "source": [
    "print DATAStd.Judul.head(1).values"
   ]
  },
  {
   "cell_type": "markdown",
   "metadata": {},
   "source": [
    "#### Data Teks berita yang sudah di-POSTag verb dan noun di v1.6"
   ]
  },
  {
   "cell_type": "code",
   "execution_count": 15,
   "metadata": {
    "collapsed": false
   },
   "outputs": [
    {
     "name": "stdout",
     "output_type": "stream",
     "text": [
      "['keuntungan mengambil kpr lajang']\n"
     ]
    }
   ],
   "source": [
    "print DATAPost.Judul.head(1).values"
   ]
  },
  {
   "cell_type": "markdown",
   "metadata": {},
   "source": [
    "#### Data Teks berita yang sudah diambil fraction verb dan noun di v2.0"
   ]
  },
  {
   "cell_type": "code",
   "execution_count": 16,
   "metadata": {
    "collapsed": false
   },
   "outputs": [
    {
     "data": {
      "text/plain": [
       "array([[ 0.,  0.,  0.,  0.,  0.,  0.,  0.,  4.,  0.,  0.,  0.,  0.,  0.,\n",
       "         0.,  1.,  0.,  0.,  0.,  0.,  0.,  0.,  0.,  0.,  0.,  0.,  0.,\n",
       "         0.,  0.,  1.]])"
      ]
     },
     "execution_count": 16,
     "metadata": {},
     "output_type": "execute_result"
    }
   ],
   "source": [
    "AllFracJudul[:1]"
   ]
  },
  {
   "cell_type": "markdown",
   "metadata": {},
   "source": [
    "## 2. Evaluate\n",
    "\n",
    "### Preprocessing\n",
    "\n",
    "![smiley](img/evaluasi_preproc.png)"
   ]
  },
  {
   "cell_type": "code",
   "execution_count": 17,
   "metadata": {
    "collapsed": true
   },
   "outputs": [],
   "source": [
    "from HTMLParser import HTMLParser\n",
    "import string\n",
    "import re #Regex\n",
    "\n",
    "def posTag(par):\n",
    "    postagger = pickle.load(open(\"POSTAGGER.p\", \"rb\"))\n",
    "    \n",
    "    def onlyAZ(teks):\n",
    "        return re.sub(r'[^a-zA-Z]',' ', teks)\n",
    "\n",
    "    def onlyNVFromSentence(teks):\n",
    "        splitted = postagger.tag(onlyAZ(teks).split())\n",
    "        nouns = [word for word,pos in splitted \\\n",
    "            if (pos == 'NN' or pos == 'NNP' or \n",
    "                pos == 'NNS' or pos == 'VB')]\n",
    "        nounsSentence = string.join(nouns)\n",
    "        return nounsSentence\n",
    "\n",
    "    class MLStripper(HTMLParser):\n",
    "        def __init__(self):\n",
    "            self.reset()\n",
    "            self.fed = []\n",
    "        def handle_data(self, d):\n",
    "            self.fed.append(d)\n",
    "        def get_data(self):\n",
    "            return ' '.join(self.fed)\n",
    "\n",
    "    def strip_tags(html):\n",
    "        s = MLStripper()\n",
    "        s.feed(html)\n",
    "        striped  = s.get_data()                         #get HTML-Tags free text\n",
    "        lowers   = striped.lower()                      #Lowercase all words\n",
    "        nospace  = lowers.strip()                       #Remove leading and trailing white space\n",
    "        return nospace\n",
    "\n",
    "    par         = strip_tags(par)\n",
    "    splittedPar = par.split('.')\n",
    "    NVPar    = ' '.join([onlyNVFromSentence(i) for i in splittedPar])\n",
    "    return  NVPar"
   ]
  },
  {
   "cell_type": "code",
   "execution_count": 18,
   "metadata": {
    "collapsed": false
   },
   "outputs": [],
   "source": [
    "#Stopwords data source : https://www.illc.uva.nl/Research/Publications/Reports/MoL-2003-02.text.pdf\n",
    "stopword_html = open(\"id.stopwords.01.01.2016.txt\",'r').read()\n",
    "stopwords     = stopword_html.split(\"\\n\")"
   ]
  },
  {
   "cell_type": "code",
   "execution_count": 19,
   "metadata": {
    "collapsed": false
   },
   "outputs": [],
   "source": [
    "from sklearn import cross_validation\n",
    "from sklearn.metrics import confusion_matrix, f1_score, accuracy_score\n",
    "from sklearn.metrics import precision_score, recall_score, classification_report, roc_auc_score,roc_curve,auc\n",
    "from scipy import interp\n",
    "import datetime\n",
    "\n",
    "def skorStratCV(clf,X,y,nfolds=10):\n",
    "    metrics = []\n",
    "    \n",
    "    trainTime,testTime = [],[]\n",
    "    precis,recals,f1s,accs,rocs = [],[],[],[],[]\n",
    "    \n",
    "    mean_tpr = 0.0\n",
    "    mean_fpr = np.linspace(0, 1, 100)\n",
    "    all_tpr = []\n",
    "\n",
    "    skf = cross_validation.StratifiedKFold(y, n_folds=nfolds)\n",
    "    for train_index, test_index in skf:\n",
    "        X_train,y_train = X[train_index],y[train_index]\n",
    "        X_test,y_test   = X[test_index],y[test_index]\n",
    "        \n",
    "        #training time\n",
    "        start = dt.now()\n",
    "        clf.fit(X_train, y_train)\n",
    "        end = dt.now()\n",
    "        trainTime.append((end-start).microseconds)\n",
    "        \n",
    "        #testing time\n",
    "        start = dt.now()\n",
    "        yhat = clf.predict(X_test)\n",
    "        end = dt.now()\n",
    "        testTime.append((end-start).microseconds)\n",
    "        \n",
    "        #score\n",
    "        precis.append(precision_score(y_test, yhat, average='binary'))\n",
    "        recals.append(recall_score(y_test, yhat, average='binary'))\n",
    "        f1s.append(f1_score(y_test, yhat, average='binary'))\n",
    "        accs.append(accuracy_score(y_test, yhat))\n",
    "        \n",
    "        probas_              = clf.fit(X_train, y_train).predict_proba(X_test)\n",
    "        fpr, tpr, thresholds = roc_curve(y_test, probas_[:, 1])\n",
    "        mean_tpr            += interp(mean_fpr, fpr, tpr)\n",
    "        mean_tpr[0]          = 0.0\n",
    "        \n",
    "    def ave(lis):\n",
    "        return sum(lis)/len(lis)\n",
    "    \n",
    "    metrics.append(ave(trainTime)+ave(testTime))\n",
    "#     metrics.append(ave(testTime))\n",
    "    metrics.append(ave(precis))\n",
    "    metrics.append(ave(recals))\n",
    "    metrics.append(ave(f1s))\n",
    "    metrics.append(ave(accs))\n",
    "    \n",
    "    mean_tpr /= nfolds\n",
    "    mean_tpr[-1] = 1.0\n",
    "    mean_auc = auc(mean_fpr, mean_tpr)\n",
    "    metrics.append(mean_auc)\n",
    "    \n",
    "    return metrics,mean_fpr,mean_tpr"
   ]
  },
  {
   "cell_type": "code",
   "execution_count": 20,
   "metadata": {
    "collapsed": false
   },
   "outputs": [],
   "source": [
    "from sklearn.linear_model import SGDClassifier\n",
    "from sklearn.naive_bayes import MultinomialNB\n",
    "from sklearn.svm import SVC\n",
    "from sklearn.tree import DecisionTreeClassifier\n",
    "from sklearn.feature_extraction.text import TfidfVectorizer\n",
    "from sklearn.neighbors import KNeighborsClassifier\n",
    "from sklearn.pipeline import Pipeline\n",
    "\n",
    "mnb = MultinomialNB(alpha=0.1)\n",
    "#knn = KNeighborsClassifier()\n",
    "svc = SVC(kernel='linear',cache_size=800,probability=True)\n",
    "#tre = DecisionTreeClassifier(class_weight='balanced')\n",
    "\n",
    "vectCnts = TfidfVectorizer(decode_error='ignore')\n",
    "vectStds = TfidfVectorizer(decode_error='ignore')\n",
    "#vectStop = TfidfVectorizer(stop_words=stopwords,decode_error='ignore')\n",
    "\n",
    "kombinasi13 = [{'name' : 'MNB', 'pipe' : Pipeline([('vect', vectCnts),('clf', mnb)])},\n",
    "               #{'name' : 'KNN', 'pipe' : Pipeline([('vect', vect),('clf', knn)])},\n",
    "               {'name' : 'SVM', 'pipe' : Pipeline([('vect', vectCnts),('clf', svc)])},\n",
    "               #{'name' : 'TREE', 'pipe' : Pipeline([('vect', vect),('clf', tre)])}\n",
    "              ]\n",
    "\n",
    "kombinasi24= [{'name' : 'MNB', 'pipe' : Pipeline([('vect', vectStds),('clf', mnb)])},\n",
    "             #{'name' : 'KNN', 'pipe' : Pipeline([('vect', vect),('clf', knn)])},\n",
    "             {'name' : 'SVM', 'pipe' : Pipeline([('vect', vectStds),('clf', svc)])},\n",
    "             #{'name' : 'TREE', 'pipe' : Pipeline([('vect', vect),('clf', tre)])}\n",
    "             ]\n",
    "\n",
    "kombinasi5 = [{'name' : 'MNB', 'pipe' : mnb},\n",
    "               {'name' : 'SVM', 'pipe' : svc},\n",
    "             ]"
   ]
  },
  {
   "cell_type": "code",
   "execution_count": 21,
   "metadata": {
    "collapsed": false
   },
   "outputs": [
    {
     "data": {
      "text/plain": [
       "Pipeline(steps=[('vect', TfidfVectorizer(analyzer=u'word', binary=False, decode_error='ignore',\n",
       "        dtype=<type 'numpy.int64'>, encoding=u'utf-8', input=u'content',\n",
       "        lowercase=True, max_df=1.0, max_features=None, min_df=1,\n",
       "        ngram_range=(1, 1), norm=u'l2', preprocessor=None, smooth_idf=True,...rue,\n",
       "        vocabulary=None)), ('clf', MultinomialNB(alpha=0.1, class_prior=None, fit_prior=True))])"
      ]
     },
     "execution_count": 21,
     "metadata": {},
     "output_type": "execute_result"
    }
   ],
   "source": [
    "kombinasi13[0]['pipe']"
   ]
  },
  {
   "cell_type": "code",
   "execution_count": 22,
   "metadata": {
    "collapsed": false
   },
   "outputs": [
    {
     "name": "stdout",
     "output_type": "stream",
     "text": [
      "1344\n",
      "1344\n",
      "1344\n"
     ]
    }
   ],
   "source": [
    "print len(AllFracJudul)\n",
    "print len(AllFracShort)\n",
    "print len(AllFracJudul+AllFracShort)"
   ]
  },
  {
   "cell_type": "code",
   "execution_count": 23,
   "metadata": {
    "collapsed": false
   },
   "outputs": [
    {
     "name": "stdout",
     "output_type": "stream",
     "text": [
      "memakan makanan\n",
      "hasil kunjungan menteri rini ke eropa, gandeng rolls royce\n",
      "hasil kunjungan menteri rini eropa, gandeng rolls royce\n"
     ]
    }
   ],
   "source": [
    "k = 'aku akan memakan semua makanan itu'\n",
    "\n",
    "def stopwordRemoval(text):\n",
    "    text = ' '.join([word for word in text.split() if word not in stopwords])\n",
    "    return text\n",
    "\n",
    "print stopwordRemoval(k)\n",
    "JudulStop = DATAStd['Judul'].map(lambda x: stopwordRemoval(x))\n",
    "ShortStop = DATAStd['Short'].map(lambda x: stopwordRemoval(x))\n",
    "LongStop  = DATAStd['Long'].map(lambda x: stopwordRemoval(x))\n",
    "Feed1Stop  = JudulStop+' '+ShortStop\n",
    "Feed2Stop  = JudulStop+' '+LongStop+' '+ShortStop\n",
    "\n",
    "JudulPostStop = DATAPost['Judul'].map(lambda x: stopwordRemoval(x))\n",
    "ShortPostStop = DATAPost['Short'].map(lambda x: stopwordRemoval(x))\n",
    "LongPostStop  = DATAPost['Long'].map(lambda x: stopwordRemoval(x))\n",
    "Feed1PostStop  = JudulPostStop+' '+ShortPostStop\n",
    "Feed2PostStop  = JudulPostStop+' '+LongPostStop+' '+ShortPostStop\n",
    "\n",
    "print DATAStd['Judul'][198]\n",
    "print JudulStop[198]"
   ]
  },
  {
   "cell_type": "code",
   "execution_count": 27,
   "metadata": {
    "collapsed": false
   },
   "outputs": [],
   "source": [
    "X0 = []\n",
    "# X0.append({'name':'Judul','Prep':'Kombinasi1','Data':DATAStd['Judul']})\n",
    "# X0.append({'name':'Short','Prep':'Kombinasi1','Data':DATAStd['Short']})\n",
    "# X0.append({'name':'Long' ,'Prep':'Kombinasi1','Data':DATAStd['Long']})\n",
    "X0.append({'name':'rss' ,'Prep':'KTF','Data':DATAStd['Judul']+' '+DATAStd['Short']})\n",
    "X0.append({'name':'full' ,'Prep':'KTF','Data':DATAStd['Judul']+' '+DATAStd['Long']+' '+DATAStd['Short']})\n",
    "\n",
    "\n",
    "# X1 = []\n",
    "# X1.append({'name':'Judul','Prep':'Kombinasi2','Data':JudulStop})\n",
    "# X1.append({'name':'Short','Prep':'Kombinasi2','Data':ShortStop})\n",
    "# X1.append({'name':'Long' ,'Prep':'Kombinasi2','Data':LongStop})\n",
    "# X1.append({'name':'Feed' ,'Prep':'Kombinasi2','Data':FeedStop})\n",
    "\n",
    "# X2 = []\n",
    "# X2.append({'name':'Judul','Prep':'Kombinasi3','Data':DATAPost['Judul']})\n",
    "# X2.append({'name':'Short','Prep':'Kombinasi3','Data':DATAPost['Short']})\n",
    "# X2.append({'name':'Long' ,'Prep':'Kombinasi3','Data':DATAPost['Long']})\n",
    "# X2.append({'name':'Feed' ,'Prep':'Kombinasi3','Data':DATAPost['Judul']+' '+DATAPost['Short']})\n",
    "\n",
    "X3 = []\n",
    "# X3.append({'name':'Judul','Prep':'Kombinasi4','Data':JudulPostStop})\n",
    "# X3.append({'name':'Short','Prep':'Kombinasi4','Data':ShortPostStop})\n",
    "# X3.append({'name':'Long' ,'Prep':'Kombinasi4','Data':LongPostStop})\n",
    "X3.append({'name':'rss' ,'Prep':'KSP','Data':Feed1PostStop})\n",
    "X3.append({'name':'full' ,'Prep':'KSP','Data':Feed2PostStop})\n",
    "\n",
    "X4 = []\n",
    "# X4.append({'name':'Judul','Prep':'Kombinasi5','Data':AllFracJudul})\n",
    "# X4.append({'name':'Short','Prep':'Kombinasi5','Data':AllFracShort})\n",
    "# X4.append({'name':'Long' ,'Prep':'Kombinasi5','Data':AllFracLong})\n",
    "X4.append({'name':'rss' ,'Prep':'KPT','Data':AllFracJudul+AllFracShort})\n",
    "X4.append({'name':'full' ,'Prep':'KPT','Data':AllFracJudul+AllFracLong+AllFracShort})\n",
    "\n",
    "# X2.append({'name':'Judul','Prep':'NVTag','Data':NVFracJudul})\n",
    "# X2.append({'name':'Short','Prep':'NVTag','Data':NVFracShort})\n",
    "# X2.append({'name':'Long' ,'Prep':'NVTag','Data':NVFracLong})\n",
    "\n",
    "y_  = DATA_TARGET"
   ]
  },
  {
   "cell_type": "markdown",
   "metadata": {},
   "source": [
    "## Kombinasi 1"
   ]
  },
  {
   "cell_type": "code",
   "execution_count": 28,
   "metadata": {
    "collapsed": false
   },
   "outputs": [
    {
     "name": "stdout",
     "output_type": "stream",
     "text": [
      "(1344, 5930)\n",
      "(1344, 22308)\n"
     ]
    }
   ],
   "source": [
    "for i in X0:\n",
    "    k     = vect1.fit_transform(i['Data'])\n",
    "    print k.get_shape()"
   ]
  },
  {
   "cell_type": "code",
   "execution_count": 29,
   "metadata": {
    "collapsed": false
   },
   "outputs": [
    {
     "data": {
      "image/png": "[encoded data removed]",
      "text/plain": [
       "<matplotlib.figure.Figure at 0xe380f60>"
      ]
     },
     "metadata": {},
     "output_type": "display_data"
    }
   ],
   "source": [
    "import matplotlib.pyplot as plt\n",
    "\n",
    "metric = []\n",
    "for xi in X0:\n",
    "    X_ = xi['Data']\n",
    "    for mod in kombinasi13:\n",
    "        xP = X_[y_[y_.values == 1].index]\n",
    "        xN = X_[y_[y_.values == -1].index][:size]\n",
    "        X  = np.append(xP,xN)\n",
    "        \n",
    "        yP = y_[y_.values == 1]\n",
    "        yN = y_[y_.values == -1][:size]\n",
    "        y  = np.append(yP,yN)\n",
    "        \n",
    "        metrics,mean_fpr,mean_tpr = skorStratCV(mod['pipe'],X,y)\n",
    "        name = xi['name']+' '+xi['Prep']+' '+mod['name']\n",
    "        plt.plot(mean_fpr, mean_tpr,label='Mean ROC %s (area = %0.2f)' % (name,metrics[5]), lw=2)\n",
    "        \n",
    "        metric.append({'name':name,'metrics':metrics})\n",
    "\n",
    "plt.plot([0, 1], [0, 1], '--', color=(0.6, 0.6, 0.6), label='Luck')\n",
    "plt.xlim([-0.05, 1.05])\n",
    "plt.ylim([-0.05, 1.05])\n",
    "plt.xlabel('False Positive Rate')\n",
    "plt.ylabel('True Positive Rate')\n",
    "plt.title('Receiver Operating Characteristic of KTF')\n",
    "plt.legend(loc=\"lower right\")\n",
    "plt.show()"
   ]
  },
  {
   "cell_type": "markdown",
   "metadata": {},
   "source": [
    "## Kombinasi 2"
   ]
  },
  {
   "cell_type": "code",
   "execution_count": 30,
   "metadata": {
    "collapsed": false
   },
   "outputs": [],
   "source": [
    "# for i in X1:\n",
    "#     k     = vect2.fit_transform(i['Data'])\n",
    "#     print k.get_shape()"
   ]
  },
  {
   "cell_type": "code",
   "execution_count": 31,
   "metadata": {
    "collapsed": false
   },
   "outputs": [],
   "source": [
    "# #metric = []\n",
    "# for xi in X1:\n",
    "#     X_ = xi['Data']\n",
    "#     for mod in kombinasi24:\n",
    "#         xP = X_[y_[y_.values == 1].index]\n",
    "#         xN = X_[y_[y_.values == -1].index][:size]\n",
    "#         X  = np.append(xP,xN)\n",
    "        \n",
    "#         yP = y_[y_.values == 1]\n",
    "#         yN = y_[y_.values == -1][:size]\n",
    "#         y  = np.append(yP,yN)\n",
    "        \n",
    "#         metrics,mean_fpr,mean_tpr = skorStratCV(mod['pipe'],X,y)\n",
    "#         name = xi['name']+' '+xi['Prep']+' '+mod['name']\n",
    "#         plt.plot(mean_fpr, mean_tpr,label='Mean ROC %s (area = %0.2f)' % (name,metrics[5]), lw=2)\n",
    "        \n",
    "#         metric.append({'name':name,'metrics':metrics})\n",
    "\n",
    "# plt.plot([0, 1], [0, 1], '--', color=(0.6, 0.6, 0.6), label='Luck')\n",
    "# plt.xlim([-0.05, 1.05])\n",
    "# plt.ylim([-0.05, 1.05])\n",
    "# plt.xlabel('False Positive Rate')\n",
    "# plt.ylabel('True Positive Rate')\n",
    "# plt.title('Receiver Operating Characteristic of Kombinasi2')\n",
    "# plt.legend(loc=\"lower right\")\n",
    "# plt.show()"
   ]
  },
  {
   "cell_type": "markdown",
   "metadata": {},
   "source": [
    "## Kombinasi 3"
   ]
  },
  {
   "cell_type": "code",
   "execution_count": 32,
   "metadata": {
    "collapsed": false
   },
   "outputs": [],
   "source": [
    "# for i in X2:\n",
    "#     k     = vect1.fit_transform(i['Data'])\n",
    "#     print k.get_shape()"
   ]
  },
  {
   "cell_type": "code",
   "execution_count": 33,
   "metadata": {
    "collapsed": false
   },
   "outputs": [],
   "source": [
    "# #metric = []\n",
    "# for xi in X2:\n",
    "#     X_ = xi['Data']\n",
    "#     for mod in kombinasi13:\n",
    "#         xP = X_[y_[y_.values == 1].index]\n",
    "#         xN = X_[y_[y_.values == -1].index][:size]\n",
    "#         X  = np.append(xP,xN)\n",
    "        \n",
    "#         yP = y_[y_.values == 1]\n",
    "#         yN = y_[y_.values == -1][:size]\n",
    "#         y  = np.append(yP,yN)\n",
    "        \n",
    "#         metrics,mean_fpr,mean_tpr = skorStratCV(mod['pipe'],X,y)\n",
    "#         name = xi['name']+' '+xi['Prep']+' '+mod['name']\n",
    "#         plt.plot(mean_fpr, mean_tpr,label='Mean ROC %s (area = %0.2f)' % (name,metrics[5]), lw=2)\n",
    "        \n",
    "#         metric.append({'name':name,'metrics':metrics})\n",
    "\n",
    "# plt.plot([0, 1], [0, 1], '--', color=(0.6, 0.6, 0.6), label='Luck')\n",
    "# plt.xlim([-0.05, 1.05])\n",
    "# plt.ylim([-0.05, 1.05])\n",
    "# plt.xlabel('False Positive Rate')\n",
    "# plt.ylabel('True Positive Rate')\n",
    "# plt.title('Receiver Operating Characteristic of Kombinasi3')\n",
    "# plt.legend(loc=\"lower right\")\n",
    "# plt.show()"
   ]
  },
  {
   "cell_type": "markdown",
   "metadata": {},
   "source": [
    "## Kombinasi 4"
   ]
  },
  {
   "cell_type": "code",
   "execution_count": 34,
   "metadata": {
    "collapsed": false
   },
   "outputs": [
    {
     "name": "stdout",
     "output_type": "stream",
     "text": [
      "(1344, 5006)\n",
      "(1344, 19616)\n"
     ]
    }
   ],
   "source": [
    "for i in X3:\n",
    "    k     = vect2.fit_transform(i['Data'])\n",
    "    print k.get_shape()"
   ]
  },
  {
   "cell_type": "code",
   "execution_count": 35,
   "metadata": {
    "collapsed": false
   },
   "outputs": [
    {
     "data": {
      "image/png": "[encoded data removed]",
      "text/plain": [
       "<matplotlib.figure.Figure at 0xa061438>"
      ]
     },
     "metadata": {},
     "output_type": "display_data"
    }
   ],
   "source": [
    "#metric = []\n",
    "for xi in X3:\n",
    "    X_ = xi['Data']\n",
    "    for mod in kombinasi24:\n",
    "        xP = X_[y_[y_.values == 1].index]\n",
    "        xN = X_[y_[y_.values == -1].index][:size]\n",
    "        X  = np.append(xP,xN)\n",
    "        \n",
    "        yP = y_[y_.values == 1]\n",
    "        yN = y_[y_.values == -1][:size]\n",
    "        y  = np.append(yP,yN)\n",
    "        \n",
    "        metrics,mean_fpr,mean_tpr = skorStratCV(mod['pipe'],X,y)\n",
    "        name = xi['name']+' '+xi['Prep']+' '+mod['name']\n",
    "        plt.plot(mean_fpr, mean_tpr,label='Mean ROC %s (area = %0.2f)' % (name,metrics[5]), lw=2)\n",
    "        \n",
    "        metric.append({'name':name,'metrics':metrics})\n",
    "\n",
    "plt.plot([0, 1], [0, 1], '--', color=(0.6, 0.6, 0.6), label='Luck')\n",
    "plt.xlim([-0.05, 1.05])\n",
    "plt.ylim([-0.05, 1.05])\n",
    "plt.xlabel('False Positive Rate')\n",
    "plt.ylabel('True Positive Rate')\n",
    "plt.title('Receiver Operating Characteristic of KSP')\n",
    "plt.legend(loc=\"lower right\")\n",
    "plt.show()"
   ]
  },
  {
   "cell_type": "markdown",
   "metadata": {},
   "source": [
    "## Kombinasi 5"
   ]
  },
  {
   "cell_type": "code",
   "execution_count": 36,
   "metadata": {
    "collapsed": false
   },
   "outputs": [
    {
     "name": "stderr",
     "output_type": "stream",
     "text": [
      "C:\\Users\\Thosan Girisona S\\Anaconda\\lib\\site-packages\\sklearn\\metrics\\classification.py:1074: UndefinedMetricWarning: Precision is ill-defined and being set to 0.0 due to no predicted samples.\n",
      "  'precision', 'predicted', average, warn_for)\n",
      "C:\\Users\\Thosan Girisona S\\Anaconda\\lib\\site-packages\\sklearn\\metrics\\classification.py:1074: UndefinedMetricWarning: F-score is ill-defined and being set to 0.0 due to no predicted samples.\n",
      "  'precision', 'predicted', average, warn_for)\n"
     ]
    },
    {
     "data": {
      "image/png": "[encoded data removed]",
      "text/plain": [
       "<matplotlib.figure.Figure at 0xaa720b8>"
      ]
     },
     "metadata": {},
     "output_type": "display_data"
    }
   ],
   "source": [
    "#metric = []\n",
    "y2_  = pickle.load( open( \"v2.0\\DATA_TARGET-v5b.p\", \"rb\" ) )\n",
    "for xi in X4:\n",
    "    X_ = xi['Data']\n",
    "    for mod in kombinasi5:\n",
    "        xP = X_[y2_[y2_.values == 1].index]\n",
    "        xN = X_[y2_[y2_.values == -1].index][:size]\n",
    "        X  = np.vstack((xP,xN))\n",
    "\n",
    "        yP = y2_[y2_.values == 1]\n",
    "        yN = y2_[y2_.values == -1][:size]\n",
    "        y  = np.append(yP,yN)\n",
    "        \n",
    "        metrics,mean_fpr,mean_tpr = skorStratCV(mod['pipe'],X,y)\n",
    "        name = xi['name']+' '+xi['Prep']+' '+mod['name']\n",
    "        plt.plot(mean_fpr, mean_tpr,label='Mean ROC %s (area = %0.2f)' % (name,metrics[5]), lw=2)\n",
    "        \n",
    "        metric.append({'name':name,'metrics':metrics})\n",
    "\n",
    "plt.plot([0, 1], [0, 1], '--', color=(0.6, 0.6, 0.6), label='Luck')\n",
    "plt.xlim([-0.05, 1.05])\n",
    "plt.ylim([-0.05, 1.05])\n",
    "plt.xlabel('False Positive Rate')\n",
    "plt.ylabel('True Positive Rate')\n",
    "plt.title('Receiver Operating Characteristic of Total All tags & Total Noun-Verb tags')\n",
    "plt.legend(loc=\"lower right\")\n",
    "plt.show()"
   ]
  },
  {
   "cell_type": "code",
   "execution_count": 37,
   "metadata": {
    "collapsed": false
   },
   "outputs": [
    {
     "data": {
      "text/html": [
       "<table border=\"1\" cellpadding=\"3\" cellspacing=\"0\"  style=\"border:1px solid black;border-collapse:collapse;\"><tr><td  style=\"background-color:White;border-left: 1px solid transparent;border-top: 1px solid transparent;\"><b>id</b></td><td  style=\"background-color:LightGray;\"><b>nama</b></td><td  style=\"background-color:LightGray;\"><b>time</b></td><td  style=\"background-color:LightGray;\"><b>p_1</b></td><td  style=\"background-color:LightGray;\"><b>r_1</b></td><td  style=\"background-color:LightGray;\"><b>F1&nbspscore</b></td><td  style=\"background-color:LightGray;\"><b>accuracy</b></td><td  style=\"background-color:LightGray;text-align:center;\"><b>AUC</b></td></tr><tr><td  style=\"background-color:LightGray;\"><b>1</b></td><td  style=\"background-color:Ivory;\">rss&nbspKTF&nbspMNB</td><td  style=\"background-color:Ivory;\">141100</td><td  style=\"background-color:Ivory;\">0.8557</td><td  style=\"background-color:Ivory;\">0.8196</td><td  style=\"background-color:Ivory;\">0.8345</td><td  style=\"background-color:Ivory;\">0.9048</td><td  style=\"background-color:Ivory;text-align:center;\">0.9526</td></tr><tr><td  style=\"background-color:LightGray;\"><b>2</b></td><td  style=\"background-color:AliceBlue;\">rss&nbspKTF&nbspSVM</td><td  style=\"background-color:AliceBlue;\">704300</td><td  style=\"background-color:AliceBlue;\">0.8824</td><td  style=\"background-color:AliceBlue;\">0.7744</td><td  style=\"background-color:AliceBlue;\">0.8230</td><td  style=\"background-color:AliceBlue;\">0.9018</td><td  style=\"background-color:AliceBlue;text-align:center;\">0.9579</td></tr><tr><td  style=\"background-color:LightGray;\"><b>3</b></td><td  style=\"background-color:Ivory;\">full&nbspKTF&nbspMNB</td><td  style=\"background-color:Ivory;\">816900</td><td  style=\"background-color:Ivory;\">0.8904</td><td  style=\"background-color:Ivory;\">0.8019</td><td  style=\"background-color:Ivory;\">0.8382</td><td  style=\"background-color:Ivory;\">0.9107</td><td  style=\"background-color:Ivory;text-align:center;\">0.9469</td></tr><tr><td  style=\"background-color:LightGray;\"><b>4</b></td><td  style=\"background-color:AliceBlue;\">full&nbspKTF&nbspSVM</td><td  style=\"background-color:AliceBlue;\">920200</td><td  style=\"background-color:AliceBlue;\">0.8955</td><td  style=\"background-color:AliceBlue;\">0.7992</td><td  style=\"background-color:AliceBlue;\">0.8392</td><td  style=\"background-color:AliceBlue;\">0.9107</td><td  style=\"background-color:AliceBlue;text-align:center;\">0.9569</td></tr><tr><td  style=\"background-color:LightGray;\"><b>5</b></td><td  style=\"background-color:Ivory;\">rss&nbspKSP&nbspMNB</td><td  style=\"background-color:Ivory;\">115300</td><td  style=\"background-color:Ivory;\">0.8487</td><td  style=\"background-color:Ivory;\">0.8521</td><td  style=\"background-color:Ivory;\">0.8461</td><td  style=\"background-color:Ivory;\">0.9092</td><td  style=\"background-color:Ivory;text-align:center;\">0.9512</td></tr><tr><td  style=\"background-color:LightGray;\"><b>6</b></td><td  style=\"background-color:AliceBlue;\">rss&nbspKSP&nbspSVM</td><td  style=\"background-color:AliceBlue;\">633900</td><td  style=\"background-color:AliceBlue;\">0.8870</td><td  style=\"background-color:AliceBlue;\">0.7921</td><td  style=\"background-color:AliceBlue;\">0.8349</td><td  style=\"background-color:AliceBlue;\">0.9077</td><td  style=\"background-color:AliceBlue;text-align:center;\">0.9570</td></tr><tr><td  style=\"background-color:LightGray;\"><b>7</b></td><td  style=\"background-color:Ivory;\">full&nbspKSP&nbspMNB</td><td  style=\"background-color:Ivory;\">902400</td><td  style=\"background-color:Ivory;\">0.8593</td><td  style=\"background-color:Ivory;\">0.8246</td><td  style=\"background-color:Ivory;\">0.8358</td><td  style=\"background-color:Ivory;\">0.9055</td><td  style=\"background-color:Ivory;text-align:center;\">0.9453</td></tr><tr><td  style=\"background-color:LightGray;\"><b>8</b></td><td  style=\"background-color:AliceBlue;\">full&nbspKSP&nbspSVM</td><td  style=\"background-color:AliceBlue;\">843500</td><td  style=\"background-color:AliceBlue;\">0.8969</td><td  style=\"background-color:AliceBlue;\">0.7993</td><td  style=\"background-color:AliceBlue;\">0.8401</td><td  style=\"background-color:AliceBlue;\">0.9107</td><td  style=\"background-color:AliceBlue;text-align:center;\">0.9523</td></tr><tr><td  style=\"background-color:LightGray;\"><b>9</b></td><td  style=\"background-color:Ivory;\">rss&nbspKPT&nbspMNB</td><td  style=\"background-color:Ivory;\">17300</td><td  style=\"background-color:Ivory;\">0.0333</td><td  style=\"background-color:Ivory;\">0.0091</td><td  style=\"background-color:Ivory;\">0.0143</td><td  style=\"background-color:Ivory;\">0.8442</td><td  style=\"background-color:Ivory;text-align:center;\">0.5677</td></tr><tr><td  style=\"background-color:LightGray;\"><b>10</b></td><td  style=\"background-color:AliceBlue;\">rss&nbspKPT&nbspSVM</td><td  style=\"background-color:AliceBlue;\">207300</td><td  style=\"background-color:AliceBlue;\">0.0000</td><td  style=\"background-color:AliceBlue;\">0.0000</td><td  style=\"background-color:AliceBlue;\">0.0000</td><td  style=\"background-color:AliceBlue;\">0.8471</td><td  style=\"background-color:AliceBlue;text-align:center;\">0.4918</td></tr><tr><td  style=\"background-color:LightGray;\"><b>11</b></td><td  style=\"background-color:Ivory;\">full&nbspKPT&nbspMNB</td><td  style=\"background-color:Ivory;\">2000</td><td  style=\"background-color:Ivory;\">0.1769</td><td  style=\"background-color:Ivory;\">0.0864</td><td  style=\"background-color:Ivory;\">0.1041</td><td  style=\"background-color:Ivory;\">0.7803</td><td  style=\"background-color:Ivory;text-align:center;\">0.5290</td></tr><tr><td  style=\"background-color:LightGray;\"><b>12</b></td><td  style=\"background-color:AliceBlue;\">full&nbspKPT&nbspSVM</td><td  style=\"background-color:AliceBlue;\">663300</td><td  style=\"background-color:AliceBlue;\">0.0000</td><td  style=\"background-color:AliceBlue;\">0.0000</td><td  style=\"background-color:AliceBlue;\">0.0000</td><td  style=\"background-color:AliceBlue;\">0.8442</td><td  style=\"background-color:AliceBlue;text-align:center;\">0.4960</td></tr></table>"
      ],
      "text/plain": [
       "<ipy_table.IpyTable at 0xb368278>"
      ]
     },
     "execution_count": 37,
     "metadata": {},
     "output_type": "execute_result"
    }
   ],
   "source": [
    "from ipy_table import *\n",
    "metrics_table = []\n",
    "tables = []\n",
    "columns = (['id', 'nama','time','p_1',\n",
    "            'r_1','F1 score','accuracy','AUC'])\n",
    "tables.append(columns)\n",
    "\n",
    "i = 0\n",
    "\n",
    "for me in metric:\n",
    "    i += 1\n",
    "    \n",
    "    metr = []\n",
    "    metr.append(i)\n",
    "    metr.append(me['name'])\n",
    "    for m in me['metrics']:\n",
    "        metr.append(m)\n",
    "\n",
    "    tables.append(metr)\n",
    "    metrics_table.append(metr)\n",
    "    #print metric\n",
    "    \n",
    "make_table(tables)\n",
    "\n",
    "# styling\n",
    "apply_theme('basic_both')\n",
    "set_column_style(7, align='center')"
   ]
  },
  {
   "cell_type": "code",
   "execution_count": 38,
   "metadata": {
    "collapsed": false
   },
   "outputs": [
    {
     "data": {
      "text/html": [
       "<div>\n",
       "<table border=\"1\" class=\"dataframe\">\n",
       "  <thead>\n",
       "    <tr style=\"text-align: right;\">\n",
       "      <th></th>\n",
       "      <th>time</th>\n",
       "      <th>p_1</th>\n",
       "      <th>r_1</th>\n",
       "      <th>F1 score</th>\n",
       "      <th>accuracy</th>\n",
       "      <th>AUC</th>\n",
       "      <th>Vars</th>\n",
       "      <th>Prep</th>\n",
       "      <th>Algs</th>\n",
       "      <th>Time</th>\n",
       "    </tr>\n",
       "  </thead>\n",
       "  <tbody>\n",
       "    <tr>\n",
       "      <th>0</th>\n",
       "      <td>141100</td>\n",
       "      <td>0.855701</td>\n",
       "      <td>0.819551</td>\n",
       "      <td>0.834507</td>\n",
       "      <td>0.904764</td>\n",
       "      <td>0.952586</td>\n",
       "      <td>rss</td>\n",
       "      <td>KTF</td>\n",
       "      <td>MNB</td>\n",
       "      <td>141100</td>\n",
       "    </tr>\n",
       "    <tr>\n",
       "      <th>1</th>\n",
       "      <td>704300</td>\n",
       "      <td>0.882432</td>\n",
       "      <td>0.774359</td>\n",
       "      <td>0.822983</td>\n",
       "      <td>0.901762</td>\n",
       "      <td>0.957934</td>\n",
       "      <td>rss</td>\n",
       "      <td>KTF</td>\n",
       "      <td>SVM</td>\n",
       "      <td>704300</td>\n",
       "    </tr>\n",
       "    <tr>\n",
       "      <th>2</th>\n",
       "      <td>816900</td>\n",
       "      <td>0.890438</td>\n",
       "      <td>0.801859</td>\n",
       "      <td>0.838163</td>\n",
       "      <td>0.910668</td>\n",
       "      <td>0.946886</td>\n",
       "      <td>full</td>\n",
       "      <td>KTF</td>\n",
       "      <td>MNB</td>\n",
       "      <td>816900</td>\n",
       "    </tr>\n",
       "    <tr>\n",
       "      <th>3</th>\n",
       "      <td>920200</td>\n",
       "      <td>0.895463</td>\n",
       "      <td>0.799167</td>\n",
       "      <td>0.839250</td>\n",
       "      <td>0.910690</td>\n",
       "      <td>0.956904</td>\n",
       "      <td>full</td>\n",
       "      <td>KTF</td>\n",
       "      <td>SVM</td>\n",
       "      <td>920200</td>\n",
       "    </tr>\n",
       "    <tr>\n",
       "      <th>4</th>\n",
       "      <td>115300</td>\n",
       "      <td>0.848748</td>\n",
       "      <td>0.852115</td>\n",
       "      <td>0.846102</td>\n",
       "      <td>0.909236</td>\n",
       "      <td>0.951160</td>\n",
       "      <td>rss</td>\n",
       "      <td>KSP</td>\n",
       "      <td>MNB</td>\n",
       "      <td>115300</td>\n",
       "    </tr>\n",
       "    <tr>\n",
       "      <th>5</th>\n",
       "      <td>633900</td>\n",
       "      <td>0.886995</td>\n",
       "      <td>0.792115</td>\n",
       "      <td>0.834862</td>\n",
       "      <td>0.907722</td>\n",
       "      <td>0.957002</td>\n",
       "      <td>rss</td>\n",
       "      <td>KSP</td>\n",
       "      <td>SVM</td>\n",
       "      <td>633900</td>\n",
       "    </tr>\n",
       "    <tr>\n",
       "      <th>6</th>\n",
       "      <td>902400</td>\n",
       "      <td>0.859331</td>\n",
       "      <td>0.824551</td>\n",
       "      <td>0.835816</td>\n",
       "      <td>0.905511</td>\n",
       "      <td>0.945338</td>\n",
       "      <td>full</td>\n",
       "      <td>KSP</td>\n",
       "      <td>MNB</td>\n",
       "      <td>902400</td>\n",
       "    </tr>\n",
       "    <tr>\n",
       "      <th>7</th>\n",
       "      <td>843500</td>\n",
       "      <td>0.896876</td>\n",
       "      <td>0.799295</td>\n",
       "      <td>0.840066</td>\n",
       "      <td>0.910701</td>\n",
       "      <td>0.952255</td>\n",
       "      <td>full</td>\n",
       "      <td>KSP</td>\n",
       "      <td>SVM</td>\n",
       "      <td>843500</td>\n",
       "    </tr>\n",
       "    <tr>\n",
       "      <th>8</th>\n",
       "      <td>17300</td>\n",
       "      <td>0.033333</td>\n",
       "      <td>0.009091</td>\n",
       "      <td>0.014286</td>\n",
       "      <td>0.844236</td>\n",
       "      <td>0.567703</td>\n",
       "      <td>rss</td>\n",
       "      <td>KPT</td>\n",
       "      <td>MNB</td>\n",
       "      <td>17300</td>\n",
       "    </tr>\n",
       "    <tr>\n",
       "      <th>9</th>\n",
       "      <td>207300</td>\n",
       "      <td>0.000000</td>\n",
       "      <td>0.000000</td>\n",
       "      <td>0.000000</td>\n",
       "      <td>0.847053</td>\n",
       "      <td>0.491803</td>\n",
       "      <td>rss</td>\n",
       "      <td>KPT</td>\n",
       "      <td>SVM</td>\n",
       "      <td>207300</td>\n",
       "    </tr>\n",
       "    <tr>\n",
       "      <th>10</th>\n",
       "      <td>2000</td>\n",
       "      <td>0.176948</td>\n",
       "      <td>0.086364</td>\n",
       "      <td>0.104146</td>\n",
       "      <td>0.780285</td>\n",
       "      <td>0.529012</td>\n",
       "      <td>full</td>\n",
       "      <td>KPT</td>\n",
       "      <td>MNB</td>\n",
       "      <td>2000</td>\n",
       "    </tr>\n",
       "    <tr>\n",
       "      <th>11</th>\n",
       "      <td>663300</td>\n",
       "      <td>0.000000</td>\n",
       "      <td>0.000000</td>\n",
       "      <td>0.000000</td>\n",
       "      <td>0.844196</td>\n",
       "      <td>0.496027</td>\n",
       "      <td>full</td>\n",
       "      <td>KPT</td>\n",
       "      <td>SVM</td>\n",
       "      <td>663300</td>\n",
       "    </tr>\n",
       "  </tbody>\n",
       "</table>\n",
       "</div>"
      ],
      "text/plain": [
       "      time       p_1       r_1  F1 score  accuracy       AUC  Vars Prep Algs  \\\n",
       "0   141100  0.855701  0.819551  0.834507  0.904764  0.952586   rss  KTF  MNB   \n",
       "1   704300  0.882432  0.774359  0.822983  0.901762  0.957934   rss  KTF  SVM   \n",
       "2   816900  0.890438  0.801859  0.838163  0.910668  0.946886  full  KTF  MNB   \n",
       "3   920200  0.895463  0.799167  0.839250  0.910690  0.956904  full  KTF  SVM   \n",
       "4   115300  0.848748  0.852115  0.846102  0.909236  0.951160   rss  KSP  MNB   \n",
       "5   633900  0.886995  0.792115  0.834862  0.907722  0.957002   rss  KSP  SVM   \n",
       "6   902400  0.859331  0.824551  0.835816  0.905511  0.945338  full  KSP  MNB   \n",
       "7   843500  0.896876  0.799295  0.840066  0.910701  0.952255  full  KSP  SVM   \n",
       "8    17300  0.033333  0.009091  0.014286  0.844236  0.567703   rss  KPT  MNB   \n",
       "9   207300  0.000000  0.000000  0.000000  0.847053  0.491803   rss  KPT  SVM   \n",
       "10    2000  0.176948  0.086364  0.104146  0.780285  0.529012  full  KPT  MNB   \n",
       "11  663300  0.000000  0.000000  0.000000  0.844196  0.496027  full  KPT  SVM   \n",
       "\n",
       "      Time  \n",
       "0   141100  \n",
       "1   704300  \n",
       "2   816900  \n",
       "3   920200  \n",
       "4   115300  \n",
       "5   633900  \n",
       "6   902400  \n",
       "7   843500  \n",
       "8    17300  \n",
       "9   207300  \n",
       "10    2000  \n",
       "11  663300  "
      ]
     },
     "execution_count": 38,
     "metadata": {},
     "output_type": "execute_result"
    }
   ],
   "source": [
    "evals = pd.DataFrame(metrics_table,columns=columns)\n",
    "evals['Vars'] = [i.split()[0] for i in evals['nama']]\n",
    "evals['Prep'] = [i.split()[1] for i in evals['nama']]\n",
    "evals['Algs'] = [i.split()[2] for i in evals['nama']]\n",
    "evals['Time'] = evals['time']\n",
    "evals.drop('nama',axis=1,inplace=True)\n",
    "evals.drop('id',axis=1,inplace=True)\n",
    "evals"
   ]
  },
  {
   "cell_type": "code",
   "execution_count": 39,
   "metadata": {
    "collapsed": false
   },
   "outputs": [
    {
     "ename": "IOError",
     "evalue": "[Errno 13] Permission denied: 'Hasil3.csv'",
     "output_type": "error",
     "traceback": [
      "\u001b[1;31m---------------------------------------------------------------------------\u001b[0m",
      "\u001b[1;31mIOError\u001b[0m                                   Traceback (most recent call last)",
      "\u001b[1;32m<ipython-input-39-d8eec03b099f>\u001b[0m in \u001b[0;36m<module>\u001b[1;34m()\u001b[0m\n\u001b[1;32m----> 1\u001b[1;33m \u001b[0mevals\u001b[0m\u001b[1;33m.\u001b[0m\u001b[0mto_csv\u001b[0m\u001b[1;33m(\u001b[0m\u001b[1;34m'Hasil3.csv'\u001b[0m\u001b[1;33m)\u001b[0m\u001b[1;33m\u001b[0m\u001b[0m\n\u001b[0m",
      "\u001b[1;32mC:\\Users\\Thosan Girisona S\\Anaconda\\lib\\site-packages\\pandas\\core\\frame.pyc\u001b[0m in \u001b[0;36mto_csv\u001b[1;34m(self, path_or_buf, sep, na_rep, float_format, columns, header, index, index_label, mode, encoding, quoting, quotechar, line_terminator, chunksize, tupleize_cols, date_format, doublequote, escapechar, decimal, **kwds)\u001b[0m\n\u001b[0;32m   1287\u001b[0m                                      \u001b[0mescapechar\u001b[0m\u001b[1;33m=\u001b[0m\u001b[0mescapechar\u001b[0m\u001b[1;33m,\u001b[0m\u001b[1;33m\u001b[0m\u001b[0m\n\u001b[0;32m   1288\u001b[0m                                      decimal=decimal)\n\u001b[1;32m-> 1289\u001b[1;33m         \u001b[0mformatter\u001b[0m\u001b[1;33m.\u001b[0m\u001b[0msave\u001b[0m\u001b[1;33m(\u001b[0m\u001b[1;33m)\u001b[0m\u001b[1;33m\u001b[0m\u001b[0m\n\u001b[0m\u001b[0;32m   1290\u001b[0m \u001b[1;33m\u001b[0m\u001b[0m\n\u001b[0;32m   1291\u001b[0m         \u001b[1;32mif\u001b[0m \u001b[0mpath_or_buf\u001b[0m \u001b[1;32mis\u001b[0m \u001b[0mNone\u001b[0m\u001b[1;33m:\u001b[0m\u001b[1;33m\u001b[0m\u001b[0m\n",
      "\u001b[1;32mC:\\Users\\Thosan Girisona S\\Anaconda\\lib\\site-packages\\pandas\\core\\format.pyc\u001b[0m in \u001b[0;36msave\u001b[1;34m(self)\u001b[0m\n\u001b[0;32m   1467\u001b[0m         \u001b[1;32melse\u001b[0m\u001b[1;33m:\u001b[0m\u001b[1;33m\u001b[0m\u001b[0m\n\u001b[0;32m   1468\u001b[0m             f = com._get_handle(self.path_or_buf, self.mode,\n\u001b[1;32m-> 1469\u001b[1;33m                                 encoding=self.encoding)\n\u001b[0m\u001b[0;32m   1470\u001b[0m             \u001b[0mclose\u001b[0m \u001b[1;33m=\u001b[0m \u001b[0mTrue\u001b[0m\u001b[1;33m\u001b[0m\u001b[0m\n\u001b[0;32m   1471\u001b[0m \u001b[1;33m\u001b[0m\u001b[0m\n",
      "\u001b[1;32mC:\\Users\\Thosan Girisona S\\Anaconda\\lib\\site-packages\\pandas\\core\\common.pyc\u001b[0m in \u001b[0;36m_get_handle\u001b[1;34m(path, mode, encoding, compression)\u001b[0m\n\u001b[0;32m   2867\u001b[0m                 \u001b[0mf\u001b[0m \u001b[1;33m=\u001b[0m \u001b[0mopen\u001b[0m\u001b[1;33m(\u001b[0m\u001b[0mpath\u001b[0m\u001b[1;33m,\u001b[0m \u001b[0mmode\u001b[0m\u001b[1;33m,\u001b[0m \u001b[0merrors\u001b[0m\u001b[1;33m=\u001b[0m\u001b[1;34m'replace'\u001b[0m\u001b[1;33m)\u001b[0m\u001b[1;33m\u001b[0m\u001b[0m\n\u001b[0;32m   2868\u001b[0m         \u001b[1;32melse\u001b[0m\u001b[1;33m:\u001b[0m\u001b[1;33m\u001b[0m\u001b[0m\n\u001b[1;32m-> 2869\u001b[1;33m             \u001b[0mf\u001b[0m \u001b[1;33m=\u001b[0m \u001b[0mopen\u001b[0m\u001b[1;33m(\u001b[0m\u001b[0mpath\u001b[0m\u001b[1;33m,\u001b[0m \u001b[0mmode\u001b[0m\u001b[1;33m)\u001b[0m\u001b[1;33m\u001b[0m\u001b[0m\n\u001b[0m\u001b[0;32m   2870\u001b[0m \u001b[1;33m\u001b[0m\u001b[0m\n\u001b[0;32m   2871\u001b[0m     \u001b[1;32mreturn\u001b[0m \u001b[0mf\u001b[0m\u001b[1;33m\u001b[0m\u001b[0m\n",
      "\u001b[1;31mIOError\u001b[0m: [Errno 13] Permission denied: 'Hasil3.csv'"
     ]
    }
   ],
   "source": [
    "evals.to_csv('Hasil3.csv')"
   ]
  },
  {
   "cell_type": "code",
   "execution_count": null,
   "metadata": {
    "collapsed": false
   },
   "outputs": [],
   "source": [
    "# splitter1 = ['Judul','Short','Long']\n",
    "splitter1 = ['Feed1','Feed2']\n",
    "# splitter2 = ['Kombinasi1','Kombinasi2','Kombinasi3','Kombinasi4','Kombinasi5']\n",
    "splitter2 = ['Kombinasi1','Kombinasi2','Kombinasi3']\n",
    "eval_teks = evals[evals.Prep.isin(splitter2)]\n",
    "eval_teks = pd.DataFrame([eval_teks[eval_teks.Vars == i].mean() for i in splitter1]).transpose()\n",
    "eval_teks.set_axis(1,splitter1)\n",
    "eval_teks"
   ]
  },
  {
   "cell_type": "code",
   "execution_count": null,
   "metadata": {
    "collapsed": false
   },
   "outputs": [],
   "source": [
    "# splitter = ['Kombinasi1','Kombinasi2','Kombinasi3','Kombinasi4','Kombinasi5']\n",
    "splitter = ['Kombinasi1','Kombinasi2','Kombinasi3']\n",
    "eval_prep = pd.DataFrame([evals[evals.Prep == i].mean() for i in splitter]).transpose()\n",
    "eval_prep.set_axis(1,splitter)\n",
    "eval_prep"
   ]
  },
  {
   "cell_type": "code",
   "execution_count": null,
   "metadata": {
    "collapsed": false
   },
   "outputs": [],
   "source": [
    "splitter1 = ['MNB','SVM']\n",
    "eval_teks = evals[evals.Algs.isin(splitter1)]\n",
    "eval_teks = pd.DataFrame([eval_teks[eval_teks.Algs == i].mean() for i in splitter1]).transpose()\n",
    "eval_teks.set_axis(1,splitter1)\n",
    "eval_teks"
   ]
  },
  {
   "cell_type": "code",
   "execution_count": null,
   "metadata": {
    "collapsed": false
   },
   "outputs": [],
   "source": [
    "mnb"
   ]
  },
  {
   "cell_type": "code",
   "execution_count": null,
   "metadata": {
    "collapsed": false
   },
   "outputs": [],
   "source": [
    "#knn\n",
    "# knn_params = {'n_neighbors': range(1,21), 'weights': ['uniform', 'distance'], 'algorithm': ['ball_tree', 'kd_tree'],\n",
    "#               'leaf_size': [15, 30, 50, 100], 'p': [1,2]}"
   ]
  },
  {
   "cell_type": "code",
   "execution_count": null,
   "metadata": {
    "collapsed": false
   },
   "outputs": [],
   "source": [
    "svc\n",
    "# lsvm_params = {'loss':['hinge', 'squared_hinge'],'class_weight':['balanced']}"
   ]
  },
  {
   "cell_type": "code",
   "execution_count": null,
   "metadata": {
    "collapsed": false
   },
   "outputs": [],
   "source": [
    "#tre\n",
    "# tree_param = {\"criterion\": [\"gini\", \"entropy\"],\"class_weight\" : ['balanced']}"
   ]
  }
 ],
 "metadata": {
  "kernelspec": {
   "display_name": "Python 2",
   "language": "python",
   "name": "python2"
  },
  "language_info": {
   "codemirror_mode": {
    "name": "ipython",
    "version": 2
   },
   "file_extension": ".py",
   "mimetype": "text/x-python",
   "name": "python",
   "nbconvert_exporter": "python",
   "pygments_lexer": "ipython2",
   "version": "2.7.11"
  }
 },
 "nbformat": 4,
 "nbformat_minor": 0
}
