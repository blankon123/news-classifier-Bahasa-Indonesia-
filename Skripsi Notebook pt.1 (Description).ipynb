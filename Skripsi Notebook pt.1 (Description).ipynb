{
 "cells": [
  {
   "cell_type": "markdown",
   "metadata": {},
   "source": [
    "# Deskripsi\n",
    "Deskripsi mengenai variable-variabel yang ada dalam penelitian ini akan dijelaskan dalam beberapa bagian:\n",
    "\n",
    "1. Loading and General Description\n",
    "2. Crawling indicator Description\n",
    "3. 'News' Variables Description"
   ]
  },
  {
   "cell_type": "markdown",
   "metadata": {},
   "source": [
    "## 0. Load Library"
   ]
  },
  {
   "cell_type": "code",
   "execution_count": 2,
   "metadata": {
    "collapsed": true
   },
   "outputs": [],
   "source": [
    "import matplotlib.pyplot as plt\n",
    "import os, re\n",
    "\n",
    "from sklearn.feature_extraction.text import CountVectorizer, TfidfVectorizer, HashingVectorizer\n",
    "from datetime import datetime as dt\n",
    "import cPickle as pickle\n",
    "import re #Regex\n",
    "import seaborn as sns\n",
    "sns.set()\n",
    "%matplotlib inline"
   ]
  },
  {
   "cell_type": "markdown",
   "metadata": {},
   "source": [
    "## 1. Load and General Description"
   ]
  },
  {
   "cell_type": "code",
   "execution_count": 4,
   "metadata": {
    "collapsed": false
   },
   "outputs": [
    {
     "name": "stdout",
     "output_type": "stream",
     "text": [
      "(58446, 11)\n"
     ]
    }
   ],
   "source": [
    "import MySQLdb\n",
    "import pandas as pd\n",
    "\n",
    "mysql_cn = MySQLdb.connect(host = \"localhost\",\n",
    "                     user = \"root\",\n",
    "                     passwd = \"\",\n",
    "                     db = \"news_yii2-07092016\")\n",
    "#                      db = \"news_yii2-backup\")\n",
    "df_mysql = pd.read_sql('select * from news;', con=mysql_cn,index_col='id')\n",
    "dfNewsLink_mysql = pd.read_sql('select * from newslink;', con=mysql_cn, index_col='id')\n",
    "mysql_cn.close()\n",
    "\n",
    "print df_mysql.shape"
   ]
  },
  {
   "cell_type": "code",
   "execution_count": 6,
   "metadata": {
    "collapsed": false
   },
   "outputs": [
    {
     "data": {
      "text/plain": [
       "array([[Timestamp('2016-04-28 15:06:03'), NaT, 5L,\n",
       "        'http://economy.okezone.com/read/2016/04/28/20/1375054/dana-repatriasi-tax-amnesty-tak-harus-ditempatkan-di-bank-besar',\n",
       "        'Dana Repatriasi Tax Amnesty Tak Harus Ditempatkan di Bank Besar',\n",
       "        'OJK menilai pemulangan dana warga negara RI  yang diparkir di luar negeri (dana repatriasi) tidak harus ditempatkan  di bank besar.',\n",
       "        '\\t\\t\\t\\t\\t\\t\\tJAKARTA - Otoritas Jasa Keuangan (OJK) menilai pemulangan dana warga negara RI yang diparkir di luar negeri (dana repatriasi) tidak harus ditempatkan di bank besar. Bank-bank kelas BUKU I dan II juga bisa dijadikan tempat menaruh dana repatriasi.Ketua Dewan Komisioner OJK Muliaman D Hadad berpendapat, terpenting adalah perbankan Indonesia menyiapkan instrumen produk keuangan. Dia bilang, dana repatriasi bisa dimasukkan ke dalam instrumen keuangan seperti investasi di pasar modal hingga produk keuangan di perbankan.&nbsp;[Baca juga: Jokowi Diminta Bujuk Pengusaha Kembalikan Hartanya ke Indonesia]\"Jadi intinya perlu dipersiapkan, kami OJK terus berkerja kalau ada dana repatriasi bentuknya seperti apa, apakah perlu ada peraturan yang perlu diperbaiki dan disesuaikan. Bagi kita adalah menciptakan produk-produk keuangan, nanti produk keuangan itu bisa dibeli oleh bank atau oleh investor,\" papar Muliaman di Gedung Bank Indonesia, Jakarta Pusat, Kamis (28/4/2016).Menurutnya selama ini produk-produk keuangan sudah tersedia di pasar keuangan seperti Reksa Dana Pendapatan Tetap (RDPT) hingga surat-surat berharga.  Bila dana tersebut masuk ke pasar perbankan, permodalan bank diyakini akan menjadi lebih kuat.\"Kita juga ada keinginan untuk menaikkan modal minimum dari bank. Ini juga nanti bisa masuk ke situ, bisa masuk ke project investasi, surat berharga, dan lain sebagainya,\" cetusnya.\\t\\t\\t\\t\\t\\t',\n",
       "        datetime.datetime(2016, 4, 28, 7, 42, 10), 0.1349, 4088.0, 0.0]], dtype=object)"
      ]
     },
     "execution_count": 6,
     "metadata": {},
     "output_type": "execute_result"
    }
   ],
   "source": [
    "df_mysql[df_mysql.index == 12000].values"
   ]
  },
  {
   "cell_type": "code",
   "execution_count": 55,
   "metadata": {
    "collapsed": false
   },
   "outputs": [
    {
     "data": {
      "image/png": "[encoded data removed]",
      "text/plain": [
       "<matplotlib.figure.Figure at 0x203c2518>"
      ]
     },
     "metadata": {},
     "output_type": "display_data"
    },
    {
     "data": {
      "text/plain": [
       "<matplotlib.figure.Figure at 0x2766eac8>"
      ]
     },
     "metadata": {},
     "output_type": "display_data"
    }
   ],
   "source": [
    "dataPie = df_mysql.groupby(['sumber'])['url'].count()\n",
    "describ = dfNewsLink_mysql['descr'].tolist()\n",
    "\n",
    "labels = describ\n",
    "sizes = dataPie\n",
    "explode = [0]*len(labels)  # only \"explode\" the 2nd slice (i.e. 'Hogs')\n",
    "\n",
    "#Sorot Liputan6 yang id=3, tapi karena dari 0, jadi 2\n",
    "explode[7]=.1\n",
    "\n",
    "plt.pie(sizes, explode=explode, labels=labels,\n",
    "         autopct='%1.1f%%', shadow=True, startangle=90)\n",
    "# Set aspect ratio to be equal so that pie is drawn as a circle.\n",
    "plt.axis('equal')\n",
    "\n",
    "fig = plt.figure()"
   ]
  },
  {
   "cell_type": "code",
   "execution_count": 56,
   "metadata": {
    "collapsed": false
   },
   "outputs": [
    {
     "name": "stdout",
     "output_type": "stream",
     "text": [
      "(8, 3)\n"
     ]
    },
    {
     "data": {
      "text/html": [
       "<div>\n",
       "<table border=\"1\" class=\"dataframe\">\n",
       "  <thead>\n",
       "    <tr style=\"text-align: right;\">\n",
       "      <th></th>\n",
       "      <th>descr</th>\n",
       "      <th>url</th>\n",
       "      <th>crawlClass</th>\n",
       "    </tr>\n",
       "    <tr>\n",
       "      <th>id</th>\n",
       "      <th></th>\n",
       "      <th></th>\n",
       "      <th></th>\n",
       "    </tr>\n",
       "  </thead>\n",
       "  <tbody>\n",
       "    <tr>\n",
       "      <th>3</th>\n",
       "      <td>Liputan6 - All</td>\n",
       "      <td>http://www.liputan6.com/feed/rss2</td>\n",
       "      <td>div=itemprop=description</td>\n",
       "    </tr>\n",
       "  </tbody>\n",
       "</table>\n",
       "</div>"
      ],
      "text/plain": [
       "             descr                                url  \\\n",
       "id                                                      \n",
       "3   Liputan6 - All  http://www.liputan6.com/feed/rss2   \n",
       "\n",
       "                  crawlClass  \n",
       "id                            \n",
       "3   div=itemprop=description  "
      ]
     },
     "execution_count": 56,
     "metadata": {},
     "output_type": "execute_result"
    }
   ],
   "source": [
    "print dfNewsLink_mysql.shape\n",
    "dfNewsLink_mysql[dfNewsLink_mysql.index == 3]"
   ]
  },
  {
   "cell_type": "code",
   "execution_count": 57,
   "metadata": {
    "collapsed": false
   },
   "outputs": [
    {
     "name": "stdout",
     "output_type": "stream",
     "text": [
      "Awal Crawl  :  ['2016-04-18']\n",
      "Akhir Crawl :  ['2016-06-10']\n"
     ]
    }
   ],
   "source": [
    "from collections import Counter\n",
    "newsByDate = df_mysql[~df_mysql.published.isnull()]\n",
    "counted_dates = Counter(newsByDate.published.apply(lambda x: x.strftime(\"%Y-%m-%d\")))\n",
    "counted_series = pd.Series(counted_dates)\n",
    "print 'Awal Crawl  : ',counted_series.head(1).index.values\n",
    "print 'Akhir Crawl : ',counted_series.tail(1).index.values"
   ]
  },
  {
   "cell_type": "code",
   "execution_count": 58,
   "metadata": {
    "collapsed": false
   },
   "outputs": [],
   "source": [
    "import datetime as dt\n",
    "\n",
    "def countByHour(x):\n",
    "    newsByDate = x[~x.published.isnull()]\n",
    "    counted_dates = Counter(newsByDate.created_at.apply(lambda x: x.strftime(\"%H\")))\n",
    "    counted_series = pd.Series(counted_dates)\n",
    "    return counted_series\n",
    "\n",
    "def countByDay(x):\n",
    "    newsByDate = x[~x.published.isnull()]\n",
    "    counted_dates = Counter(newsByDate.created_at.apply(lambda x: x.strftime(\"%Y-%m-%d\")))\n",
    "    counted_series = pd.Series(counted_dates)\n",
    "    counted_series.index = pd.to_datetime(counted_series.index)\n",
    "    return counted_series\n",
    "\n",
    "def countByWeek(x):\n",
    "    newsByDate = x[~x.published.isnull()]\n",
    "    counted_dates = Counter(newsByDate.created_at.apply(lambda x: x.weekday()))\n",
    "    counted_series = pd.Series(counted_dates)\n",
    "    return counted_series\n",
    "\n",
    "byHour = countByHour(df_mysql)\n",
    "byDate = countByDay(df_mysql)\n",
    "byWeek = countByWeek(df_mysql)"
   ]
  },
  {
   "cell_type": "code",
   "execution_count": 59,
   "metadata": {
    "collapsed": false
   },
   "outputs": [
    {
     "name": "stdout",
     "output_type": "stream",
     "text": [
      "Jam paling produktif  : \n",
      "['15' '12' '19'] \n",
      "[4051 4009 3809]\n",
      "Hari paling produktif : \n",
      "[2 1 0] \n",
      "[10903 10599  9038]\n"
     ]
    }
   ],
   "source": [
    "top3hour = byHour.sort_values(ascending=False).head(3)\n",
    "top3day  = byWeek.sort_values(ascending=False).head(3)\n",
    "print 'Jam paling produktif  : \\n',top3hour.index.values,'\\n',top3hour.values\n",
    "print 'Hari paling produktif : \\n',top3day.index.values,'\\n',top3day.values"
   ]
  },
  {
   "cell_type": "code",
   "execution_count": 60,
   "metadata": {
    "collapsed": false
   },
   "outputs": [
    {
     "data": {
      "image/png": "[encoded data removed]",
      "text/plain": [
       "<matplotlib.figure.Figure at 0x420e2320>"
      ]
     },
     "metadata": {},
     "output_type": "display_data"
    }
   ],
   "source": [
    "import matplotlib.pyplot as plt\n",
    "from matplotlib.dates import date2num\n",
    "import datetime\n",
    "\n",
    "fig, axes = plt.subplots(nrows=3,figsize=(21,7))\n",
    "axes[0].plot_date(date2num(byDate.index.to_pydatetime()),byDate.values,'-')\n",
    "axes[0].set_title('Jumlah Berita berdasarkan tanggal')\n",
    "axes[1].plot(byWeek.index,byWeek.values)\n",
    "axes[1].set_title('Jumlah Berita berdasarkan Hari(Minggu-Sabtu)')\n",
    "axes[2].plot(byHour.index,byHour.values)\n",
    "axes[2].set_title('Jumlah Berita berdasarkan Jam(00-24)')\n",
    "\n",
    "fig.subplots_adjust(hspace = 0.4)\n",
    "fig.show()"
   ]
  },
  {
   "cell_type": "markdown",
   "metadata": {},
   "source": [
    "### Insight\n",
    "\n",
    "1. Total Daily\n",
    "       Dari plot pertama, bisa dilihat bahwa jumlah berita yang muncul per harinya cenderung berpola naik dan turun secara teratur. Pola tersebut ada berdasarkan perbedaan hari.\n",
    "   \n",
    "2. Total Weekly\n",
    "       Unik karena ternyata jumlah berita yang muncul menurun pada hari kerja, dan mulai naik lagi dari hari minggu, mungkin karena hari jumat dan sabtu banyak kantor-kantor yang sudah tidak aktif secara penuh lagi, sehingga sumber-sumber berita berkurang\n",
    "   \n",
    "3. Total Hourly\n",
    "       jumlah berita mencapai puncaknya jam 12 siang, namun sudah tinggi sejak pagi. Mungkin terkait jam kerja reporter, jumlah berita langsung menurun sedari jam 12 dan jumlah berita yang paling sedikit ada di jam 19-21. Mungkin karena reporter yang mendapatkan berita pada malam hari dipublikasinya pagi esoknya, jumlah berita mulai naik pukul 22 hingga esok paginya. "
   ]
  },
  {
   "cell_type": "markdown",
   "metadata": {},
   "source": [
    "## 1. Crawling Indicator"
   ]
  },
  {
   "cell_type": "code",
   "execution_count": 61,
   "metadata": {
    "collapsed": false
   },
   "outputs": [
    {
     "data": {
      "text/html": [
       "<div>\n",
       "<table border=\"1\" class=\"dataframe\">\n",
       "  <thead>\n",
       "    <tr style=\"text-align: right;\">\n",
       "      <th></th>\n",
       "      <th>crawlMem</th>\n",
       "      <th>crawlTime</th>\n",
       "    </tr>\n",
       "  </thead>\n",
       "  <tbody>\n",
       "    <tr>\n",
       "      <th>count</th>\n",
       "      <td>42746.000000</td>\n",
       "      <td>42746.000000</td>\n",
       "    </tr>\n",
       "    <tr>\n",
       "      <th>mean</th>\n",
       "      <td>3362.689187</td>\n",
       "      <td>0.992690</td>\n",
       "    </tr>\n",
       "    <tr>\n",
       "      <th>std</th>\n",
       "      <td>587.077727</td>\n",
       "      <td>59.015039</td>\n",
       "    </tr>\n",
       "    <tr>\n",
       "      <th>min</th>\n",
       "      <td>2080.000000</td>\n",
       "      <td>0.000000</td>\n",
       "    </tr>\n",
       "    <tr>\n",
       "      <th>25%</th>\n",
       "      <td>2808.000000</td>\n",
       "      <td>0.210900</td>\n",
       "    </tr>\n",
       "    <tr>\n",
       "      <th>50%</th>\n",
       "      <td>3408.000000</td>\n",
       "      <td>0.467200</td>\n",
       "    </tr>\n",
       "    <tr>\n",
       "      <th>75%</th>\n",
       "      <td>3520.000000</td>\n",
       "      <td>0.625200</td>\n",
       "    </tr>\n",
       "    <tr>\n",
       "      <th>max</th>\n",
       "      <td>7000.000000</td>\n",
       "      <td>12196.766600</td>\n",
       "    </tr>\n",
       "  </tbody>\n",
       "</table>\n",
       "</div>"
      ],
      "text/plain": [
       "           crawlMem     crawlTime\n",
       "count  42746.000000  42746.000000\n",
       "mean    3362.689187      0.992690\n",
       "std      587.077727     59.015039\n",
       "min     2080.000000      0.000000\n",
       "25%     2808.000000      0.210900\n",
       "50%     3408.000000      0.467200\n",
       "75%     3520.000000      0.625200\n",
       "max     7000.000000  12196.766600"
      ]
     },
     "execution_count": 61,
     "metadata": {},
     "output_type": "execute_result"
    }
   ],
   "source": [
    "DATA_ANALSISIS_crawl = df_mysql[df_mysql.crawlMem.notnull()] #Yang sudah di crawl\n",
    "crawlIndicator = pd.DataFrame([DATA_ANALSISIS_crawl.crawlMem,DATA_ANALSISIS_crawl.crawlTime]).transpose()\n",
    "pickle.dump(DATA_ANALSISIS_crawl, open( \"v1.4\\DATA_ANALSISIS_crawl-v2.p\", \"wb\" ) )\n",
    "crawlIndicator.describe()"
   ]
  },
  {
   "cell_type": "markdown",
   "metadata": {},
   "source": [
    "### Clear unrelated link"
   ]
  },
  {
   "cell_type": "code",
   "execution_count": 62,
   "metadata": {
    "collapsed": false
   },
   "outputs": [
    {
     "name": "stdout",
     "output_type": "stream",
     "text": [
      "(24, 4)\n"
     ]
    }
   ],
   "source": [
    "mysql_cn = MySQLdb.connect(host = \"localhost\",\n",
    "                     user = \"root\",\n",
    "                     passwd = \"\",\n",
    "                     db = \"news_yii2-19082016\")\n",
    "df_mysqlFilter = pd.read_sql('select * from news_filter;', con=mysql_cn)\n",
    "mysql_cn.close()\n",
    "\n",
    "print df_mysqlFilter.shape"
   ]
  },
  {
   "cell_type": "code",
   "execution_count": 63,
   "metadata": {
    "collapsed": false
   },
   "outputs": [
    {
     "data": {
      "text/html": [
       "<div>\n",
       "<table border=\"1\" class=\"dataframe\">\n",
       "  <thead>\n",
       "    <tr style=\"text-align: right;\">\n",
       "      <th></th>\n",
       "      <th>id</th>\n",
       "      <th>newslink_id</th>\n",
       "      <th>filter</th>\n",
       "      <th>klasifikasi</th>\n",
       "    </tr>\n",
       "  </thead>\n",
       "  <tbody>\n",
       "    <tr>\n",
       "      <th>0</th>\n",
       "      <td>44</td>\n",
       "      <td>3</td>\n",
       "      <td>http://showbiz.liputan6</td>\n",
       "      <td>1</td>\n",
       "    </tr>\n",
       "    <tr>\n",
       "      <th>1</th>\n",
       "      <td>45</td>\n",
       "      <td>3</td>\n",
       "      <td>http://regional.liputan6.com</td>\n",
       "      <td>1</td>\n",
       "    </tr>\n",
       "    <tr>\n",
       "      <th>2</th>\n",
       "      <td>46</td>\n",
       "      <td>3</td>\n",
       "      <td>http://bola.liputan6.com</td>\n",
       "      <td>1</td>\n",
       "    </tr>\n",
       "    <tr>\n",
       "      <th>3</th>\n",
       "      <td>47</td>\n",
       "      <td>3</td>\n",
       "      <td>http://video.liputan6.com</td>\n",
       "      <td>1</td>\n",
       "    </tr>\n",
       "    <tr>\n",
       "      <th>4</th>\n",
       "      <td>48</td>\n",
       "      <td>3</td>\n",
       "      <td>http://photo.liputan6.com</td>\n",
       "      <td>1</td>\n",
       "    </tr>\n",
       "  </tbody>\n",
       "</table>\n",
       "</div>"
      ],
      "text/plain": [
       "   id  newslink_id                        filter  klasifikasi\n",
       "0  44            3       http://showbiz.liputan6            1\n",
       "1  45            3  http://regional.liputan6.com            1\n",
       "2  46            3      http://bola.liputan6.com            1\n",
       "3  47            3     http://video.liputan6.com            1\n",
       "4  48            3     http://photo.liputan6.com            1"
      ]
     },
     "execution_count": 63,
     "metadata": {},
     "output_type": "execute_result"
    }
   ],
   "source": [
    "df_mysqlFilter.head()"
   ]
  },
  {
   "cell_type": "code",
   "execution_count": 66,
   "metadata": {
    "collapsed": false
   },
   "outputs": [
    {
     "data": {
      "text/html": [
       "<div>\n",
       "<table border=\"1\" class=\"dataframe\">\n",
       "  <thead>\n",
       "    <tr style=\"text-align: right;\">\n",
       "      <th></th>\n",
       "      <th>sumber</th>\n",
       "      <th>crawlTime</th>\n",
       "      <th>crawlMem</th>\n",
       "      <th>flag</th>\n",
       "    </tr>\n",
       "  </thead>\n",
       "  <tbody>\n",
       "    <tr>\n",
       "      <th>count</th>\n",
       "      <td>23227.000000</td>\n",
       "      <td>23227.000000</td>\n",
       "      <td>23227.000000</td>\n",
       "      <td>23219.000000</td>\n",
       "    </tr>\n",
       "    <tr>\n",
       "      <th>mean</th>\n",
       "      <td>3.637964</td>\n",
       "      <td>0.665803</td>\n",
       "      <td>3477.895553</td>\n",
       "      <td>-0.039537</td>\n",
       "    </tr>\n",
       "    <tr>\n",
       "      <th>std</th>\n",
       "      <td>1.496352</td>\n",
       "      <td>2.002989</td>\n",
       "      <td>639.275300</td>\n",
       "      <td>0.302152</td>\n",
       "    </tr>\n",
       "    <tr>\n",
       "      <th>min</th>\n",
       "      <td>1.000000</td>\n",
       "      <td>0.000000</td>\n",
       "      <td>2080.000000</td>\n",
       "      <td>-2.000000</td>\n",
       "    </tr>\n",
       "    <tr>\n",
       "      <th>25%</th>\n",
       "      <td>3.000000</td>\n",
       "      <td>0.143000</td>\n",
       "      <td>2936.000000</td>\n",
       "      <td>0.000000</td>\n",
       "    </tr>\n",
       "    <tr>\n",
       "      <th>50%</th>\n",
       "      <td>3.000000</td>\n",
       "      <td>0.358600</td>\n",
       "      <td>3408.000000</td>\n",
       "      <td>0.000000</td>\n",
       "    </tr>\n",
       "    <tr>\n",
       "      <th>75%</th>\n",
       "      <td>5.000000</td>\n",
       "      <td>0.586900</td>\n",
       "      <td>3960.000000</td>\n",
       "      <td>0.000000</td>\n",
       "    </tr>\n",
       "    <tr>\n",
       "      <th>max</th>\n",
       "      <td>8.000000</td>\n",
       "      <td>120.553800</td>\n",
       "      <td>7000.000000</td>\n",
       "      <td>1.000000</td>\n",
       "    </tr>\n",
       "  </tbody>\n",
       "</table>\n",
       "</div>"
      ],
      "text/plain": [
       "             sumber     crawlTime      crawlMem          flag\n",
       "count  23227.000000  23227.000000  23227.000000  23219.000000\n",
       "mean       3.637964      0.665803   3477.895553     -0.039537\n",
       "std        1.496352      2.002989    639.275300      0.302152\n",
       "min        1.000000      0.000000   2080.000000     -2.000000\n",
       "25%        3.000000      0.143000   2936.000000      0.000000\n",
       "50%        3.000000      0.358600   3408.000000      0.000000\n",
       "75%        5.000000      0.586900   3960.000000      0.000000\n",
       "max        8.000000    120.553800   7000.000000      1.000000"
      ]
     },
     "execution_count": 66,
     "metadata": {},
     "output_type": "execute_result"
    }
   ],
   "source": [
    "#Exclude newses that are not economy/finance topic\n",
    "df_mysqlClear = pd.DataFrame(DATA_ANALSISIS_crawl)\n",
    "for fltr in df_mysqlFilter['filter'] :\n",
    "    df_mysqlClear = df_mysqlClear.drop(df_mysqlClear[df_mysqlClear.url.str.startswith(fltr)].index)\n",
    "\n",
    "DATA_ANALSISIS_crawl = df_mysqlClear\n",
    "#pickle.dump(DATA_ANALSISIS_crawl, open( \"v1.4\\DATA_ANALSISIS_crawl-v3.p\", \"wb\" ) )\n",
    "DATA_ANALSISIS_crawl.describe()"
   ]
  },
  {
   "cell_type": "code",
   "execution_count": 67,
   "metadata": {
    "collapsed": false
   },
   "outputs": [
    {
     "data": {
      "text/plain": [
       "created_at     941\n",
       "updated_at     780\n",
       "sumber        1252\n",
       "url           1252\n",
       "judul         1252\n",
       "shortDesc     1252\n",
       "longDesc      1252\n",
       "published      930\n",
       "crawlTime     1252\n",
       "crawlMem      1252\n",
       "flag          1252\n",
       "dtype: int64"
      ]
     },
     "execution_count": 67,
     "metadata": {},
     "output_type": "execute_result"
    }
   ],
   "source": [
    "DATA_ANALSISIS_crawl[DATA_ANALSISIS_crawl.flag.isin([-1,1])].count()"
   ]
  },
  {
   "cell_type": "code",
   "execution_count": 57,
   "metadata": {
    "collapsed": false
   },
   "outputs": [],
   "source": [
    "# DA4 = DATA_ANALSISIS_crawl\n",
    "# mysql_cn = MySQLdb.connect(host = \"localhost\",\n",
    "#                      user = \"root\",\n",
    "#                      passwd = \"\",\n",
    "#                      db = \"news_yii2-19082016\")\n",
    "# cursor = mysql_cn.cursor()\n",
    "# for i in DA4.index.values:\n",
    "#     if (DA4[DA4.index==i].flag.values[0] == 1):\n",
    "#         query = str.format(\"UPDATE `news_yii2-19082016`.`news` SET `flag` = '1' WHERE `news`.`id` = %d\"%(i))\n",
    "#         cursor.execute(query)\n",
    "#     elif (DA4[DA4.index==i].flag.values[0] == -1):\n",
    "#         query = str.format(\"UPDATE `news_yii2-19082016`.`news` SET `flag` = '-3' WHERE `news`.`id` = %d\"%(i))\n",
    "#         cursor.execute(query)\n",
    "        \n",
    "# # for i in op.index.values:\n",
    "# #     query = str.format(\"UPDATE `news_yii2-19082016`.`news` SET `flag` = '2' WHERE `news`.`id` = %d\"%(i))\n",
    "# #     cursor.execute(query)\n",
    "\n",
    "# # cursor.execute(\"UPDATE `news_yii2-19082016`.`news` SET `flag` = '0' WHERE `news`.`flag` = 1;\")\n",
    "# cursor.execute(\"UPDATE `news_yii2-19082016`.`news` SET `flag` = '-2' WHERE `news`.`flag` = -1;\")\n",
    "# # cursor.execute(\"UPDATE `news_yii2-19082016`.`news` SET `flag` = '1' WHERE `news`.`flag` = 3;\")\n",
    "# cursor.execute(\"UPDATE `news_yii2-19082016`.`news` SET `flag` = '-1' WHERE `news`.`flag` = -3;\")\n",
    "\n",
    "# mysql_cn.commit()\n",
    "# mysql_cn.close()"
   ]
  },
  {
   "cell_type": "code",
   "execution_count": 19,
   "metadata": {
    "collapsed": false
   },
   "outputs": [
    {
     "name": "stdout",
     "output_type": "stream",
     "text": [
      "Number of Data that is related to business: 1344\n"
     ]
    }
   ],
   "source": [
    "#Take only labeled data, labeled means value of 'flag' attribute that either -1 or 1\n",
    "# DATA_ANALISIS3 = df_mysqlClear[df_mysqlClear.crawlMem.notnull()][df_mysqlClear.flag.isin([-1,1])]\n",
    "DATA_ANALISIS3= df_mysql[df_mysql.crawlMem.notnull()][df_mysql.flag.isin([-1,1])]\n",
    "\n",
    "DATA_JUDUL = DATA_ANALISIS3.judul\n",
    "DATA_SHORT = DATA_ANALISIS3.shortDesc\n",
    "DATA_LONG  = DATA_ANALISIS3.longDesc\n",
    "DATA_TARGET = DATA_ANALISIS3.flag\n",
    "\n",
    "# print 'Number of Data that is related to business:',len(DATA_ANALISIS3)\n",
    "print 'Number of Data that is related to business:',len(DATA_ANALISIS3)"
   ]
  },
  {
   "cell_type": "code",
   "execution_count": 5,
   "metadata": {
    "collapsed": true
   },
   "outputs": [],
   "source": [
    "#Removing the HTML tags, similar with php's strip_tag + Removing punctuation\n",
    "from HTMLParser import HTMLParser\n",
    "import string\n",
    "\n",
    "class MLStripper(HTMLParser):\n",
    "    def __init__(self):\n",
    "        self.reset()\n",
    "        self.fed = []\n",
    "    def handle_data(self, d):\n",
    "        self.fed.append(d)\n",
    "    def get_data(self):\n",
    "        return ' '.join(self.fed)\n",
    "\n",
    "def strip_tags(html):\n",
    "    s = MLStripper()\n",
    "    s.feed(html)\n",
    "    striped  = s.get_data()                         #get HTML-Tags free text\n",
    "    lowers   = striped.lower()                      #Lowercase all words\n",
    "    nospace  = lowers.strip()                      #Remove leading and trailing white space\n",
    "    alphanum = re.sub(r'[^a-zA-Z]', ' ', nospace)\n",
    "    return str(alphanum)\n",
    "\n",
    "#alphanum = re.sub(r'[^a-zA-Z]', ' ', lowers) #Delete all but alphanumerical\n",
    "#alphanum = re.sub(r'[^a-zA-Z0-9]', ' ', lowers) #Delete all but alphanumerical and number"
   ]
  },
  {
   "cell_type": "code",
   "execution_count": 6,
   "metadata": {
    "collapsed": false
   },
   "outputs": [],
   "source": [
    "DATA_JUDUL = df_mysql[~df_mysql.crawlMem.isnull()].judul\n",
    "DATA_SHORT = df_mysql[~df_mysql.crawlMem.isnull()].shortDesc\n",
    "DATA_LONG  = df_mysql[~df_mysql.crawlMem.isnull()].longDesc\n",
    "DATA_JUDULStriped = DATA_JUDUL.map(lambda x: strip_tags(x))\n",
    "DATA_SHORTStriped = DATA_SHORT.map(lambda x: strip_tags(x))\n",
    "DATA_LONGStriped = DATA_LONG.map(lambda x: strip_tags(x))"
   ]
  },
  {
   "cell_type": "code",
   "execution_count": 27,
   "metadata": {
    "collapsed": false
   },
   "outputs": [
    {
     "data": {
      "text/plain": [
       "'     adalah tahun yang amarr  '"
      ]
     },
     "execution_count": 27,
     "metadata": {},
     "output_type": "execute_result"
    }
   ],
   "source": [
    "strip_tags('2016 adalah tahun yang AmARR!!')"
   ]
  },
  {
   "cell_type": "markdown",
   "metadata": {},
   "source": [
    "## Keyword Filtering"
   ]
  },
  {
   "cell_type": "code",
   "execution_count": 10,
   "metadata": {
    "collapsed": false
   },
   "outputs": [
    {
     "name": "stdout",
     "output_type": "stream",
     "text": [
      "(118, 3)\n"
     ]
    }
   ],
   "source": [
    "mysql_cn = MySQLdb.connect(host = \"localhost\",\n",
    "                     user = \"root\",\n",
    "                     passwd = \"\",\n",
    "                     db = \"news_yii2-19082016\")\n",
    "df_mysqlFilter = pd.read_sql('select * from klasifikasi_keyword;', con=mysql_cn)\n",
    "mysql_cn.close()\n",
    "\n",
    "print df_mysqlFilter.shape"
   ]
  },
  {
   "cell_type": "code",
   "execution_count": 62,
   "metadata": {
    "collapsed": true
   },
   "outputs": [],
   "source": [
    "# keyword_dua = ['pekerja','buruh','karyawan','pegawai','upah',\n",
    "#                'gaji','phk','pecat','memecat','pemecatan','pekerjakan',\n",
    "#                'rekrut','bidang','laba','rugi','untung','keuntungan',\n",
    "#                'pendapatan','rugi','merugi','kerugian','dividen','aset',\n",
    "#                'obligasi','belanja modal','utang','hutang','berhutang',\n",
    "#                'berutang','bangkrut','tutup','gulung tikar','akuisisi',\n",
    "#                'ambil alih','ambilalih','merger','gabung','join',\n",
    "#                'takeover','take-over','aktivasi','aktif kembali',\n",
    "#                'pecah','memecah','terpecah','bagi','membagi','terbagi']"
   ]
  },
  {
   "cell_type": "code",
   "execution_count": 108,
   "metadata": {
    "collapsed": false
   },
   "outputs": [
    {
     "data": {
      "text/plain": [
       "array(['jardine mathesson', 'astra', 'salim', 'first pacific',\n",
       "       'gallant venture', 'sinar mas', 'sinarmas', 'djarum',\n",
       "       'philip morris', 'altria', 'lippo', 'gudang garam',\n",
       "       'royal golden eagle', 'bakrie', 'adaro', 'alfamart', 'tiphone',\n",
       "       'unilever', 'temasek', 'wings', 'triputra', 'barito pacific',\n",
       "       'khazanah', 'cimb', 'standard chartered', 'charoen pokphand', 'akr',\n",
       "       'qatar investment', 'indosat', 'gajah tunggal', 'japfaa',\n",
       "       'heidelberg', 'kalbe', 'panasonic', 'tambangraya', 'banpu', 'panin',\n",
       "       'indorama', 'argo manunggal', 'mayora', 'abc', 'ganda group',\n",
       "       'wilmar', 'indika energy', 'bentoel', 'bosowa', 'tnt', 'vale',\n",
       "       'mnc', 'tunas', 'lion air', 'asrari', 'persada', 'hsbc',\n",
       "       'trikomsel', 'holcim', 'fks ', 'danone', 'gunung sewu', 'sintesa',\n",
       "       'darmex', 'ciputra', 'berca', 'kompas', 'gramedia', 'harita',\n",
       "       'bayan', 'sungai budi', 'sugar group', 'abm investama', 'trakindo',\n",
       "       'medco', 'musim mas', 'ocbc', 'tempo', 'bogamulia', 'harum energy',\n",
       "       'ramayana', 'tembaga mulia', 'semanan', 'rekso', 'mayapada',\n",
       "       'mulia group', 'metrodata', 'lotte', 'sritex', 'first resources',\n",
       "       'modern group', 'hadji kalla', 'bukopin', 'tudung', 'rodamas',\n",
       "       'emtek', 'santini', 'toba bara', 'lautan luas',\n",
       "       'fajar surya wisesa', 'agung podomoro', 'summarecon',\n",
       "       'sriwijaya air', 'supreme cable', 'samudera indonesia', 'maspion',\n",
       "       'ace hardware', 'pan brothers', 'fast food', 'oso', 'hexindo',\n",
       "       'hitachi', 'rajawali', 'artha graha', 'sumi indo', 'total bangun',\n",
       "       'sumarecon', 'toba sejahtera', 'totl', 'akra', 'mncn'], dtype=object)"
      ]
     },
     "execution_count": 108,
     "metadata": {},
     "output_type": "execute_result"
    }
   ],
   "source": [
    "df_mysqlFilter['word'].values"
   ]
  },
  {
   "cell_type": "code",
   "execution_count": 45,
   "metadata": {
    "collapsed": false
   },
   "outputs": [],
   "source": [
    "# keyword_studiKasus = ['asrari', 'persada', 'hsbc',\n",
    "#        'trikomsel', 'holcim', 'fks ', 'danone', 'gunung sewu', 'sintesa',\n",
    "#        'darmex', 'ciputra', 'berca', 'kompas', 'gramedia', 'harita',\n",
    "#        'bayan', 'sungai budi', 'sugar group', 'abm investama', 'trakindo',\n",
    "#        'medco', 'musim mas', 'ocbc', 'tempo', 'bogamulia', 'harum energy',\n",
    "#        'ramayana', 'tembaga mulia', 'semanan', 'rekso', 'mayapada',\n",
    "#        'mulia group', 'metrodata', 'lotte', 'sritex', 'first resources',\n",
    "#        'modern group', 'hadji kalla', 'bukopin', 'tudung', 'rodamas',\n",
    "#        'emtek', 'santini', 'toba bara', 'lautan luas',\n",
    "#        'fajar surya wisesa', 'agung podomoro', 'summarecon',\n",
    "#        'sriwijaya air', 'supreme cable', 'samudera indonesia', 'maspion',\n",
    "#        'ace hardware', 'pan brothers', 'fast food', 'oso', 'hexindo',\n",
    "#        'hitachi', 'rajawali', 'artha graha', 'sumi indo', 'total bangun',\n",
    "#        'sumarecon', 'toba sejahtera', 'totl', 'akra', 'mncn']\n",
    "\n",
    "keyword_studiKasus = [\n",
    "       'jardine mathesson', 'astra', 'salim', 'first pacific',\n",
    "       'gallant venture', 'sinar mas', 'sinarmas', 'djarum',\n",
    "#        'philip morris', 'altria', 'lippo', 'gudang garam',\n",
    "#        'royal golden eagle', 'bakrie', 'adaro', 'alfamart', 'tiphone',\n",
    "#        'unilever', 'temasek', 'wings', 'triputra', 'barito pacific',\n",
    "#        'khazanah', 'cimb', 'standard chartered', 'charoen pokphand', 'akr',\n",
    "#         'qatar investment', 'indosat', 'gajah tunggal', 'japfaa',\n",
    "#        'heidelberg', 'kalbe', 'panasonic', 'tambangraya', 'banpu', 'panin',\n",
    "#        'indorama', 'argo manunggal', 'mayora', 'abc', 'ganda group'\n",
    "]"
   ]
  },
  {
   "cell_type": "code",
   "execution_count": 46,
   "metadata": {
    "collapsed": true
   },
   "outputs": [],
   "source": [
    "def keywordFinder(data,keyword):\n",
    "    data.map(lambda x: re.sub(r'[^a-zA-Z]', ' ', x))\n",
    "    fltr1 = ' '+keyword\n",
    "    fltr2 = keyword+' '\n",
    "    df_dummy1 = data[data.str.contains(fltr1)]\n",
    "    df_dummy2 = data[data.str.contains(fltr2)]\n",
    "    df_dummy = pd.concat([df_dummy1,df_dummy2]).drop_duplicates()\n",
    "    return df_dummy.drop_duplicates().index.values"
   ]
  },
  {
   "cell_type": "code",
   "execution_count": 47,
   "metadata": {
    "collapsed": false
   },
   "outputs": [
    {
     "name": "stdout",
     "output_type": "stream",
     "text": [
      "(81, 11)\n",
      "(45, 11)\n",
      "(36, 11)\n"
     ]
    }
   ],
   "source": [
    "DA3 = DATA_ANALISIS3\n",
    "DTEST = pd.DataFrame(columns=DA3.columns)\n",
    "for fltr in keyword_studiKasus:\n",
    "    judulKey = keywordFinder(DATA_JUDULStriped,fltr)\n",
    "    shortKey = keywordFinder(DATA_SHORTStriped,fltr)\n",
    "    longKey  = keywordFinder(DATA_LONGStriped,fltr)\n",
    "    \n",
    "    jk = DA3[DA3.index.isin(judulKey)]\n",
    "    sk = DA3[DA3.index.isin(shortKey)]\n",
    "    lk = DA3[DA3.index.isin(longKey)]\n",
    "\n",
    "    DTEST = pd.concat([DTEST,jk,sk,lk]).drop_duplicates()\n",
    "#     DTEST = pd.concat([DTEST,jk,sk]).drop_duplicates()\n",
    "\n",
    "print DTEST.shape\n",
    "print DTEST[DTEST.flag.isin([1])].shape\n",
    "print DTEST[DTEST.flag.isin([-1])].shape"
   ]
  },
  {
   "cell_type": "code",
   "execution_count": 48,
   "metadata": {
    "collapsed": false
   },
   "outputs": [
    {
     "name": "stdout",
     "output_type": "stream",
     "text": [
      "Jumlah Train =  1263\n",
      "Jumlah Test  =  81\n",
      "Jumlah Total =  1344\n"
     ]
    }
   ],
   "source": [
    "DTRAIN = pd.DataFrame(columns=DA3.columns)\n",
    "DTRAIN = DA3[~DA3.index.isin(DTEST.index)]\n",
    "print 'Jumlah Train = ',DTRAIN.shape[0]\n",
    "print 'Jumlah Test  = ',DTEST.shape[0]\n",
    "print 'Jumlah Total = ',DTRAIN.shape[0]+DTEST.shape[0]"
   ]
  },
  {
   "cell_type": "code",
   "execution_count": 49,
   "metadata": {
    "collapsed": true
   },
   "outputs": [],
   "source": [
    "pickle.dump(DTEST,open( \"v1.4\\DTEST-v1.p\", \"wb\" ))\n",
    "pickle.dump(DTRAIN,open( \"v1.4\\DTRAIN-v1.p\", \"wb\" ))"
   ]
  },
  {
   "cell_type": "code",
   "execution_count": 119,
   "metadata": {
    "collapsed": false
   },
   "outputs": [],
   "source": [
    "# DA4 = pd.DataFrame(columns=DA3.columns)\n",
    "# for fltr in masukTest['word']:\n",
    "#     judulKey = keywordFinder(DATA_JUDULStriped,fltr)\n",
    "#     shortKey = keywordFinder(DATA_SHORTStriped,fltr)\n",
    "#     #longKey  = keywordFinder(DATA_LONGStriped,fltr)\n",
    "    \n",
    "#     jk = DA3[DA3.index.isin(judulKey)]\n",
    "#     sk = DA3[DA3.index.isin(shortKey)]\n",
    "#     #lk = DA3[DA3.index.isin(longKey)]\n",
    "\n",
    "#     #DA4 = pd.concat([DA4,jk,sk,lk]).drop_duplicates()\n",
    "#     DA4 = pd.concat([DA4,jk,sk]).drop_duplicates()\n",
    "\n",
    "# DA4.shape"
   ]
  },
  {
   "cell_type": "code",
   "execution_count": 49,
   "metadata": {
    "collapsed": true
   },
   "outputs": [],
   "source": [
    "DATA_JUDULStripedb = DA4.judul.map(lambda x: strip_tags(x))\n",
    "DATA_SHORTStripedb = DA4.shortDesc.map(lambda x: strip_tags(x))\n",
    "DATA_LONGStripedb = DA4.longDesc.map(lambda x: strip_tags(x))"
   ]
  },
  {
   "cell_type": "code",
   "execution_count": 51,
   "metadata": {
    "collapsed": false
   },
   "outputs": [
    {
     "data": {
      "text/plain": [
       "(148, 11)"
      ]
     },
     "execution_count": 51,
     "metadata": {},
     "output_type": "execute_result"
    }
   ],
   "source": [
    "DA6 = pd.DataFrame(columns=DA3.columns)\n",
    "for fltr in df_mysqlFilter['word'] :\n",
    "    judulKey = keywordFinder(DATA_JUDULStripedb,fltr)\n",
    "    shortKey = keywordFinder(DATA_SHORTStripedb,fltr)\n",
    "    #longKey  = keywordFinder(DATA_LONGStriped,fltr)\n",
    "    \n",
    "    jk = DA4[DA4.index.isin(judulKey)]\n",
    "    sk = DA4[DA4.index.isin(shortKey)]\n",
    "    #lk = DA3[DA3.index.isin(longKey)]\n",
    "\n",
    "    #DA4 = pd.concat([DA6,jk,sk,lk]).drop_duplicates()\n",
    "    DA6 = pd.concat([DA6,jk,sk]).drop_duplicates()\n",
    "\n",
    "DA6.shape"
   ]
  },
  {
   "cell_type": "code",
   "execution_count": 65,
   "metadata": {
    "collapsed": false
   },
   "outputs": [
    {
     "data": {
      "text/plain": [
       "created_at    92\n",
       "updated_at    13\n",
       "sumber        97\n",
       "url           97\n",
       "judul         97\n",
       "shortDesc     97\n",
       "longDesc      97\n",
       "published     92\n",
       "crawlTime     97\n",
       "crawlMem      97\n",
       "flag          97\n",
       "dtype: int64"
      ]
     },
     "execution_count": 65,
     "metadata": {},
     "output_type": "execute_result"
    }
   ],
   "source": [
    "DA3 = DATA_ANALISIS3a.drop_duplicates()\n",
    "dummy = DA6\n",
    "# print DA3.count()\n",
    "dummy[dummy.flag.isin([1])].count()"
   ]
  },
  {
   "cell_type": "code",
   "execution_count": 55,
   "metadata": {
    "collapsed": false
   },
   "outputs": [],
   "source": [
    "DATA_JUDUL_skb  = DA6.judul\n",
    "DATA_SHORT_skb  = DA6.shortDesc\n",
    "DATA_LONG_skb   = DA6.longDesc\n",
    "DATA_FEED1_skb   = DATA_JUDUL_skb+' '+DATA_SHORT_skb\n",
    "DATA_FEED2_skb   = DATA_JUDUL_skb+' '+DATA_LONG_skb+' '+DATA_SHORT_skb\n",
    "DATA_TARGET_skb = DA6.flag\n",
    "\n",
    "DATA_JUDULStriped_skb = DATA_JUDUL_skb.map(lambda x: strip_tags(x))\n",
    "DATA_SHORTStriped_skb = DATA_SHORT_skb.map(lambda x: strip_tags(x))\n",
    "DATA_LONGStriped_skb  = DATA_LONG_skb.map(lambda x: strip_tags(x))\n",
    "DATA_FEED1Striped_skb  = DATA_JUDULStriped_skb+' '+DATA_SHORTStriped_skb\n",
    "DATA_FEED2Striped_skb  = DATA_JUDULStriped_skb+' '+DATA_LONGStriped_skb+' '+DATA_SHORTStriped_skb"
   ]
  },
  {
   "cell_type": "code",
   "execution_count": 149,
   "metadata": {
    "collapsed": false
   },
   "outputs": [],
   "source": [
    "# mysql_cn = MySQLdb.connect(host = \"localhost\",\n",
    "#                      user = \"root\",\n",
    "#                      passwd = \"\",\n",
    "#                      db = \"news_yii2-19082016\")\n",
    "# cursor = mysql_cn.cursor()\n",
    "# for i in DA4.index.values:\n",
    "#     if (DA4[DA4.index==i].flag.values[0] == 1):\n",
    "#         query = str.format(\"UPDATE `news_yii2-19082016`.`news` SET `flag` = '3' WHERE `news`.`id` = %d\"%(i))\n",
    "#         cursor.execute(query)\n",
    "#     else:\n",
    "#         query = str.format(\"UPDATE `news_yii2-19082016`.`news` SET `flag` = '-3' WHERE `news`.`id` = %d\"%(i))\n",
    "#         cursor.execute(query)\n",
    "        \n",
    "# # for i in op.index.values:\n",
    "# #     query = str.format(\"UPDATE `news_yii2-19082016`.`news` SET `flag` = '2' WHERE `news`.`id` = %d\"%(i))\n",
    "# #     cursor.execute(query)\n",
    "\n",
    "# cursor.execute(\"UPDATE `news_yii2-19082016`.`news` SET `flag` = '0' WHERE `news`.`flag` = 1;\")\n",
    "# cursor.execute(\"UPDATE `news_yii2-19082016`.`news` SET `flag` = '0' WHERE `news`.`flag` = -1;\")\n",
    "# cursor.execute(\"UPDATE `news_yii2-19082016`.`news` SET `flag` = '1' WHERE `news`.`flag` = 3;\")\n",
    "# cursor.execute(\"UPDATE `news_yii2-19082016`.`news` SET `flag` = '-1' WHERE `news`.`flag` = -3;\")\n",
    "\n",
    "# mysql_cn.commit()\n",
    "# mysql_cn.close()"
   ]
  },
  {
   "cell_type": "code",
   "execution_count": 28,
   "metadata": {
    "collapsed": false
   },
   "outputs": [],
   "source": [
    "# DATA_JUDUL_sk  = DA4.judul\n",
    "# DATA_SHORT_sk  = DA4.shortDesc\n",
    "# DATA_LONG_sk   = DA4.longDesc\n",
    "# DATA_FEED1_sk   = DATA_JUDUL_sk+' '+DATA_SHORT_sk\n",
    "# DATA_FEED2_sk   = DATA_JUDUL_sk+' '+DATA_LONG_sk+' '+DATA_SHORT_sk\n",
    "# DATA_TARGET_sk = DA4.flag\n",
    "\n",
    "# DATA_JUDULStriped_sk = DATA_JUDUL_sk.map(lambda x: strip_tags(x))\n",
    "# DATA_SHORTStriped_sk = DATA_SHORT_sk.map(lambda x: strip_tags(x))\n",
    "# DATA_LONGStriped_sk  = DATA_LONG_sk.map(lambda x: strip_tags(x))\n",
    "# DATA_FEED1Striped_sk  = DATA_JUDULStriped_sk+' '+DATA_SHORTStriped_sk\n",
    "# DATA_FEED2Striped_sk  = DATA_JUDULStriped_sk+' '+DATA_LONGStriped_sk+' '+DATA_SHORTStriped_sk\n",
    "DA3 = DATA_ANALISIS3a\n",
    "DATA_JUDUL  = DA3.judul\n",
    "DATA_SHORT  = DA3.shortDesc\n",
    "DATA_LONG   = DA3.longDesc\n",
    "DATA_FEED1   = DATA_JUDUL+' '+DATA_SHORT\n",
    "DATA_FEED2   = DATA_JUDUL+' '+DATA_LONG+' '+DATA_SHORT\n",
    "DATA_TARGET = DA3.flag\n",
    "\n",
    "DATA_JUDULStriped = DATA_JUDUL.map(lambda x: strip_tags(x))\n",
    "DATA_SHORTStriped = DATA_SHORT.map(lambda x: strip_tags(x))\n",
    "DATA_LONGStriped  = DATA_LONG.map(lambda x: strip_tags(x))\n",
    "DATA_FEED1Striped  = DATA_JUDULStriped+' '+DATA_SHORTStriped\n",
    "DATA_FEED2Striped  = DATA_JUDULStriped+' '+DATA_LONGStriped+' '+DATA_SHORTStriped"
   ]
  },
  {
   "cell_type": "markdown",
   "metadata": {},
   "source": [
    "## BOXPLOT Crawl"
   ]
  },
  {
   "cell_type": "code",
   "execution_count": 14,
   "metadata": {
    "collapsed": false
   },
   "outputs": [
    {
     "data": {
      "text/plain": [
       "created_at    42362\n",
       "updated_at      891\n",
       "sumber        42746\n",
       "url           42746\n",
       "judul         42746\n",
       "shortDesc     42746\n",
       "longDesc      42746\n",
       "published     42325\n",
       "crawlTime     42746\n",
       "crawlMem      42746\n",
       "flag          42738\n",
       "dtype: int64"
      ]
     },
     "execution_count": 14,
     "metadata": {},
     "output_type": "execute_result"
    }
   ],
   "source": [
    "DA5 = df_mysql[df_mysql.crawlMem.notnull()]\n",
    "DA5.count()"
   ]
  },
  {
   "cell_type": "code",
   "execution_count": 6,
   "metadata": {
    "collapsed": false
   },
   "outputs": [
    {
     "data": {
      "image/png": "[encoded data removed]",
      "text/plain": [
       "<matplotlib.figure.Figure at 0x20872cc0>"
      ]
     },
     "metadata": {},
     "output_type": "display_data"
    }
   ],
   "source": [
    "import matplotlib.pyplot as plt\n",
    "\n",
    "fig, ax = plt.subplots(nrows=2,figsize=(16,16))\n",
    "\n",
    "sns.boxplot(DA5.crawlMem, orient = 'h',ax=ax[0])\n",
    "sns.boxplot(DA5[DA5.crawlTime < 20].crawlTime, orient = 'h', ax=ax[1])\n",
    "\n",
    "plt.show()"
   ]
  },
  {
   "cell_type": "code",
   "execution_count": 7,
   "metadata": {
    "collapsed": false
   },
   "outputs": [
    {
     "data": {
      "image/png": "[encoded data removed]",
      "text/plain": [
       "<matplotlib.figure.Figure at 0x20b7a3c8>"
      ]
     },
     "metadata": {},
     "output_type": "display_data"
    },
    {
     "data": {
      "text/plain": [
       "[2547.0440835266822,\n",
       " 2804.0030200075498,\n",
       " 3527.3853002550427,\n",
       " 4113.5028396679772,\n",
       " 2936.0,\n",
       " 2373.6600441501105,\n",
       " 2088.0]"
      ]
     },
     "execution_count": 7,
     "metadata": {},
     "output_type": "execute_result"
    }
   ],
   "source": [
    "import matplotlib.pyplot as plt\n",
    "\n",
    "y = [DA5[DA5.sumber == i].crawlMem.mean() for i in [1,2,3,5,6,7,8]]\n",
    "N = len(y)\n",
    "x = range(N)\n",
    "width = 1/1.5\n",
    "plt.bar(x, y, width)\n",
    "plt.xticks( range(7), ('Viva', 'Merdeka', 'Liputan6', 'Okezone', 'JPNN','Suara','Bisnis') )\n",
    "plt.show()\n",
    "y"
   ]
  },
  {
   "cell_type": "code",
   "execution_count": 9,
   "metadata": {
    "collapsed": false
   },
   "outputs": [
    {
     "data": {
      "image/png": "[encoded data removed]",
      "text/plain": [
       "<matplotlib.figure.Figure at 0x203cbdd8>"
      ]
     },
     "metadata": {},
     "output_type": "display_data"
    },
    {
     "data": {
      "text/plain": [
       "[0.16393132250580048,\n",
       " 0.73384002453756125,\n",
       " 1.3461580523997214,\n",
       " 0.60361358671909116,\n",
       " 0.39825286923800568,\n",
       " 0.84458995584988961,\n",
       " 0.46703199999999995]"
      ]
     },
     "execution_count": 9,
     "metadata": {},
     "output_type": "execute_result"
    }
   ],
   "source": [
    "import matplotlib.pyplot as plt\n",
    "\n",
    "y = [DA5[DA5.sumber == i].crawlTime.mean() for i in [1,2,3,5,6,7,8]]\n",
    "N = len(y)\n",
    "x = range(N)\n",
    "width = 1/1.5\n",
    "plt.bar(x, y, width)\n",
    "plt.xticks( range(7), ('Viva', 'Merdeka', 'Liputan6', 'Okezone', 'JPNN','Suara','Bisnis') )\n",
    "plt.show()\n",
    "y"
   ]
  },
  {
   "cell_type": "code",
   "execution_count": 10,
   "metadata": {
    "collapsed": false
   },
   "outputs": [
    {
     "data": {
      "image/png": "[encoded data removed]",
      "text/plain": [
       "<matplotlib.figure.Figure at 0x20dfc940>"
      ]
     },
     "metadata": {},
     "output_type": "display_data"
    }
   ],
   "source": [
    "import numpy as np\n",
    "import matplotlib.pyplot as plt\n",
    "\n",
    "DATACrawl = DA5\n",
    "x = [1,2,3,5,6,7,8]\n",
    "labels = ['Viva.co.id',  'Merdeka.com', 'Liputan6.com', 'Okezone.com', 'JPNN.com', 'Suara.com', 'Bisnis.com']\n",
    "y1 = [DATACrawl[DATACrawl.sumber == i].crawlMem.mean() for i in x]\n",
    "y2 = [DATACrawl[DATACrawl.sumber == i].crawlTime.mean() for i in x]\n",
    "\n",
    "plt.plot(y1, y2,'s')\n",
    "plt.xlabel('Memori (Byte)', fontsize=10)\n",
    "plt.ylabel('Waktu (Detik)', fontsize=10)\n",
    "for label, x, y in zip(labels, y1, y2):\n",
    "    plt.annotate(\n",
    "        label, \n",
    "        xy = (x, y), xytext = (-20, 20),\n",
    "        textcoords = 'offset points', ha = 'right', va = 'bottom',\n",
    "        bbox = dict(boxstyle = 'round,pad=0.5', fc = 'yellow', alpha = 0.5),\n",
    "        arrowprops = dict(arrowstyle = '->', connectionstyle = 'arc3,rad=0'))\n",
    "    \n",
    "plt.show()"
   ]
  },
  {
   "cell_type": "code",
   "execution_count": 11,
   "metadata": {
    "collapsed": false
   },
   "outputs": [
    {
     "name": "stdout",
     "output_type": "stream",
     "text": [
      "Paling Lama\n"
     ]
    },
    {
     "data": {
      "text/html": [
       "<div>\n",
       "<table border=\"1\" class=\"dataframe\">\n",
       "  <thead>\n",
       "    <tr style=\"text-align: right;\">\n",
       "      <th>id</th>\n",
       "      <th>28575</th>\n",
       "    </tr>\n",
       "  </thead>\n",
       "  <tbody>\n",
       "    <tr>\n",
       "      <th>created_at</th>\n",
       "      <td>2016-05-14 11:00:44</td>\n",
       "    </tr>\n",
       "    <tr>\n",
       "      <th>updated_at</th>\n",
       "      <td>NaT</td>\n",
       "    </tr>\n",
       "    <tr>\n",
       "      <th>sumber</th>\n",
       "      <td>3</td>\n",
       "    </tr>\n",
       "    <tr>\n",
       "      <th>url</th>\n",
       "      <td>http://health.liputan6.com/read/2506400/senima...</td>\n",
       "    </tr>\n",
       "    <tr>\n",
       "      <th>judul</th>\n",
       "      <td>Seniman Muda Jual Puting dan Pusarnya</td>\n",
       "    </tr>\n",
       "    <tr>\n",
       "      <th>shortDesc</th>\n",
       "      <td>\\n          &lt;img src=\"http://cdn1-a.production...</td>\n",
       "    </tr>\n",
       "    <tr>\n",
       "      <th>longDesc</th>\n",
       "      <td>Liputan6.com, Jakarta Ada-ada saja kelakuan se...</td>\n",
       "    </tr>\n",
       "    <tr>\n",
       "      <th>published</th>\n",
       "      <td>2016-05-14 03:00:53</td>\n",
       "    </tr>\n",
       "    <tr>\n",
       "      <th>crawlTime</th>\n",
       "      <td>12196.8</td>\n",
       "    </tr>\n",
       "    <tr>\n",
       "      <th>crawlMem</th>\n",
       "      <td>3408</td>\n",
       "    </tr>\n",
       "    <tr>\n",
       "      <th>flag</th>\n",
       "      <td>0</td>\n",
       "    </tr>\n",
       "  </tbody>\n",
       "</table>\n",
       "</div>"
      ],
      "text/plain": [
       "id                                                      28575\n",
       "created_at                                2016-05-14 11:00:44\n",
       "updated_at                                                NaT\n",
       "sumber                                                      3\n",
       "url         http://health.liputan6.com/read/2506400/senima...\n",
       "judul                   Seniman Muda Jual Puting dan Pusarnya\n",
       "shortDesc   \\n          <img src=\"http://cdn1-a.production...\n",
       "longDesc    Liputan6.com, Jakarta Ada-ada saja kelakuan se...\n",
       "published                                 2016-05-14 03:00:53\n",
       "crawlTime                                             12196.8\n",
       "crawlMem                                                 3408\n",
       "flag                                                        0"
      ]
     },
     "execution_count": 11,
     "metadata": {},
     "output_type": "execute_result"
    }
   ],
   "source": [
    "crawlTime_weird = DA5[DA5.crawlTime > DA5.crawlTime.quantile(0.75)]\n",
    "print 'Paling Lama'\n",
    "crawlTime_weird.sort_values(by='crawlTime', ascending=False).head(1).transpose()"
   ]
  },
  {
   "cell_type": "code",
   "execution_count": 12,
   "metadata": {
    "collapsed": false
   },
   "outputs": [
    {
     "name": "stdout",
     "output_type": "stream",
     "text": [
      "Paling Berat\n"
     ]
    },
    {
     "data": {
      "text/html": [
       "<div>\n",
       "<table border=\"1\" class=\"dataframe\">\n",
       "  <thead>\n",
       "    <tr style=\"text-align: right;\">\n",
       "      <th>id</th>\n",
       "      <th>47882</th>\n",
       "    </tr>\n",
       "  </thead>\n",
       "  <tbody>\n",
       "    <tr>\n",
       "      <th>created_at</th>\n",
       "      <td>2016-05-31 19:01:12</td>\n",
       "    </tr>\n",
       "    <tr>\n",
       "      <th>updated_at</th>\n",
       "      <td>NaT</td>\n",
       "    </tr>\n",
       "    <tr>\n",
       "      <th>sumber</th>\n",
       "      <td>5</td>\n",
       "    </tr>\n",
       "    <tr>\n",
       "      <th>url</th>\n",
       "      <td>http://economy.okezone.com/read/2016/05/31/320...</td>\n",
       "    </tr>\n",
       "    <tr>\n",
       "      <th>judul</th>\n",
       "      <td>Sate Ayam di Pinggiran Rp12 Ribu, Masuk Tesate...</td>\n",
       "    </tr>\n",
       "    <tr>\n",
       "      <th>shortDesc</th>\n",
       "      <td>Direktur Utama AP II Budi Karya Sumadi, mengis...</td>\n",
       "    </tr>\n",
       "    <tr>\n",
       "      <th>longDesc</th>\n",
       "      <td>\\t\\t\\t\\t\\t\\t\\tJAKARTA - Direktur Utama AP II B...</td>\n",
       "    </tr>\n",
       "    <tr>\n",
       "      <th>published</th>\n",
       "      <td>2016-05-31 11:59:55</td>\n",
       "    </tr>\n",
       "    <tr>\n",
       "      <th>crawlTime</th>\n",
       "      <td>19.7019</td>\n",
       "    </tr>\n",
       "    <tr>\n",
       "      <th>crawlMem</th>\n",
       "      <td>7000</td>\n",
       "    </tr>\n",
       "    <tr>\n",
       "      <th>flag</th>\n",
       "      <td>0</td>\n",
       "    </tr>\n",
       "  </tbody>\n",
       "</table>\n",
       "</div>"
      ],
      "text/plain": [
       "id                                                      47882\n",
       "created_at                                2016-05-31 19:01:12\n",
       "updated_at                                                NaT\n",
       "sumber                                                      5\n",
       "url         http://economy.okezone.com/read/2016/05/31/320...\n",
       "judul       Sate Ayam di Pinggiran Rp12 Ribu, Masuk Tesate...\n",
       "shortDesc   Direktur Utama AP II Budi Karya Sumadi, mengis...\n",
       "longDesc    \\t\\t\\t\\t\\t\\t\\tJAKARTA - Direktur Utama AP II B...\n",
       "published                                 2016-05-31 11:59:55\n",
       "crawlTime                                             19.7019\n",
       "crawlMem                                                 7000\n",
       "flag                                                        0"
      ]
     },
     "execution_count": 12,
     "metadata": {},
     "output_type": "execute_result"
    }
   ],
   "source": [
    "crawlTime_weird = DA5[DA5.crawlMem > DA5.crawlMem.quantile(0.75)]\n",
    "print 'Paling Berat'\n",
    "crawlTime_weird.sort_values(by='crawlMem', ascending=False).head(1).transpose()"
   ]
  },
  {
   "cell_type": "code",
   "execution_count": 14,
   "metadata": {
    "collapsed": false
   },
   "outputs": [
    {
     "name": "stdout",
     "output_type": "stream",
     "text": [
      "Memory Pos   :  1390864.0 Byte\n",
      "Memory Total :  143741512.0 Byte\n",
      "Time Pos     :  226.653 Detik\n",
      "Time Total   :  42433.5165 Detik\n"
     ]
    },
    {
     "data": {
      "text/html": [
       "<div>\n",
       "<table border=\"1\" class=\"dataframe\">\n",
       "  <thead>\n",
       "    <tr style=\"text-align: right;\">\n",
       "      <th></th>\n",
       "      <th>Memory Pos</th>\n",
       "      <th>Time Pos</th>\n",
       "      <th>Memory Total</th>\n",
       "      <th>Time Total</th>\n",
       "    </tr>\n",
       "  </thead>\n",
       "  <tbody>\n",
       "    <tr>\n",
       "      <th>count</th>\n",
       "      <td>399.000000</td>\n",
       "      <td>399.000000</td>\n",
       "      <td>42746.000000</td>\n",
       "      <td>42746.000000</td>\n",
       "    </tr>\n",
       "    <tr>\n",
       "      <th>mean</th>\n",
       "      <td>3485.874687</td>\n",
       "      <td>0.568053</td>\n",
       "      <td>3362.689187</td>\n",
       "      <td>0.992690</td>\n",
       "    </tr>\n",
       "    <tr>\n",
       "      <th>std</th>\n",
       "      <td>760.059224</td>\n",
       "      <td>2.974858</td>\n",
       "      <td>587.077727</td>\n",
       "      <td>59.015039</td>\n",
       "    </tr>\n",
       "    <tr>\n",
       "      <th>min</th>\n",
       "      <td>2368.000000</td>\n",
       "      <td>0.046600</td>\n",
       "      <td>2080.000000</td>\n",
       "      <td>0.000000</td>\n",
       "    </tr>\n",
       "    <tr>\n",
       "      <th>25%</th>\n",
       "      <td>2808.000000</td>\n",
       "      <td>0.131350</td>\n",
       "      <td>2808.000000</td>\n",
       "      <td>0.210900</td>\n",
       "    </tr>\n",
       "    <tr>\n",
       "      <th>50%</th>\n",
       "      <td>3912.000000</td>\n",
       "      <td>0.146100</td>\n",
       "      <td>3408.000000</td>\n",
       "      <td>0.467200</td>\n",
       "    </tr>\n",
       "    <tr>\n",
       "      <th>75%</th>\n",
       "      <td>4072.000000</td>\n",
       "      <td>0.304900</td>\n",
       "      <td>3520.000000</td>\n",
       "      <td>0.625200</td>\n",
       "    </tr>\n",
       "    <tr>\n",
       "      <th>max</th>\n",
       "      <td>6832.000000</td>\n",
       "      <td>55.697400</td>\n",
       "      <td>7000.000000</td>\n",
       "      <td>12196.766600</td>\n",
       "    </tr>\n",
       "  </tbody>\n",
       "</table>\n",
       "</div>"
      ],
      "text/plain": [
       "        Memory Pos    Time Pos  Memory Total    Time Total\n",
       "count   399.000000  399.000000  42746.000000  42746.000000\n",
       "mean   3485.874687    0.568053   3362.689187      0.992690\n",
       "std     760.059224    2.974858    587.077727     59.015039\n",
       "min    2368.000000    0.046600   2080.000000      0.000000\n",
       "25%    2808.000000    0.131350   2808.000000      0.210900\n",
       "50%    3912.000000    0.146100   3408.000000      0.467200\n",
       "75%    4072.000000    0.304900   3520.000000      0.625200\n",
       "max    6832.000000   55.697400   7000.000000  12196.766600"
      ]
     },
     "execution_count": 14,
     "metadata": {},
     "output_type": "execute_result"
    }
   ],
   "source": [
    "DATA_ANALSISIS_crawlPos = DA5[DA5.flag == 1]\n",
    "DATA_ANALSISIS_crawlNeg = DA5\n",
    "crawlAnalysis = pd.DataFrame([DATA_ANALSISIS_crawlPos.crawlMem,DATA_ANALSISIS_crawlPos.crawlTime,\n",
    "                              DATA_ANALSISIS_crawlNeg.crawlMem,DATA_ANALSISIS_crawlNeg.crawlTime]).transpose()\n",
    "crawlAnalysis.columns = ['Memory Pos','Time Pos','Memory Total','Time Total']\n",
    "print 'Memory Pos   : ',DATA_ANALSISIS_crawlPos.crawlMem.sum(), 'Byte'\n",
    "print 'Memory Total : ',DATA_ANALSISIS_crawlNeg.crawlMem.sum(), 'Byte'\n",
    "print 'Time Pos     : ',DATA_ANALSISIS_crawlPos.crawlTime.sum(), 'Detik'\n",
    "print 'Time Total   : ',DATA_ANALSISIS_crawlNeg.crawlTime.sum(),'Detik'\n",
    "crawlAnalysis.describe()"
   ]
  },
  {
   "cell_type": "code",
   "execution_count": 85,
   "metadata": {
    "collapsed": false
   },
   "outputs": [
    {
     "name": "stdout",
     "output_type": "stream",
     "text": [
      "Contoh Teks yang berhasil diambil: \n",
      "\n",
      "\"MNC Kapital akan Rights Issue Semester II 2016\"\n",
      "\n",
      "\"\n",
      "\t\t\t\t<img src=\"http://media.suara.com/thumbnail/api/images/2016/06/08/o_1aknc4kgdbclojk1fqr1m58akha.jpg?s=653x366\" align=\"left\" hspace=\"7\" width=\"100\" />\n",
      "\t\t\t\t Dari aksi rights issue terse-but, perseroan membidik dana hingga Rp 1 triliun.  \n",
      "\t\t\t\"\n",
      "\n",
      "\"                                                    Suara.com - PT MNC Kapital Indonesia Tbk (BCAP) berencana menambah modal dengan menerbitkan saham tanpa hak memesan efek terlebih dahulu (non-HMETD) pada semester II mendatang. Dari aksi rights issue terse-but, perseroan membidik dana hingga Rp 1 triliun.Informasit tersebut tertuang dalam keterangan resmi Managing Partner PT Investa Saran Mandiri Kiswoyo Adi Joe, Rabu (9/6/2016).Selain untuk injeksi modal anak usahanya, dana segar yang diperoleh dari non-HMETD akan digunakan untuk melakukan ekspansi anorganik. Tahun ini, BCAP mencari peluang untuk mengakuisisi beberapa bank dan bisnis asuransi. Sebagai informasi, pada 1 Juni lalu, BCAP juga sudah melakukan non-HMETD sebanyak 232,2 juta saham baru dengan nilai nominal Rp 100. Harga pelaksanaan rights issue tersebut sebesar Rp 1.658 per saham, yang seluruhnya diambil bagian oleh induk BCAP, PT MNC Investama Tbk (BHIT).\"Dengan begitu, BCAP mendapat modal tambahan sebesar Rp 384,9 miliar,\" kata Kiswoyo.PT Tiga Pilar Sejahtera Food Tbk (AISA) tak mau ketinggalan momentum tren suku bunga murah. Produsen snack Taro ini berencana menerbitkan obligasi untuk melunasi sejumlah utangnya. Nilainya Rp 1,5 triliun, ada obligasi konvesional sekaligus sukuk. Rincian lebih lanjut atas obligasi ini akan diumumkan saat public expose yang rencananya digelar pekan depan.Tapi Sjambirie memastikan, hampir 100 persen atas perolehan dana dari penerbitan obligasi tersebut akan digunakan untuk refinancing sejumlah utang yang akan jatuh tempo. Berdasarkan laporan keuangan AISA kuartal I-2016, perseroan memiliki utang bank jangka pendek yang akan jatuh tempo tahun ini sekitar Rp1,62 triliun. \"Utang ini berasal dari sejumlah bank,\" tutup Kiswoyo.\"\n",
      "\n"
     ]
    }
   ],
   "source": [
    "print 'Contoh Teks yang berhasil diambil: \\n'\n",
    "print '\"'+DATA_JUDUL[58018]+'\"\\n'\n",
    "print '\"'+DATA_SHORT[58018]+'\"\\n'\n",
    "print '\"'+DATA_LONG[58018]+'\"\\n'"
   ]
  },
  {
   "cell_type": "code",
   "execution_count": null,
   "metadata": {
    "collapsed": false
   },
   "outputs": [
    {
     "name": "stdout",
     "output_type": "stream",
     "text": [
      "Deskripsi mengenai jumlah kata :\n"
     ]
    },
    {
     "data": {
      "text/html": [
       "<div>\n",
       "<table border=\"1\" class=\"dataframe\">\n",
       "  <thead>\n",
       "    <tr style=\"text-align: right;\">\n",
       "      <th></th>\n",
       "      <th>Judul</th>\n",
       "      <th>Short</th>\n",
       "      <th>Long</th>\n",
       "      <th>Feed1</th>\n",
       "      <th>Feed2</th>\n",
       "    </tr>\n",
       "  </thead>\n",
       "  <tbody>\n",
       "    <tr>\n",
       "      <th>count</th>\n",
       "      <td>42746.000000</td>\n",
       "      <td>42746.000000</td>\n",
       "      <td>42746.000000</td>\n",
       "      <td>42746.000000</td>\n",
       "      <td>42746.000000</td>\n",
       "    </tr>\n",
       "    <tr>\n",
       "      <th>mean</th>\n",
       "      <td>8.235461</td>\n",
       "      <td>15.651336</td>\n",
       "      <td>275.928344</td>\n",
       "      <td>23.886796</td>\n",
       "      <td>299.815141</td>\n",
       "    </tr>\n",
       "    <tr>\n",
       "      <th>std</th>\n",
       "      <td>1.635129</td>\n",
       "      <td>6.019051</td>\n",
       "      <td>141.117667</td>\n",
       "      <td>6.138289</td>\n",
       "      <td>141.052133</td>\n",
       "    </tr>\n",
       "    <tr>\n",
       "      <th>min</th>\n",
       "      <td>2.000000</td>\n",
       "      <td>1.000000</td>\n",
       "      <td>3.000000</td>\n",
       "      <td>6.000000</td>\n",
       "      <td>15.000000</td>\n",
       "    </tr>\n",
       "    <tr>\n",
       "      <th>25%</th>\n",
       "      <td>7.000000</td>\n",
       "      <td>13.000000</td>\n",
       "      <td>194.000000</td>\n",
       "      <td>21.000000</td>\n",
       "      <td>218.000000</td>\n",
       "    </tr>\n",
       "    <tr>\n",
       "      <th>50%</th>\n",
       "      <td>8.000000</td>\n",
       "      <td>15.000000</td>\n",
       "      <td>246.000000</td>\n",
       "      <td>24.000000</td>\n",
       "      <td>270.000000</td>\n",
       "    </tr>\n",
       "    <tr>\n",
       "      <th>75%</th>\n",
       "      <td>9.000000</td>\n",
       "      <td>17.000000</td>\n",
       "      <td>322.000000</td>\n",
       "      <td>26.000000</td>\n",
       "      <td>345.000000</td>\n",
       "    </tr>\n",
       "    <tr>\n",
       "      <th>max</th>\n",
       "      <td>15.000000</td>\n",
       "      <td>326.000000</td>\n",
       "      <td>4499.000000</td>\n",
       "      <td>333.000000</td>\n",
       "      <td>4516.000000</td>\n",
       "    </tr>\n",
       "  </tbody>\n",
       "</table>\n",
       "</div>"
      ],
      "text/plain": [
       "              Judul         Short          Long         Feed1         Feed2\n",
       "count  42746.000000  42746.000000  42746.000000  42746.000000  42746.000000\n",
       "mean       8.235461     15.651336    275.928344     23.886796    299.815141\n",
       "std        1.635129      6.019051    141.117667      6.138289    141.052133\n",
       "min        2.000000      1.000000      3.000000      6.000000     15.000000\n",
       "25%        7.000000     13.000000    194.000000     21.000000    218.000000\n",
       "50%        8.000000     15.000000    246.000000     24.000000    270.000000\n",
       "75%        9.000000     17.000000    322.000000     26.000000    345.000000\n",
       "max       15.000000    326.000000   4499.000000    333.000000   4516.000000"
      ]
     },
     "execution_count": 18,
     "metadata": {},
     "output_type": "execute_result"
    }
   ],
   "source": [
    "DATA_JUDUL_words = [len(word.split()) for word in DATA_JUDUL]\n",
    "DATA_SHORT_words = [len(word.split()) for word in DATA_SHORT]\n",
    "DATA_LONG_words  = [len(word.split()) for word in DATA_LONG]\n",
    "DATA_FEED1_words  = [len(word.split()) for word in DATA_FEED1]\n",
    "DATA_FEED2_words  = [len(word.split()) for word in DATA_FEED2]\n",
    "count_word = pd.DataFrame([DATA_JUDUL_words,DATA_SHORT_words,DATA_LONG_words,DATA_FEED1_words,DATA_FEED2_words]).transpose()\n",
    "count_word.columns = ['Judul','Short','Long','Feed1','Feed2']\n",
    "print 'Deskripsi mengenai jumlah kata :'\n",
    "count_word.describe()"
   ]
  },
  {
   "cell_type": "markdown",
   "metadata": {},
   "source": [
    "## Little Cleaning"
   ]
  },
  {
   "cell_type": "code",
   "execution_count": 86,
   "metadata": {
    "collapsed": false
   },
   "outputs": [
    {
     "name": "stdout",
     "output_type": "stream",
     "text": [
      "Contoh Teks yang telah dihilangkan karakter Alphanumeric dan tag HTML: \n",
      "\n",
      "\"mnc kapital akan rights issue semester ii 2016\"\n",
      "\n",
      "\"dari aksi rights issue terse-but, perseroan membidik dana hingga rp 1 triliun.\"\n",
      "\n",
      "\"suara.com - pt mnc kapital indonesia tbk (bcap) berencana menambah modal dengan menerbitkan saham tanpa hak memesan efek terlebih dahulu (non-hmetd) pada semester ii mendatang. dari aksi rights issue terse-but, perseroan membidik dana hingga rp 1 triliun.informasit tersebut tertuang dalam keterangan resmi managing partner pt investa saran mandiri kiswoyo adi joe, rabu (9/6/2016).selain untuk injeksi modal anak usahanya, dana segar yang diperoleh dari non-hmetd akan digunakan untuk melakukan ekspansi anorganik. tahun ini, bcap mencari peluang untuk mengakuisisi beberapa bank dan bisnis asuransi. sebagai informasi, pada 1 juni lalu, bcap juga sudah melakukan non-hmetd sebanyak 232,2 juta saham baru dengan nilai nominal rp 100. harga pelaksanaan rights issue tersebut sebesar rp 1.658 per saham, yang seluruhnya diambil bagian oleh induk bcap, pt mnc investama tbk (bhit).\"dengan begitu, bcap mendapat modal tambahan sebesar rp 384,9 miliar,\" kata kiswoyo.pt tiga pilar sejahtera food tbk (aisa) tak mau ketinggalan momentum tren suku bunga murah. produsen snack taro ini berencana menerbitkan obligasi untuk melunasi sejumlah utangnya. nilainya rp 1,5 triliun, ada obligasi konvesional sekaligus sukuk. rincian lebih lanjut atas obligasi ini akan diumumkan saat public expose yang rencananya digelar pekan depan.tapi sjambirie memastikan, hampir 100 persen atas perolehan dana dari penerbitan obligasi tersebut akan digunakan untuk refinancing sejumlah utang yang akan jatuh tempo. berdasarkan laporan keuangan aisa kuartal i-2016, perseroan memiliki utang bank jangka pendek yang akan jatuh tempo tahun ini sekitar rp1,62 triliun. \"utang ini berasal dari sejumlah bank,\" tutup kiswoyo.\"\n",
      "\n"
     ]
    }
   ],
   "source": [
    "print 'Contoh Teks yang telah dihilangkan karakter Alphanumeric dan tag HTML: \\n'\n",
    "print '\"'+strip_tags(DATA_JUDUL[58018])+'\"\\n'\n",
    "print '\"'+strip_tags(DATA_SHORT[58018])+'\"\\n'\n",
    "print '\"'+strip_tags(DATA_LONG[58018])+'\"\\n'"
   ]
  },
  {
   "cell_type": "markdown",
   "metadata": {},
   "source": [
    "## Vectorization"
   ]
  },
  {
   "cell_type": "code",
   "execution_count": 10,
   "metadata": {
    "collapsed": false
   },
   "outputs": [],
   "source": [
    "#Stopwords data source : https://www.illc.uva.nl/Research/Publications/Reports/MoL-2003-02.text.pdf\n",
    "stopword_html = open(\"id.stopwords.01.01.2016.txt\",'r').read()\n",
    "stopwords     = stopword_html.split(\"\\n\")"
   ]
  },
  {
   "cell_type": "code",
   "execution_count": 6,
   "metadata": {
    "collapsed": false
   },
   "outputs": [],
   "source": [
    "from sklearn.feature_extraction.text import CountVectorizer\n",
    "\n",
    "def tableTop10(a,b):    \n",
    "    def topKWords(docs,k):\n",
    "        dummy  = docs.tolist()\n",
    "        countv = CountVectorizer(stop_words=stopwords,decode_error='ignore')\n",
    "        dummy  = countv.fit_transform(dummy)\n",
    "        freqs = [(word, dummy.getcol(idx).sum()) for word, idx in countv.vocabulary_.items()]\n",
    "        #sort from largest to smallest\n",
    "        return [name for name,freq in sorted(freqs, key = lambda x: -x[1])[0:k]]\n",
    "    top_word = pd.DataFrame([topKWords(a,10),\n",
    "                             topKWords(b,10),\n",
    "                            ]).transpose()\n",
    "    return top_word"
   ]
  },
  {
   "cell_type": "code",
   "execution_count": 8,
   "metadata": {
    "collapsed": true
   },
   "outputs": [],
   "source": [
    "DATA_FEED1 = DATA_JUDUL+' '+DATA_SHORT\n",
    "DATA_FEED2 = DATA_JUDUL+' '+DATA_LONG+' '+DATA_SHORT\n",
    "\n",
    "DATA_FEED1Striped = DATA_JUDULStriped+' '+DATA_SHORTStriped\n",
    "DATA_FEED2Striped = DATA_JUDULStriped+' '+DATA_LONGStriped+' '+DATA_SHORTStriped"
   ]
  },
  {
   "cell_type": "markdown",
   "metadata": {},
   "source": [
    "## Top 10"
   ]
  },
  {
   "cell_type": "code",
   "execution_count": null,
   "metadata": {
    "collapsed": false
   },
   "outputs": [],
   "source": [
    "top_wordBerita = tableTop10(DATA_FEED1,DATA_FEED2)\n",
    "top_wordBerita.columns = ['X1','X2']\n",
    "print '10 Kata paling tinggi Frekuensinya Pada teks Sebelum preprocessing'\n",
    "top_wordBerita"
   ]
  },
  {
   "cell_type": "code",
   "execution_count": null,
   "metadata": {
    "collapsed": false
   },
   "outputs": [],
   "source": [
    "top_wordBerita = tableTop10(DATA_FEED1Striped,DATA_FEED2Striped)\n",
    "top_wordBerita.columns = ['X1','X2']\n",
    "print '10 Kata paling tinggi Frekuensinya Pada teks setelah preprocessing'\n",
    "top_wordBerita"
   ]
  },
  {
   "cell_type": "code",
   "execution_count": 94,
   "metadata": {
    "collapsed": false
   },
   "outputs": [
    {
     "name": "stdout",
     "output_type": "stream",
     "text": [
      "10 Kata paling tinggi Frekuensinya Pada teks Sebelum preprocessing SK\n"
     ]
    },
    {
     "data": {
      "text/html": [
       "<div>\n",
       "<table border=\"1\" class=\"dataframe\">\n",
       "  <thead>\n",
       "    <tr style=\"text-align: right;\">\n",
       "      <th></th>\n",
       "      <th>X1_sk</th>\n",
       "      <th>X2_sk</th>\n",
       "    </tr>\n",
       "  </thead>\n",
       "  <tbody>\n",
       "    <tr>\n",
       "      <th>0</th>\n",
       "      <td>align</td>\n",
       "      <td>air</td>\n",
       "    </tr>\n",
       "    <tr>\n",
       "      <th>1</th>\n",
       "      <td>com</td>\n",
       "      <td>lion</td>\n",
       "    </tr>\n",
       "    <tr>\n",
       "      <th>2</th>\n",
       "      <td>air</td>\n",
       "      <td>nbsp</td>\n",
       "    </tr>\n",
       "    <tr>\n",
       "      <th>3</th>\n",
       "      <td>lion</td>\n",
       "      <td>saham</td>\n",
       "    </tr>\n",
       "    <tr>\n",
       "      <th>4</th>\n",
       "      <td>100</td>\n",
       "      <td>persen</td>\n",
       "    </tr>\n",
       "    <tr>\n",
       "      <th>5</th>\n",
       "      <td>img</td>\n",
       "      <td>2016</td>\n",
       "    </tr>\n",
       "    <tr>\n",
       "      <th>6</th>\n",
       "      <td>hspace</td>\n",
       "      <td>pt</td>\n",
       "    </tr>\n",
       "    <tr>\n",
       "      <th>7</th>\n",
       "      <td>left</td>\n",
       "      <td>jakarta</td>\n",
       "    </tr>\n",
       "    <tr>\n",
       "      <th>8</th>\n",
       "      <td>src</td>\n",
       "      <td>indonesia</td>\n",
       "    </tr>\n",
       "    <tr>\n",
       "      <th>9</th>\n",
       "      <td>width</td>\n",
       "      <td>penerbangan</td>\n",
       "    </tr>\n",
       "  </tbody>\n",
       "</table>\n",
       "</div>"
      ],
      "text/plain": [
       "    X1_sk        X2_sk\n",
       "0   align          air\n",
       "1     com         lion\n",
       "2     air         nbsp\n",
       "3    lion        saham\n",
       "4     100       persen\n",
       "5     img         2016\n",
       "6  hspace           pt\n",
       "7    left      jakarta\n",
       "8     src    indonesia\n",
       "9   width  penerbangan"
      ]
     },
     "execution_count": 94,
     "metadata": {},
     "output_type": "execute_result"
    }
   ],
   "source": [
    "top_wordBerita = tableTop10(DATA_FEED1_sk,DATA_FEED2_sk)\n",
    "top_wordBerita.columns = ['X1_sk','X2_sk']\n",
    "print '10 Kata paling tinggi Frekuensinya Pada teks Sebelum preprocessing SK'\n",
    "top_wordBerita"
   ]
  },
  {
   "cell_type": "code",
   "execution_count": 95,
   "metadata": {
    "collapsed": false
   },
   "outputs": [
    {
     "name": "stdout",
     "output_type": "stream",
     "text": [
      "10 Kata paling tinggi Frekuensinya Pada teks Sebelum preprocessing SK\n"
     ]
    },
    {
     "data": {
      "text/html": [
       "<div>\n",
       "<table border=\"1\" class=\"dataframe\">\n",
       "  <thead>\n",
       "    <tr style=\"text-align: right;\">\n",
       "      <th></th>\n",
       "      <th>X1_sk</th>\n",
       "      <th>X2_sk</th>\n",
       "    </tr>\n",
       "  </thead>\n",
       "  <tbody>\n",
       "    <tr>\n",
       "      <th>0</th>\n",
       "      <td>air</td>\n",
       "      <td>air</td>\n",
       "    </tr>\n",
       "    <tr>\n",
       "      <th>1</th>\n",
       "      <td>lion</td>\n",
       "      <td>lion</td>\n",
       "    </tr>\n",
       "    <tr>\n",
       "      <th>2</th>\n",
       "      <td>mnc</td>\n",
       "      <td>saham</td>\n",
       "    </tr>\n",
       "    <tr>\n",
       "      <th>3</th>\n",
       "      <td>pt</td>\n",
       "      <td>persen</td>\n",
       "    </tr>\n",
       "    <tr>\n",
       "      <th>4</th>\n",
       "      <td>saham</td>\n",
       "      <td>2016</td>\n",
       "    </tr>\n",
       "    <tr>\n",
       "      <th>5</th>\n",
       "      <td>tbk</td>\n",
       "      <td>pt</td>\n",
       "    </tr>\n",
       "    <tr>\n",
       "      <th>6</th>\n",
       "      <td>astra</td>\n",
       "      <td>jakarta</td>\n",
       "    </tr>\n",
       "    <tr>\n",
       "      <th>7</th>\n",
       "      <td>securities</td>\n",
       "      <td>indonesia</td>\n",
       "    </tr>\n",
       "    <tr>\n",
       "      <th>8</th>\n",
       "      <td>indonesia</td>\n",
       "      <td>penerbangan</td>\n",
       "    </tr>\n",
       "    <tr>\n",
       "      <th>9</th>\n",
       "      <td>triliun</td>\n",
       "      <td>perseroan</td>\n",
       "    </tr>\n",
       "  </tbody>\n",
       "</table>\n",
       "</div>"
      ],
      "text/plain": [
       "        X1_sk        X2_sk\n",
       "0         air          air\n",
       "1        lion         lion\n",
       "2         mnc        saham\n",
       "3          pt       persen\n",
       "4       saham         2016\n",
       "5         tbk           pt\n",
       "6       astra      jakarta\n",
       "7  securities    indonesia\n",
       "8   indonesia  penerbangan\n",
       "9     triliun    perseroan"
      ]
     },
     "execution_count": 95,
     "metadata": {},
     "output_type": "execute_result"
    }
   ],
   "source": [
    "top_wordBerita = tableTop10(DATA_FEED1Striped_sk,DATA_FEED2Striped_sk)\n",
    "top_wordBerita.columns = ['X1_sk','X2_sk']\n",
    "print '10 Kata paling tinggi Frekuensinya Pada teks Sebelum preprocessing SK'\n",
    "top_wordBerita"
   ]
  },
  {
   "cell_type": "markdown",
   "metadata": {},
   "source": [
    "### Insight\n",
    "\n",
    "1. ##### Kata 'JPNN'\n",
    "    Kata 'JPNN' adalah header setiap berita yang terdapat di rss feed jpnn.com\n",
    "   \n",
    "2. ##### Kata '2016'\n",
    "   Kok gak ilang ?, karena dianggap bukan stopword meskipun ga mengandung informasi yang relevan"
   ]
  },
  {
   "cell_type": "markdown",
   "metadata": {},
   "source": [
    "## Word Cloud"
   ]
  },
  {
   "cell_type": "code",
   "execution_count": 7,
   "metadata": {
    "collapsed": false
   },
   "outputs": [],
   "source": [
    "import matplotlib.pyplot as plt\n",
    "from wordcloud import WordCloud\n",
    "\n",
    "def word3Cloud(a,b,title):\n",
    "    fig, axes = plt.subplots(ncols=2,figsize=(10,5))\n",
    "\n",
    "    # join tweets to a single string\n",
    "    aWord = ' '.join(a)\n",
    "    bWord = ' '.join(b)\n",
    "\n",
    "    judulCloud = WordCloud(background_color='white',stopwords=stopwords,\n",
    "                          width=4000,\n",
    "                          height=4200\n",
    "                         ).generate(aWord)\n",
    "    shortCloud = WordCloud(background_color='white',stopwords=stopwords,\n",
    "                          width=4000,\n",
    "                          height=4200\n",
    "                         ).generate(bWord)\n",
    "    \n",
    "    axes[0].imshow(judulCloud)\n",
    "    axes[0].axis('off')\n",
    "    axes[0].set_title('Feed1')\n",
    "\n",
    "    axes[1].imshow(shortCloud)\n",
    "    axes[1].axis('off')\n",
    "    axes[1].set_title('Feed2')\n",
    "\n",
    "    fig.suptitle(title)\n",
    "    fig.savefig('img/'+title+'.png', dpi=300)\n",
    "    fig.show()"
   ]
  },
  {
   "cell_type": "code",
   "execution_count": 11,
   "metadata": {
    "collapsed": false
   },
   "outputs": [
    {
     "name": "stderr",
     "output_type": "stream",
     "text": [
      "C:\\Users\\Thosan Girisona S\\Anaconda\\lib\\site-packages\\matplotlib\\figure.py:387: UserWarning: matplotlib is currently using a non-GUI backend, so cannot show the figure\n",
      "  \"matplotlib is currently using a non-GUI backend, \"\n"
     ]
    },
    {
     "data": {
      "image/png": "[encoded data removed]",
      "text/plain": [
       "<matplotlib.figure.Figure at 0x1862e080>"
      ]
     },
     "metadata": {},
     "output_type": "display_data"
    }
   ],
   "source": [
    "word3Cloud(DATA_FEED1,\n",
    "           DATA_FEED2,\n",
    "           'Top Words before Cleaning the HTML-Tag')"
   ]
  },
  {
   "cell_type": "code",
   "execution_count": 12,
   "metadata": {
    "collapsed": false
   },
   "outputs": [
    {
     "data": {
      "image/png": "[encoded data removed]",
      "text/plain": [
       "<matplotlib.figure.Figure at 0x18388eb8>"
      ]
     },
     "metadata": {},
     "output_type": "display_data"
    }
   ],
   "source": [
    "word3Cloud(DATA_FEED1Striped,\n",
    "           DATA_FEED2Striped,\n",
    "           'Top Words before Cleaning the HTML-Tag')"
   ]
  },
  {
   "cell_type": "code",
   "execution_count": 124,
   "metadata": {
    "collapsed": false
   },
   "outputs": [
    {
     "name": "stdout",
     "output_type": "stream",
     "text": [
      "created_at    1032\n",
      "updated_at     872\n",
      "sumber        1344\n",
      "url           1344\n",
      "judul         1344\n",
      "shortDesc     1344\n",
      "longDesc      1344\n",
      "published     1021\n",
      "crawlTime     1344\n",
      "crawlMem      1344\n",
      "flag          1344\n",
      "dtype: int64\n",
      "created_at    1032\n",
      "updated_at     872\n",
      "sumber        1344\n",
      "url           1344\n",
      "judul         1344\n",
      "shortDesc     1344\n",
      "longDesc      1344\n",
      "published     1021\n",
      "crawlTime     1344\n",
      "crawlMem      1344\n",
      "flag          1344\n",
      "dtype: int64\n",
      "created_at    384\n",
      "updated_at    247\n",
      "sumber        399\n",
      "url           399\n",
      "judul         399\n",
      "shortDesc     399\n",
      "longDesc      399\n",
      "published     383\n",
      "crawlTime     399\n",
      "crawlMem      399\n",
      "flag          399\n",
      "dtype: int64\n"
     ]
    }
   ],
   "source": [
    "print DA3.count()\n",
    "print DA3[DA3.flag.isin([-1,1])][DA3.crawlMem.notnull()].count()\n",
    "print DA3[DA3.flag.isin([1])][DA3.crawlMem.notnull()].count()"
   ]
  },
  {
   "cell_type": "markdown",
   "metadata": {},
   "source": [
    "## PCA"
   ]
  },
  {
   "cell_type": "code",
   "execution_count": null,
   "metadata": {
    "collapsed": false
   },
   "outputs": [],
   "source": [
    "# from sklearn.decomposition import PCA\n",
    "# from sklearn.feature_extraction.text import CountVectorizer\n",
    "# import seaborn as sns\n",
    "\n",
    "# fs = 10\n",
    "# almost_black = '#262626'\n",
    "# sns.set()\n",
    "\n",
    "\n",
    "# X1 = tfidfv.fit_transform(DATA_JUDUL).toarray()\n",
    "# X2 = tfidfv.fit_transform(DATA_SHORT).toarray()\n",
    "# X3 = tfidfv.fit_transform(DATA_LONG).toarray()\n",
    "# y = DATA_TARGET.as_matrix()\n",
    "\n",
    "# # Instanciate a PCA object for the sake of easy visualisation\n",
    "# pca1 = PCA(n_components=2)\n",
    "# pca2 = PCA(n_components=2)\n",
    "# pca3 = PCA(n_components=2)\n",
    "\n",
    "# # Fit and transform x to visualise inside a 2D feature space\n",
    "# x1_vis = pca1.fit_transform(X1)\n",
    "# x2_vis = pca2.fit_transform(X2)\n",
    "# x3_vis = pca3.fit_transform(X3)\n",
    "\n",
    "# fig, axes = plt.subplots(ncols=3,figsize=(15,5))\n",
    "# # Plot the original data\n",
    "# palette = sns.color_palette()\n",
    "# axes[0].scatter(x1_vis[y == -1, 0], x1_vis[y == -1, 1], label=\"Class #Negatif\", alpha=0.5, \n",
    "#             edgecolor=almost_black, facecolor=palette[0], linewidth=0.15)\n",
    "# axes[0].scatter(x1_vis[y == 1, 0], x1_vis[y == 1, 1], label=\"Class #Positif\", alpha=0.5, \n",
    "#             edgecolor=almost_black, facecolor=palette[2], linewidth=0.15)\n",
    "# axes[0].set_title('Judul', fontsize=fs)\n",
    "\n",
    "# axes[1].scatter(x2_vis[y == -1, 0], x2_vis[y == -1, 1], label=\"Class #Negatif\", alpha=0.5, \n",
    "#             edgecolor=almost_black, facecolor=palette[0], linewidth=0.15)\n",
    "# axes[1].scatter(x2_vis[y == 1, 0], x2_vis[y == 1, 1], label=\"Class #Positif\", alpha=0.5, \n",
    "#             edgecolor=almost_black, facecolor=palette[2], linewidth=0.15)\n",
    "# axes[1].set_title('Short Description', fontsize=fs)\n",
    "\n",
    "# axes[2].scatter(x3_vis[y== -1, 0], x3_vis[y == -1, 1], label=\"Class #Negatif\", alpha=0.5, \n",
    "#             edgecolor=almost_black, facecolor=palette[0], linewidth=0.15)\n",
    "# axes[2].scatter(x3_vis[y == 1, 0], x3_vis[y == 1, 1], label=\"Class #Positif\", alpha=0.5, \n",
    "#             edgecolor=almost_black, facecolor=palette[2], linewidth=0.15)\n",
    "# axes[2].set_title('Long Description', fontsize=fs)\n",
    "\n",
    "# fig.suptitle('Gambaran 2 Dimensi 3 jenis Teks Berita (HTML and Stopwords Free)')\n",
    "# fig.show()\n",
    "# fig.savefig('img/PCA2.png', dpi=300)"
   ]
  },
  {
   "cell_type": "markdown",
   "metadata": {},
   "source": [
    "## Explained Variance"
   ]
  },
  {
   "cell_type": "code",
   "execution_count": null,
   "metadata": {
    "collapsed": false
   },
   "outputs": [],
   "source": [
    "# print pca1.explained_variance_ratio_.sum() * 100\n",
    "# print pca2.explained_variance_ratio_.sum() * 100\n",
    "# print pca3.explained_variance_ratio_.sum() * 100"
   ]
  },
  {
   "cell_type": "code",
   "execution_count": null,
   "metadata": {
    "collapsed": false
   },
   "outputs": [],
   "source": [
    "# print 'Jumlah Rata-rata kata teks Judul dan Keberagaman kata   : ',count_word.Judul.mean(),' ',X1.shape[1]\n",
    "# print 'Jumlah Rata-rata kata teks Short dan Keberagaman kata   : ',count_word.Short.mean(),' ',X2.shape[1]\n",
    "# print 'Jumlah Rata-rata kata teks Lengkap dan Keberagaman kata : ',count_word.Long.mean(),' ',X3.shape[1]"
   ]
  },
  {
   "cell_type": "code",
   "execution_count": 97,
   "metadata": {
    "collapsed": true
   },
   "outputs": [],
   "source": [
    "pickle.dump( DA3, open( \"v1.4\\DATA_CRAWL-v4a.p\", \"wb\" ) )\n",
    "pickle.dump( DATA_TARGET, open( \"v1.4\\DATA_TARGET-v4a.p\", \"wb\" ) )\n",
    "\n",
    "pickle.dump( DATA_JUDUL, open( \"v1.4\\DATA_JUDUL-v4a.p\", \"wb\" ) )\n",
    "pickle.dump( DATA_SHORT, open( \"v1.4\\DATA_SHORT-v4a.p\", \"wb\" ) )\n",
    "pickle.dump( DATA_LONG, open( \"v1.4\\DATA_LONG-v4a.p\", \"wb\" ) )\n",
    "pickle.dump( DATA_FEED1, open( \"v1.4\\DATA_FEED1-v4a.p\", \"wb\" ) )\n",
    "pickle.dump( DATA_FEED2, open( \"v1.4\\DATA_FEED2-v4a.p\", \"wb\" ) )\n",
    "\n",
    "pickle.dump(DATA_JUDULStriped,open( \"v1.4\\DATA_JUDULStriped-v4a.p\", \"wb\" ))\n",
    "pickle.dump(DATA_SHORTStriped,open( \"v1.4\\DATA_SHORTStriped-v4a.p\", \"wb\" ))\n",
    "pickle.dump(DATA_LONGStriped,open( \"v1.4\\DATA_LONGStriped-v4a.p\", \"wb\" ))\n",
    "pickle.dump(DATA_FEED1Striped,open( \"v1.4\\DATA_FEED1Striped-v4a.p\", \"wb\" ))\n",
    "pickle.dump(DATA_FEED2Striped,open( \"v1.4\\DATA_FEED2Striped-v4a.p\", \"wb\" ))"
   ]
  },
  {
   "cell_type": "code",
   "execution_count": 56,
   "metadata": {
    "collapsed": true
   },
   "outputs": [],
   "source": [
    "pickle.dump( DA6, open( \"v1.4\\DATA_CRAWL-v4c.p\", \"wb\" ) )\n",
    "pickle.dump( DATA_TARGET_skb, open( \"v1.4\\DATA_TARGET-v4c.p\", \"wb\" ) )\n",
    "\n",
    "pickle.dump( DATA_JUDUL_skb, open( \"v1.4\\DATA_JUDUL-v4c.p\", \"wb\" ) )\n",
    "pickle.dump( DATA_SHORT_skb, open( \"v1.4\\DATA_SHORT-v4c.p\", \"wb\" ) )\n",
    "pickle.dump( DATA_LONG_skb, open( \"v1.4\\DATA_LONG-v4b.c\", \"wb\" ) )\n",
    "pickle.dump( DATA_FEED1_skb, open( \"v1.4\\DATA_FEED1-v4c.p\", \"wb\" ) )\n",
    "pickle.dump( DATA_FEED2_skb, open( \"v1.4\\DATA_FEED2-v4c.p\", \"wb\" ) )\n",
    "\n",
    "pickle.dump(DATA_JUDULStriped_skb,open( \"v1.4\\DATA_JUDULStriped-v4c.p\", \"wb\" ))\n",
    "pickle.dump(DATA_SHORTStriped_skb,open( \"v1.4\\DATA_SHORTStriped-v4c.p\", \"wb\" ))\n",
    "pickle.dump(DATA_LONGStriped_skb,open( \"v1.4\\DATA_LONGStriped-v4c.p\", \"wb\" ))\n",
    "pickle.dump(DATA_FEED1Striped_skb,open( \"v1.4\\DATA_FEED1Striped-v4c.p\", \"wb\" ))\n",
    "pickle.dump(DATA_FEED2Striped_skb,open( \"v1.4\\DATA_FEED2Striped-v4c.p\", \"wb\" ))"
   ]
  },
  {
   "cell_type": "code",
   "execution_count": 26,
   "metadata": {
    "collapsed": true
   },
   "outputs": [],
   "source": [
    "pickle.dump(DTEST,open( \"v1.4\\DTEST-v1.p\", \"wb\" ))\n",
    "pickle.dump(DTRAIN,open( \"v1.4\\DTRAIN-v1.p\", \"wb\" ))"
   ]
  }
 ],
 "metadata": {
  "kernelspec": {
   "display_name": "Python 2",
   "language": "python",
   "name": "python2"
  },
  "language_info": {
   "codemirror_mode": {
    "name": "ipython",
    "version": 2
   },
   "file_extension": ".py",
   "mimetype": "text/x-python",
   "name": "python",
   "nbconvert_exporter": "python",
   "pygments_lexer": "ipython2",
   "version": "2.7.11"
  }
 },
 "nbformat": 4,
 "nbformat_minor": 0
}
