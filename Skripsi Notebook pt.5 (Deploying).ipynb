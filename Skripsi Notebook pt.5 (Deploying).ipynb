{
 "cells": [
  {
   "cell_type": "code",
   "execution_count": 2,
   "metadata": {
    "collapsed": true
   },
   "outputs": [],
   "source": [
    "from sklearn.naive_bayes import MultinomialNB\n",
    "from sklearn.neighbors import KNeighborsClassifier\n",
    "from sklearn.svm import SVC\n",
    "from sklearn.tree import DecisionTreeClassifier\n",
    "import cPickle as pickle\n",
    "from sklearn.externals import joblib\n",
    "from sklearn.pipeline import Pipeline"
   ]
  },
  {
   "cell_type": "markdown",
   "metadata": {},
   "source": [
    "## Stopwords"
   ]
  },
  {
   "cell_type": "code",
   "execution_count": 3,
   "metadata": {
    "collapsed": true
   },
   "outputs": [],
   "source": [
    "stopword_html = open(\"id.stopwords.01.01.2016.txt\",'r').read()\n",
    "stopwords     = stopword_html.split(\"\\n\")"
   ]
  },
  {
   "cell_type": "markdown",
   "metadata": {},
   "source": [
    "## Stem Preprocessing"
   ]
  },
  {
   "cell_type": "code",
   "execution_count": 4,
   "metadata": {
    "collapsed": false
   },
   "outputs": [],
   "source": [
    "# import StemmerFactory class, github : https://github.com/masdevid/PySastrawi\n",
    "\n",
    "def rmStem(pars):\n",
    "    # stemming process\n",
    "    # Removing the HTML tags, similar with php's strip_tag\n",
    "    from HTMLParser import HTMLParser\n",
    "    from Sastrawi.Stemmer.StemmerFactory import StemmerFactory\n",
    "\n",
    "    class MLStripper(HTMLParser):\n",
    "        def __init__(self):\n",
    "            self.reset()\n",
    "            self.fed = []\n",
    "        def handle_data(self, d):\n",
    "            self.fed.append(d)\n",
    "        def get_data(self):\n",
    "            return ' '.join(self.fed)\n",
    "\n",
    "    def strip_tags(html):\n",
    "        s = MLStripper()\n",
    "        s.feed(html)\n",
    "        striped  = s.get_data()                         #get HTML-Tags free text\n",
    "        lowers   = striped.lower()                      #Lowercase all words\n",
    "        nospace  = lowers.strip()                       #Remove leading and trailing white space\n",
    "        return nospace\n",
    "\n",
    "    # create stemmer\n",
    "    factory = StemmerFactory()\n",
    "    stemmer = factory.create_stemmer()\n",
    "    \n",
    "    stripped= strip_tags(pars)\n",
    "    clean   = stemmer.stem(str(stripped)) #Stemming\n",
    "    return clean"
   ]
  },
  {
   "cell_type": "markdown",
   "metadata": {},
   "source": [
    "## POS-Tag Preprocessing"
   ]
  },
  {
   "cell_type": "code",
   "execution_count": 5,
   "metadata": {
    "collapsed": true
   },
   "outputs": [],
   "source": [
    "def posTag(par):\n",
    "    from HTMLParser import HTMLParser\n",
    "    \n",
    "    postagger = pickle.load(open(\"POSTAGGER.p\", \"rb\"))\n",
    "    \n",
    "    def onlyNounsFromSentence(teks):\n",
    "        splitted = postagger.tag(teks.split())\n",
    "        nouns = [word for word,pos in splitted \\\n",
    "            if (pos == 'NN' or pos == 'NNP' or \n",
    "                pos == 'NNS' or pos == 'NNPS'or \n",
    "                pos == 'VB')]\n",
    "        nounsSentence = ' '.join(nouns)\n",
    "        return nounsSentence\n",
    "\n",
    "    class MLStripper(HTMLParser):\n",
    "        def __init__(self):\n",
    "            self.reset()\n",
    "            self.fed = []\n",
    "        def handle_data(self, d):\n",
    "            self.fed.append(d)\n",
    "        def get_data(self):\n",
    "            return ' '.join(self.fed)\n",
    "\n",
    "    def strip_tags(html):\n",
    "        s = MLStripper()\n",
    "        s.feed(html)\n",
    "        striped  = s.get_data()                         #get HTML-Tags free text\n",
    "        lowers   = striped.lower()                      #Lowercase all words\n",
    "        nospace  = lowers.strip()                       #Remove leading and trailing white space\n",
    "        return nospace\n",
    "\n",
    "    par         = strip_tags(par)\n",
    "    splittedPar = par.split('.')\n",
    "    nounsPar    = ' '.join([onlyNounsFromSentence(i) for i in splittedPar])\n",
    "    return  nounsPar"
   ]
  },
  {
   "cell_type": "markdown",
   "metadata": {},
   "source": [
    "## Vectorization"
   ]
  },
  {
   "cell_type": "code",
   "execution_count": 6,
   "metadata": {
    "collapsed": false
   },
   "outputs": [],
   "source": [
    "from sklearn.feature_extraction.text import TfidfVectorizer\n",
    "\n",
    "vectPost = TfidfVectorizer(stop_words=stopwords,preprocessor=posTag,decode_error='ignore')\n",
    "vectStem = TfidfVectorizer(stop_words=stopwords,preprocessor=rmStem,decode_error='ignore')"
   ]
  },
  {
   "cell_type": "markdown",
   "metadata": {},
   "source": [
    "## Models"
   ]
  },
  {
   "cell_type": "code",
   "execution_count": 7,
   "metadata": {
    "collapsed": true
   },
   "outputs": [],
   "source": [
    "mnb = MultinomialNB(alpha=0.1)\n",
    "#knn = KNeighborsClassifier()\n",
    "svc = SVC(class_weight='balanced',probability=True,kernel='linear',cache_size=600)\n",
    "#tre = DecisionTreeClassifier(class_weight='balanced')"
   ]
  },
  {
   "cell_type": "markdown",
   "metadata": {},
   "source": [
    "## Deploy by Pickle"
   ]
  },
  {
   "cell_type": "code",
   "execution_count": 8,
   "metadata": {
    "collapsed": false
   },
   "outputs": [
    {
     "data": {
      "text/plain": [
       "['web-service/model.pkl',\n",
       " 'web-service/model.pkl_01.npy',\n",
       " 'web-service/model.pkl_02.npy',\n",
       " 'web-service/model.pkl_03.npy',\n",
       " 'web-service/model.pkl_04.npy',\n",
       " 'web-service/model.pkl_05.npy',\n",
       " 'web-service/model.pkl_06.npy',\n",
       " 'web-service/model.pkl_07.npy']"
      ]
     },
     "execution_count": 8,
     "metadata": {},
     "output_type": "execute_result"
    }
   ],
   "source": [
    "#Dumping model Short-Pos-MNB\n",
    "\n",
    "dataDeploy = pickle.load( open( \"v1.4\\DATA_SHORT.p\", \"rb\" ) )\n",
    "ydataDeploy= pickle.load( open( \"v1.4\\DATA_TARGET.p\", \"rb\" ) )\n",
    "modlDeploy = mnb\n",
    "\n",
    "vectDeploy = vectPost\n",
    "pipeDeploy = Pipeline([('vect', vectDeploy),('clf', modlDeploy)])\n",
    "\n",
    "modelReady = pipeDeploy.fit(dataDeploy, ydataDeploy)\n",
    "joblib.dump(modelReady, 'web-service/model.pkl')"
   ]
  },
  {
   "cell_type": "markdown",
   "metadata": {},
   "source": [
    "## Testing"
   ]
  },
  {
   "cell_type": "code",
   "execution_count": 9,
   "metadata": {
    "collapsed": false
   },
   "outputs": [
    {
     "name": "stdout",
     "output_type": "stream",
     "text": [
      "Indosat akan diakusisisi oleh Qatar Investment  :  1.0\n",
      "Harga sawah di daerah Jakarta menurun       :  -1.0\n"
     ]
    }
   ],
   "source": [
    "from sklearn.externals import joblib\n",
    "clf = joblib.load('web-service/model.pkl')\n",
    "testing = ['Indosat akan diakusisisi oleh Qatar Investment',\n",
    "           'Harga sawah di daerah Jakarta menurun     ']\n",
    "for test in testing : print test,' : ',clf.predict([test])[0]"
   ]
  }
 ],
 "metadata": {
  "kernelspec": {
   "display_name": "Python 2",
   "language": "python",
   "name": "python2"
  },
  "language_info": {
   "codemirror_mode": {
    "name": "ipython",
    "version": 2
   },
   "file_extension": ".py",
   "mimetype": "text/x-python",
   "name": "python",
   "nbconvert_exporter": "python",
   "pygments_lexer": "ipython2",
   "version": "2.7.11"
  }
 },
 "nbformat": 4,
 "nbformat_minor": 0
}
