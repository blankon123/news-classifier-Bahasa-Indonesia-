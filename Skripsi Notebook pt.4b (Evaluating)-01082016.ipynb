{
 "cells": [
  {
   "cell_type": "code",
   "execution_count": 1,
   "metadata": {
    "collapsed": true,
    "slideshow": {
     "slide_type": "slide"
    }
   },
   "outputs": [],
   "source": [
    "import matplotlib.pyplot as plt\n",
    "import os, re\n",
    "import pandas as pd\n",
    "import numpy as np\n",
    "\n",
    "from datetime import datetime as dt\n",
    "import cPickle as pickle\n",
    "import re #Regex\n",
    "%matplotlib inline"
   ]
  },
  {
   "cell_type": "markdown",
   "metadata": {},
   "source": [
    "# 1. Evaluating Crawling Indicator"
   ]
  },
  {
   "cell_type": "code",
   "execution_count": 2,
   "metadata": {
    "collapsed": false
   },
   "outputs": [
    {
     "name": "stdout",
     "output_type": "stream",
     "text": [
      "Wall time: 3.06 s\n"
     ]
    },
    {
     "data": {
      "text/html": [
       "<div>\n",
       "<table border=\"1\" class=\"dataframe\">\n",
       "  <thead>\n",
       "    <tr style=\"text-align: right;\">\n",
       "      <th></th>\n",
       "      <th>crawlMem</th>\n",
       "      <th>crawlTime</th>\n",
       "    </tr>\n",
       "  </thead>\n",
       "  <tbody>\n",
       "    <tr>\n",
       "      <th>count</th>\n",
       "      <td>13965.000000</td>\n",
       "      <td>13965.000000</td>\n",
       "    </tr>\n",
       "    <tr>\n",
       "      <th>mean</th>\n",
       "      <td>3252.317651</td>\n",
       "      <td>0.434459</td>\n",
       "    </tr>\n",
       "    <tr>\n",
       "      <th>std</th>\n",
       "      <td>701.726627</td>\n",
       "      <td>0.734470</td>\n",
       "    </tr>\n",
       "    <tr>\n",
       "      <th>min</th>\n",
       "      <td>2080.000000</td>\n",
       "      <td>0.000000</td>\n",
       "    </tr>\n",
       "    <tr>\n",
       "      <th>25%</th>\n",
       "      <td>2808.000000</td>\n",
       "      <td>0.132800</td>\n",
       "    </tr>\n",
       "    <tr>\n",
       "      <th>50%</th>\n",
       "      <td>2808.000000</td>\n",
       "      <td>0.156600</td>\n",
       "    </tr>\n",
       "    <tr>\n",
       "      <th>75%</th>\n",
       "      <td>4072.000000</td>\n",
       "      <td>0.511900</td>\n",
       "    </tr>\n",
       "    <tr>\n",
       "      <th>max</th>\n",
       "      <td>6832.000000</td>\n",
       "      <td>21.701800</td>\n",
       "    </tr>\n",
       "  </tbody>\n",
       "</table>\n",
       "</div>"
      ],
      "text/plain": [
       "           crawlMem     crawlTime\n",
       "count  13965.000000  13965.000000\n",
       "mean    3252.317651      0.434459\n",
       "std      701.726627      0.734470\n",
       "min     2080.000000      0.000000\n",
       "25%     2808.000000      0.132800\n",
       "50%     2808.000000      0.156600\n",
       "75%     4072.000000      0.511900\n",
       "max     6832.000000     21.701800"
      ]
     },
     "execution_count": 2,
     "metadata": {},
     "output_type": "execute_result"
    }
   ],
   "source": [
    "# %time DATACrawl = pickle.load( open( \"v1.4\\DATA_ANALSISIS_crawl.p\", \"rb\" ) )\n",
    "%time DATACrawl = pickle.load( open( \"v1.4\\DATA_ANALSISIS_crawl-v2.p\", \"rb\" ) )\n",
    "crawlIndicator = pd.DataFrame([DATACrawl.crawlMem,DATACrawl.crawlTime]).transpose()\n",
    "crawlIndicator.describe()"
   ]
  },
  {
   "cell_type": "code",
   "execution_count": 3,
   "metadata": {
    "collapsed": false
   },
   "outputs": [
    {
     "name": "stdout",
     "output_type": "stream",
     "text": [
      "Memory Positif :  377552.0 Byte\n",
      "Memory Negatif :  45041064.0 Byte\n",
      "Time Positif   :  34.7887 Detik\n",
      "Time Negatif   :  6032.4353 Detik\n"
     ]
    },
    {
     "data": {
      "text/html": [
       "<div>\n",
       "<table border=\"1\" class=\"dataframe\">\n",
       "  <thead>\n",
       "    <tr style=\"text-align: right;\">\n",
       "      <th></th>\n",
       "      <th>Memory Positif</th>\n",
       "      <th>Time Positif</th>\n",
       "      <th>Memory Negatif</th>\n",
       "      <th>Time Negatif</th>\n",
       "    </tr>\n",
       "  </thead>\n",
       "  <tbody>\n",
       "    <tr>\n",
       "      <th>count</th>\n",
       "      <td>110.000000</td>\n",
       "      <td>110.000000</td>\n",
       "      <td>13855.000000</td>\n",
       "      <td>13855.000000</td>\n",
       "    </tr>\n",
       "    <tr>\n",
       "      <th>mean</th>\n",
       "      <td>3432.290909</td>\n",
       "      <td>0.316261</td>\n",
       "      <td>3250.888777</td>\n",
       "      <td>0.435398</td>\n",
       "    </tr>\n",
       "    <tr>\n",
       "      <th>std</th>\n",
       "      <td>863.851110</td>\n",
       "      <td>0.565705</td>\n",
       "      <td>700.142556</td>\n",
       "      <td>0.735595</td>\n",
       "    </tr>\n",
       "    <tr>\n",
       "      <th>min</th>\n",
       "      <td>2368.000000</td>\n",
       "      <td>0.046600</td>\n",
       "      <td>2080.000000</td>\n",
       "      <td>0.000000</td>\n",
       "    </tr>\n",
       "    <tr>\n",
       "      <th>25%</th>\n",
       "      <td>2520.000000</td>\n",
       "      <td>0.129025</td>\n",
       "      <td>2808.000000</td>\n",
       "      <td>0.132800</td>\n",
       "    </tr>\n",
       "    <tr>\n",
       "      <th>50%</th>\n",
       "      <td>3920.000000</td>\n",
       "      <td>0.145450</td>\n",
       "      <td>2808.000000</td>\n",
       "      <td>0.156700</td>\n",
       "    </tr>\n",
       "    <tr>\n",
       "      <th>75%</th>\n",
       "      <td>4072.000000</td>\n",
       "      <td>0.200300</td>\n",
       "      <td>4072.000000</td>\n",
       "      <td>0.512700</td>\n",
       "    </tr>\n",
       "    <tr>\n",
       "      <th>max</th>\n",
       "      <td>6832.000000</td>\n",
       "      <td>4.256200</td>\n",
       "      <td>6824.000000</td>\n",
       "      <td>21.701800</td>\n",
       "    </tr>\n",
       "  </tbody>\n",
       "</table>\n",
       "</div>"
      ],
      "text/plain": [
       "       Memory Positif  Time Positif  Memory Negatif  Time Negatif\n",
       "count      110.000000    110.000000    13855.000000  13855.000000\n",
       "mean      3432.290909      0.316261     3250.888777      0.435398\n",
       "std        863.851110      0.565705      700.142556      0.735595\n",
       "min       2368.000000      0.046600     2080.000000      0.000000\n",
       "25%       2520.000000      0.129025     2808.000000      0.132800\n",
       "50%       3920.000000      0.145450     2808.000000      0.156700\n",
       "75%       4072.000000      0.200300     4072.000000      0.512700\n",
       "max       6832.000000      4.256200     6824.000000     21.701800"
      ]
     },
     "execution_count": 3,
     "metadata": {},
     "output_type": "execute_result"
    }
   ],
   "source": [
    "DATA_ANALSISIS_crawl    = DATACrawl[DATACrawl.flag.isin([-1, 1])]\n",
    "DATA_ANALSISIS_crawlPos = DATA_ANALSISIS_crawl[DATA_ANALSISIS_crawl.flag == 1]\n",
    "DATA_ANALSISIS_crawlNeg = DATA_ANALSISIS_crawl[DATA_ANALSISIS_crawl.flag == -1]\n",
    "crawlAnalysis = pd.DataFrame([DATA_ANALSISIS_crawlPos.crawlMem,DATA_ANALSISIS_crawlPos.crawlTime,\n",
    "                              DATA_ANALSISIS_crawlNeg.crawlMem,DATA_ANALSISIS_crawlNeg.crawlTime]).transpose()\n",
    "crawlAnalysis.columns = ['Memory Positif','Time Positif','Memory Negatif','Time Negatif']\n",
    "print 'Memory Positif : ',sum(DATA_ANALSISIS_crawlPos.crawlMem), 'Byte'\n",
    "print 'Memory Negatif : ',sum(DATA_ANALSISIS_crawlNeg.crawlMem), 'Byte'\n",
    "print 'Time Positif   : ',sum(DATA_ANALSISIS_crawlPos.crawlTime), 'Detik'\n",
    "print 'Time Negatif   : ',sum(DATA_ANALSISIS_crawlNeg.crawlTime),'Detik'\n",
    "crawlAnalysis.describe()"
   ]
  },
  {
   "cell_type": "markdown",
   "metadata": {},
   "source": [
    "#### Terlihat total penggunaan waktu dan memory sangat signifikan, hal tersebut karena jumlah berita positif dan negatif yang berbeda jauh"
   ]
  },
  {
   "cell_type": "markdown",
   "metadata": {
    "slideshow": {
     "slide_type": "slide"
    }
   },
   "source": [
    "# 2.Evaluating the Classifier v1.4 vs v1.6 vs v2.0\n",
    "\n",
    "\n",
    "## 2.1 Load from the 'Pickled' dump"
   ]
  },
  {
   "cell_type": "code",
   "execution_count": 4,
   "metadata": {
    "collapsed": false,
    "slideshow": {
     "slide_type": "subslide"
    }
   },
   "outputs": [
    {
     "name": "stdout",
     "output_type": "stream",
     "text": [
      "Wall time: 83 ms\n",
      "Wall time: 101 ms\n",
      "Wall time: 1.19 s\n",
      "Wall time: 138 ms\n",
      "Wall time: 194 ms\n",
      "Wall time: 1.51 s\n",
      "Wall time: 493 ms\n",
      "Wall time: 481 ms\n",
      "Wall time: 477 ms\n",
      "Wall time: 80 ms\n",
      "Wall time: 116 ms\n",
      "Wall time: 53 ms\n",
      "Wall time: 50 ms\n"
     ]
    }
   ],
   "source": [
    "DATAStd  = pd.DataFrame()\n",
    "DATAPost = pd.DataFrame()\n",
    "\n",
    "#Load standard striped Text\n",
    "%time DATAStd['Judul'] = pickle.load( open( \"v1.4\\DATA_JUDULStriped-v2.p\", \"rb\" ) )\n",
    "%time DATAStd['Short'] = pickle.load( open( \"v1.4\\DATA_SHORTStriped-v2.p\", \"rb\" ) )\n",
    "%time DATAStd['Long']  = pickle.load( open( \"v1.4\\DATA_LONGStriped-v2.p\", \"rb\" ) )\n",
    "\n",
    "#Load from PosTagged Noun and verb only Text\n",
    "%time DATAPost['Judul'] = pickle.load( open( \"v1.6\\DATA_JUDULpostag-v2.p\", \"rb\" ) )\n",
    "%time DATAPost['Short'] = pickle.load( open( \"v1.6\\DATA_SHORTpostag-v2.p\", \"rb\" ) )\n",
    "%time DATAPost['Long']  = pickle.load( open( \"v1.6\\DATA_LONGpostag-v2.p\", \"rb\" ) )\n",
    "\n",
    "#Load number of total tag in Text\n",
    "%time AllFracJudul = pickle.load( open( \"v2.0\\DATA_JUDUL-v3.p\", \"rb\" ) )\n",
    "%time AllFracShort = pickle.load( open( \"v2.0\\DATA_SHORT-v3.p\", \"rb\" ) )\n",
    "%time AllFracLong  = pickle.load( open( \"v2.0\\DATA_LONG-v3.p\", \"rb\" ) )\n",
    "\n",
    "#Load number of total noun-verb only in Text\n",
    "%time NVFracJudul = pickle.load( open( \"v2.0\\DATA_JUDUL-v2.p\", \"rb\" ) )\n",
    "%time NVFracShort = pickle.load( open( \"v2.0\\DATA_SHORT-v2.p\", \"rb\" ) )\n",
    "%time NVFracLong  = pickle.load( open( \"v2.0\\DATA_LONG-v2.p\", \"rb\" ) )\n",
    "\n",
    "%time DATA_TARGET = pickle.load( open( \"v1.4\\DATA_TARGET-v2.p\", \"rb\" ) )\n",
    "\n",
    "# DATA_TARGET = DATA_TARGET.sort_index()\n",
    "# DATAStem = DATAStem.sort_index()\n",
    "# DATAPost = DATAPost.sort_index()\n",
    "\n",
    "DATA_TARGET = DATA_TARGET.reset_index(drop=True)\n",
    "DATAStd  = DATAStd.reset_index(drop=True)\n",
    "DATAPost = DATAPost.reset_index(drop=True)"
   ]
  },
  {
   "cell_type": "code",
   "execution_count": 5,
   "metadata": {
    "collapsed": false
   },
   "outputs": [],
   "source": [
    "from sklearn.feature_extraction.text import TfidfVectorizer\n",
    "#Stopwords data source : https://www.illc.uva.nl/Research/Publications/Reports/MoL-2003-02.text.pdf\n",
    "stopword_html = open(\"id.stopwords.01.01.2016.txt\",'r').read()\n",
    "stopwords     = stopword_html.split(\"\\n\")\n",
    "vect = TfidfVectorizer(stop_words=stopwords,decode_error='ignore')\n",
    "vectStd = vect.fit_transform(DATAStd['Long'])\n",
    "vectPst = vect.fit_transform(DATAPost['Long'])"
   ]
  },
  {
   "cell_type": "code",
   "execution_count": 6,
   "metadata": {
    "collapsed": false
   },
   "outputs": [
    {
     "data": {
      "text/plain": [
       "<12718x73380 sparse matrix of type '<type 'numpy.float64'>'\n",
       "\twith 1348999 stored elements in Compressed Sparse Row format>"
      ]
     },
     "execution_count": 6,
     "metadata": {},
     "output_type": "execute_result"
    }
   ],
   "source": [
    "vectStd"
   ]
  },
  {
   "cell_type": "code",
   "execution_count": 7,
   "metadata": {
    "collapsed": false
   },
   "outputs": [
    {
     "data": {
      "text/plain": [
       "<12718x68443 sparse matrix of type '<type 'numpy.float64'>'\n",
       "\twith 1199875 stored elements in Compressed Sparse Row format>"
      ]
     },
     "execution_count": 7,
     "metadata": {},
     "output_type": "execute_result"
    }
   ],
   "source": [
    "vectPst"
   ]
  },
  {
   "cell_type": "markdown",
   "metadata": {},
   "source": [
    "#### Data Teks berita yang sudah dibersihkan dari tag HTML di v1.4"
   ]
  },
  {
   "cell_type": "code",
   "execution_count": 27,
   "metadata": {
    "collapsed": false
   },
   "outputs": [
    {
     "data": {
      "text/plain": [
       "0    tiba di kpk, bos agung sedayu group diam serib...\n",
       "1    edarkan ganja ke nelayan  &  pelajar, kardiman...\n",
       "Name: Judul, dtype: object"
      ]
     },
     "execution_count": 27,
     "metadata": {},
     "output_type": "execute_result"
    }
   ],
   "source": [
    "DATAStd.Judul.head(2)"
   ]
  },
  {
   "cell_type": "markdown",
   "metadata": {},
   "source": [
    "#### Data Teks berita yang sudah di-POSTag verb dan noun di v1.6"
   ]
  },
  {
   "cell_type": "code",
   "execution_count": 28,
   "metadata": {
    "collapsed": false
   },
   "outputs": [
    {
     "data": {
      "text/plain": [
       "0    tiba kpk bos agung sedayu group diam seribu ba...\n",
       "1    edarkan ganja nelayan pelajar kardiman ditangk...\n",
       "Name: Judul, dtype: object"
      ]
     },
     "execution_count": 28,
     "metadata": {},
     "output_type": "execute_result"
    }
   ],
   "source": [
    "DATAPost.Judul.head(2)"
   ]
  },
  {
   "cell_type": "markdown",
   "metadata": {},
   "source": [
    "#### Data Teks berita yang sudah diambil fraction verb dan noun di v2.0"
   ]
  },
  {
   "cell_type": "code",
   "execution_count": 32,
   "metadata": {
    "collapsed": false
   },
   "outputs": [
    {
     "data": {
      "text/plain": [
       "array([[ 0.,  0.,  1.,  0.,  0.,  0.,  0.,  3.,  0.,  0.,  0.,  0.,  0.,\n",
       "         0.,  1.,  0.,  0.,  1.,  0.,  0.,  0.,  1.,  0.,  0.,  0.,  0.,\n",
       "         0.,  0.,  0.],\n",
       "       [ 0.,  0.,  0.,  0.,  1.,  0.,  0.,  5.,  0.,  0.,  0.,  0.,  0.,\n",
       "         0.,  0.,  0.,  0.,  0.,  0.,  0.,  0.,  0.,  0.,  0.,  0.,  0.,\n",
       "         0.,  0.,  0.]])"
      ]
     },
     "execution_count": 32,
     "metadata": {},
     "output_type": "execute_result"
    }
   ],
   "source": [
    "AllFracJudul[:2]"
   ]
  },
  {
   "cell_type": "markdown",
   "metadata": {},
   "source": [
    "## 2. Evaluate"
   ]
  },
  {
   "cell_type": "code",
   "execution_count": 8,
   "metadata": {
    "collapsed": false
   },
   "outputs": [],
   "source": [
    "#Stopwords data source : https://www.illc.uva.nl/Research/Publications/Reports/MoL-2003-02.text.pdf\n",
    "stopword_html = open(\"id.stopwords.01.01.2016.txt\",'r').read()\n",
    "stopwords     = stopword_html.split(\"\\n\")"
   ]
  },
  {
   "cell_type": "code",
   "execution_count": 9,
   "metadata": {
    "collapsed": false
   },
   "outputs": [],
   "source": [
    "from sklearn import cross_validation\n",
    "from sklearn.metrics import confusion_matrix, f1_score, accuracy_score\n",
    "from sklearn.metrics import precision_score, recall_score, classification_report, roc_auc_score,roc_curve,auc\n",
    "from scipy import interp\n",
    "import datetime\n",
    "\n",
    "def skorStratCV(clf,X,y,nfolds=10):\n",
    "    metrics = []\n",
    "    \n",
    "    trainTime,testTime = [],[]\n",
    "    precis,recals,f1s,accs,rocs = [],[],[],[],[]\n",
    "    \n",
    "    mean_tpr = 0.0\n",
    "    mean_fpr = np.linspace(0, 1, 100)\n",
    "    all_tpr = []\n",
    "\n",
    "    skf = cross_validation.StratifiedKFold(y, n_folds=nfolds)\n",
    "    for train_index, test_index in skf:\n",
    "        X_train,y_train = X[train_index],y[train_index]\n",
    "        X_test,y_test   = X[test_index],y[test_index]\n",
    "        \n",
    "        #training time\n",
    "        start = dt.now()\n",
    "        clf.fit(X_train, y_train)\n",
    "        end = dt.now()\n",
    "        trainTime.append((end-start).microseconds)\n",
    "        \n",
    "        #testing time\n",
    "        start = dt.now()\n",
    "        yhat = clf.predict(X_test)\n",
    "        end = dt.now()\n",
    "        testTime.append((end-start).microseconds)\n",
    "        \n",
    "        #score\n",
    "        precis.append(precision_score(y_test, yhat, average='binary'))\n",
    "        recals.append(recall_score(y_test, yhat, average='binary'))\n",
    "        f1s.append(f1_score(y_test, yhat, average='binary'))\n",
    "        accs.append(accuracy_score(y_test, yhat))\n",
    "        \n",
    "        probas_              = clf.fit(X_train, y_train).predict_proba(X_test)\n",
    "        fpr, tpr, thresholds = roc_curve(y_test, probas_[:, 1])\n",
    "        mean_tpr            += interp(mean_fpr, fpr, tpr)\n",
    "        mean_tpr[0]          = 0.0\n",
    "        \n",
    "    def ave(lis):\n",
    "        return sum(lis)/len(lis)\n",
    "    \n",
    "    metrics.append(ave(trainTime))\n",
    "    metrics.append(ave(testTime))\n",
    "    metrics.append(ave(precis))\n",
    "    metrics.append(ave(recals))\n",
    "    metrics.append(ave(f1s))\n",
    "    metrics.append(ave(accs))\n",
    "    \n",
    "    mean_tpr /= nfolds\n",
    "    mean_tpr[-1] = 1.0\n",
    "    mean_auc = auc(mean_fpr, mean_tpr)\n",
    "    metrics.append(mean_auc)\n",
    "    \n",
    "    return metrics,mean_fpr,mean_tpr"
   ]
  },
  {
   "cell_type": "code",
   "execution_count": 10,
   "metadata": {
    "collapsed": false
   },
   "outputs": [],
   "source": [
    "from sklearn.linear_model import SGDClassifier\n",
    "from sklearn.naive_bayes import MultinomialNB\n",
    "from sklearn.svm import SVC\n",
    "from sklearn.tree import DecisionTreeClassifier\n",
    "from sklearn.feature_extraction.text import TfidfVectorizer\n",
    "from sklearn.neighbors import KNeighborsClassifier\n",
    "from sklearn.pipeline import Pipeline\n",
    "\n",
    "mnb = MultinomialNB(alpha=0.1)\n",
    "#knn = KNeighborsClassifier()\n",
    "svc = SVC(class_weight='balanced',probability=True,kernel='linear',cache_size=800)\n",
    "#tre = DecisionTreeClassifier(class_weight='balanced')\n",
    "\n",
    "vect = TfidfVectorizer(stop_words=stopwords,decode_error='ignore')\n",
    "\n",
    "models = [{'name' : 'MNB', 'pipe' : Pipeline([('vect', vect),('clf', mnb)])},\n",
    "          #{'name' : 'KNN', 'pipe' : Pipeline([('vect', vect),('clf', knn)])},\n",
    "          {'name' : 'SVM', 'pipe' : Pipeline([('vect', vect),('clf', svc)])},\n",
    "          #{'name' : 'TREE', 'pipe' : Pipeline([('vect', vect),('clf', tre)])}\n",
    "         ]\n",
    "\n",
    "models_frac = [{'name' : 'MNB', 'pipe' : mnb},\n",
    "               {'name' : 'SVM', 'pipe' : svc},\n",
    "              ]"
   ]
  },
  {
   "cell_type": "code",
   "execution_count": 31,
   "metadata": {
    "collapsed": false
   },
   "outputs": [
    {
     "name": "stdout",
     "output_type": "stream",
     "text": [
      "Total Negative Instances    :  12609\n",
      "Training Negative Instances :  6304\n",
      "Training Positif Instances  :  109\n"
     ]
    }
   ],
   "source": [
    "X1 = []\n",
    "\n",
    "X1.append({'name':'Judul','Prep':'Std','Data':DATAStd['Judul']})\n",
    "X1.append({'name':'Short','Prep':'Std','Data':DATAStd['Short']})\n",
    "X1.append({'name':'Long' ,'Prep':'Std','Data':DATAStd['Long']})\n",
    "X1.append({'name':'Judul','Prep':'Post','Data':DATAPost['Judul']})\n",
    "X1.append({'name':'Short','Prep':'Post','Data':DATAPost['Short']})\n",
    "X1.append({'name':'Long' ,'Prep':'Post','Data':DATAPost['Long']})\n",
    "\n",
    "X2 = []\n",
    "X2.append({'name':'Judul','Prep':'AllTag','Data':AllFracJudul})\n",
    "X2.append({'name':'Short','Prep':'AllTag','Data':AllFracShort})\n",
    "X2.append({'name':'Long' ,'Prep':'AllTag','Data':AllFracLong})\n",
    "# X2.append({'name':'Judul','Prep':'NVTag','Data':NVFracJudul})\n",
    "# X2.append({'name':'Short','Prep':'NVTag','Data':NVFracShort})\n",
    "# X2.append({'name':'Long' ,'Prep':'NVTag','Data':NVFracLong})\n",
    "\n",
    "y_  = DATA_TARGET\n",
    "\n",
    "#We only use 5% of total negative instance\n",
    "factor = 50.0/100\n",
    "size   = int(factor*DATA_TARGET[DATA_TARGET.values == -1].count())\n",
    "print 'Total Negative Instances    : ',DATA_TARGET[DATA_TARGET.values == -1].count()\n",
    "print 'Training Negative Instances : ',size\n",
    "print 'Training Positif Instances  : ',DATA_TARGET[DATA_TARGET.values == 1].count()"
   ]
  },
  {
   "cell_type": "code",
   "execution_count": 32,
   "metadata": {
    "collapsed": false
   },
   "outputs": [
    {
     "data": {
      "image/png": "[encoded data removed]",
      "text/plain": [
       "<matplotlib.figure.Figure at 0x12c54fd0>"
      ]
     },
     "metadata": {},
     "output_type": "display_data"
    }
   ],
   "source": [
    "import matplotlib.pyplot as plt\n",
    "import seaborn as sns\n",
    "sns.set()\n",
    "\n",
    "metric = []\n",
    "for xi in X1:\n",
    "    X_ = xi['Data']\n",
    "    for mod in models:\n",
    "        xP = X_[y_[y_.values == 1].index]\n",
    "        xN = X_[y_[y_.values == -1].index][:size]\n",
    "        X  = np.append(xP,xN)\n",
    "        \n",
    "        yP = y_[y_.values == 1]\n",
    "        yN = y_[y_.values == -1][:size]\n",
    "        y  = np.append(yP,yN)\n",
    "        \n",
    "        metrics,mean_fpr,mean_tpr = skorStratCV(mod['pipe'],X,y)\n",
    "        name = xi['name']+' '+xi['Prep']+' '+mod['name']\n",
    "        plt.plot(mean_fpr, mean_tpr,label='Mean ROC %s (area = %0.2f)' % (name,metrics[6]), lw=2)\n",
    "        \n",
    "        metric.append({'name':name,'metrics':metrics})\n",
    "\n",
    "plt.plot([0, 1], [0, 1], '--', color=(0.6, 0.6, 0.6), label='Luck')\n",
    "plt.xlim([-0.05, 1.05])\n",
    "plt.ylim([-0.05, 1.05])\n",
    "plt.xlabel('False Positive Rate')\n",
    "plt.ylabel('True Positive Rate')\n",
    "plt.title('Receiver Operating Characteristic of News Text')\n",
    "plt.legend(loc=\"lower right\")\n",
    "plt.show()"
   ]
  },
  {
   "cell_type": "code",
   "execution_count": 33,
   "metadata": {
    "collapsed": false
   },
   "outputs": [
    {
     "data": {
      "image/png": "[encoded data removed]",
      "text/plain": [
       "<matplotlib.figure.Figure at 0x143a1518>"
      ]
     },
     "metadata": {},
     "output_type": "display_data"
    }
   ],
   "source": [
    "#metric = []\n",
    "for xi in X2:\n",
    "    X_ = xi['Data']\n",
    "    for mod in models_frac:\n",
    "        xP = X_[y_[y_.values == 1].index]\n",
    "        xN = X_[y_[y_.values == -1].index][:size]\n",
    "        X  = np.vstack((xP,xN))\n",
    "        \n",
    "        yP = y_[y_.values == 1]\n",
    "        yN = y_[y_.values == -1][:size]\n",
    "        y  = np.append(yP,yN)\n",
    "        \n",
    "        metrics,mean_fpr,mean_tpr = skorStratCV(mod['pipe'],X,y)\n",
    "        name = xi['name']+' '+xi['Prep']+' '+mod['name']\n",
    "        plt.plot(mean_fpr, mean_tpr,label='Mean ROC %s (area = %0.2f)' % (name,metrics[6]), lw=2)\n",
    "        \n",
    "        metric.append({'name':name,'metrics':metrics})\n",
    "\n",
    "plt.plot([0, 1], [0, 1], '--', color=(0.6, 0.6, 0.6), label='Luck')\n",
    "plt.xlim([-0.05, 1.05])\n",
    "plt.ylim([-0.05, 1.05])\n",
    "plt.xlabel('False Positive Rate')\n",
    "plt.ylabel('True Positive Rate')\n",
    "plt.title('Receiver Operating Characteristic of Total All tags & Total Noun-Verb tags')\n",
    "plt.legend(loc=\"lower right\")\n",
    "plt.show()"
   ]
  },
  {
   "cell_type": "code",
   "execution_count": 35,
   "metadata": {
    "collapsed": false
   },
   "outputs": [
    {
     "data": {
      "text/html": [
       "<table border=\"1\" cellpadding=\"3\" cellspacing=\"0\"  style=\"border:1px solid black;border-collapse:collapse;\"><tr><td  style=\"background-color:White;border-left: 1px solid transparent;border-top: 1px solid transparent;\"><b>id</b></td><td  style=\"background-color:LightGray;\"><b>nama</b></td><td  style=\"background-color:LightGray;\"><b>training&nbsptime</b></td><td  style=\"background-color:LightGray;\"><b>testing&nbsptime</b></td><td  style=\"background-color:LightGray;\"><b>p_1</b></td><td  style=\"background-color:LightGray;\"><b>r_1</b></td><td  style=\"background-color:LightGray;\"><b>F1&nbspscore</b></td><td  style=\"background-color:LightGray;text-align:center;\"><b>accuracy</b></td><td  style=\"background-color:LightGray;\"><b>AUC</b></td></tr><tr><td  style=\"background-color:LightGray;\"><b>1</b></td><td  style=\"background-color:Ivory;\">Judul&nbspStd&nbspMNB</td><td  style=\"background-color:Ivory;\">133300</td><td  style=\"background-color:Ivory;\">14700</td><td  style=\"background-color:Ivory;\">0.7000</td><td  style=\"background-color:Ivory;\">0.1545</td><td  style=\"background-color:Ivory;\">0.2488</td><td  style=\"background-color:Ivory;text-align:center;\">0.9849</td><td  style=\"background-color:Ivory;\">0.9301</td></tr><tr><td  style=\"background-color:LightGray;\"><b>2</b></td><td  style=\"background-color:AliceBlue;\">Judul&nbspStd&nbspSVM</td><td  style=\"background-color:AliceBlue;\">474200</td><td  style=\"background-color:AliceBlue;\">50200</td><td  style=\"background-color:AliceBlue;\">0.7112</td><td  style=\"background-color:AliceBlue;\">0.5118</td><td  style=\"background-color:AliceBlue;\">0.5806</td><td  style=\"background-color:AliceBlue;text-align:center;\">0.9875</td><td  style=\"background-color:AliceBlue;\">0.9280</td></tr><tr><td  style=\"background-color:LightGray;\"><b>3</b></td><td  style=\"background-color:Ivory;\">Short&nbspStd&nbspMNB</td><td  style=\"background-color:Ivory;\">177800</td><td  style=\"background-color:Ivory;\">18600</td><td  style=\"background-color:Ivory;\">0.5917</td><td  style=\"background-color:Ivory;\">0.1182</td><td  style=\"background-color:Ivory;\">0.1929</td><td  style=\"background-color:Ivory;text-align:center;\">0.9844</td><td  style=\"background-color:Ivory;\">0.9027</td></tr><tr><td  style=\"background-color:LightGray;\"><b>4</b></td><td  style=\"background-color:AliceBlue;\">Short&nbspStd&nbspSVM</td><td  style=\"background-color:AliceBlue;\">315900</td><td  style=\"background-color:AliceBlue;\">62600</td><td  style=\"background-color:AliceBlue;\">0.5367</td><td  style=\"background-color:AliceBlue;\">0.4491</td><td  style=\"background-color:AliceBlue;\">0.4739</td><td  style=\"background-color:AliceBlue;text-align:center;\">0.9830</td><td  style=\"background-color:AliceBlue;\">0.9248</td></tr><tr><td  style=\"background-color:LightGray;\"><b>5</b></td><td  style=\"background-color:Ivory;\">Long&nbspStd&nbspMNB</td><td  style=\"background-color:Ivory;\">605100</td><td  style=\"background-color:Ivory;\">286500</td><td  style=\"background-color:Ivory;\">0.3000</td><td  style=\"background-color:Ivory;\">0.0364</td><td  style=\"background-color:Ivory;\">0.0641</td><td  style=\"background-color:Ivory;text-align:center;\">0.9836</td><td  style=\"background-color:Ivory;\">0.9672</td></tr><tr><td  style=\"background-color:LightGray;\"><b>6</b></td><td  style=\"background-color:AliceBlue;\">Long&nbspStd&nbspSVM</td><td  style=\"background-color:AliceBlue;\">455300</td><td  style=\"background-color:AliceBlue;\">748400</td><td  style=\"background-color:AliceBlue;\">0.5905</td><td  style=\"background-color:AliceBlue;\">0.6227</td><td  style=\"background-color:AliceBlue;\">0.5789</td><td  style=\"background-color:AliceBlue;text-align:center;\">0.9841</td><td  style=\"background-color:AliceBlue;\">0.9777</td></tr><tr><td  style=\"background-color:LightGray;\"><b>7</b></td><td  style=\"background-color:Ivory;\">Judul&nbspPost&nbspMNB</td><td  style=\"background-color:Ivory;\">110100</td><td  style=\"background-color:Ivory;\">10500</td><td  style=\"background-color:Ivory;\">0.7000</td><td  style=\"background-color:Ivory;\">0.1455</td><td  style=\"background-color:Ivory;\">0.2313</td><td  style=\"background-color:Ivory;text-align:center;\">0.9846</td><td  style=\"background-color:Ivory;\">0.9278</td></tr><tr><td  style=\"background-color:LightGray;\"><b>8</b></td><td  style=\"background-color:AliceBlue;\">Judul&nbspPost&nbspSVM</td><td  style=\"background-color:AliceBlue;\">655800</td><td  style=\"background-color:AliceBlue;\">38300</td><td  style=\"background-color:AliceBlue;\">0.6556</td><td  style=\"background-color:AliceBlue;\">0.5491</td><td  style=\"background-color:AliceBlue;\">0.5823</td><td  style=\"background-color:AliceBlue;text-align:center;\">0.9863</td><td  style=\"background-color:AliceBlue;\">0.9340</td></tr><tr><td  style=\"background-color:LightGray;\"><b>9</b></td><td  style=\"background-color:Ivory;\">Short&nbspPost&nbspMNB</td><td  style=\"background-color:Ivory;\">153200</td><td  style=\"background-color:Ivory;\">13700</td><td  style=\"background-color:Ivory;\">0.6250</td><td  style=\"background-color:Ivory;\">0.1545</td><td  style=\"background-color:Ivory;\">0.2435</td><td  style=\"background-color:Ivory;text-align:center;\">0.9849</td><td  style=\"background-color:Ivory;\">0.9037</td></tr><tr><td  style=\"background-color:LightGray;\"><b>10</b></td><td  style=\"background-color:AliceBlue;\">Short&nbspPost&nbspSVM</td><td  style=\"background-color:AliceBlue;\">673800</td><td  style=\"background-color:AliceBlue;\">50900</td><td  style=\"background-color:AliceBlue;\">0.5169</td><td  style=\"background-color:AliceBlue;\">0.5227</td><td  style=\"background-color:AliceBlue;\">0.5106</td><td  style=\"background-color:AliceBlue;text-align:center;\">0.9828</td><td  style=\"background-color:AliceBlue;\">0.9244</td></tr><tr><td  style=\"background-color:LightGray;\"><b>11</b></td><td  style=\"background-color:Ivory;\">Long&nbspPost&nbspMNB</td><td  style=\"background-color:Ivory;\">631000</td><td  style=\"background-color:Ivory;\">191400</td><td  style=\"background-color:Ivory;\">0.3000</td><td  style=\"background-color:Ivory;\">0.0364</td><td  style=\"background-color:Ivory;\">0.0641</td><td  style=\"background-color:Ivory;text-align:center;\">0.9836</td><td  style=\"background-color:Ivory;\">0.9668</td></tr><tr><td  style=\"background-color:LightGray;\"><b>12</b></td><td  style=\"background-color:AliceBlue;\">Long&nbspPost&nbspSVM</td><td  style=\"background-color:AliceBlue;\">405200</td><td  style=\"background-color:AliceBlue;\">546700</td><td  style=\"background-color:AliceBlue;\">0.5832</td><td  style=\"background-color:AliceBlue;\">0.6400</td><td  style=\"background-color:AliceBlue;\">0.5864</td><td  style=\"background-color:AliceBlue;text-align:center;\">0.9841</td><td  style=\"background-color:AliceBlue;\">0.9770</td></tr><tr><td  style=\"background-color:LightGray;\"><b>13</b></td><td  style=\"background-color:Ivory;\">Judul&nbspAllTag&nbspMNB</td><td  style=\"background-color:Ivory;\">3300</td><td  style=\"background-color:Ivory;\">0</td><td  style=\"background-color:Ivory;\">0.0000</td><td  style=\"background-color:Ivory;\">0.0000</td><td  style=\"background-color:Ivory;\">0.0000</td><td  style=\"background-color:Ivory;text-align:center;\">0.9827</td><td  style=\"background-color:Ivory;\">0.4951</td></tr><tr><td  style=\"background-color:LightGray;\"><b>14</b></td><td  style=\"background-color:AliceBlue;\">Judul&nbspAllTag&nbspSVM</td><td  style=\"background-color:AliceBlue;\">367400</td><td  style=\"background-color:AliceBlue;\">129300</td><td  style=\"background-color:AliceBlue;\">0.0169</td><td  style=\"background-color:AliceBlue;\">0.4691</td><td  style=\"background-color:AliceBlue;\">0.0326</td><td  style=\"background-color:AliceBlue;text-align:center;\">0.5258</td><td  style=\"background-color:AliceBlue;\">0.5088</td></tr><tr><td  style=\"background-color:LightGray;\"><b>15</b></td><td  style=\"background-color:Ivory;\">Short&nbspAllTag&nbspMNB</td><td  style=\"background-color:Ivory;\">2700</td><td  style=\"background-color:Ivory;\">100</td><td  style=\"background-color:Ivory;\">0.0000</td><td  style=\"background-color:Ivory;\">0.0000</td><td  style=\"background-color:Ivory;\">0.0000</td><td  style=\"background-color:Ivory;text-align:center;\">0.9830</td><td  style=\"background-color:Ivory;\">0.5570</td></tr><tr><td  style=\"background-color:LightGray;\"><b>16</b></td><td  style=\"background-color:AliceBlue;\">Short&nbspAllTag&nbspSVM</td><td  style=\"background-color:AliceBlue;\">451000</td><td  style=\"background-color:AliceBlue;\">94400</td><td  style=\"background-color:AliceBlue;\">0.0196</td><td  style=\"background-color:AliceBlue;\">0.4591</td><td  style=\"background-color:AliceBlue;\">0.0377</td><td  style=\"background-color:AliceBlue;text-align:center;\">0.6046</td><td  style=\"background-color:AliceBlue;\">0.5237</td></tr><tr><td  style=\"background-color:LightGray;\"><b>17</b></td><td  style=\"background-color:Ivory;\">Long&nbspAllTag&nbspMNB</td><td  style=\"background-color:Ivory;\">2300</td><td  style=\"background-color:Ivory;\">200</td><td  style=\"background-color:Ivory;\">0.0000</td><td  style=\"background-color:Ivory;\">0.0000</td><td  style=\"background-color:Ivory;\">0.0000</td><td  style=\"background-color:Ivory;text-align:center;\">0.9830</td><td  style=\"background-color:Ivory;\">0.3963</td></tr><tr><td  style=\"background-color:LightGray;\"><b>18</b></td><td  style=\"background-color:AliceBlue;\">Long&nbspAllTag&nbspSVM</td><td  style=\"background-color:AliceBlue;\">477300</td><td  style=\"background-color:AliceBlue;\">114500</td><td  style=\"background-color:AliceBlue;\">0.0155</td><td  style=\"background-color:AliceBlue;\">0.3755</td><td  style=\"background-color:AliceBlue;\">0.0297</td><td  style=\"background-color:AliceBlue;text-align:center;\">0.5851</td><td  style=\"background-color:AliceBlue;\">0.5145</td></tr></table>"
      ],
      "text/plain": [
       "<ipy_table.IpyTable at 0x1344ed30>"
      ]
     },
     "execution_count": 35,
     "metadata": {},
     "output_type": "execute_result"
    }
   ],
   "source": [
    "from ipy_table import *\n",
    "metrics_table = []\n",
    "tables = []\n",
    "columns = (['id', 'nama','training time', 'testing time','p_1',\n",
    "            'r_1','F1 score','accuracy','AUC'])\n",
    "tables.append(columns)\n",
    "\n",
    "i = 0\n",
    "\n",
    "for me in metric:\n",
    "    i += 1\n",
    "    \n",
    "    metr = []\n",
    "    metr.append(i)\n",
    "    metr.append(me['name'])\n",
    "    for m in me['metrics']:\n",
    "        metr.append(m)\n",
    "\n",
    "    tables.append(metr)\n",
    "    metrics_table.append(metr)\n",
    "    #print metric\n",
    "    \n",
    "make_table(tables)\n",
    "\n",
    "# styling\n",
    "apply_theme('basic_both')\n",
    "set_column_style(7, align='center')"
   ]
  },
  {
   "cell_type": "code",
   "execution_count": 36,
   "metadata": {
    "collapsed": false
   },
   "outputs": [],
   "source": [
    "evals = pd.DataFrame(metrics_table,columns=columns)\n",
    "evals['Vars'] = [i.split()[0] for i in evals['nama']]\n",
    "evals['Prep'] = [i.split()[1] for i in evals['nama']]\n",
    "evals['Algs'] = [i.split()[2] for i in evals['nama']]\n",
    "evals.drop('nama',axis=1,inplace=True)\n",
    "evals.drop('id',axis=1,inplace=True)"
   ]
  },
  {
   "cell_type": "code",
   "execution_count": 37,
   "metadata": {
    "collapsed": false
   },
   "outputs": [
    {
     "data": {
      "text/html": [
       "<div>\n",
       "<table border=\"1\" class=\"dataframe\">\n",
       "  <thead>\n",
       "    <tr style=\"text-align: right;\">\n",
       "      <th></th>\n",
       "      <th>Judul</th>\n",
       "      <th>Short</th>\n",
       "      <th>Long</th>\n",
       "    </tr>\n",
       "  </thead>\n",
       "  <tbody>\n",
       "    <tr>\n",
       "      <th>training time</th>\n",
       "      <td>290683.333333</td>\n",
       "      <td>295733.333333</td>\n",
       "      <td>429366.666667</td>\n",
       "    </tr>\n",
       "    <tr>\n",
       "      <th>testing time</th>\n",
       "      <td>40500.000000</td>\n",
       "      <td>40050.000000</td>\n",
       "      <td>314616.666667</td>\n",
       "    </tr>\n",
       "    <tr>\n",
       "      <th>p_1</th>\n",
       "      <td>0.463963</td>\n",
       "      <td>0.381659</td>\n",
       "      <td>0.298197</td>\n",
       "    </tr>\n",
       "    <tr>\n",
       "      <th>r_1</th>\n",
       "      <td>0.305000</td>\n",
       "      <td>0.283939</td>\n",
       "      <td>0.285152</td>\n",
       "    </tr>\n",
       "    <tr>\n",
       "      <th>F1 score</th>\n",
       "      <td>0.279280</td>\n",
       "      <td>0.243096</td>\n",
       "      <td>0.220522</td>\n",
       "    </tr>\n",
       "    <tr>\n",
       "      <th>accuracy</th>\n",
       "      <td>0.908618</td>\n",
       "      <td>0.920447</td>\n",
       "      <td>0.917250</td>\n",
       "    </tr>\n",
       "    <tr>\n",
       "      <th>AUC</th>\n",
       "      <td>0.787311</td>\n",
       "      <td>0.789352</td>\n",
       "      <td>0.799920</td>\n",
       "    </tr>\n",
       "  </tbody>\n",
       "</table>\n",
       "</div>"
      ],
      "text/plain": [
       "                       Judul          Short           Long\n",
       "training time  290683.333333  295733.333333  429366.666667\n",
       "testing time    40500.000000   40050.000000  314616.666667\n",
       "p_1                 0.463963       0.381659       0.298197\n",
       "r_1                 0.305000       0.283939       0.285152\n",
       "F1 score            0.279280       0.243096       0.220522\n",
       "accuracy            0.908618       0.920447       0.917250\n",
       "AUC                 0.787311       0.789352       0.799920"
      ]
     },
     "execution_count": 37,
     "metadata": {},
     "output_type": "execute_result"
    }
   ],
   "source": [
    "splitter = ['Judul','Short','Long']\n",
    "eval_teks = pd.DataFrame([evals[evals.Vars == i].mean() for i in splitter]).transpose()\n",
    "eval_teks.set_axis(1,splitter)\n",
    "eval_teks"
   ]
  },
  {
   "cell_type": "code",
   "execution_count": 38,
   "metadata": {
    "collapsed": false
   },
   "outputs": [
    {
     "data": {
      "text/html": [
       "<div>\n",
       "<table border=\"1\" class=\"dataframe\">\n",
       "  <thead>\n",
       "    <tr style=\"text-align: right;\">\n",
       "      <th></th>\n",
       "      <th>Post</th>\n",
       "      <th>Std</th>\n",
       "      <th>AllTag</th>\n",
       "    </tr>\n",
       "  </thead>\n",
       "  <tbody>\n",
       "    <tr>\n",
       "      <th>training time</th>\n",
       "      <td>438183.333333</td>\n",
       "      <td>360266.666667</td>\n",
       "      <td>217333.333333</td>\n",
       "    </tr>\n",
       "    <tr>\n",
       "      <th>testing time</th>\n",
       "      <td>141916.666667</td>\n",
       "      <td>196833.333333</td>\n",
       "      <td>56416.666667</td>\n",
       "    </tr>\n",
       "    <tr>\n",
       "      <th>p_1</th>\n",
       "      <td>0.563468</td>\n",
       "      <td>0.571685</td>\n",
       "      <td>0.008667</td>\n",
       "    </tr>\n",
       "    <tr>\n",
       "      <th>r_1</th>\n",
       "      <td>0.341364</td>\n",
       "      <td>0.315455</td>\n",
       "      <td>0.217273</td>\n",
       "    </tr>\n",
       "    <tr>\n",
       "      <th>F1 score</th>\n",
       "      <td>0.369703</td>\n",
       "      <td>0.356533</td>\n",
       "      <td>0.016662</td>\n",
       "    </tr>\n",
       "    <tr>\n",
       "      <th>accuracy</th>\n",
       "      <td>0.984379</td>\n",
       "      <td>0.984587</td>\n",
       "      <td>0.777349</td>\n",
       "    </tr>\n",
       "    <tr>\n",
       "      <th>AUC</th>\n",
       "      <td>0.938950</td>\n",
       "      <td>0.938401</td>\n",
       "      <td>0.499231</td>\n",
       "    </tr>\n",
       "  </tbody>\n",
       "</table>\n",
       "</div>"
      ],
      "text/plain": [
       "                        Post            Std         AllTag\n",
       "training time  438183.333333  360266.666667  217333.333333\n",
       "testing time   141916.666667  196833.333333   56416.666667\n",
       "p_1                 0.563468       0.571685       0.008667\n",
       "r_1                 0.341364       0.315455       0.217273\n",
       "F1 score            0.369703       0.356533       0.016662\n",
       "accuracy            0.984379       0.984587       0.777349\n",
       "AUC                 0.938950       0.938401       0.499231"
      ]
     },
     "execution_count": 38,
     "metadata": {},
     "output_type": "execute_result"
    }
   ],
   "source": [
    "splitter = ['Post','Std','AllTag']\n",
    "eval_prep = pd.DataFrame([evals[evals.Prep == i].mean() for i in splitter]).transpose()\n",
    "eval_prep.set_axis(1,splitter)\n",
    "eval_prep"
   ]
  },
  {
   "cell_type": "code",
   "execution_count": 39,
   "metadata": {
    "collapsed": false
   },
   "outputs": [
    {
     "data": {
      "text/html": [
       "<div>\n",
       "<table border=\"1\" class=\"dataframe\">\n",
       "  <thead>\n",
       "    <tr style=\"text-align: right;\">\n",
       "      <th></th>\n",
       "      <th>MNB</th>\n",
       "      <th>SVM</th>\n",
       "    </tr>\n",
       "  </thead>\n",
       "  <tbody>\n",
       "    <tr>\n",
       "      <th>training time</th>\n",
       "      <td>202088.888889</td>\n",
       "      <td>475100.000000</td>\n",
       "    </tr>\n",
       "    <tr>\n",
       "      <th>testing time</th>\n",
       "      <td>59522.222222</td>\n",
       "      <td>203922.222222</td>\n",
       "    </tr>\n",
       "    <tr>\n",
       "      <th>p_1</th>\n",
       "      <td>0.357407</td>\n",
       "      <td>0.405139</td>\n",
       "    </tr>\n",
       "    <tr>\n",
       "      <th>r_1</th>\n",
       "      <td>0.071717</td>\n",
       "      <td>0.511010</td>\n",
       "    </tr>\n",
       "    <tr>\n",
       "      <th>F1 score</th>\n",
       "      <td>0.116079</td>\n",
       "      <td>0.379187</td>\n",
       "    </tr>\n",
       "    <tr>\n",
       "      <th>accuracy</th>\n",
       "      <td>0.983852</td>\n",
       "      <td>0.847025</td>\n",
       "    </tr>\n",
       "    <tr>\n",
       "      <th>AUC</th>\n",
       "      <td>0.782966</td>\n",
       "      <td>0.801422</td>\n",
       "    </tr>\n",
       "  </tbody>\n",
       "</table>\n",
       "</div>"
      ],
      "text/plain": [
       "                         MNB            SVM\n",
       "training time  202088.888889  475100.000000\n",
       "testing time    59522.222222  203922.222222\n",
       "p_1                 0.357407       0.405139\n",
       "r_1                 0.071717       0.511010\n",
       "F1 score            0.116079       0.379187\n",
       "accuracy            0.983852       0.847025\n",
       "AUC                 0.782966       0.801422"
      ]
     },
     "execution_count": 39,
     "metadata": {},
     "output_type": "execute_result"
    }
   ],
   "source": [
    "splitter = ['MNB','SVM']\n",
    "eval_teks = pd.DataFrame([evals[evals.Algs == i].mean() for i in splitter]).transpose()\n",
    "eval_teks.set_axis(1,splitter)\n",
    "eval_teks"
   ]
  },
  {
   "cell_type": "code",
   "execution_count": 40,
   "metadata": {
    "collapsed": false
   },
   "outputs": [
    {
     "data": {
      "text/plain": [
       "MultinomialNB(alpha=0.1, class_prior=None, fit_prior=True)"
      ]
     },
     "execution_count": 40,
     "metadata": {},
     "output_type": "execute_result"
    }
   ],
   "source": [
    "mnb"
   ]
  },
  {
   "cell_type": "code",
   "execution_count": 41,
   "metadata": {
    "collapsed": false
   },
   "outputs": [],
   "source": [
    "#knn\n",
    "# knn_params = {'n_neighbors': range(1,21), 'weights': ['uniform', 'distance'], 'algorithm': ['ball_tree', 'kd_tree'],\n",
    "#               'leaf_size': [15, 30, 50, 100], 'p': [1,2]}"
   ]
  },
  {
   "cell_type": "code",
   "execution_count": 42,
   "metadata": {
    "collapsed": false
   },
   "outputs": [
    {
     "data": {
      "text/plain": [
       "SVC(C=1.0, cache_size=800, class_weight='balanced', coef0=0.0,\n",
       "  decision_function_shape=None, degree=3, gamma='auto', kernel='linear',\n",
       "  max_iter=-1, probability=True, random_state=None, shrinking=True,\n",
       "  tol=0.001, verbose=False)"
      ]
     },
     "execution_count": 42,
     "metadata": {},
     "output_type": "execute_result"
    }
   ],
   "source": [
    "svc\n",
    "# lsvm_params = {'loss':['hinge', 'squared_hinge'],'class_weight':['balanced']}"
   ]
  },
  {
   "cell_type": "code",
   "execution_count": 43,
   "metadata": {
    "collapsed": false
   },
   "outputs": [],
   "source": [
    "#tre\n",
    "# tree_param = {\"criterion\": [\"gini\", \"entropy\"],\"class_weight\" : ['balanced']}"
   ]
  }
 ],
 "metadata": {
  "kernelspec": {
   "display_name": "Python 2",
   "language": "python",
   "name": "python2"
  },
  "language_info": {
   "codemirror_mode": {
    "name": "ipython",
    "version": 2
   },
   "file_extension": ".py",
   "mimetype": "text/x-python",
   "name": "python",
   "nbconvert_exporter": "python",
   "pygments_lexer": "ipython2",
   "version": "2.7.11"
  }
 },
 "nbformat": 4,
 "nbformat_minor": 0
}
