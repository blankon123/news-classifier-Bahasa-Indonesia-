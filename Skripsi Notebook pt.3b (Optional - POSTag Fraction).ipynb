{
 "cells": [
  {
   "cell_type": "markdown",
   "metadata": {},
   "source": [
    "# Deskripsi\n",
    "Deskripsi mengenai variable-variabel yang ada dalam penelitian ini akan dijelaskan dalam beberapa bagian:\n",
    "\n",
    "1. Labeling\n",
    "2. Loading\n",
    "3. 'News' Variables Description"
   ]
  },
  {
   "cell_type": "code",
   "execution_count": null,
   "metadata": {
    "collapsed": true
   },
   "outputs": [],
   "source": []
  },
  {
   "cell_type": "markdown",
   "metadata": {},
   "source": [
    "### Karakteristik Ekonomi \n",
    "##### (Eurostat Business Register,2010)\n",
    "1. Klasifikasi Aktivitas Ekonomi (KBLI)\n",
    "    * Aktivitas ekonomi berdasarkan bahan produksi\n",
    "2. Nilai tambah Perusahaan\n",
    "3. Ukuran-ukuran Perusahaan\n",
    "    * Jumlah pekerja\n",
    "    * *Turnover* (Nilai ambil alih)\n",
    "4. Ukuran-ukuran Perusahaan berdasarkan Balance sheet\n",
    "    * Aset\n",
    "    * Inventori\n",
    "    * Cash\n",
    "    * Dividen\n",
    "    * Obligasi\n",
    "5. Ukuran Perusahaan berdasarkan Upah dan Gaji\n",
    "    * Upah (*Wage*)\n",
    "    * Gaji (*Salary*)"
   ]
  },
  {
   "cell_type": "markdown",
   "metadata": {},
   "source": [
    "### Karakteristik Demografi\n",
    "##### (Eurostat Business Register,2010)\n",
    "1. Active and Restart\n",
    "    * Birth\n",
    "    * Death\n",
    "    * Reactivation\n",
    "    * Real Death and Real Birth\n",
    "2. Survive\n",
    "    * Break-Up\n",
    "    * Split-Off\n",
    "    * Merger\n",
    "    * Takeover\n",
    "3. Structure\n",
    "    * Change of Ownership\n",
    "    * Change of Group\n",
    "    * Restructure within enterprise/enterprise group\n",
    "    * Complex Restructure"
   ]
  },
  {
   "cell_type": "markdown",
   "metadata": {},
   "source": [
    "### Karakteristik Link dan Acuan Eksternal\n",
    "##### (Pedoman Statistical Business Registers,2015)\n",
    "1. Persentase Kepemilikan\n",
    "2. Hubungan antar 2 perusahaan\n",
    "    * Anak perusahaan"
   ]
  },
  {
   "cell_type": "code",
   "execution_count": 1,
   "metadata": {
    "collapsed": true
   },
   "outputs": [],
   "source": [
    "import matplotlib.pyplot as plt\n",
    "import os, re\n",
    "import numpy as np\n",
    "from sklearn.feature_extraction.text import CountVectorizer, TfidfVectorizer, HashingVectorizer\n",
    "from datetime import datetime as dt\n",
    "import cPickle as pickle\n",
    "import re #Regex\n",
    "import seaborn as sns\n",
    "import pandas as pd\n",
    "sns.set()\n",
    "%matplotlib inline"
   ]
  },
  {
   "cell_type": "code",
   "execution_count": 2,
   "metadata": {
    "collapsed": false
   },
   "outputs": [
    {
     "name": "stdout",
     "output_type": "stream",
     "text": [
      "Wall time: 9 ms\n",
      "Wall time: 18 ms\n",
      "Wall time: 150 ms\n",
      "Wall time: 3 ms\n",
      "Wall time: 3 ms\n",
      "Wall time: 25 ms\n",
      "Wall time: 7 ms\n",
      "Wall time: 1e+03 µs\n"
     ]
    }
   ],
   "source": [
    "DATAStem    = pd.DataFrame()\n",
    "DATAPost    = pd.DataFrame()\n",
    "DATAPost_sk = pd.DataFrame()\n",
    "\n",
    "#Load from Striped Text\n",
    "%time DATAPost['Judul'] = pickle.load( open( \"v1.4\\DATA_JUDULStriped-v4a.p\", \"rb\" ) )\n",
    "%time DATAPost['Short'] = pickle.load( open( \"v1.4\\DATA_SHORTStriped-v4a.p\", \"rb\" ) )\n",
    "%time DATAPost['Long']  = pickle.load( open( \"v1.4\\DATA_LONGStriped-v4a.p\", \"rb\" ) )\n",
    "\n",
    "#Load from Striped Text\n",
    "%time DATAPost_sk['Judul'] = pickle.load( open( \"v1.4\\DATA_JUDULStriped-v4c.p\", \"rb\" ) )\n",
    "%time DATAPost_sk['Short'] = pickle.load( open( \"v1.4\\DATA_SHORTStriped-v4c.p\", \"rb\" ) )\n",
    "%time DATAPost_sk['Long']  = pickle.load( open( \"v1.4\\DATA_LONGStriped-v4c.p\", \"rb\" ) )\n",
    "\n",
    "%time DATA_TARGET    = pickle.load( open( \"v1.4\\DATA_TARGET-v4a.p\", \"rb\" ) )\n",
    "%time DATA_TARGET_sk = pickle.load( open( \"v1.4\\DATA_TARGET-v4c.p\", \"rb\" ) )\n",
    "\n",
    "# DATA_TARGET = DATA_TARGET.sort_index()\n",
    "# DATAPost = DATAPost.sort_index()\n",
    "\n",
    "DATA_TARGET    = DATA_TARGET.reset_index(drop=True)\n",
    "DATA_TARGET_sk = DATA_TARGET_sk.reset_index(drop=True)\n",
    "DATAPost    = DATAPost.reset_index(drop=True)\n",
    "DATAPost_sk = DATAPost_sk.reset_index(drop=True)"
   ]
  },
  {
   "cell_type": "code",
   "execution_count": 3,
   "metadata": {
    "collapsed": false
   },
   "outputs": [
    {
     "name": "stdout",
     "output_type": "stream",
     "text": [
      "Wall time: 301 ms\n",
      "Wall time: 0 ns\n"
     ]
    }
   ],
   "source": [
    "%time postagger = pickle.load(open( \"POSTAGGER.p\", \"rb\" ))\n",
    "%time tagList   = pickle.load(open( \"TAGLIST.p\", \"rb\" ))\n",
    "\n",
    "import string\n",
    "import operator\n",
    "\n",
    "def toNVFraction(data):\n",
    "    def combine_dicts(a, b, op=operator.add):\n",
    "        return dict(a.items() + b.items() +\n",
    "            [(k, op(a[k], b[k])) for k in set(b) & set(a)])\n",
    "    \n",
    "    def onlyAZ(teks):\n",
    "        return re.sub(r'[^a-zA-Z]', ' ', teks)\n",
    "    \n",
    "    def onlyNVFractionSentence(teks):\n",
    "        splitted = postagger.tag(onlyAZ(teks).split())\n",
    "        N  = len(splitted)\n",
    "        word = 0\n",
    "        k = {}\n",
    "        for i in tagList:k[i] = float (0)\n",
    "        for word,pos in splitted:\n",
    "            k[pos]+=1\n",
    "        return N,k\n",
    "\n",
    "    def onlyNVFractionParagraph(par):\n",
    "        splittedPar = par.split('.')\n",
    "        word = 0\n",
    "        _k = {}\n",
    "        for i in tagList:_k[i] = float (0)\n",
    "        for sentence in splittedPar:\n",
    "            w,k = onlyNVFractionSentence(sentence)\n",
    "            word+=w\n",
    "            _k = {x: _k.get(x, 0) + k.get(x, 0) for x in set(_k)}\n",
    "        #return noun/word,verb/word\n",
    "        return _k.values()\n",
    "\n",
    "    \n",
    "    balikan = np.array([0 for i in range(0,len(tagList))])\n",
    "    for teks in data:\n",
    "        frac = onlyNVFractionParagraph(teks)\n",
    "        balikan = np.vstack((balikan,frac))\n",
    "    return balikan[1:]"
   ]
  },
  {
   "cell_type": "code",
   "execution_count": 4,
   "metadata": {
    "collapsed": false
   },
   "outputs": [
    {
     "name": "stdout",
     "output_type": "stream",
     "text": [
      "Wall time: 216 ms\n",
      "Wall time: 266 ms\n",
      "Wall time: 3.37 s\n",
      "Wall time: 32 ms\n",
      "Wall time: 32 ms\n",
      "Wall time: 233 ms\n"
     ]
    }
   ],
   "source": [
    "%time JUDULFrac = toNVFraction(DATAPost['Judul'])\n",
    "%time SHORTFrac = toNVFraction(DATAPost['Short'])\n",
    "%time LONGFrac  = toNVFraction(DATAPost['Long'])\n",
    "\n",
    "%time JUDULFrac_sk = toNVFraction(DATAPost_sk['Judul'])\n",
    "%time SHORTFrac_sk = toNVFraction(DATAPost_sk['Short'])\n",
    "%time LONGFrac_sk  = toNVFraction(DATAPost_sk['Long'])"
   ]
  },
  {
   "cell_type": "code",
   "execution_count": 5,
   "metadata": {
    "collapsed": false
   },
   "outputs": [
    {
     "data": {
      "text/html": [
       "<div>\n",
       "<table border=\"1\" class=\"dataframe\">\n",
       "  <thead>\n",
       "    <tr style=\"text-align: right;\">\n",
       "      <th></th>\n",
       "      <th>Judul</th>\n",
       "      <th>Short</th>\n",
       "      <th>Long</th>\n",
       "    </tr>\n",
       "  </thead>\n",
       "  <tbody>\n",
       "    <tr>\n",
       "      <th>0</th>\n",
       "      <td>6 keuntungan mengambil kpr saat masih lajang</td>\n",
       "      <td>saat masih lajang memang kebutuhan tak terlalu...</td>\n",
       "      <td>merdeka.com - memiliki rumah menjadi impian se...</td>\n",
       "    </tr>\n",
       "    <tr>\n",
       "      <th>1</th>\n",
       "      <td>pria ini tega ajak anaknya bersepatu roda seja...</td>\n",
       "      <td>jarak itu ditempuh selama 14 hari.</td>\n",
       "      <td>merdeka.com - hidup memang tidak mudah. seoran...</td>\n",
       "    </tr>\n",
       "    <tr>\n",
       "      <th>2</th>\n",
       "      <td>harga emas antam dibuka stagnan di rp 566.000 ...</td>\n",
       "      <td>harga pembelian emas dan harga penjualan kemba...</td>\n",
       "      <td>merdeka.com - harga emas batangan di unit bisn...</td>\n",
       "    </tr>\n",
       "    <tr>\n",
       "      <th>3</th>\n",
       "      <td>jagonya ayam gemilang di silverstone</td>\n",
       "      <td>ketiganya kembali meraih peringkat keempat dal...</td>\n",
       "      <td>merdeka.com - para pebalap jagonya ayam tampil...</td>\n",
       "    </tr>\n",
       "    <tr>\n",
       "      <th>4</th>\n",
       "      <td>pebalap jagonya ayam finish di posisi lima</td>\n",
       "      <td>trio pebalap jagonya ayam yang bernaung dengan...</td>\n",
       "      <td>merdeka.com - meski terkendala dengan masalah ...</td>\n",
       "    </tr>\n",
       "  </tbody>\n",
       "</table>\n",
       "</div>"
      ],
      "text/plain": [
       "                                               Judul  \\\n",
       "0       6 keuntungan mengambil kpr saat masih lajang   \n",
       "1  pria ini tega ajak anaknya bersepatu roda seja...   \n",
       "2  harga emas antam dibuka stagnan di rp 566.000 ...   \n",
       "3               jagonya ayam gemilang di silverstone   \n",
       "4         pebalap jagonya ayam finish di posisi lima   \n",
       "\n",
       "                                               Short  \\\n",
       "0  saat masih lajang memang kebutuhan tak terlalu...   \n",
       "1                 jarak itu ditempuh selama 14 hari.   \n",
       "2  harga pembelian emas dan harga penjualan kemba...   \n",
       "3  ketiganya kembali meraih peringkat keempat dal...   \n",
       "4  trio pebalap jagonya ayam yang bernaung dengan...   \n",
       "\n",
       "                                                Long  \n",
       "0  merdeka.com - memiliki rumah menjadi impian se...  \n",
       "1  merdeka.com - hidup memang tidak mudah. seoran...  \n",
       "2  merdeka.com - harga emas batangan di unit bisn...  \n",
       "3  merdeka.com - para pebalap jagonya ayam tampil...  \n",
       "4  merdeka.com - meski terkendala dengan masalah ...  "
      ]
     },
     "execution_count": 5,
     "metadata": {},
     "output_type": "execute_result"
    }
   ],
   "source": [
    "cek = DATAPost.head()\n",
    "cek"
   ]
  },
  {
   "cell_type": "code",
   "execution_count": 6,
   "metadata": {
    "collapsed": false
   },
   "outputs": [
    {
     "name": "stdout",
     "output_type": "stream",
     "text": [
      "[('keuntungan', 'NN'), ('mengambil', 'NN'), ('kpr', 'NN'), ('saat', 'SC'), ('masih', 'RB'), ('lajang', 'NN')]\n",
      "[('pria', 'NN'), ('ini', 'DT'), ('tega', 'NN'), ('ajak', 'NN'), ('anaknya', 'NN'), ('bersepatu', 'NN'), ('roda', 'NN'), ('sejauh', 'NN'), ('kilometer', 'NN')]\n",
      "[('harga', 'NN'), ('emas', 'NN'), ('antam', 'NN'), ('dibuka', 'VB'), ('stagnan', 'NN'), ('di', 'IN'), ('rp', 'NN'), ('per', 'NN'), ('gram', 'NN')]\n",
      "[('jagonya', 'NN'), ('ayam', 'NN'), ('gemilang', 'NN'), ('di', 'IN'), ('silverstone', 'NN')]\n",
      "[('pebalap', 'NN'), ('jagonya', 'NN'), ('ayam', 'NN'), ('finish', 'NN'), ('di', 'IN'), ('posisi', 'NN'), ('lima', 'CD')]\n"
     ]
    }
   ],
   "source": [
    "for i in cek['Judul']:\n",
    "    print postagger.tag(re.sub(r'[^a-zA-Z]', ' ', i).split())"
   ]
  },
  {
   "cell_type": "code",
   "execution_count": 7,
   "metadata": {
    "collapsed": false
   },
   "outputs": [
    {
     "name": "stdout",
     "output_type": "stream",
     "text": [
      "[[ 0.  0.  1.  0.  1.  0.  0.  8.  0.  0.  0.  0.  0.  0.  0.  0.  0.  0.\n",
      "   1.  0.  0.  1.  0.  0.  0.  0.  0.  0.  0.]]\n",
      "['FW', 'NEG', 'JJ', 'WP', 'DT', 'PENGOLAHAN', 'RP', 'NN', 'PRL', 'PRN', '-', ',', '.', 'PRP', 'RB', ':', 'NNS', 'NNP', 'VB', 'WRB', 'CC', 'CD', 'IN', 'MD', '--', 'SYM', None, 'UH', 'SC']\n"
     ]
    }
   ],
   "source": [
    "DATAPost['Short'] = pickle.load( open( \"v1.4\\DATA_SHORTStriped-v2.p\", \"rb\" ) )\n",
    "DATA_SHORTPos = DATAPost['Short']\n",
    "k = DATA_SHORTPos[DATA_SHORTPos.index == 731].values\n",
    "print toNVFraction(k)\n",
    "print tagList"
   ]
  },
  {
   "cell_type": "code",
   "execution_count": 8,
   "metadata": {
    "collapsed": true
   },
   "outputs": [],
   "source": [
    "pickle.dump( JUDULFrac, open( \"v2.0\\DATA_JUDUL-v6a.p\", \"wb\" ) )\n",
    "pickle.dump( SHORTFrac, open( \"v2.0\\DATA_SHORT-v6a.p\", \"wb\" ) )\n",
    "pickle.dump( LONGFrac,  open( \"v2.0\\DATA_LONG-v6a.p\", \"wb\" ) )\n",
    "pickle.dump( DATA_TARGET,  open( \"v2.0\\DATA_TARGET-v6a.p\", \"wb\" ) )\n",
    "\n",
    "pickle.dump( JUDULFrac_sk, open( \"v2.0\\DATA_JUDUL-v6c.p\", \"wb\" ) )\n",
    "pickle.dump( SHORTFrac_sk, open( \"v2.0\\DATA_SHORT-v6c.p\", \"wb\" ) )\n",
    "pickle.dump( LONGFrac_sk,  open( \"v2.0\\DATA_LONG-v6c.p\", \"wb\" ) )\n",
    "pickle.dump( DATA_TARGET_sk,  open( \"v2.0\\DATA_TARGET-v6c.p\", \"wb\" ) )"
   ]
  }
 ],
 "metadata": {
  "kernelspec": {
   "display_name": "Python 2",
   "language": "python",
   "name": "python2"
  },
  "language_info": {
   "codemirror_mode": {
    "name": "ipython",
    "version": 2
   },
   "file_extension": ".py",
   "mimetype": "text/x-python",
   "name": "python",
   "nbconvert_exporter": "python",
   "pygments_lexer": "ipython2",
   "version": "2.7.11"
  }
 },
 "nbformat": 4,
 "nbformat_minor": 0
}
