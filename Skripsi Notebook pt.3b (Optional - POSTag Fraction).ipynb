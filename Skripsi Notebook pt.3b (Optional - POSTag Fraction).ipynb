{
 "cells": [
  {
   "cell_type": "markdown",
   "metadata": {},
   "source": [
    "# Deskripsi\n",
    "Deskripsi mengenai variable-variabel yang ada dalam penelitian ini akan dijelaskan dalam beberapa bagian:\n",
    "\n",
    "1. Labeling\n",
    "2. Loading\n",
    "3. 'News' Variables Description"
   ]
  },
  {
   "cell_type": "code",
   "execution_count": null,
   "metadata": {
    "collapsed": true
   },
   "outputs": [],
   "source": []
  },
  {
   "cell_type": "markdown",
   "metadata": {},
   "source": [
    "### Karakteristik Ekonomi \n",
    "##### (Eurostat Business Register,2010)\n",
    "1. Klasifikasi Aktivitas Ekonomi (KBLI)\n",
    "    * Aktivitas ekonomi berdasarkan bahan produksi\n",
    "2. Nilai tambah Perusahaan\n",
    "3. Ukuran-ukuran Perusahaan\n",
    "    * Jumlah pekerja\n",
    "    * *Turnover* (Nilai ambil alih)\n",
    "4. Ukuran-ukuran Perusahaan berdasarkan Balance sheet\n",
    "    * Aset\n",
    "    * Inventori\n",
    "    * Cash\n",
    "    * Dividen\n",
    "    * Obligasi\n",
    "5. Ukuran Perusahaan berdasarkan Upah dan Gaji\n",
    "    * Upah (*Wage*)\n",
    "    * Gaji (*Salary*)"
   ]
  },
  {
   "cell_type": "code",
   "execution_count": null,
   "metadata": {
    "collapsed": true
   },
   "outputs": [],
   "source": []
  },
  {
   "cell_type": "markdown",
   "metadata": {},
   "source": [
    "### Karakteristik Demografi\n",
    "##### (Eurostat Business Register,2010)\n",
    "1. Active and Restart\n",
    "    * Birth\n",
    "    * Death\n",
    "    * Reactivation\n",
    "    * Real Death and Real Birth\n",
    "2. Survive\n",
    "    * Break-Up\n",
    "    * Split-Off\n",
    "    * Merger\n",
    "    * Takeover\n",
    "3. Structure\n",
    "    * Change of Ownership\n",
    "    * Change of Group\n",
    "    * Restructure within enterprise/enterprise group\n",
    "    * Complex Restructure"
   ]
  },
  {
   "cell_type": "code",
   "execution_count": null,
   "metadata": {
    "collapsed": true
   },
   "outputs": [],
   "source": []
  },
  {
   "cell_type": "markdown",
   "metadata": {},
   "source": [
    "### Karakteristik Link dan Acuan Eksternal\n",
    "##### (Pedoman Statistical Business Registers,2015)\n",
    "1. Persentase Kepemilikan\n",
    "2. Hubungan antar 2 perusahaan\n",
    "    * Anak perusahaan"
   ]
  },
  {
   "cell_type": "code",
   "execution_count": 2,
   "metadata": {
    "collapsed": true
   },
   "outputs": [],
   "source": [
    "import matplotlib.pyplot as plt\n",
    "import os, re\n",
    "import numpy as np\n",
    "from sklearn.feature_extraction.text import CountVectorizer, TfidfVectorizer, HashingVectorizer\n",
    "from datetime import datetime as dt\n",
    "import cPickle as pickle\n",
    "import re #Regex\n",
    "import seaborn as sns\n",
    "import pandas as pd\n",
    "sns.set()\n",
    "%matplotlib inline"
   ]
  },
  {
   "cell_type": "code",
   "execution_count": 3,
   "metadata": {
    "collapsed": false
   },
   "outputs": [
    {
     "name": "stdout",
     "output_type": "stream",
     "text": [
      "Wall time: 445 ms\n",
      "Wall time: 562 ms\n",
      "Wall time: 4.38 s\n",
      "Wall time: 139 ms\n"
     ]
    }
   ],
   "source": [
    "DATAStem = pd.DataFrame()\n",
    "DATAPost = pd.DataFrame()\n",
    "\n",
    "#Load from PosTagged Text\n",
    "%time DATAPost['Judul'] = pickle.load( open( \"v1.4\\DATA_JUDULStriped-v2.p\", \"rb\" ) )\n",
    "%time DATAPost['Short'] = pickle.load( open( \"v1.4\\DATA_SHORTStriped-v2.p\", \"rb\" ) )\n",
    "%time DATAPost['Long']  = pickle.load( open( \"v1.4\\DATA_LONGStriped-v2.p\", \"rb\" ) )\n",
    "\n",
    "%time DATA_TARGET = pickle.load( open( \"v1.4\\DATA_TARGET-v2.p\", \"rb\" ) )\n",
    "\n",
    "DATA_TARGET = DATA_TARGET.sort_index()\n",
    "DATAPost = DATAPost.sort_index()\n",
    "\n",
    "DATA_TARGET = DATA_TARGET.reset_index(drop=True)\n",
    "DATAPost = DATAPost.reset_index(drop=True)"
   ]
  },
  {
   "cell_type": "code",
   "execution_count": 4,
   "metadata": {
    "collapsed": false
   },
   "outputs": [
    {
     "name": "stdout",
     "output_type": "stream",
     "text": [
      "Wall time: 362 ms\n",
      "Wall time: 0 ns\n"
     ]
    }
   ],
   "source": [
    "%time postagger = pickle.load(open( \"POSTAGGER.p\", \"rb\" ))\n",
    "%time tagList   = pickle.load(open( \"TAGLIST.p\", \"rb\" ))\n",
    "\n",
    "import string\n",
    "import operator\n",
    "\n",
    "def toNVFraction(data):\n",
    "    def combine_dicts(a, b, op=operator.add):\n",
    "        return dict(a.items() + b.items() +\n",
    "            [(k, op(a[k], b[k])) for k in set(b) & set(a)])\n",
    "    \n",
    "    def onlyAZ(teks):\n",
    "        return re.sub(r'[^a-zA-Z]', ' ', teks)\n",
    "    \n",
    "    def onlyNVFractionSentence(teks):\n",
    "        splitted = postagger.tag(onlyAZ(teks).split())\n",
    "        N  = len(splitted)\n",
    "        word = 0\n",
    "        k = {}\n",
    "        for i in tagList:k[i] = float (0)\n",
    "        for word,pos in splitted:\n",
    "            k[pos]+=1\n",
    "        return N,k\n",
    "\n",
    "    def onlyNVFractionParagraph(par):\n",
    "        splittedPar = par.split('.')\n",
    "        word = 0\n",
    "        _k = {}\n",
    "        for i in tagList:_k[i] = float (0)\n",
    "        for sentence in splittedPar:\n",
    "            w,k = onlyNVFractionSentence(sentence)\n",
    "            word+=w\n",
    "            _k = {x: _k.get(x, 0) + k.get(x, 0) for x in set(_k)}\n",
    "        #return noun/word,verb/word\n",
    "        return _k.values()\n",
    "\n",
    "    \n",
    "    balikan = np.array([0 for i in range(0,len(tagList))])\n",
    "    for teks in data:\n",
    "        frac = onlyNVFractionParagraph(teks)\n",
    "        balikan = np.vstack((balikan,frac))\n",
    "    return balikan[1:]"
   ]
  },
  {
   "cell_type": "code",
   "execution_count": 5,
   "metadata": {
    "collapsed": false
   },
   "outputs": [
    {
     "name": "stdout",
     "output_type": "stream",
     "text": [
      "Wall time: 58.5 s\n",
      "Wall time: 1min 1s\n",
      "Wall time: 2min 15s\n"
     ]
    }
   ],
   "source": [
    "%time JUDULFrac = toNVFraction(DATAPost['Judul'])\n",
    "%time SHORTFrac = toNVFraction(DATAPost['Short'])\n",
    "%time LONGFrac  = toNVFraction(DATAPost['Long'])"
   ]
  },
  {
   "cell_type": "code",
   "execution_count": 6,
   "metadata": {
    "collapsed": false
   },
   "outputs": [
    {
     "data": {
      "text/plain": [
       "13     perseroan mengaku 2015 tahun yang sulit karena...\n",
       "130        tetap dikawal jangan sampai merugikan negara.\n",
       "197                        laba anjlok sampai 75 persen.\n",
       "210    jakarta   bisnis bioskop ternyata memberikan k...\n",
       "940    pt astra sedaya finance tbk (asdf) berencana m...\n",
       "Name: Short, dtype: object"
      ]
     },
     "execution_count": 6,
     "metadata": {},
     "output_type": "execute_result"
    }
   ],
   "source": [
    "cek = DATAPost.Short[DATA_TARGET[DATA_TARGET == 1].index].head()\n",
    "cek"
   ]
  },
  {
   "cell_type": "code",
   "execution_count": 7,
   "metadata": {
    "collapsed": false
   },
   "outputs": [
    {
     "name": "stdout",
     "output_type": "stream",
     "text": [
      "[('perseroan', 'NN'), ('mengaku', 'VB'), ('tahun', 'NN'), ('yang', 'SC'), ('sulit', 'RB'), ('karena', 'CC'), ('harga', 'NN'), ('batu', 'NN'), ('bara', 'NN'), ('anjlok', 'NN')]\n",
      "[('tetap', 'JJ'), ('dikawal', 'NN'), ('jangan', 'NEG'), ('sampai', 'VB'), ('merugikan', 'VB'), ('negara', 'NN')]\n",
      "[('laba', 'NN'), ('anjlok', 'NN'), ('sampai', 'VB'), ('persen', 'JJ')]\n",
      "[('jakarta', 'NN'), ('bisnis', 'NN'), ('bioskop', 'NN'), ('ternyata', 'RB'), ('memberikan', 'VB'), ('kontribusi', 'CD'), ('signifikan', 'NN'), ('bagi', 'IN'), ('grup', 'NN'), ('lippo', 'NN'), ('tahun', 'NN'), ('lalu', 'JJ'), ('bisnis', 'NN'), ('itu', 'DT'), ('berkontribusi', 'CD'), ('sebanyak', 'NN'), ('rp', 'NN'), ('miliar', 'NN'), ('untuk', 'IN'), ('induk', 'NN'), ('usahanya', 'NN'), ('yakni', 'NN'), ('pt', 'NN'), ('first', 'NN'), ('media', 'VB'), ('tbk', 'NN'), ('klbv', 'NN')]\n",
      "[('pt', 'NN'), ('astra', 'NN'), ('sedaya', 'NN'), ('finance', 'NN'), ('tbk', 'NN'), ('asdf', 'NN'), ('berencana', 'VB'), ('melakukan', 'VB'), ('pembayaran', 'NN'), ('bunga', 'NN'), ('obligasi', 'NN'), ('berkelanjutan', 'NN'), ('ii', 'NN')]\n"
     ]
    }
   ],
   "source": [
    "for i in cek:\n",
    "    print postagger.tag(re.sub(r'[^a-zA-Z]', ' ', i).split())"
   ]
  },
  {
   "cell_type": "code",
   "execution_count": 8,
   "metadata": {
    "collapsed": false
   },
   "outputs": [
    {
     "data": {
      "text/plain": [
       "array([[  0.,   0.,   0.,   0.,   0.,   0.,   0.,   6.,   0.,   0.,   0.,\n",
       "          0.,   0.,   0.,   1.,   0.,   0.,   0.,   1.,   0.,   1.,   0.,\n",
       "          0.,   0.,   0.,   0.,   0.,   0.,   1.],\n",
       "       [  0.,   1.,   1.,   0.,   0.,   0.,   0.,   2.,   0.,   0.,   0.,\n",
       "          0.,   0.,   0.,   0.,   0.,   0.,   0.,   2.,   0.,   0.,   0.,\n",
       "          0.,   0.,   0.,   0.,   0.,   0.,   0.],\n",
       "       [  0.,   0.,   1.,   0.,   0.,   0.,   0.,   2.,   0.,   0.,   0.,\n",
       "          0.,   0.,   0.,   0.,   0.,   0.,   0.,   1.,   0.,   0.,   0.,\n",
       "          0.,   0.,   0.,   0.,   0.,   0.,   0.],\n",
       "       [  0.,   0.,   1.,   0.,   1.,   0.,   0.,  18.,   0.,   0.,   0.,\n",
       "          0.,   0.,   0.,   1.,   0.,   0.,   0.,   2.,   0.,   0.,   2.,\n",
       "          2.,   0.,   0.,   0.,   0.,   0.,   0.],\n",
       "       [  0.,   0.,   0.,   0.,   0.,   0.,   0.,  11.,   0.,   0.,   0.,\n",
       "          0.,   0.,   0.,   0.,   0.,   0.,   0.,   2.,   0.,   0.,   0.,\n",
       "          0.,   0.,   0.,   0.,   0.,   0.,   0.]])"
      ]
     },
     "execution_count": 8,
     "metadata": {},
     "output_type": "execute_result"
    }
   ],
   "source": [
    "SHORTFrac[DATA_TARGET[DATA_TARGET == 1].index][:5]"
   ]
  },
  {
   "cell_type": "code",
   "execution_count": 9,
   "metadata": {
    "collapsed": true
   },
   "outputs": [],
   "source": [
    "pickle.dump( JUDULFrac, open( \"v2.0\\DATA_JUDUL-v3.p\", \"wb\" ) )\n",
    "pickle.dump( SHORTFrac, open( \"v2.0\\DATA_SHORT-v3.p\", \"wb\" ) )\n",
    "pickle.dump( LONGFrac,  open( \"v2.0\\DATA_LONG-v3.p\", \"wb\" ) )"
   ]
  }
 ],
 "metadata": {
  "kernelspec": {
   "display_name": "Python 2",
   "language": "python",
   "name": "python2"
  },
  "language_info": {
   "codemirror_mode": {
    "name": "ipython",
    "version": 2
   },
   "file_extension": ".py",
   "mimetype": "text/x-python",
   "name": "python",
   "nbconvert_exporter": "python",
   "pygments_lexer": "ipython2",
   "version": "2.7.11"
  }
 },
 "nbformat": 4,
 "nbformat_minor": 0
}
