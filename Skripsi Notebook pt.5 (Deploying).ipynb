{
 "cells": [
  {
   "cell_type": "code",
   "execution_count": 1,
   "metadata": {
    "collapsed": true
   },
   "outputs": [],
   "source": [
    "from sklearn.naive_bayes import MultinomialNB\n",
    "from sklearn.neighbors import KNeighborsClassifier\n",
    "from sklearn.svm import SVC\n",
    "from sklearn.tree import DecisionTreeClassifier\n",
    "import cPickle as pickle\n",
    "from sklearn.externals import joblib\n",
    "from sklearn.pipeline import Pipeline"
   ]
  },
  {
   "cell_type": "markdown",
   "metadata": {},
   "source": [
    "## Stopwords"
   ]
  },
  {
   "cell_type": "code",
   "execution_count": 2,
   "metadata": {
    "collapsed": true
   },
   "outputs": [],
   "source": [
    "stopword_html = open(\"id.stopwords.01.01.2016.txt\",'r').read()\n",
    "stopwords     = stopword_html.split(\"\\n\")"
   ]
  },
  {
   "cell_type": "markdown",
   "metadata": {},
   "source": [
    "## Stem Preprocessing"
   ]
  },
  {
   "cell_type": "code",
   "execution_count": 3,
   "metadata": {
    "collapsed": false
   },
   "outputs": [],
   "source": [
    "# import StemmerFactory class, github : https://github.com/masdevid/PySastrawi\n",
    "\n",
    "def rmStem(pars):\n",
    "    # stemming process\n",
    "    # Removing the HTML tags, similar with php's strip_tag\n",
    "    from HTMLParser import HTMLParser\n",
    "    from Sastrawi.Stemmer.StemmerFactory import StemmerFactory\n",
    "\n",
    "    class MLStripper(HTMLParser):\n",
    "        def __init__(self):\n",
    "            self.reset()\n",
    "            self.fed = []\n",
    "        def handle_data(self, d):\n",
    "            self.fed.append(d)\n",
    "        def get_data(self):\n",
    "            return ' '.join(self.fed)\n",
    "\n",
    "    def strip_tags(html):\n",
    "        s = MLStripper()\n",
    "        s.feed(html)\n",
    "        striped  = s.get_data()                         #get HTML-Tags free text\n",
    "        lowers   = striped.lower()                      #Lowercase all words\n",
    "        nospace  = lowers.strip()                       #Remove leading and trailing white space\n",
    "        return nospace\n",
    "\n",
    "    # create stemmer\n",
    "    factory = StemmerFactory()\n",
    "    stemmer = factory.create_stemmer()\n",
    "    \n",
    "    stripped= strip_tags(pars)\n",
    "    clean   = stemmer.stem(str(stripped)) #Stemming\n",
    "    return clean"
   ]
  },
  {
   "cell_type": "markdown",
   "metadata": {},
   "source": [
    "## POS-Tag Preprocessing"
   ]
  },
  {
   "cell_type": "code",
   "execution_count": 3,
   "metadata": {
    "collapsed": true
   },
   "outputs": [],
   "source": [
    "def posTag(par):\n",
    "    from HTMLParser import HTMLParser\n",
    "    import string\n",
    "    import re #Regex\n",
    "    \n",
    "    postagger = pickle.load(open(\"POSTAGGER.p\", \"rb\"))\n",
    "    \n",
    "    def onlyAZ(teks):\n",
    "        return re.sub(r'[^a-zA-Z]',' ', teks)\n",
    "\n",
    "    def onlyNVFromSentence(teks):\n",
    "        splitted = postagger.tag(onlyAZ(teks).split())\n",
    "        nouns = [word for word,pos in splitted \\\n",
    "            if (pos == 'NN' or pos == 'NNP' or \n",
    "                pos == 'NNS' or pos == 'VB')]\n",
    "        nounsSentence = string.join(nouns)\n",
    "        return nounsSentence\n",
    "\n",
    "    class MLStripper(HTMLParser):\n",
    "        def __init__(self):\n",
    "            self.reset()\n",
    "            self.fed = []\n",
    "        def handle_data(self, d):\n",
    "            self.fed.append(d)\n",
    "        def get_data(self):\n",
    "            return ' '.join(self.fed)\n",
    "\n",
    "    def strip_tags(html):\n",
    "        s = MLStripper()\n",
    "        s.feed(html)\n",
    "        striped  = s.get_data()                         #get HTML-Tags free text\n",
    "        lowers   = striped.lower()                      #Lowercase all words\n",
    "        nospace  = lowers.strip()                       #Remove leading and trailing white space\n",
    "        return nospace\n",
    "\n",
    "    par         = strip_tags(par)\n",
    "    splittedPar = par.split('.')\n",
    "    NVPar    = ' '.join([onlyNVFromSentence(i) for i in splittedPar])\n",
    "    return  NVPar"
   ]
  },
  {
   "cell_type": "code",
   "execution_count": 4,
   "metadata": {
    "collapsed": false
   },
   "outputs": [],
   "source": [
    "def strip_tags(html):\n",
    "    from HTMLParser import HTMLParser\n",
    "    import string\n",
    "    import re #Regex\n",
    "    \n",
    "    def onlyAZ(teks):\n",
    "        return re.sub(r'[^a-zA-Z]',' ', teks)\n",
    "    \n",
    "    class MLStripper(HTMLParser):\n",
    "        def __init__(self):\n",
    "            self.reset()\n",
    "            self.fed = []\n",
    "        def handle_data(self, d):\n",
    "            self.fed.append(d)\n",
    "        def get_data(self):\n",
    "            return ' '.join(self.fed)\n",
    "        \n",
    "    s = MLStripper()\n",
    "    s.feed(html)\n",
    "    striped  = s.get_data()                         #get HTML-Tags free text\n",
    "    onlyaz   = onlyAZ(striped)\n",
    "    lowers   = onlyaz.lower()                      #Lowercase all words\n",
    "    nospace  = lowers.strip()                       #Remove leading and trailing white space\n",
    "    return nospace"
   ]
  },
  {
   "cell_type": "markdown",
   "metadata": {},
   "source": [
    "## Vectorization"
   ]
  },
  {
   "cell_type": "code",
   "execution_count": 5,
   "metadata": {
    "collapsed": false
   },
   "outputs": [],
   "source": [
    "from sklearn.feature_extraction.text import TfidfVectorizer\n",
    "\n",
    "#vectPost = TfidfVectorizer(stop_words=stopwords,preprocessor=posTag,decode_error='ignore')\n",
    "vectStop = TfidfVectorizer(preprocessor=strip_tags,decode_error='ignore')\n",
    "#vectStem = TfidfVectorizer(stop_words=stopwords,preprocessor=rmStem,decode_error='ignore')"
   ]
  },
  {
   "cell_type": "markdown",
   "metadata": {},
   "source": [
    "## Models"
   ]
  },
  {
   "cell_type": "code",
   "execution_count": 6,
   "metadata": {
    "collapsed": true
   },
   "outputs": [],
   "source": [
    "mnb = MultinomialNB(alpha=0.1)\n",
    "svc = SVC(probability=True,kernel='linear',cache_size=600)"
   ]
  },
  {
   "cell_type": "code",
   "execution_count": 13,
   "metadata": {
    "collapsed": false
   },
   "outputs": [
    {
     "data": {
      "text/plain": [
       "array([ 0.8 ,  0.4 ,  0.35,  0.1 ])"
      ]
     },
     "execution_count": 13,
     "metadata": {},
     "output_type": "execute_result"
    }
   ],
   "source": [
    "import numpy as np\n",
    "from sklearn import metrics\n",
    "y = np.array([1, 1, 2, 2])\n",
    "scores = np.array([0.1, 0.4, 0.35, 0.8])\n",
    "fpr, tpr, thresholds = metrics.roc_curve(y, scores, pos_label=2)\n",
    "fpr\n",
    "tpr\n",
    "thresholds"
   ]
  },
  {
   "cell_type": "markdown",
   "metadata": {},
   "source": [
    "## Deploy by Pickle"
   ]
  },
  {
   "cell_type": "code",
   "execution_count": 7,
   "metadata": {
    "collapsed": false
   },
   "outputs": [
    {
     "data": {
      "text/plain": [
       "['web-service/model3.pkl',\n",
       " 'web-service/model3.pkl_01.npy',\n",
       " 'web-service/model3.pkl_02.npy',\n",
       " 'web-service/model3.pkl_03.npy',\n",
       " 'web-service/model3.pkl_04.npy',\n",
       " 'web-service/model3.pkl_05.npy',\n",
       " 'web-service/model3.pkl_06.npy',\n",
       " 'web-service/model3.pkl_07.npy']"
      ]
     },
     "execution_count": 7,
     "metadata": {},
     "output_type": "execute_result"
    }
   ],
   "source": [
    "#Dumping model Judul-(POSTAG+Stopwords)-MNB\n",
    "import numpy as np\n",
    "\n",
    "X_1 = pickle.load( open( \"v1.4\\DATA_JUDUL-v4a.p\", \"rb\" ) )\n",
    "X_2 = pickle.load( open( \"v1.4\\DATA_SHORT-v4a.p\", \"rb\" ) )\n",
    "X_ = X_1+' '+X_2\n",
    "y_= pickle.load( open( \"v1.4\\DATA_TARGET-v4a.p\", \"rb\" ) )\n",
    "\n",
    "factor = 100.0/100\n",
    "size   = int(factor*y_[y_.values == -1].count())\n",
    "\n",
    "xP = X_[y_[y_.values == 1].index]\n",
    "xN = X_[y_[y_.values == -1].index][:size]\n",
    "X  = np.append(xP,xN)\n",
    "\n",
    "yP = y_[y_.values == 1]\n",
    "yN = y_[y_.values == -1][:size]\n",
    "y  = np.append(yP,yN)\n",
    "modlDeploy = mnb\n",
    "\n",
    "vectDeploy = vectStop\n",
    "pipeDeploy = Pipeline([('vect', vectDeploy),('clf', modlDeploy)])\n",
    "\n",
    "modelReady = pipeDeploy.fit(X, y)\n",
    "joblib.dump(modelReady, 'web-service/model3.pkl')"
   ]
  },
  {
   "cell_type": "markdown",
   "metadata": {},
   "source": [
    "## Testing"
   ]
  },
  {
   "cell_type": "code",
   "execution_count": 10,
   "metadata": {
    "collapsed": false
   },
   "outputs": [
    {
     "name": "stdout",
     "output_type": "stream",
     "text": [
      "Indosat Laba akan akusisisi oleh Qatar Investment  :  -1.0\n",
      "Harga sawah di daerah Jakarta menurun       :  -1.0\n",
      "indosat laba akan akusisisi oleh qatar investment  :  -1.0\n",
      "harga sawah di daerah jakarta menurun  :  -1.0\n"
     ]
    }
   ],
   "source": [
    "from sklearn.externals import joblib\n",
    "clf = joblib.load('web-service/model3.pkl')\n",
    "# clf = modelReady\n",
    "testing = ['Indosat Laba akan akusisisi oleh Qatar Investment',\n",
    "           'Harga sawah di daerah Jakarta menurun     ']\n",
    "for test in testing : print test,' : ',clf.predict([test])[0]\n",
    "for test in testing : print strip_tags(test),' : ',clf.predict([test])[0]"
   ]
  },
  {
   "cell_type": "code",
   "execution_count": null,
   "metadata": {
    "collapsed": true
   },
   "outputs": [],
   "source": [
    "clf.steps[0][1].preprocessor('Indosat akan diakusisisi oleh Qatar Investment <i>asdasd</i>')"
   ]
  },
  {
   "cell_type": "code",
   "execution_count": 10,
   "metadata": {
    "collapsed": false
   },
   "outputs": [
    {
     "ename": "NameError",
     "evalue": "name 'json' is not defined",
     "output_type": "error",
     "traceback": [
      "\u001b[1;31m---------------------------------------------------------------------------\u001b[0m",
      "\u001b[1;31mNameError\u001b[0m                                 Traceback (most recent call last)",
      "\u001b[1;32m<ipython-input-10-9eba61ff9c05>\u001b[0m in \u001b[0;36m<module>\u001b[1;34m()\u001b[0m\n\u001b[0;32m      1\u001b[0m \u001b[1;32mwith\u001b[0m \u001b[0mopen\u001b[0m\u001b[1;33m(\u001b[0m\u001b[1;34m'web-service/sample1.json'\u001b[0m\u001b[1;33m)\u001b[0m \u001b[1;32mas\u001b[0m \u001b[0mdata_file\u001b[0m\u001b[1;33m:\u001b[0m\u001b[1;33m\u001b[0m\u001b[0m\n\u001b[1;32m----> 2\u001b[1;33m     \u001b[0mdataJson\u001b[0m \u001b[1;33m=\u001b[0m \u001b[0mjson\u001b[0m\u001b[1;33m.\u001b[0m\u001b[0mload\u001b[0m\u001b[1;33m(\u001b[0m\u001b[0mdata_file\u001b[0m\u001b[1;33m)\u001b[0m\u001b[1;33m\u001b[0m\u001b[0m\n\u001b[0m\u001b[0;32m      3\u001b[0m \u001b[1;33m\u001b[0m\u001b[0m\n\u001b[0;32m      4\u001b[0m \u001b[0mclf\u001b[0m \u001b[1;33m=\u001b[0m \u001b[0mjoblib\u001b[0m\u001b[1;33m.\u001b[0m\u001b[0mload\u001b[0m\u001b[1;33m(\u001b[0m\u001b[1;34m'web-service/model.pkl'\u001b[0m\u001b[1;33m)\u001b[0m\u001b[1;33m\u001b[0m\u001b[0m\n\u001b[0;32m      5\u001b[0m \u001b[0mids\u001b[0m     \u001b[1;33m=\u001b[0m \u001b[1;33m[\u001b[0m\u001b[0mz\u001b[0m\u001b[1;33m[\u001b[0m\u001b[1;34m'id'\u001b[0m\u001b[1;33m]\u001b[0m \u001b[1;32mfor\u001b[0m \u001b[0mz\u001b[0m \u001b[1;32min\u001b[0m \u001b[0mdataJson\u001b[0m\u001b[1;33m[\u001b[0m\u001b[1;34m'text'\u001b[0m\u001b[1;33m]\u001b[0m\u001b[1;33m]\u001b[0m\u001b[1;33m\u001b[0m\u001b[0m\n",
      "\u001b[1;31mNameError\u001b[0m: name 'json' is not defined"
     ]
    }
   ],
   "source": [
    "with open('web-service/sample1.json') as data_file:    \n",
    "    dataJson = json.load(data_file)\n",
    "\n",
    "clf = joblib.load('web-service/model.pkl')\n",
    "ids     = [z['id'] for z in dataJson['text']]\n",
    "X_train = [z['text'] for z in dataJson['text']]\n",
    "y_preds = clf.predict(X_train).tolist()\n",
    "resp = [{'id':ids[i],'flag':y_preds[i]*2} for i in range(0,len(ids))]\n",
    "type(y_preds[1])"
   ]
  }
 ],
 "metadata": {
  "kernelspec": {
   "display_name": "Python 2",
   "language": "python",
   "name": "python2"
  },
  "language_info": {
   "codemirror_mode": {
    "name": "ipython",
    "version": 2
   },
   "file_extension": ".py",
   "mimetype": "text/x-python",
   "name": "python",
   "nbconvert_exporter": "python",
   "pygments_lexer": "ipython2",
   "version": "2.7.11"
  }
 },
 "nbformat": 4,
 "nbformat_minor": 0
}
