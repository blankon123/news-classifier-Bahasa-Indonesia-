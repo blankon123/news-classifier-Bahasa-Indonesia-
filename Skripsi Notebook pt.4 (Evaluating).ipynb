{
 "cells": [
  {
   "cell_type": "code",
   "execution_count": 1,
   "metadata": {
    "collapsed": true,
    "slideshow": {
     "slide_type": "slide"
    }
   },
   "outputs": [],
   "source": [
    "import matplotlib.pyplot as plt\n",
    "import os, re\n",
    "import pandas as pd\n",
    "import numpy as np\n",
    "\n",
    "from datetime import datetime as dt\n",
    "import cPickle as pickle\n",
    "import re #Regex\n",
    "%matplotlib inline"
   ]
  },
  {
   "cell_type": "markdown",
   "metadata": {},
   "source": [
    "# 1. Evaluating Crawling Indicator"
   ]
  },
  {
   "cell_type": "code",
   "execution_count": 7,
   "metadata": {
    "collapsed": false
   },
   "outputs": [
    {
     "name": "stdout",
     "output_type": "stream",
     "text": [
      "Total Negative Instances    :  28459\n",
      "Training Negative Instances :  569\n",
      "Training Positif Instances  :  120\n"
     ]
    }
   ],
   "source": [
    "#We only use 5% of total negative instance\n",
    "factor = 2.0/100\n",
    "size   = int(factor*DATA_TARGET[DATA_TARGET.values == -1].count())\n",
    "print 'Total Negative Instances    : ',DATA_TARGET[DATA_TARGET.values == -1].count()\n",
    "print 'Training Negative Instances : ',size\n",
    "print 'Training Positif Instances  : ',DATA_TARGET[DATA_TARGET.values == 1].count()"
   ]
  },
  {
   "cell_type": "code",
   "execution_count": 3,
   "metadata": {
    "collapsed": false
   },
   "outputs": [
    {
     "name": "stdout",
     "output_type": "stream",
     "text": [
      "Wall time: 11.3 s\n"
     ]
    },
    {
     "data": {
      "text/html": [
       "<div>\n",
       "<table border=\"1\" class=\"dataframe\">\n",
       "  <thead>\n",
       "    <tr style=\"text-align: right;\">\n",
       "      <th></th>\n",
       "      <th>crawlMem</th>\n",
       "      <th>crawlTime</th>\n",
       "    </tr>\n",
       "  </thead>\n",
       "  <tbody>\n",
       "    <tr>\n",
       "      <th>count</th>\n",
       "      <td>42746.000000</td>\n",
       "      <td>42746.000000</td>\n",
       "    </tr>\n",
       "    <tr>\n",
       "      <th>mean</th>\n",
       "      <td>3362.689187</td>\n",
       "      <td>0.992690</td>\n",
       "    </tr>\n",
       "    <tr>\n",
       "      <th>std</th>\n",
       "      <td>587.077727</td>\n",
       "      <td>59.015039</td>\n",
       "    </tr>\n",
       "    <tr>\n",
       "      <th>min</th>\n",
       "      <td>2080.000000</td>\n",
       "      <td>0.000000</td>\n",
       "    </tr>\n",
       "    <tr>\n",
       "      <th>25%</th>\n",
       "      <td>2808.000000</td>\n",
       "      <td>0.210900</td>\n",
       "    </tr>\n",
       "    <tr>\n",
       "      <th>50%</th>\n",
       "      <td>3408.000000</td>\n",
       "      <td>0.467200</td>\n",
       "    </tr>\n",
       "    <tr>\n",
       "      <th>75%</th>\n",
       "      <td>3520.000000</td>\n",
       "      <td>0.625200</td>\n",
       "    </tr>\n",
       "    <tr>\n",
       "      <th>max</th>\n",
       "      <td>7000.000000</td>\n",
       "      <td>12196.766600</td>\n",
       "    </tr>\n",
       "  </tbody>\n",
       "</table>\n",
       "</div>"
      ],
      "text/plain": [
       "           crawlMem     crawlTime\n",
       "count  42746.000000  42746.000000\n",
       "mean    3362.689187      0.992690\n",
       "std      587.077727     59.015039\n",
       "min     2080.000000      0.000000\n",
       "25%     2808.000000      0.210900\n",
       "50%     3408.000000      0.467200\n",
       "75%     3520.000000      0.625200\n",
       "max     7000.000000  12196.766600"
      ]
     },
     "execution_count": 3,
     "metadata": {},
     "output_type": "execute_result"
    }
   ],
   "source": [
    "# %time DATACrawl = pickle.load( open( \"v1.4\\DATA_ANALSISIS_crawl.p\", \"rb\" ) )\n",
    "%time DATACrawl = pickle.load( open( \"v1.4\\DATA_ANALSISIS_crawl-v2.p\", \"rb\" ) )\n",
    "crawlIndicator = pd.DataFrame([DATACrawl.crawlMem,DATACrawl.crawlTime]).transpose()\n",
    "crawlIndicator.describe()"
   ]
  },
  {
   "cell_type": "code",
   "execution_count": 4,
   "metadata": {
    "collapsed": false
   },
   "outputs": [
    {
     "name": "stdout",
     "output_type": "stream",
     "text": [
      "Memory Positif :  438784.0 Byte\n",
      "Memory Negatif :  143741512.0 Byte\n",
      "Time Positif   :  43.5496 Detik\n",
      "Time Negatif   :  42433.5165 Detik\n"
     ]
    },
    {
     "data": {
      "text/html": [
       "<div>\n",
       "<table border=\"1\" class=\"dataframe\">\n",
       "  <thead>\n",
       "    <tr style=\"text-align: right;\">\n",
       "      <th></th>\n",
       "      <th>Memory Positif</th>\n",
       "      <th>Time Positif</th>\n",
       "      <th>Memory Negatif</th>\n",
       "      <th>Time Negatif</th>\n",
       "    </tr>\n",
       "  </thead>\n",
       "  <tbody>\n",
       "    <tr>\n",
       "      <th>count</th>\n",
       "      <td>127.000000</td>\n",
       "      <td>127.000000</td>\n",
       "      <td>42746.000000</td>\n",
       "      <td>42746.000000</td>\n",
       "    </tr>\n",
       "    <tr>\n",
       "      <th>mean</th>\n",
       "      <td>3454.992126</td>\n",
       "      <td>0.342910</td>\n",
       "      <td>3362.689187</td>\n",
       "      <td>0.992690</td>\n",
       "    </tr>\n",
       "    <tr>\n",
       "      <th>std</th>\n",
       "      <td>823.368531</td>\n",
       "      <td>0.552273</td>\n",
       "      <td>587.077727</td>\n",
       "      <td>59.015039</td>\n",
       "    </tr>\n",
       "    <tr>\n",
       "      <th>min</th>\n",
       "      <td>2368.000000</td>\n",
       "      <td>0.046600</td>\n",
       "      <td>2080.000000</td>\n",
       "      <td>0.000000</td>\n",
       "    </tr>\n",
       "    <tr>\n",
       "      <th>25%</th>\n",
       "      <td>2520.000000</td>\n",
       "      <td>0.130900</td>\n",
       "      <td>2808.000000</td>\n",
       "      <td>0.210900</td>\n",
       "    </tr>\n",
       "    <tr>\n",
       "      <th>50%</th>\n",
       "      <td>3912.000000</td>\n",
       "      <td>0.147000</td>\n",
       "      <td>3408.000000</td>\n",
       "      <td>0.467200</td>\n",
       "    </tr>\n",
       "    <tr>\n",
       "      <th>75%</th>\n",
       "      <td>4072.000000</td>\n",
       "      <td>0.265400</td>\n",
       "      <td>3520.000000</td>\n",
       "      <td>0.625200</td>\n",
       "    </tr>\n",
       "    <tr>\n",
       "      <th>max</th>\n",
       "      <td>6832.000000</td>\n",
       "      <td>4.256200</td>\n",
       "      <td>7000.000000</td>\n",
       "      <td>12196.766600</td>\n",
       "    </tr>\n",
       "  </tbody>\n",
       "</table>\n",
       "</div>"
      ],
      "text/plain": [
       "       Memory Positif  Time Positif  Memory Negatif  Time Negatif\n",
       "count      127.000000    127.000000    42746.000000  42746.000000\n",
       "mean      3454.992126      0.342910     3362.689187      0.992690\n",
       "std        823.368531      0.552273      587.077727     59.015039\n",
       "min       2368.000000      0.046600     2080.000000      0.000000\n",
       "25%       2520.000000      0.130900     2808.000000      0.210900\n",
       "50%       3912.000000      0.147000     3408.000000      0.467200\n",
       "75%       4072.000000      0.265400     3520.000000      0.625200\n",
       "max       6832.000000      4.256200     7000.000000  12196.766600"
      ]
     },
     "execution_count": 4,
     "metadata": {},
     "output_type": "execute_result"
    }
   ],
   "source": [
    "DATA_ANALSISIS_crawl    = DATACrawl[DATACrawl.flag.isin([-1, 1])]\n",
    "\n",
    "DATA_ANALSISIS_crawlPos = DATA_ANALSISIS_crawl[DATA_ANALSISIS_crawl.flag == 1]\n",
    "DATA_ANALSISIS_crawlNeg = DATA_ANALSISIS_crawl\n",
    "crawlAnalysis = pd.DataFrame([DATA_ANALSISIS_crawlPos.crawlMem,DATA_ANALSISIS_crawlPos.crawlTime,\n",
    "                              DATA_ANALSISIS_crawlNeg.crawlMem,DATA_ANALSISIS_crawlNeg.crawlTime]).transpose()\n",
    "crawlAnalysis.columns = ['Memory Positif','Time Positif','Memory Negatif','Time Negatif']\n",
    "print 'Memory Positif : ',sum(DATA_ANALSISIS_crawlPos.crawlMem), 'Byte'\n",
    "print 'Memory Negatif : ',sum(DATA_ANALSISIS_crawlNeg.crawlMem), 'Byte'\n",
    "print 'Time Positif   : ',sum(DATA_ANALSISIS_crawlPos.crawlTime), 'Detik'\n",
    "print 'Time Negatif   : ',sum(DATA_ANALSISIS_crawlNeg.crawlTime),'Detik'\n",
    "crawlAnalysis.describe()"
   ]
  },
  {
   "cell_type": "code",
   "execution_count": 30,
   "metadata": {
    "collapsed": true
   },
   "outputs": [],
   "source": [
    "DATA_ANALSISIS_crawlTot = DATA_ANALSISIS_crawlPos.append(DATA_ANALSISIS_crawlNeg)"
   ]
  },
  {
   "cell_type": "code",
   "execution_count": 5,
   "metadata": {
    "collapsed": false
   },
   "outputs": [
    {
     "data": {
      "image/png": "[encoded data removed]",
      "text/plain": [
       "<matplotlib.figure.Figure at 0x84942b0>"
      ]
     },
     "metadata": {},
     "output_type": "display_data"
    }
   ],
   "source": [
    "import numpy as np\n",
    "import matplotlib.pyplot as plt\n",
    "\n",
    "x = [1,2,3,5,6,7,8]\n",
    "labels = ['Viva.co.id',  'Merdeka.com', 'Liputan6.com', 'Okezone.com', 'JPNN.com', 'Suara.com', 'Bisnis.com']\n",
    "y1 = [DATACrawl[DATACrawl.sumber == i].crawlMem.mean() for i in x]\n",
    "y2 = [DATACrawl[DATACrawl.sumber == i].crawlTime.mean() for i in x]\n",
    "\n",
    "plt.plot(y1, y2,'s')\n",
    "plt.xlabel('Memori (Byte)', fontsize=10)\n",
    "plt.ylabel('Waktu (Detik)', fontsize=10)\n",
    "for label, x, y in zip(labels, y1, y2):\n",
    "    plt.annotate(\n",
    "        label, \n",
    "        xy = (x, y), xytext = (-20, 20),\n",
    "        textcoords = 'offset points', ha = 'right', va = 'bottom',\n",
    "        bbox = dict(boxstyle = 'round,pad=0.5', fc = 'yellow', alpha = 0.5),\n",
    "        arrowprops = dict(arrowstyle = '->', connectionstyle = 'arc3,rad=0'))\n",
    "    \n",
    "plt.show()"
   ]
  },
  {
   "cell_type": "code",
   "execution_count": 53,
   "metadata": {
    "collapsed": false
   },
   "outputs": [
    {
     "data": {
      "image/png": "[encoded data removed]",
      "text/plain": [
       "<matplotlib.figure.Figure at 0x275726a0>"
      ]
     },
     "metadata": {},
     "output_type": "display_data"
    }
   ],
   "source": [
    "import matplotlib.pyplot as plt\n",
    "\n",
    "fig, ax = plt.subplots(nrows=2,figsize=(16,16))\n",
    "\n",
    "sns.boxplot(crawlIndicator.crawlMem, orient = 'h',ax=ax[0])\n",
    "sns.boxplot(crawlIndicator.crawlTime, orient = 'h', ax=ax[1])\n",
    "\n",
    "plt.show()"
   ]
  },
  {
   "cell_type": "markdown",
   "metadata": {},
   "source": [
    "#### Terlihat total penggunaan waktu dan memory sangat signifikan, hal tersebut karena jumlah berita positif dan negatif yang berbeda jauh"
   ]
  },
  {
   "cell_type": "markdown",
   "metadata": {
    "slideshow": {
     "slide_type": "slide"
    }
   },
   "source": [
    "# 2.Evaluating the Classifier v1.4 vs v1.6 vs v2.0\n",
    "\n",
    "\n",
    "## 2.1 Load from the 'Pickled' dump"
   ]
  },
  {
   "cell_type": "code",
   "execution_count": 6,
   "metadata": {
    "collapsed": false,
    "slideshow": {
     "slide_type": "subslide"
    }
   },
   "outputs": [
    {
     "name": "stdout",
     "output_type": "stream",
     "text": [
      "Wall time: 411 ms\n",
      "Wall time: 371 ms\n",
      "Wall time: 4.05 s\n",
      "Wall time: 247 ms\n",
      "Wall time: 313 ms\n",
      "Wall time: 2.23 s\n",
      "Wall time: 1.17 s\n",
      "Wall time: 1.38 s\n",
      "Wall time: 1.08 s\n",
      "Wall time: 116 ms\n"
     ]
    }
   ],
   "source": [
    "DATAStd  = pd.DataFrame()\n",
    "DATAPost = pd.DataFrame()\n",
    "\n",
    "#Load standard striped Text\n",
    "%time DATAStd['Judul'] = pickle.load( open( \"v1.4\\DATA_JUDULStriped-v2.p\", \"rb\" ) )\n",
    "%time DATAStd['Short'] = pickle.load( open( \"v1.4\\DATA_SHORTStriped-v2.p\", \"rb\" ) )\n",
    "%time DATAStd['Long']  = pickle.load( open( \"v1.4\\DATA_LONGStriped-v2.p\", \"rb\" ) )\n",
    "\n",
    "#Load from PosTagged Noun and verb only Text\n",
    "%time DATAPost['Judul'] = pickle.load( open( \"v1.6\\DATA_JUDULpostag-v2.p\", \"rb\" ) )\n",
    "%time DATAPost['Short'] = pickle.load( open( \"v1.6\\DATA_SHORTpostag-v2.p\", \"rb\" ) )\n",
    "%time DATAPost['Long']  = pickle.load( open( \"v1.6\\DATA_LONGpostag-v2.p\", \"rb\" ) )\n",
    "\n",
    "#Load number of total tag in Text\n",
    "%time AllFracJudul = pickle.load( open( \"v2.0\\DATA_JUDUL-v3.p\", \"rb\" ) )\n",
    "%time AllFracShort = pickle.load( open( \"v2.0\\DATA_SHORT-v3.p\", \"rb\" ) )\n",
    "%time AllFracLong  = pickle.load( open( \"v2.0\\DATA_LONG-v3.p\", \"rb\" ) )\n",
    "\n",
    "#Load number of total noun-verb only in Text\n",
    "# %time NVFracJudul = pickle.load( open( \"v2.0\\DATA_JUDUL-v2.p\", \"rb\" ) )\n",
    "# %time NVFracShort = pickle.load( open( \"v2.0\\DATA_SHORT-v2.p\", \"rb\" ) )\n",
    "# %time NVFracLong  = pickle.load( open( \"v2.0\\DATA_LONG-v2.p\", \"rb\" ) )\n",
    "\n",
    "%time DATA_TARGET = pickle.load( open( \"v1.4\\DATA_TARGET-v2.p\", \"rb\" ) )\n",
    "\n",
    "DATA_TARGET = DATA_TARGET.reset_index(drop=True)\n",
    "DATAStd  = DATAStd.reset_index(drop=True)\n",
    "DATAPost = DATAPost.reset_index(drop=True)"
   ]
  },
  {
   "cell_type": "code",
   "execution_count": 120,
   "metadata": {
    "collapsed": false
   },
   "outputs": [],
   "source": [
    "from sklearn.feature_extraction.text import TfidfVectorizer\n",
    "#Stopwords data source : https://www.illc.uva.nl/Research/Publications/Reports/MoL-2003-02.text.pdf\n",
    "stopword_html = open(\"id.stopwords.01.01.2016.txt\",'r').read()\n",
    "stopwords     = stopword_html.split(\"\\n\")\n",
    "\n",
    "vect1 = TfidfVectorizer(decode_error='ignore')\n",
    "vect2 = TfidfVectorizer(stop_words=stopwords,decode_error='ignore')\n",
    "\n",
    "vectStds = vect1.fit_transform(DATAStd['Long'])\n",
    "vectStop = vect2.fit_transform(DATAStd['Long'])\n",
    "vectPost = vect1.fit_transform(DATAPost['Long'])"
   ]
  },
  {
   "cell_type": "code",
   "execution_count": 121,
   "metadata": {
    "collapsed": false
   },
   "outputs": [
    {
     "data": {
      "text/plain": [
       "<28579x138759 sparse matrix of type '<type 'numpy.float64'>'\n",
       "\twith 4863997 stored elements in Compressed Sparse Row format>"
      ]
     },
     "execution_count": 121,
     "metadata": {},
     "output_type": "execute_result"
    }
   ],
   "source": [
    "vectStds"
   ]
  },
  {
   "cell_type": "code",
   "execution_count": 132,
   "metadata": {
    "collapsed": false
   },
   "outputs": [
    {
     "data": {
      "text/plain": [
       "(28579, 138048)"
      ]
     },
     "execution_count": 132,
     "metadata": {},
     "output_type": "execute_result"
    }
   ],
   "source": [
    "vectStop.get_shape()"
   ]
  },
  {
   "cell_type": "code",
   "execution_count": 112,
   "metadata": {
    "collapsed": false
   },
   "outputs": [
    {
     "data": {
      "text/plain": [
       "<28579x130162 sparse matrix of type '<type 'numpy.float64'>'\n",
       "\twith 3456038 stored elements in Compressed Sparse Row format>"
      ]
     },
     "execution_count": 112,
     "metadata": {},
     "output_type": "execute_result"
    }
   ],
   "source": [
    "vectPost"
   ]
  },
  {
   "cell_type": "code",
   "execution_count": 9,
   "metadata": {
    "collapsed": false
   },
   "outputs": [
    {
     "name": "stdout",
     "output_type": "stream",
     "text": [
      "(28579L, 29L)\n"
     ]
    }
   ],
   "source": [
    "print AllFracLong.shape"
   ]
  },
  {
   "cell_type": "markdown",
   "metadata": {},
   "source": [
    "#### Data Teks berita yang sudah dibersihkan dari tag HTML di v1.4"
   ]
  },
  {
   "cell_type": "code",
   "execution_count": 10,
   "metadata": {
    "collapsed": false
   },
   "outputs": [
    {
     "data": {
      "text/plain": [
       "0    tiba di kpk, bos agung sedayu group diam serib...\n",
       "1    edarkan ganja ke nelayan  &  pelajar, kardiman...\n",
       "Name: Judul, dtype: object"
      ]
     },
     "execution_count": 10,
     "metadata": {},
     "output_type": "execute_result"
    }
   ],
   "source": [
    "DATAStd.Judul.head(2)"
   ]
  },
  {
   "cell_type": "markdown",
   "metadata": {},
   "source": [
    "#### Data Teks berita yang sudah di-POSTag verb dan noun di v1.6"
   ]
  },
  {
   "cell_type": "code",
   "execution_count": 105,
   "metadata": {
    "collapsed": false
   },
   "outputs": [
    {
     "data": {
      "text/plain": [
       "0    tiba kpk bos agung sedayu group diam seribu ba...\n",
       "1    edarkan ganja nelayan pelajar kardiman ditangk...\n",
       "Name: Judul, dtype: object"
      ]
     },
     "execution_count": 105,
     "metadata": {},
     "output_type": "execute_result"
    }
   ],
   "source": [
    "DATAPost.Judul.head(2)"
   ]
  },
  {
   "cell_type": "markdown",
   "metadata": {},
   "source": [
    "#### Data Teks berita yang sudah diambil fraction verb dan noun di v2.0"
   ]
  },
  {
   "cell_type": "code",
   "execution_count": 12,
   "metadata": {
    "collapsed": false
   },
   "outputs": [
    {
     "data": {
      "text/plain": [
       "array([[ 0.,  0.,  1.,  0.,  0.,  0.,  0.,  3.,  0.,  0.,  0.,  0.,  0.,\n",
       "         0.,  1.,  0.,  0.,  1.,  0.,  0.,  0.,  1.,  0.,  0.,  0.,  0.,\n",
       "         0.,  0.,  0.],\n",
       "       [ 0.,  0.,  0.,  0.,  1.,  0.,  0.,  5.,  0.,  0.,  0.,  0.,  0.,\n",
       "         0.,  0.,  0.,  0.,  0.,  0.,  0.,  0.,  0.,  0.,  0.,  0.,  0.,\n",
       "         0.,  0.,  0.]])"
      ]
     },
     "execution_count": 12,
     "metadata": {},
     "output_type": "execute_result"
    }
   ],
   "source": [
    "AllFracJudul[:2]"
   ]
  },
  {
   "cell_type": "markdown",
   "metadata": {},
   "source": [
    "## 2. Evaluate\n",
    "\n",
    "### Preprocessing\n",
    "\n",
    "![smiley](img/evaluasi_preproc.png)"
   ]
  },
  {
   "cell_type": "code",
   "execution_count": 13,
   "metadata": {
    "collapsed": false
   },
   "outputs": [],
   "source": [
    "#Stopwords data source : https://www.illc.uva.nl/Research/Publications/Reports/MoL-2003-02.text.pdf\n",
    "stopword_html = open(\"id.stopwords.01.01.2016.txt\",'r').read()\n",
    "stopwords     = stopword_html.split(\"\\n\")"
   ]
  },
  {
   "cell_type": "code",
   "execution_count": 14,
   "metadata": {
    "collapsed": false
   },
   "outputs": [],
   "source": [
    "from sklearn import cross_validation\n",
    "from sklearn.metrics import confusion_matrix, f1_score, accuracy_score\n",
    "from sklearn.metrics import precision_score, recall_score, classification_report, roc_auc_score,roc_curve,auc\n",
    "from scipy import interp\n",
    "import datetime\n",
    "\n",
    "def skorStratCV(clf,X,y,nfolds=10):\n",
    "    metrics = []\n",
    "    \n",
    "    trainTime,testTime = [],[]\n",
    "    precis,recals,f1s,accs,rocs = [],[],[],[],[]\n",
    "    \n",
    "    mean_tpr = 0.0\n",
    "    mean_fpr = np.linspace(0, 1, 100)\n",
    "    all_tpr = []\n",
    "\n",
    "    skf = cross_validation.StratifiedKFold(y, n_folds=nfolds)\n",
    "    for train_index, test_index in skf:\n",
    "        X_train,y_train = X[train_index],y[train_index]\n",
    "        X_test,y_test   = X[test_index],y[test_index]\n",
    "        \n",
    "        #training time\n",
    "        start = dt.now()\n",
    "        clf.fit(X_train, y_train)\n",
    "        end = dt.now()\n",
    "        trainTime.append((end-start).microseconds)\n",
    "        \n",
    "        #testing time\n",
    "        start = dt.now()\n",
    "        yhat = clf.predict(X_test)\n",
    "        end = dt.now()\n",
    "        testTime.append((end-start).microseconds)\n",
    "        \n",
    "        #score\n",
    "        precis.append(precision_score(y_test, yhat, average='binary'))\n",
    "        recals.append(recall_score(y_test, yhat, average='binary'))\n",
    "        f1s.append(f1_score(y_test, yhat, average='binary'))\n",
    "        accs.append(accuracy_score(y_test, yhat))\n",
    "        \n",
    "        probas_              = clf.fit(X_train, y_train).predict_proba(X_test)\n",
    "        fpr, tpr, thresholds = roc_curve(y_test, probas_[:, 1])\n",
    "        mean_tpr            += interp(mean_fpr, fpr, tpr)\n",
    "        mean_tpr[0]          = 0.0\n",
    "        \n",
    "    def ave(lis):\n",
    "        return sum(lis)/len(lis)\n",
    "    \n",
    "    metrics.append(ave(trainTime))\n",
    "    metrics.append(ave(testTime))\n",
    "    metrics.append(ave(precis))\n",
    "    metrics.append(ave(recals))\n",
    "    metrics.append(ave(f1s))\n",
    "    metrics.append(ave(accs))\n",
    "    \n",
    "    mean_tpr /= nfolds\n",
    "    mean_tpr[-1] = 1.0\n",
    "    mean_auc = auc(mean_fpr, mean_tpr)\n",
    "    metrics.append(mean_auc)\n",
    "    \n",
    "    return metrics,mean_fpr,mean_tpr"
   ]
  },
  {
   "cell_type": "code",
   "execution_count": 15,
   "metadata": {
    "collapsed": false
   },
   "outputs": [],
   "source": [
    "from sklearn.linear_model import SGDClassifier\n",
    "from sklearn.naive_bayes import MultinomialNB\n",
    "from sklearn.svm import SVC\n",
    "from sklearn.tree import DecisionTreeClassifier\n",
    "from sklearn.feature_extraction.text import TfidfVectorizer\n",
    "from sklearn.neighbors import KNeighborsClassifier\n",
    "from sklearn.pipeline import Pipeline\n",
    "\n",
    "mnb = MultinomialNB(alpha=0.1)\n",
    "#knn = KNeighborsClassifier()\n",
    "svc = SVC(class_weight='balanced',probability=True,kernel='linear',cache_size=800)\n",
    "#tre = DecisionTreeClassifier(class_weight='balanced')\n",
    "\n",
    "vectStds = TfidfVectorizer(decode_error='ignore')\n",
    "vectStop = TfidfVectorizer(stop_words=stopwords,decode_error='ignore')\n",
    "\n",
    "kombinasi1  = [{'name' : 'MNB', 'pipe' : Pipeline([('vect', vectStds),('clf', mnb)])},\n",
    "               #{'name' : 'KNN', 'pipe' : Pipeline([('vect', vect),('clf', knn)])},\n",
    "               {'name' : 'SVM', 'pipe' : Pipeline([('vect', vectStds),('clf', svc)])},\n",
    "               #{'name' : 'TREE', 'pipe' : Pipeline([('vect', vect),('clf', tre)])}\n",
    "              ]\n",
    "\n",
    "kombinasi23= [{'name' : 'MNB', 'pipe' : Pipeline([('vect', vectStop),('clf', mnb)])},\n",
    "             #{'name' : 'KNN', 'pipe' : Pipeline([('vect', vect),('clf', knn)])},\n",
    "             {'name' : 'SVM', 'pipe' : Pipeline([('vect', vectStop),('clf', svc)])},\n",
    "             #{'name' : 'TREE', 'pipe' : Pipeline([('vect', vect),('clf', tre)])}\n",
    "             ]\n",
    "\n",
    "kombinasi4 = [{'name' : 'MNB', 'pipe' : mnb},\n",
    "               {'name' : 'SVM', 'pipe' : svc},\n",
    "             ]"
   ]
  },
  {
   "cell_type": "code",
   "execution_count": 18,
   "metadata": {
    "collapsed": false
   },
   "outputs": [
    {
     "name": "stdout",
     "output_type": "stream",
     "text": [
      "Total Negative Instances    :  28459\n",
      "Training Negative Instances :  569\n",
      "Training Positif Instances  :  120\n"
     ]
    }
   ],
   "source": [
    "X0 = []\n",
    "X0.append({'name':'Judul','Prep':'Kombinasi1','Data':DATAStd['Judul']})\n",
    "X0.append({'name':'Short','Prep':'Kombinasi1','Data':DATAStd['Short']})\n",
    "X0.append({'name':'Long' ,'Prep':'Kombinasi1','Data':DATAStd['Long']})\n",
    "\n",
    "X1 = []\n",
    "X1.append({'name':'Judul','Prep':'Kombinasi2','Data':DATAStd['Judul']})\n",
    "X1.append({'name':'Short','Prep':'Kombinasi2','Data':DATAStd['Short']})\n",
    "X1.append({'name':'Long' ,'Prep':'Kombinasi2','Data':DATAStd['Long']})\n",
    "\n",
    "X2 = []\n",
    "X2.append({'name':'Judul','Prep':'Kombinasi3','Data':DATAPost['Judul']})\n",
    "X2.append({'name':'Short','Prep':'Kombinasi3','Data':DATAPost['Short']})\n",
    "X2.append({'name':'Long' ,'Prep':'Kombinasi3','Data':DATAPost['Long']})\n",
    "\n",
    "X3 = []\n",
    "X3.append({'name':'Judul','Prep':'Kombinasi4','Data':AllFracJudul})\n",
    "X3.append({'name':'Short','Prep':'Kombinasi4','Data':AllFracShort})\n",
    "X3.append({'name':'Long' ,'Prep':'Kombinasi4','Data':AllFracLong})\n",
    "# X2.append({'name':'Judul','Prep':'NVTag','Data':NVFracJudul})\n",
    "# X2.append({'name':'Short','Prep':'NVTag','Data':NVFracShort})\n",
    "# X2.append({'name':'Long' ,'Prep':'NVTag','Data':NVFracLong})\n",
    "\n",
    "y_  = DATA_TARGET"
   ]
  },
  {
   "cell_type": "markdown",
   "metadata": {},
   "source": [
    "## Kombinasi 1"
   ]
  },
  {
   "cell_type": "code",
   "execution_count": 134,
   "metadata": {
    "collapsed": false
   },
   "outputs": [
    {
     "name": "stdout",
     "output_type": "stream",
     "text": [
      "(28579, 17453)\n",
      "(28579, 25070)\n",
      "(28579, 138759)\n"
     ]
    }
   ],
   "source": [
    "for i in X0:\n",
    "    k     = vect1.fit_transform(i['Data'])\n",
    "    print k.get_shape()"
   ]
  },
  {
   "cell_type": "code",
   "execution_count": 19,
   "metadata": {
    "collapsed": false
   },
   "outputs": [
    {
     "data": {
      "image/png": "[encoded data removed]",
      "text/plain": [
       "<matplotlib.figure.Figure at 0x1d2c8c88>"
      ]
     },
     "metadata": {},
     "output_type": "display_data"
    }
   ],
   "source": [
    "import matplotlib.pyplot as plt\n",
    "import seaborn as sns\n",
    "sns.set()\n",
    "\n",
    "metric = []\n",
    "for xi in X0:\n",
    "    X_ = xi['Data']\n",
    "    for mod in kombinasi1:\n",
    "        xP = X_[y_[y_.values == 1].index]\n",
    "        xN = X_[y_[y_.values == -1].index][:size]\n",
    "        X  = np.append(xP,xN)\n",
    "        \n",
    "        yP = y_[y_.values == 1]\n",
    "        yN = y_[y_.values == -1][:size]\n",
    "        y  = np.append(yP,yN)\n",
    "        \n",
    "        metrics,mean_fpr,mean_tpr = skorStratCV(mod['pipe'],X,y)\n",
    "        name = xi['name']+' '+xi['Prep']+' '+mod['name']\n",
    "        plt.plot(mean_fpr, mean_tpr,label='Mean ROC %s (area = %0.2f)' % (name,metrics[6]), lw=2)\n",
    "        \n",
    "        metric.append({'name':name,'metrics':metrics})\n",
    "\n",
    "plt.plot([0, 1], [0, 1], '--', color=(0.6, 0.6, 0.6), label='Luck')\n",
    "plt.xlim([-0.05, 1.05])\n",
    "plt.ylim([-0.05, 1.05])\n",
    "plt.xlabel('False Positive Rate')\n",
    "plt.ylabel('True Positive Rate')\n",
    "plt.title('Receiver Operating Characteristic of Kombinasi1')\n",
    "plt.legend(loc=\"lower right\")\n",
    "plt.show()"
   ]
  },
  {
   "cell_type": "markdown",
   "metadata": {},
   "source": [
    "## Kombinasi 2"
   ]
  },
  {
   "cell_type": "code",
   "execution_count": 135,
   "metadata": {
    "collapsed": false
   },
   "outputs": [
    {
     "name": "stdout",
     "output_type": "stream",
     "text": [
      "(28579, 17016)\n",
      "(28579, 24483)\n",
      "(28579, 138048)\n"
     ]
    }
   ],
   "source": [
    "for i in X1:\n",
    "    k     = vect2.fit_transform(i['Data'])\n",
    "    print k.get_shape()"
   ]
  },
  {
   "cell_type": "code",
   "execution_count": 20,
   "metadata": {
    "collapsed": false
   },
   "outputs": [
    {
     "data": {
      "image/png": "[encoded data removed]",
      "text/plain": [
       "<matplotlib.figure.Figure at 0x1ae36cc0>"
      ]
     },
     "metadata": {},
     "output_type": "display_data"
    }
   ],
   "source": [
    "#metric = []\n",
    "for xi in X1:\n",
    "    X_ = xi['Data']\n",
    "    for mod in kombinasi23:\n",
    "        xP = X_[y_[y_.values == 1].index]\n",
    "        xN = X_[y_[y_.values == -1].index][:size]\n",
    "        X  = np.append(xP,xN)\n",
    "        \n",
    "        yP = y_[y_.values == 1]\n",
    "        yN = y_[y_.values == -1][:size]\n",
    "        y  = np.append(yP,yN)\n",
    "        \n",
    "        metrics,mean_fpr,mean_tpr = skorStratCV(mod['pipe'],X,y)\n",
    "        name = xi['name']+' '+xi['Prep']+' '+mod['name']\n",
    "        plt.plot(mean_fpr, mean_tpr,label='Mean ROC %s (area = %0.2f)' % (name,metrics[6]), lw=2)\n",
    "        \n",
    "        metric.append({'name':name,'metrics':metrics})\n",
    "\n",
    "plt.plot([0, 1], [0, 1], '--', color=(0.6, 0.6, 0.6), label='Luck')\n",
    "plt.xlim([-0.05, 1.05])\n",
    "plt.ylim([-0.05, 1.05])\n",
    "plt.xlabel('False Positive Rate')\n",
    "plt.ylabel('True Positive Rate')\n",
    "plt.title('Receiver Operating Characteristic of Kombinasi2')\n",
    "plt.legend(loc=\"lower right\")\n",
    "plt.show()"
   ]
  },
  {
   "cell_type": "markdown",
   "metadata": {},
   "source": [
    "## Kombinasi 3"
   ]
  },
  {
   "cell_type": "code",
   "execution_count": 136,
   "metadata": {
    "collapsed": false
   },
   "outputs": [
    {
     "name": "stdout",
     "output_type": "stream",
     "text": [
      "(28579, 15903)\n",
      "(28579, 23214)\n",
      "(28579, 129645)\n"
     ]
    }
   ],
   "source": [
    "for i in X2:\n",
    "    k     = vect2.fit_transform(i['Data'])\n",
    "    print k.get_shape()"
   ]
  },
  {
   "cell_type": "code",
   "execution_count": 21,
   "metadata": {
    "collapsed": false
   },
   "outputs": [
    {
     "data": {
      "image/png": "[encoded data removed]",
      "text/plain": [
       "<matplotlib.figure.Figure at 0x1bf8e5f8>"
      ]
     },
     "metadata": {},
     "output_type": "display_data"
    }
   ],
   "source": [
    "#metric = []\n",
    "for xi in X2:\n",
    "    X_ = xi['Data']\n",
    "    for mod in kombinasi23:\n",
    "        xP = X_[y_[y_.values == 1].index]\n",
    "        xN = X_[y_[y_.values == -1].index][:size]\n",
    "        X  = np.append(xP,xN)\n",
    "        \n",
    "        yP = y_[y_.values == 1]\n",
    "        yN = y_[y_.values == -1][:size]\n",
    "        y  = np.append(yP,yN)\n",
    "        \n",
    "        metrics,mean_fpr,mean_tpr = skorStratCV(mod['pipe'],X,y)\n",
    "        name = xi['name']+' '+xi['Prep']+' '+mod['name']\n",
    "        plt.plot(mean_fpr, mean_tpr,label='Mean ROC %s (area = %0.2f)' % (name,metrics[6]), lw=2)\n",
    "        \n",
    "        metric.append({'name':name,'metrics':metrics})\n",
    "\n",
    "plt.plot([0, 1], [0, 1], '--', color=(0.6, 0.6, 0.6), label='Luck')\n",
    "plt.xlim([-0.05, 1.05])\n",
    "plt.ylim([-0.05, 1.05])\n",
    "plt.xlabel('False Positive Rate')\n",
    "plt.ylabel('True Positive Rate')\n",
    "plt.title('Receiver Operating Characteristic of Kombinasi3')\n",
    "plt.legend(loc=\"lower right\")\n",
    "plt.show()"
   ]
  },
  {
   "cell_type": "markdown",
   "metadata": {},
   "source": [
    "## Kombinasi 4"
   ]
  },
  {
   "cell_type": "code",
   "execution_count": 22,
   "metadata": {
    "collapsed": false
   },
   "outputs": [
    {
     "name": "stderr",
     "output_type": "stream",
     "text": [
      "C:\\Users\\Thosan Girisona S\\Anaconda\\lib\\site-packages\\sklearn\\metrics\\classification.py:1074: UndefinedMetricWarning: Precision is ill-defined and being set to 0.0 due to no predicted samples.\n",
      "  'precision', 'predicted', average, warn_for)\n",
      "C:\\Users\\Thosan Girisona S\\Anaconda\\lib\\site-packages\\sklearn\\metrics\\classification.py:1074: UndefinedMetricWarning: F-score is ill-defined and being set to 0.0 due to no predicted samples.\n",
      "  'precision', 'predicted', average, warn_for)\n"
     ]
    },
    {
     "data": {
      "image/png": "[encoded data removed]",
      "text/plain": [
       "<matplotlib.figure.Figure at 0x1d65d7b8>"
      ]
     },
     "metadata": {},
     "output_type": "display_data"
    }
   ],
   "source": [
    "#metric = []\n",
    "for xi in X3:\n",
    "    X_ = xi['Data']\n",
    "    for mod in kombinasi4:\n",
    "        xP = X_[y_[y_.values == 1].index]\n",
    "        xN = X_[y_[y_.values == -1].index][:size]\n",
    "        X  = np.vstack((xP,xN))\n",
    "        \n",
    "        yP = y_[y_.values == 1]\n",
    "        yN = y_[y_.values == -1][:size]\n",
    "        y  = np.append(yP,yN)\n",
    "        \n",
    "        metrics,mean_fpr,mean_tpr = skorStratCV(mod['pipe'],X,y)\n",
    "        name = xi['name']+' '+xi['Prep']+' '+mod['name']\n",
    "        plt.plot(mean_fpr, mean_tpr,label='Mean ROC %s (area = %0.2f)' % (name,metrics[6]), lw=2)\n",
    "        \n",
    "        metric.append({'name':name,'metrics':metrics})\n",
    "\n",
    "plt.plot([0, 1], [0, 1], '--', color=(0.6, 0.6, 0.6), label='Luck')\n",
    "plt.xlim([-0.05, 1.05])\n",
    "plt.ylim([-0.05, 1.05])\n",
    "plt.xlabel('False Positive Rate')\n",
    "plt.ylabel('True Positive Rate')\n",
    "plt.title('Receiver Operating Characteristic of Total All tags & Total Noun-Verb tags')\n",
    "plt.legend(loc=\"lower right\")\n",
    "plt.show()"
   ]
  },
  {
   "cell_type": "code",
   "execution_count": 23,
   "metadata": {
    "collapsed": false
   },
   "outputs": [
    {
     "data": {
      "text/html": [
       "<table border=\"1\" cellpadding=\"3\" cellspacing=\"0\"  style=\"border:1px solid black;border-collapse:collapse;\"><tr><td  style=\"background-color:White;border-left: 1px solid transparent;border-top: 1px solid transparent;\"><b>id</b></td><td  style=\"background-color:LightGray;\"><b>nama</b></td><td  style=\"background-color:LightGray;\"><b>training&nbsptime</b></td><td  style=\"background-color:LightGray;\"><b>testing&nbsptime</b></td><td  style=\"background-color:LightGray;\"><b>p_1</b></td><td  style=\"background-color:LightGray;\"><b>r_1</b></td><td  style=\"background-color:LightGray;\"><b>F1&nbspscore</b></td><td  style=\"background-color:LightGray;text-align:center;\"><b>accuracy</b></td><td  style=\"background-color:LightGray;\"><b>AUC</b></td></tr><tr><td  style=\"background-color:LightGray;\"><b>1</b></td><td  style=\"background-color:Ivory;\">Judul&nbspKombinasi1&nbspMNB</td><td  style=\"background-color:Ivory;\">21800</td><td  style=\"background-color:Ivory;\">4600</td><td  style=\"background-color:Ivory;\">0.8576</td><td  style=\"background-color:Ivory;\">0.7833</td><td  style=\"background-color:Ivory;\">0.8042</td><td  style=\"background-color:Ivory;text-align:center;\">0.9346</td><td  style=\"background-color:Ivory;\">0.9411</td></tr><tr><td  style=\"background-color:LightGray;\"><b>2</b></td><td  style=\"background-color:AliceBlue;\">Judul&nbspKombinasi1&nbspSVM</td><td  style=\"background-color:AliceBlue;\">263900</td><td  style=\"background-color:AliceBlue;\">6300</td><td  style=\"background-color:AliceBlue;\">0.7742</td><td  style=\"background-color:AliceBlue;\">0.7583</td><td  style=\"background-color:AliceBlue;\">0.7473</td><td  style=\"background-color:AliceBlue;text-align:center;\">0.9114</td><td  style=\"background-color:AliceBlue;\">0.9261</td></tr><tr><td  style=\"background-color:LightGray;\"><b>3</b></td><td  style=\"background-color:Ivory;\">Short&nbspKombinasi1&nbspMNB</td><td  style=\"background-color:Ivory;\">27700</td><td  style=\"background-color:Ivory;\">2900</td><td  style=\"background-color:Ivory;\">0.8250</td><td  style=\"background-color:Ivory;\">0.6667</td><td  style=\"background-color:Ivory;\">0.7227</td><td  style=\"background-color:Ivory;text-align:center;\">0.9129</td><td  style=\"background-color:Ivory;\">0.9379</td></tr><tr><td  style=\"background-color:LightGray;\"><b>4</b></td><td  style=\"background-color:AliceBlue;\">Short&nbspKombinasi1&nbspSVM</td><td  style=\"background-color:AliceBlue;\">337600</td><td  style=\"background-color:AliceBlue;\">9200</td><td  style=\"background-color:AliceBlue;\">0.8325</td><td  style=\"background-color:AliceBlue;\">0.7167</td><td  style=\"background-color:AliceBlue;\">0.7625</td><td  style=\"background-color:AliceBlue;text-align:center;\">0.9231</td><td  style=\"background-color:AliceBlue;\">0.9377</td></tr><tr><td  style=\"background-color:LightGray;\"><b>5</b></td><td  style=\"background-color:Ivory;\">Long&nbspKombinasi1&nbspMNB</td><td  style=\"background-color:Ivory;\">324300</td><td  style=\"background-color:Ivory;\">32800</td><td  style=\"background-color:Ivory;\">0.9243</td><td  style=\"background-color:Ivory;\">0.7500</td><td  style=\"background-color:Ivory;\">0.8219</td><td  style=\"background-color:Ivory;text-align:center;\">0.9462</td><td  style=\"background-color:Ivory;\">0.9801</td></tr><tr><td  style=\"background-color:LightGray;\"><b>6</b></td><td  style=\"background-color:AliceBlue;\">Long&nbspKombinasi1&nbspSVM</td><td  style=\"background-color:AliceBlue;\">416000</td><td  style=\"background-color:AliceBlue;\">83900</td><td  style=\"background-color:AliceBlue;\">0.9181</td><td  style=\"background-color:AliceBlue;\">0.8250</td><td  style=\"background-color:AliceBlue;\">0.8636</td><td  style=\"background-color:AliceBlue;text-align:center;\">0.9564</td><td  style=\"background-color:AliceBlue;\">0.9801</td></tr><tr><td  style=\"background-color:LightGray;\"><b>7</b></td><td  style=\"background-color:Ivory;\">Judul&nbspKombinasi2&nbspMNB</td><td  style=\"background-color:Ivory;\">20000</td><td  style=\"background-color:Ivory;\">2600</td><td  style=\"background-color:Ivory;\">0.7987</td><td  style=\"background-color:Ivory;\">0.7917</td><td  style=\"background-color:Ivory;\">0.7843</td><td  style=\"background-color:Ivory;text-align:center;\">0.9245</td><td  style=\"background-color:Ivory;\">0.9466</td></tr><tr><td  style=\"background-color:LightGray;\"><b>8</b></td><td  style=\"background-color:AliceBlue;\">Judul&nbspKombinasi2&nbspSVM</td><td  style=\"background-color:AliceBlue;\">255200</td><td  style=\"background-color:AliceBlue;\">5400</td><td  style=\"background-color:AliceBlue;\">0.7448</td><td  style=\"background-color:AliceBlue;\">0.7583</td><td  style=\"background-color:AliceBlue;\">0.7360</td><td  style=\"background-color:AliceBlue;text-align:center;\">0.9056</td><td  style=\"background-color:AliceBlue;\">0.9269</td></tr><tr><td  style=\"background-color:LightGray;\"><b>9</b></td><td  style=\"background-color:Ivory;\">Short&nbspKombinasi2&nbspMNB</td><td  style=\"background-color:Ivory;\">26300</td><td  style=\"background-color:Ivory;\">3000</td><td  style=\"background-color:Ivory;\">0.8135</td><td  style=\"background-color:Ivory;\">0.7167</td><td  style=\"background-color:Ivory;\">0.7565</td><td  style=\"background-color:Ivory;text-align:center;\">0.9202</td><td  style=\"background-color:Ivory;\">0.9343</td></tr><tr><td  style=\"background-color:LightGray;\"><b>10</b></td><td  style=\"background-color:AliceBlue;\">Short&nbspKombinasi2&nbspSVM</td><td  style=\"background-color:AliceBlue;\">258200</td><td  style=\"background-color:AliceBlue;\">5200</td><td  style=\"background-color:AliceBlue;\">0.8008</td><td  style=\"background-color:AliceBlue;\">0.7583</td><td  style=\"background-color:AliceBlue;\">0.7735</td><td  style=\"background-color:AliceBlue;text-align:center;\">0.9216</td><td  style=\"background-color:AliceBlue;\">0.9304</td></tr><tr><td  style=\"background-color:LightGray;\"><b>11</b></td><td  style=\"background-color:Ivory;\">Long&nbspKombinasi2&nbspMNB</td><td  style=\"background-color:Ivory;\">377200</td><td  style=\"background-color:Ivory;\">35800</td><td  style=\"background-color:Ivory;\">0.9138</td><td  style=\"background-color:Ivory;\">0.8000</td><td  style=\"background-color:Ivory;\">0.8489</td><td  style=\"background-color:Ivory;text-align:center;\">0.9535</td><td  style=\"background-color:Ivory;\">0.9804</td></tr><tr><td  style=\"background-color:LightGray;\"><b>12</b></td><td  style=\"background-color:AliceBlue;\">Long&nbspKombinasi2&nbspSVM</td><td  style=\"background-color:AliceBlue;\">292600</td><td  style=\"background-color:AliceBlue;\">64800</td><td  style=\"background-color:AliceBlue;\">0.9181</td><td  style=\"background-color:AliceBlue;\">0.8083</td><td  style=\"background-color:AliceBlue;\">0.8488</td><td  style=\"background-color:AliceBlue;text-align:center;\">0.9535</td><td  style=\"background-color:AliceBlue;\">0.9785</td></tr><tr><td  style=\"background-color:LightGray;\"><b>13</b></td><td  style=\"background-color:Ivory;\">Judul&nbspKombinasi3&nbspMNB</td><td  style=\"background-color:Ivory;\">19000</td><td  style=\"background-color:Ivory;\">3000</td><td  style=\"background-color:Ivory;\">0.8392</td><td  style=\"background-color:Ivory;\">0.8083</td><td  style=\"background-color:Ivory;\">0.8145</td><td  style=\"background-color:Ivory;text-align:center;\">0.9361</td><td  style=\"background-color:Ivory;\">0.9430</td></tr><tr><td  style=\"background-color:LightGray;\"><b>14</b></td><td  style=\"background-color:AliceBlue;\">Judul&nbspKombinasi3&nbspSVM</td><td  style=\"background-color:AliceBlue;\">184900</td><td  style=\"background-color:AliceBlue;\">4100</td><td  style=\"background-color:AliceBlue;\">0.7398</td><td  style=\"background-color:AliceBlue;\">0.7667</td><td  style=\"background-color:AliceBlue;\">0.7421</td><td  style=\"background-color:AliceBlue;text-align:center;\">0.9100</td><td  style=\"background-color:AliceBlue;\">0.9184</td></tr><tr><td  style=\"background-color:LightGray;\"><b>15</b></td><td  style=\"background-color:Ivory;\">Short&nbspKombinasi3&nbspMNB</td><td  style=\"background-color:Ivory;\">20800</td><td  style=\"background-color:Ivory;\">3000</td><td  style=\"background-color:Ivory;\">0.7950</td><td  style=\"background-color:Ivory;\">0.7083</td><td  style=\"background-color:Ivory;\">0.7454</td><td  style=\"background-color:Ivory;text-align:center;\">0.9158</td><td  style=\"background-color:Ivory;\">0.9355</td></tr><tr><td  style=\"background-color:LightGray;\"><b>16</b></td><td  style=\"background-color:AliceBlue;\">Short&nbspKombinasi3&nbspSVM</td><td  style=\"background-color:AliceBlue;\">215200</td><td  style=\"background-color:AliceBlue;\">5000</td><td  style=\"background-color:AliceBlue;\">0.7953</td><td  style=\"background-color:AliceBlue;\">0.7500</td><td  style=\"background-color:AliceBlue;\">0.7687</td><td  style=\"background-color:AliceBlue;text-align:center;\">0.9216</td><td  style=\"background-color:AliceBlue;\">0.9256</td></tr><tr><td  style=\"background-color:LightGray;\"><b>17</b></td><td  style=\"background-color:Ivory;\">Long&nbspKombinasi3&nbspMNB</td><td  style=\"background-color:Ivory;\">291000</td><td  style=\"background-color:Ivory;\">32100</td><td  style=\"background-color:Ivory;\">0.9192</td><td  style=\"background-color:Ivory;\">0.8167</td><td  style=\"background-color:Ivory;\">0.8618</td><td  style=\"background-color:Ivory;text-align:center;\">0.9564</td><td  style=\"background-color:Ivory;\">0.9818</td></tr><tr><td  style=\"background-color:LightGray;\"><b>18</b></td><td  style=\"background-color:AliceBlue;\">Long&nbspKombinasi3&nbspSVM</td><td  style=\"background-color:AliceBlue;\">574700</td><td  style=\"background-color:AliceBlue;\">52000</td><td  style=\"background-color:AliceBlue;\">0.8922</td><td  style=\"background-color:AliceBlue;\">0.8250</td><td  style=\"background-color:AliceBlue;\">0.8535</td><td  style=\"background-color:AliceBlue;text-align:center;\">0.9520</td><td  style=\"background-color:AliceBlue;\">0.9753</td></tr><tr><td  style=\"background-color:LightGray;\"><b>19</b></td><td  style=\"background-color:Ivory;\">Judul&nbspKombinasi4&nbspMNB</td><td  style=\"background-color:Ivory;\">15300</td><td  style=\"background-color:Ivory;\">100</td><td  style=\"background-color:Ivory;\">0.2000</td><td  style=\"background-color:Ivory;\">0.0167</td><td  style=\"background-color:Ivory;\">0.0308</td><td  style=\"background-color:Ivory;text-align:center;\">0.8287</td><td  style=\"background-color:Ivory;\">0.4934</td></tr><tr><td  style=\"background-color:LightGray;\"><b>20</b></td><td  style=\"background-color:AliceBlue;\">Judul&nbspKombinasi4&nbspSVM</td><td  style=\"background-color:AliceBlue;\">116400</td><td  style=\"background-color:AliceBlue;\">1700</td><td  style=\"background-color:AliceBlue;\">0.1656</td><td  style=\"background-color:AliceBlue;\">0.5917</td><td  style=\"background-color:AliceBlue;\">0.2576</td><td  style=\"background-color:AliceBlue;text-align:center;\">0.3991</td><td  style=\"background-color:AliceBlue;\">0.4283</td></tr><tr><td  style=\"background-color:LightGray;\"><b>21</b></td><td  style=\"background-color:Ivory;\">Short&nbspKombinasi4&nbspMNB</td><td  style=\"background-color:Ivory;\">900</td><td  style=\"background-color:Ivory;\">100</td><td  style=\"background-color:Ivory;\">0.0000</td><td  style=\"background-color:Ivory;\">0.0000</td><td  style=\"background-color:Ivory;\">0.0000</td><td  style=\"background-color:Ivory;text-align:center;\">0.8215</td><td  style=\"background-color:Ivory;\">0.5947</td></tr><tr><td  style=\"background-color:LightGray;\"><b>22</b></td><td  style=\"background-color:AliceBlue;\">Short&nbspKombinasi4&nbspSVM</td><td  style=\"background-color:AliceBlue;\">167800</td><td  style=\"background-color:AliceBlue;\">1700</td><td  style=\"background-color:AliceBlue;\">0.2918</td><td  style=\"background-color:AliceBlue;\">0.4667</td><td  style=\"background-color:AliceBlue;\">0.3417</td><td  style=\"background-color:AliceBlue;text-align:center;\">0.6429</td><td  style=\"background-color:AliceBlue;\">0.6134</td></tr><tr><td  style=\"background-color:LightGray;\"><b>23</b></td><td  style=\"background-color:Ivory;\">Long&nbspKombinasi4&nbspMNB</td><td  style=\"background-color:Ivory;\">800</td><td  style=\"background-color:Ivory;\">100</td><td  style=\"background-color:Ivory;\">0.0200</td><td  style=\"background-color:Ivory;\">0.0083</td><td  style=\"background-color:Ivory;\">0.0118</td><td  style=\"background-color:Ivory;text-align:center;\">0.7953</td><td  style=\"background-color:Ivory;\">0.4702</td></tr><tr><td  style=\"background-color:LightGray;\"><b>24</b></td><td  style=\"background-color:AliceBlue;\">Long&nbspKombinasi4&nbspSVM</td><td  style=\"background-color:AliceBlue;\">444600</td><td  style=\"background-color:AliceBlue;\">1700</td><td  style=\"background-color:AliceBlue;\">0.1826</td><td  style=\"background-color:AliceBlue;\">0.4000</td><td  style=\"background-color:AliceBlue;\">0.2479</td><td  style=\"background-color:AliceBlue;text-align:center;\">0.5644</td><td  style=\"background-color:AliceBlue;\">0.5005</td></tr></table>"
      ],
      "text/plain": [
       "<ipy_table.IpyTable at 0x1abd4e10>"
      ]
     },
     "execution_count": 23,
     "metadata": {},
     "output_type": "execute_result"
    }
   ],
   "source": [
    "from ipy_table import *\n",
    "metrics_table = []\n",
    "tables = []\n",
    "columns = (['id', 'nama','training time', 'testing time','p_1',\n",
    "            'r_1','F1 score','accuracy','AUC'])\n",
    "tables.append(columns)\n",
    "\n",
    "i = 0\n",
    "\n",
    "for me in metric:\n",
    "    i += 1\n",
    "    \n",
    "    metr = []\n",
    "    metr.append(i)\n",
    "    metr.append(me['name'])\n",
    "    for m in me['metrics']:\n",
    "        metr.append(m)\n",
    "\n",
    "    tables.append(metr)\n",
    "    metrics_table.append(metr)\n",
    "    #print metric\n",
    "    \n",
    "make_table(tables)\n",
    "\n",
    "# styling\n",
    "apply_theme('basic_both')\n",
    "set_column_style(7, align='center')"
   ]
  },
  {
   "cell_type": "code",
   "execution_count": 24,
   "metadata": {
    "collapsed": false
   },
   "outputs": [],
   "source": [
    "evals = pd.DataFrame(metrics_table,columns=columns)\n",
    "evals['Vars'] = [i.split()[0] for i in evals['nama']]\n",
    "evals['Prep'] = [i.split()[1] for i in evals['nama']]\n",
    "evals['Algs'] = [i.split()[2] for i in evals['nama']]\n",
    "evals.drop('nama',axis=1,inplace=True)\n",
    "evals.drop('id',axis=1,inplace=True)"
   ]
  },
  {
   "cell_type": "code",
   "execution_count": 115,
   "metadata": {
    "collapsed": false
   },
   "outputs": [
    {
     "data": {
      "text/html": [
       "<div>\n",
       "<table border=\"1\" class=\"dataframe\">\n",
       "  <thead>\n",
       "    <tr style=\"text-align: right;\">\n",
       "      <th></th>\n",
       "      <th>training time</th>\n",
       "      <th>testing time</th>\n",
       "      <th>p_1</th>\n",
       "      <th>r_1</th>\n",
       "      <th>F1 score</th>\n",
       "      <th>accuracy</th>\n",
       "      <th>AUC</th>\n",
       "      <th>Vars</th>\n",
       "      <th>Prep</th>\n",
       "      <th>Algs</th>\n",
       "    </tr>\n",
       "  </thead>\n",
       "  <tbody>\n",
       "    <tr>\n",
       "      <th>0</th>\n",
       "      <td>21800</td>\n",
       "      <td>4600</td>\n",
       "      <td>0.857632</td>\n",
       "      <td>0.783333</td>\n",
       "      <td>0.804175</td>\n",
       "      <td>0.934612</td>\n",
       "      <td>0.941077</td>\n",
       "      <td>Judul</td>\n",
       "      <td>Kombinasi1</td>\n",
       "      <td>MNB</td>\n",
       "    </tr>\n",
       "    <tr>\n",
       "      <th>1</th>\n",
       "      <td>263900</td>\n",
       "      <td>6300</td>\n",
       "      <td>0.774242</td>\n",
       "      <td>0.758333</td>\n",
       "      <td>0.747303</td>\n",
       "      <td>0.911402</td>\n",
       "      <td>0.926094</td>\n",
       "      <td>Judul</td>\n",
       "      <td>Kombinasi1</td>\n",
       "      <td>SVM</td>\n",
       "    </tr>\n",
       "    <tr>\n",
       "      <th>2</th>\n",
       "      <td>27700</td>\n",
       "      <td>2900</td>\n",
       "      <td>0.825036</td>\n",
       "      <td>0.666667</td>\n",
       "      <td>0.722741</td>\n",
       "      <td>0.912894</td>\n",
       "      <td>0.937879</td>\n",
       "      <td>Short</td>\n",
       "      <td>Kombinasi1</td>\n",
       "      <td>MNB</td>\n",
       "    </tr>\n",
       "    <tr>\n",
       "      <th>3</th>\n",
       "      <td>337600</td>\n",
       "      <td>9200</td>\n",
       "      <td>0.832451</td>\n",
       "      <td>0.716667</td>\n",
       "      <td>0.762457</td>\n",
       "      <td>0.923082</td>\n",
       "      <td>0.937710</td>\n",
       "      <td>Short</td>\n",
       "      <td>Kombinasi1</td>\n",
       "      <td>SVM</td>\n",
       "    </tr>\n",
       "    <tr>\n",
       "      <th>4</th>\n",
       "      <td>324300</td>\n",
       "      <td>32800</td>\n",
       "      <td>0.924318</td>\n",
       "      <td>0.750000</td>\n",
       "      <td>0.821852</td>\n",
       "      <td>0.946249</td>\n",
       "      <td>0.980051</td>\n",
       "      <td>Long</td>\n",
       "      <td>Kombinasi1</td>\n",
       "      <td>MNB</td>\n",
       "    </tr>\n",
       "    <tr>\n",
       "      <th>5</th>\n",
       "      <td>416000</td>\n",
       "      <td>83900</td>\n",
       "      <td>0.918100</td>\n",
       "      <td>0.825000</td>\n",
       "      <td>0.863628</td>\n",
       "      <td>0.956415</td>\n",
       "      <td>0.980051</td>\n",
       "      <td>Long</td>\n",
       "      <td>Kombinasi1</td>\n",
       "      <td>SVM</td>\n",
       "    </tr>\n",
       "    <tr>\n",
       "      <th>6</th>\n",
       "      <td>20000</td>\n",
       "      <td>2600</td>\n",
       "      <td>0.798713</td>\n",
       "      <td>0.791667</td>\n",
       "      <td>0.784309</td>\n",
       "      <td>0.924467</td>\n",
       "      <td>0.946633</td>\n",
       "      <td>Judul</td>\n",
       "      <td>Kombinasi2</td>\n",
       "      <td>MNB</td>\n",
       "    </tr>\n",
       "    <tr>\n",
       "      <th>7</th>\n",
       "      <td>255200</td>\n",
       "      <td>5400</td>\n",
       "      <td>0.744774</td>\n",
       "      <td>0.758333</td>\n",
       "      <td>0.736040</td>\n",
       "      <td>0.905627</td>\n",
       "      <td>0.926852</td>\n",
       "      <td>Judul</td>\n",
       "      <td>Kombinasi2</td>\n",
       "      <td>SVM</td>\n",
       "    </tr>\n",
       "    <tr>\n",
       "      <th>8</th>\n",
       "      <td>26300</td>\n",
       "      <td>3000</td>\n",
       "      <td>0.813467</td>\n",
       "      <td>0.716667</td>\n",
       "      <td>0.756509</td>\n",
       "      <td>0.920162</td>\n",
       "      <td>0.934343</td>\n",
       "      <td>Short</td>\n",
       "      <td>Kombinasi2</td>\n",
       "      <td>MNB</td>\n",
       "    </tr>\n",
       "    <tr>\n",
       "      <th>9</th>\n",
       "      <td>258200</td>\n",
       "      <td>5200</td>\n",
       "      <td>0.800838</td>\n",
       "      <td>0.758333</td>\n",
       "      <td>0.773515</td>\n",
       "      <td>0.921611</td>\n",
       "      <td>0.930387</td>\n",
       "      <td>Short</td>\n",
       "      <td>Kombinasi2</td>\n",
       "      <td>SVM</td>\n",
       "    </tr>\n",
       "    <tr>\n",
       "      <th>10</th>\n",
       "      <td>377200</td>\n",
       "      <td>35800</td>\n",
       "      <td>0.913802</td>\n",
       "      <td>0.800000</td>\n",
       "      <td>0.848947</td>\n",
       "      <td>0.953517</td>\n",
       "      <td>0.980387</td>\n",
       "      <td>Long</td>\n",
       "      <td>Kombinasi2</td>\n",
       "      <td>MNB</td>\n",
       "    </tr>\n",
       "    <tr>\n",
       "      <th>11</th>\n",
       "      <td>292600</td>\n",
       "      <td>64800</td>\n",
       "      <td>0.918100</td>\n",
       "      <td>0.808333</td>\n",
       "      <td>0.848767</td>\n",
       "      <td>0.953474</td>\n",
       "      <td>0.978535</td>\n",
       "      <td>Long</td>\n",
       "      <td>Kombinasi2</td>\n",
       "      <td>SVM</td>\n",
       "    </tr>\n",
       "    <tr>\n",
       "      <th>12</th>\n",
       "      <td>19000</td>\n",
       "      <td>3000</td>\n",
       "      <td>0.839191</td>\n",
       "      <td>0.808333</td>\n",
       "      <td>0.814471</td>\n",
       "      <td>0.936104</td>\n",
       "      <td>0.943013</td>\n",
       "      <td>Judul</td>\n",
       "      <td>Kombinasi3</td>\n",
       "      <td>MNB</td>\n",
       "    </tr>\n",
       "    <tr>\n",
       "      <th>13</th>\n",
       "      <td>184900</td>\n",
       "      <td>4100</td>\n",
       "      <td>0.739786</td>\n",
       "      <td>0.766667</td>\n",
       "      <td>0.742062</td>\n",
       "      <td>0.909996</td>\n",
       "      <td>0.918350</td>\n",
       "      <td>Judul</td>\n",
       "      <td>Kombinasi3</td>\n",
       "      <td>SVM</td>\n",
       "    </tr>\n",
       "    <tr>\n",
       "      <th>14</th>\n",
       "      <td>20800</td>\n",
       "      <td>3000</td>\n",
       "      <td>0.794983</td>\n",
       "      <td>0.708333</td>\n",
       "      <td>0.745359</td>\n",
       "      <td>0.915814</td>\n",
       "      <td>0.935522</td>\n",
       "      <td>Short</td>\n",
       "      <td>Kombinasi3</td>\n",
       "      <td>MNB</td>\n",
       "    </tr>\n",
       "    <tr>\n",
       "      <th>15</th>\n",
       "      <td>215200</td>\n",
       "      <td>5000</td>\n",
       "      <td>0.795291</td>\n",
       "      <td>0.750000</td>\n",
       "      <td>0.768702</td>\n",
       "      <td>0.921633</td>\n",
       "      <td>0.925589</td>\n",
       "      <td>Short</td>\n",
       "      <td>Kombinasi3</td>\n",
       "      <td>SVM</td>\n",
       "    </tr>\n",
       "    <tr>\n",
       "      <th>16</th>\n",
       "      <td>291000</td>\n",
       "      <td>32100</td>\n",
       "      <td>0.919192</td>\n",
       "      <td>0.816667</td>\n",
       "      <td>0.861849</td>\n",
       "      <td>0.956415</td>\n",
       "      <td>0.981818</td>\n",
       "      <td>Long</td>\n",
       "      <td>Kombinasi3</td>\n",
       "      <td>MNB</td>\n",
       "    </tr>\n",
       "    <tr>\n",
       "      <th>17</th>\n",
       "      <td>574700</td>\n",
       "      <td>52000</td>\n",
       "      <td>0.892185</td>\n",
       "      <td>0.825000</td>\n",
       "      <td>0.853510</td>\n",
       "      <td>0.952046</td>\n",
       "      <td>0.975337</td>\n",
       "      <td>Long</td>\n",
       "      <td>Kombinasi3</td>\n",
       "      <td>SVM</td>\n",
       "    </tr>\n",
       "    <tr>\n",
       "      <th>18</th>\n",
       "      <td>15300</td>\n",
       "      <td>100</td>\n",
       "      <td>0.200000</td>\n",
       "      <td>0.016667</td>\n",
       "      <td>0.030769</td>\n",
       "      <td>0.828730</td>\n",
       "      <td>0.493424</td>\n",
       "      <td>Judul</td>\n",
       "      <td>Kombinasi4</td>\n",
       "      <td>MNB</td>\n",
       "    </tr>\n",
       "    <tr>\n",
       "      <th>19</th>\n",
       "      <td>116400</td>\n",
       "      <td>1700</td>\n",
       "      <td>0.165626</td>\n",
       "      <td>0.591667</td>\n",
       "      <td>0.257577</td>\n",
       "      <td>0.399105</td>\n",
       "      <td>0.428350</td>\n",
       "      <td>Judul</td>\n",
       "      <td>Kombinasi4</td>\n",
       "      <td>SVM</td>\n",
       "    </tr>\n",
       "    <tr>\n",
       "      <th>20</th>\n",
       "      <td>900</td>\n",
       "      <td>100</td>\n",
       "      <td>0.000000</td>\n",
       "      <td>0.000000</td>\n",
       "      <td>0.000000</td>\n",
       "      <td>0.821483</td>\n",
       "      <td>0.594730</td>\n",
       "      <td>Short</td>\n",
       "      <td>Kombinasi4</td>\n",
       "      <td>MNB</td>\n",
       "    </tr>\n",
       "    <tr>\n",
       "      <th>21</th>\n",
       "      <td>167800</td>\n",
       "      <td>1700</td>\n",
       "      <td>0.291792</td>\n",
       "      <td>0.466667</td>\n",
       "      <td>0.341682</td>\n",
       "      <td>0.642882</td>\n",
       "      <td>0.613399</td>\n",
       "      <td>Short</td>\n",
       "      <td>Kombinasi4</td>\n",
       "      <td>SVM</td>\n",
       "    </tr>\n",
       "    <tr>\n",
       "      <th>22</th>\n",
       "      <td>800</td>\n",
       "      <td>100</td>\n",
       "      <td>0.020000</td>\n",
       "      <td>0.008333</td>\n",
       "      <td>0.011765</td>\n",
       "      <td>0.795290</td>\n",
       "      <td>0.470202</td>\n",
       "      <td>Long</td>\n",
       "      <td>Kombinasi4</td>\n",
       "      <td>MNB</td>\n",
       "    </tr>\n",
       "    <tr>\n",
       "      <th>23</th>\n",
       "      <td>444600</td>\n",
       "      <td>1700</td>\n",
       "      <td>0.182636</td>\n",
       "      <td>0.400000</td>\n",
       "      <td>0.247945</td>\n",
       "      <td>0.564386</td>\n",
       "      <td>0.500505</td>\n",
       "      <td>Long</td>\n",
       "      <td>Kombinasi4</td>\n",
       "      <td>SVM</td>\n",
       "    </tr>\n",
       "  </tbody>\n",
       "</table>\n",
       "</div>"
      ],
      "text/plain": [
       "    training time  testing time       p_1       r_1  F1 score  accuracy  \\\n",
       "0           21800          4600  0.857632  0.783333  0.804175  0.934612   \n",
       "1          263900          6300  0.774242  0.758333  0.747303  0.911402   \n",
       "2           27700          2900  0.825036  0.666667  0.722741  0.912894   \n",
       "3          337600          9200  0.832451  0.716667  0.762457  0.923082   \n",
       "4          324300         32800  0.924318  0.750000  0.821852  0.946249   \n",
       "5          416000         83900  0.918100  0.825000  0.863628  0.956415   \n",
       "6           20000          2600  0.798713  0.791667  0.784309  0.924467   \n",
       "7          255200          5400  0.744774  0.758333  0.736040  0.905627   \n",
       "8           26300          3000  0.813467  0.716667  0.756509  0.920162   \n",
       "9          258200          5200  0.800838  0.758333  0.773515  0.921611   \n",
       "10         377200         35800  0.913802  0.800000  0.848947  0.953517   \n",
       "11         292600         64800  0.918100  0.808333  0.848767  0.953474   \n",
       "12          19000          3000  0.839191  0.808333  0.814471  0.936104   \n",
       "13         184900          4100  0.739786  0.766667  0.742062  0.909996   \n",
       "14          20800          3000  0.794983  0.708333  0.745359  0.915814   \n",
       "15         215200          5000  0.795291  0.750000  0.768702  0.921633   \n",
       "16         291000         32100  0.919192  0.816667  0.861849  0.956415   \n",
       "17         574700         52000  0.892185  0.825000  0.853510  0.952046   \n",
       "18          15300           100  0.200000  0.016667  0.030769  0.828730   \n",
       "19         116400          1700  0.165626  0.591667  0.257577  0.399105   \n",
       "20            900           100  0.000000  0.000000  0.000000  0.821483   \n",
       "21         167800          1700  0.291792  0.466667  0.341682  0.642882   \n",
       "22            800           100  0.020000  0.008333  0.011765  0.795290   \n",
       "23         444600          1700  0.182636  0.400000  0.247945  0.564386   \n",
       "\n",
       "         AUC   Vars        Prep Algs  \n",
       "0   0.941077  Judul  Kombinasi1  MNB  \n",
       "1   0.926094  Judul  Kombinasi1  SVM  \n",
       "2   0.937879  Short  Kombinasi1  MNB  \n",
       "3   0.937710  Short  Kombinasi1  SVM  \n",
       "4   0.980051   Long  Kombinasi1  MNB  \n",
       "5   0.980051   Long  Kombinasi1  SVM  \n",
       "6   0.946633  Judul  Kombinasi2  MNB  \n",
       "7   0.926852  Judul  Kombinasi2  SVM  \n",
       "8   0.934343  Short  Kombinasi2  MNB  \n",
       "9   0.930387  Short  Kombinasi2  SVM  \n",
       "10  0.980387   Long  Kombinasi2  MNB  \n",
       "11  0.978535   Long  Kombinasi2  SVM  \n",
       "12  0.943013  Judul  Kombinasi3  MNB  \n",
       "13  0.918350  Judul  Kombinasi3  SVM  \n",
       "14  0.935522  Short  Kombinasi3  MNB  \n",
       "15  0.925589  Short  Kombinasi3  SVM  \n",
       "16  0.981818   Long  Kombinasi3  MNB  \n",
       "17  0.975337   Long  Kombinasi3  SVM  \n",
       "18  0.493424  Judul  Kombinasi4  MNB  \n",
       "19  0.428350  Judul  Kombinasi4  SVM  \n",
       "20  0.594730  Short  Kombinasi4  MNB  \n",
       "21  0.613399  Short  Kombinasi4  SVM  \n",
       "22  0.470202   Long  Kombinasi4  MNB  \n",
       "23  0.500505   Long  Kombinasi4  SVM  "
      ]
     },
     "execution_count": 115,
     "metadata": {},
     "output_type": "execute_result"
    }
   ],
   "source": [
    "evals"
   ]
  },
  {
   "cell_type": "code",
   "execution_count": 25,
   "metadata": {
    "collapsed": false
   },
   "outputs": [
    {
     "data": {
      "text/html": [
       "<div>\n",
       "<table border=\"1\" class=\"dataframe\">\n",
       "  <thead>\n",
       "    <tr style=\"text-align: right;\">\n",
       "      <th></th>\n",
       "      <th>Judul</th>\n",
       "      <th>Short</th>\n",
       "      <th>Long</th>\n",
       "    </tr>\n",
       "  </thead>\n",
       "  <tbody>\n",
       "    <tr>\n",
       "      <th>training time</th>\n",
       "      <td>127466.666667</td>\n",
       "      <td>147633.333333</td>\n",
       "      <td>379300.000000</td>\n",
       "    </tr>\n",
       "    <tr>\n",
       "      <th>testing time</th>\n",
       "      <td>4333.333333</td>\n",
       "      <td>4716.666667</td>\n",
       "      <td>50233.333333</td>\n",
       "    </tr>\n",
       "    <tr>\n",
       "      <th>p_1</th>\n",
       "      <td>0.792390</td>\n",
       "      <td>0.810344</td>\n",
       "      <td>0.914283</td>\n",
       "    </tr>\n",
       "    <tr>\n",
       "      <th>r_1</th>\n",
       "      <td>0.777778</td>\n",
       "      <td>0.719444</td>\n",
       "      <td>0.804167</td>\n",
       "    </tr>\n",
       "    <tr>\n",
       "      <th>F1 score</th>\n",
       "      <td>0.771393</td>\n",
       "      <td>0.754880</td>\n",
       "      <td>0.849759</td>\n",
       "    </tr>\n",
       "    <tr>\n",
       "      <th>accuracy</th>\n",
       "      <td>0.920368</td>\n",
       "      <td>0.919199</td>\n",
       "      <td>0.953019</td>\n",
       "    </tr>\n",
       "    <tr>\n",
       "      <th>AUC</th>\n",
       "      <td>0.933670</td>\n",
       "      <td>0.933572</td>\n",
       "      <td>0.979363</td>\n",
       "    </tr>\n",
       "  </tbody>\n",
       "</table>\n",
       "</div>"
      ],
      "text/plain": [
       "                       Judul          Short           Long\n",
       "training time  127466.666667  147633.333333  379300.000000\n",
       "testing time     4333.333333    4716.666667   50233.333333\n",
       "p_1                 0.792390       0.810344       0.914283\n",
       "r_1                 0.777778       0.719444       0.804167\n",
       "F1 score            0.771393       0.754880       0.849759\n",
       "accuracy            0.920368       0.919199       0.953019\n",
       "AUC                 0.933670       0.933572       0.979363"
      ]
     },
     "execution_count": 25,
     "metadata": {},
     "output_type": "execute_result"
    }
   ],
   "source": [
    "splitter1 = ['Judul','Short','Long']\n",
    "splitter2 = ['Kombinasi1','Kombinasi2','Kombinasi3']\n",
    "eval_teks = evals[evals.Prep.isin(splitter2)]\n",
    "eval_teks = pd.DataFrame([eval_teks[eval_teks.Vars == i].mean() for i in splitter1]).transpose()\n",
    "eval_teks.set_axis(1,splitter1)\n",
    "eval_teks"
   ]
  },
  {
   "cell_type": "code",
   "execution_count": 26,
   "metadata": {
    "collapsed": false
   },
   "outputs": [
    {
     "data": {
      "text/html": [
       "<div>\n",
       "<table border=\"1\" class=\"dataframe\">\n",
       "  <thead>\n",
       "    <tr style=\"text-align: right;\">\n",
       "      <th></th>\n",
       "      <th>Kombinasi1</th>\n",
       "      <th>Kombinasi2</th>\n",
       "      <th>Kombinasi3</th>\n",
       "      <th>Kombinasi4</th>\n",
       "    </tr>\n",
       "  </thead>\n",
       "  <tbody>\n",
       "    <tr>\n",
       "      <th>training time</th>\n",
       "      <td>231883.333333</td>\n",
       "      <td>204916.666667</td>\n",
       "      <td>217600.000000</td>\n",
       "      <td>124300.000000</td>\n",
       "    </tr>\n",
       "    <tr>\n",
       "      <th>testing time</th>\n",
       "      <td>23283.333333</td>\n",
       "      <td>19466.666667</td>\n",
       "      <td>16533.333333</td>\n",
       "      <td>900.000000</td>\n",
       "    </tr>\n",
       "    <tr>\n",
       "      <th>p_1</th>\n",
       "      <td>0.855297</td>\n",
       "      <td>0.831616</td>\n",
       "      <td>0.830105</td>\n",
       "      <td>0.143342</td>\n",
       "    </tr>\n",
       "    <tr>\n",
       "      <th>r_1</th>\n",
       "      <td>0.750000</td>\n",
       "      <td>0.772222</td>\n",
       "      <td>0.779167</td>\n",
       "      <td>0.247222</td>\n",
       "    </tr>\n",
       "    <tr>\n",
       "      <th>F1 score</th>\n",
       "      <td>0.787026</td>\n",
       "      <td>0.791348</td>\n",
       "      <td>0.797659</td>\n",
       "      <td>0.148290</td>\n",
       "    </tr>\n",
       "    <tr>\n",
       "      <th>accuracy</th>\n",
       "      <td>0.930776</td>\n",
       "      <td>0.929810</td>\n",
       "      <td>0.932001</td>\n",
       "      <td>0.675313</td>\n",
       "    </tr>\n",
       "    <tr>\n",
       "      <th>AUC</th>\n",
       "      <td>0.950477</td>\n",
       "      <td>0.949523</td>\n",
       "      <td>0.946605</td>\n",
       "      <td>0.516768</td>\n",
       "    </tr>\n",
       "  </tbody>\n",
       "</table>\n",
       "</div>"
      ],
      "text/plain": [
       "                  Kombinasi1     Kombinasi2     Kombinasi3     Kombinasi4\n",
       "training time  231883.333333  204916.666667  217600.000000  124300.000000\n",
       "testing time    23283.333333   19466.666667   16533.333333     900.000000\n",
       "p_1                 0.855297       0.831616       0.830105       0.143342\n",
       "r_1                 0.750000       0.772222       0.779167       0.247222\n",
       "F1 score            0.787026       0.791348       0.797659       0.148290\n",
       "accuracy            0.930776       0.929810       0.932001       0.675313\n",
       "AUC                 0.950477       0.949523       0.946605       0.516768"
      ]
     },
     "execution_count": 26,
     "metadata": {},
     "output_type": "execute_result"
    }
   ],
   "source": [
    "splitter = ['Kombinasi1','Kombinasi2','Kombinasi3','Kombinasi4']\n",
    "eval_prep = pd.DataFrame([evals[evals.Prep == i].mean() for i in splitter]).transpose()\n",
    "eval_prep.set_axis(1,splitter)\n",
    "eval_prep"
   ]
  },
  {
   "cell_type": "code",
   "execution_count": 27,
   "metadata": {
    "collapsed": false
   },
   "outputs": [
    {
     "ename": "ValueError",
     "evalue": "Length mismatch: Expected axis has 2 elements, new values have 4 elements",
     "output_type": "error",
     "traceback": [
      "\u001b[1;31m---------------------------------------------------------------------------\u001b[0m",
      "\u001b[1;31mValueError\u001b[0m                                Traceback (most recent call last)",
      "\u001b[1;32m<ipython-input-27-aeac49afae62>\u001b[0m in \u001b[0;36m<module>\u001b[1;34m()\u001b[0m\n\u001b[0;32m      3\u001b[0m \u001b[0meval_teks\u001b[0m \u001b[1;33m=\u001b[0m \u001b[0mevals\u001b[0m\u001b[1;33m[\u001b[0m\u001b[0mevals\u001b[0m\u001b[1;33m.\u001b[0m\u001b[0mPrep\u001b[0m\u001b[1;33m.\u001b[0m\u001b[0misin\u001b[0m\u001b[1;33m(\u001b[0m\u001b[0msplitter2\u001b[0m\u001b[1;33m)\u001b[0m\u001b[1;33m]\u001b[0m\u001b[1;33m\u001b[0m\u001b[0m\n\u001b[0;32m      4\u001b[0m \u001b[0meval_teks\u001b[0m \u001b[1;33m=\u001b[0m \u001b[0mpd\u001b[0m\u001b[1;33m.\u001b[0m\u001b[0mDataFrame\u001b[0m\u001b[1;33m(\u001b[0m\u001b[1;33m[\u001b[0m\u001b[0meval_teks\u001b[0m\u001b[1;33m[\u001b[0m\u001b[0meval_teks\u001b[0m\u001b[1;33m.\u001b[0m\u001b[0mAlgs\u001b[0m \u001b[1;33m==\u001b[0m \u001b[0mi\u001b[0m\u001b[1;33m]\u001b[0m\u001b[1;33m.\u001b[0m\u001b[0mmean\u001b[0m\u001b[1;33m(\u001b[0m\u001b[1;33m)\u001b[0m \u001b[1;32mfor\u001b[0m \u001b[0mi\u001b[0m \u001b[1;32min\u001b[0m \u001b[0msplitter1\u001b[0m\u001b[1;33m]\u001b[0m\u001b[1;33m)\u001b[0m\u001b[1;33m.\u001b[0m\u001b[0mtranspose\u001b[0m\u001b[1;33m(\u001b[0m\u001b[1;33m)\u001b[0m\u001b[1;33m\u001b[0m\u001b[0m\n\u001b[1;32m----> 5\u001b[1;33m \u001b[0meval_teks\u001b[0m\u001b[1;33m.\u001b[0m\u001b[0mset_axis\u001b[0m\u001b[1;33m(\u001b[0m\u001b[1;36m1\u001b[0m\u001b[1;33m,\u001b[0m\u001b[0msplitter\u001b[0m\u001b[1;33m)\u001b[0m\u001b[1;33m\u001b[0m\u001b[0m\n\u001b[0m\u001b[0;32m      6\u001b[0m \u001b[0meval_teks\u001b[0m\u001b[1;33m\u001b[0m\u001b[0m\n",
      "\u001b[1;32mC:\\Users\\Thosan Girisona S\\Anaconda\\lib\\site-packages\\pandas\\core\\generic.pyc\u001b[0m in \u001b[0;36mset_axis\u001b[1;34m(self, axis, labels)\u001b[0m\n\u001b[0;32m    419\u001b[0m     \u001b[1;32mdef\u001b[0m \u001b[0mset_axis\u001b[0m\u001b[1;33m(\u001b[0m\u001b[0mself\u001b[0m\u001b[1;33m,\u001b[0m \u001b[0maxis\u001b[0m\u001b[1;33m,\u001b[0m \u001b[0mlabels\u001b[0m\u001b[1;33m)\u001b[0m\u001b[1;33m:\u001b[0m\u001b[1;33m\u001b[0m\u001b[0m\n\u001b[0;32m    420\u001b[0m         \u001b[1;34m\"\"\" public verson of axis assignment \"\"\"\u001b[0m\u001b[1;33m\u001b[0m\u001b[0m\n\u001b[1;32m--> 421\u001b[1;33m         \u001b[0msetattr\u001b[0m\u001b[1;33m(\u001b[0m\u001b[0mself\u001b[0m\u001b[1;33m,\u001b[0m\u001b[0mself\u001b[0m\u001b[1;33m.\u001b[0m\u001b[0m_get_axis_name\u001b[0m\u001b[1;33m(\u001b[0m\u001b[0maxis\u001b[0m\u001b[1;33m)\u001b[0m\u001b[1;33m,\u001b[0m\u001b[0mlabels\u001b[0m\u001b[1;33m)\u001b[0m\u001b[1;33m\u001b[0m\u001b[0m\n\u001b[0m\u001b[0;32m    422\u001b[0m \u001b[1;33m\u001b[0m\u001b[0m\n\u001b[0;32m    423\u001b[0m     \u001b[1;32mdef\u001b[0m \u001b[0m_set_axis\u001b[0m\u001b[1;33m(\u001b[0m\u001b[0mself\u001b[0m\u001b[1;33m,\u001b[0m \u001b[0maxis\u001b[0m\u001b[1;33m,\u001b[0m \u001b[0mlabels\u001b[0m\u001b[1;33m)\u001b[0m\u001b[1;33m:\u001b[0m\u001b[1;33m\u001b[0m\u001b[0m\n",
      "\u001b[1;32mC:\\Users\\Thosan Girisona S\\Anaconda\\lib\\site-packages\\pandas\\core\\generic.pyc\u001b[0m in \u001b[0;36m__setattr__\u001b[1;34m(self, name, value)\u001b[0m\n\u001b[0;32m   2255\u001b[0m         \u001b[1;32mtry\u001b[0m\u001b[1;33m:\u001b[0m\u001b[1;33m\u001b[0m\u001b[0m\n\u001b[0;32m   2256\u001b[0m             \u001b[0mobject\u001b[0m\u001b[1;33m.\u001b[0m\u001b[0m__getattribute__\u001b[0m\u001b[1;33m(\u001b[0m\u001b[0mself\u001b[0m\u001b[1;33m,\u001b[0m \u001b[0mname\u001b[0m\u001b[1;33m)\u001b[0m\u001b[1;33m\u001b[0m\u001b[0m\n\u001b[1;32m-> 2257\u001b[1;33m             \u001b[1;32mreturn\u001b[0m \u001b[0mobject\u001b[0m\u001b[1;33m.\u001b[0m\u001b[0m__setattr__\u001b[0m\u001b[1;33m(\u001b[0m\u001b[0mself\u001b[0m\u001b[1;33m,\u001b[0m \u001b[0mname\u001b[0m\u001b[1;33m,\u001b[0m \u001b[0mvalue\u001b[0m\u001b[1;33m)\u001b[0m\u001b[1;33m\u001b[0m\u001b[0m\n\u001b[0m\u001b[0;32m   2258\u001b[0m         \u001b[1;32mexcept\u001b[0m \u001b[0mAttributeError\u001b[0m\u001b[1;33m:\u001b[0m\u001b[1;33m\u001b[0m\u001b[0m\n\u001b[0;32m   2259\u001b[0m             \u001b[1;32mpass\u001b[0m\u001b[1;33m\u001b[0m\u001b[0m\n",
      "\u001b[1;32mpandas\\src\\properties.pyx\u001b[0m in \u001b[0;36mpandas.lib.AxisProperty.__set__ (pandas\\lib.c:44611)\u001b[1;34m()\u001b[0m\n",
      "\u001b[1;32mC:\\Users\\Thosan Girisona S\\Anaconda\\lib\\site-packages\\pandas\\core\\generic.pyc\u001b[0m in \u001b[0;36m_set_axis\u001b[1;34m(self, axis, labels)\u001b[0m\n\u001b[0;32m    422\u001b[0m \u001b[1;33m\u001b[0m\u001b[0m\n\u001b[0;32m    423\u001b[0m     \u001b[1;32mdef\u001b[0m \u001b[0m_set_axis\u001b[0m\u001b[1;33m(\u001b[0m\u001b[0mself\u001b[0m\u001b[1;33m,\u001b[0m \u001b[0maxis\u001b[0m\u001b[1;33m,\u001b[0m \u001b[0mlabels\u001b[0m\u001b[1;33m)\u001b[0m\u001b[1;33m:\u001b[0m\u001b[1;33m\u001b[0m\u001b[0m\n\u001b[1;32m--> 424\u001b[1;33m         \u001b[0mself\u001b[0m\u001b[1;33m.\u001b[0m\u001b[0m_data\u001b[0m\u001b[1;33m.\u001b[0m\u001b[0mset_axis\u001b[0m\u001b[1;33m(\u001b[0m\u001b[0maxis\u001b[0m\u001b[1;33m,\u001b[0m \u001b[0mlabels\u001b[0m\u001b[1;33m)\u001b[0m\u001b[1;33m\u001b[0m\u001b[0m\n\u001b[0m\u001b[0;32m    425\u001b[0m         \u001b[0mself\u001b[0m\u001b[1;33m.\u001b[0m\u001b[0m_clear_item_cache\u001b[0m\u001b[1;33m(\u001b[0m\u001b[1;33m)\u001b[0m\u001b[1;33m\u001b[0m\u001b[0m\n\u001b[0;32m    426\u001b[0m \u001b[1;33m\u001b[0m\u001b[0m\n",
      "\u001b[1;32mC:\\Users\\Thosan Girisona S\\Anaconda\\lib\\site-packages\\pandas\\core\\internals.pyc\u001b[0m in \u001b[0;36mset_axis\u001b[1;34m(self, axis, new_labels)\u001b[0m\n\u001b[0;32m   2458\u001b[0m         \u001b[1;32mif\u001b[0m \u001b[0mnew_len\u001b[0m \u001b[1;33m!=\u001b[0m \u001b[0mold_len\u001b[0m\u001b[1;33m:\u001b[0m\u001b[1;33m\u001b[0m\u001b[0m\n\u001b[0;32m   2459\u001b[0m             raise ValueError('Length mismatch: Expected axis has %d elements, '\n\u001b[1;32m-> 2460\u001b[1;33m                              'new values have %d elements' % (old_len, new_len))\n\u001b[0m\u001b[0;32m   2461\u001b[0m \u001b[1;33m\u001b[0m\u001b[0m\n\u001b[0;32m   2462\u001b[0m         \u001b[0mself\u001b[0m\u001b[1;33m.\u001b[0m\u001b[0maxes\u001b[0m\u001b[1;33m[\u001b[0m\u001b[0maxis\u001b[0m\u001b[1;33m]\u001b[0m \u001b[1;33m=\u001b[0m \u001b[0mnew_labels\u001b[0m\u001b[1;33m\u001b[0m\u001b[0m\n",
      "\u001b[1;31mValueError\u001b[0m: Length mismatch: Expected axis has 2 elements, new values have 4 elements"
     ]
    }
   ],
   "source": [
    "splitter1 = ['MNB','SVM']\n",
    "splitter2 = ['Kombinasi1','Kombinasi2','Kombinasi3']\n",
    "eval_teks = evals[evals.Prep.isin(splitter2)]\n",
    "eval_teks = pd.DataFrame([eval_teks[eval_teks.Algs == i].mean() for i in splitter1]).transpose()\n",
    "eval_teks.set_axis(1,splitter)\n",
    "eval_teks"
   ]
  },
  {
   "cell_type": "code",
   "execution_count": 53,
   "metadata": {
    "collapsed": false
   },
   "outputs": [
    {
     "data": {
      "text/plain": [
       "MultinomialNB(alpha=0.1, class_prior=None, fit_prior=True)"
      ]
     },
     "execution_count": 53,
     "metadata": {},
     "output_type": "execute_result"
    }
   ],
   "source": [
    "mnb"
   ]
  },
  {
   "cell_type": "code",
   "execution_count": 28,
   "metadata": {
    "collapsed": false
   },
   "outputs": [],
   "source": [
    "#knn\n",
    "# knn_params = {'n_neighbors': range(1,21), 'weights': ['uniform', 'distance'], 'algorithm': ['ball_tree', 'kd_tree'],\n",
    "#               'leaf_size': [15, 30, 50, 100], 'p': [1,2]}"
   ]
  },
  {
   "cell_type": "code",
   "execution_count": 54,
   "metadata": {
    "collapsed": false
   },
   "outputs": [
    {
     "data": {
      "text/plain": [
       "SVC(C=1.0, cache_size=800, class_weight='balanced', coef0=0.0,\n",
       "  decision_function_shape=None, degree=3, gamma='auto', kernel='linear',\n",
       "  max_iter=-1, probability=True, random_state=None, shrinking=True,\n",
       "  tol=0.001, verbose=False)"
      ]
     },
     "execution_count": 54,
     "metadata": {},
     "output_type": "execute_result"
    }
   ],
   "source": [
    "svc\n",
    "# lsvm_params = {'loss':['hinge', 'squared_hinge'],'class_weight':['balanced']}"
   ]
  },
  {
   "cell_type": "code",
   "execution_count": 30,
   "metadata": {
    "collapsed": false
   },
   "outputs": [],
   "source": [
    "#tre\n",
    "# tree_param = {\"criterion\": [\"gini\", \"entropy\"],\"class_weight\" : ['balanced']}"
   ]
  }
 ],
 "metadata": {
  "kernelspec": {
   "display_name": "Python 2",
   "language": "python",
   "name": "python2"
  },
  "language_info": {
   "codemirror_mode": {
    "name": "ipython",
    "version": 2
   },
   "file_extension": ".py",
   "mimetype": "text/x-python",
   "name": "python",
   "nbconvert_exporter": "python",
   "pygments_lexer": "ipython2",
   "version": "2.7.11"
  }
 },
 "nbformat": 4,
 "nbformat_minor": 0
}
