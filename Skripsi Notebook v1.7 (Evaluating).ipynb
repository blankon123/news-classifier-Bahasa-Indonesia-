{
 "cells": [
  {
   "cell_type": "code",
   "execution_count": 2,
   "metadata": {
    "collapsed": true,
    "slideshow": {
     "slide_type": "slide"
    }
   },
   "outputs": [],
   "source": [
    "import matplotlib.pyplot as plt\n",
    "import os, re\n",
    "import pandas as pd\n",
    "\n",
    "from datetime import datetime as dt\n",
    "import cPickle as pickle\n",
    "import re #Regex\n",
    "%matplotlib inline"
   ]
  },
  {
   "cell_type": "markdown",
   "metadata": {},
   "source": [
    "# 1. Evaluating Crawling Indicator"
   ]
  },
  {
   "cell_type": "code",
   "execution_count": 3,
   "metadata": {
    "collapsed": false
   },
   "outputs": [
    {
     "name": "stdout",
     "output_type": "stream",
     "text": [
      "Wall time: 3.02 s\n"
     ]
    },
    {
     "data": {
      "text/html": [
       "<div>\n",
       "<table border=\"1\" class=\"dataframe\">\n",
       "  <thead>\n",
       "    <tr style=\"text-align: right;\">\n",
       "      <th></th>\n",
       "      <th>crawlMem</th>\n",
       "      <th>crawlTime</th>\n",
       "    </tr>\n",
       "  </thead>\n",
       "  <tbody>\n",
       "    <tr>\n",
       "      <th>count</th>\n",
       "      <td>13404.000000</td>\n",
       "      <td>13404.000000</td>\n",
       "    </tr>\n",
       "    <tr>\n",
       "      <th>mean</th>\n",
       "      <td>3271.140555</td>\n",
       "      <td>0.430880</td>\n",
       "    </tr>\n",
       "    <tr>\n",
       "      <th>std</th>\n",
       "      <td>709.678721</td>\n",
       "      <td>0.732218</td>\n",
       "    </tr>\n",
       "    <tr>\n",
       "      <th>min</th>\n",
       "      <td>2080.000000</td>\n",
       "      <td>0.000000</td>\n",
       "    </tr>\n",
       "    <tr>\n",
       "      <th>25%</th>\n",
       "      <td>2808.000000</td>\n",
       "      <td>0.132600</td>\n",
       "    </tr>\n",
       "    <tr>\n",
       "      <th>50%</th>\n",
       "      <td>2808.000000</td>\n",
       "      <td>0.154200</td>\n",
       "    </tr>\n",
       "    <tr>\n",
       "      <th>75%</th>\n",
       "      <td>4072.000000</td>\n",
       "      <td>0.514300</td>\n",
       "    </tr>\n",
       "    <tr>\n",
       "      <th>max</th>\n",
       "      <td>6832.000000</td>\n",
       "      <td>21.701800</td>\n",
       "    </tr>\n",
       "  </tbody>\n",
       "</table>\n",
       "</div>"
      ],
      "text/plain": [
       "           crawlMem     crawlTime\n",
       "count  13404.000000  13404.000000\n",
       "mean    3271.140555      0.430880\n",
       "std      709.678721      0.732218\n",
       "min     2080.000000      0.000000\n",
       "25%     2808.000000      0.132600\n",
       "50%     2808.000000      0.154200\n",
       "75%     4072.000000      0.514300\n",
       "max     6832.000000     21.701800"
      ]
     },
     "execution_count": 3,
     "metadata": {},
     "output_type": "execute_result"
    }
   ],
   "source": [
    "%time DATACrawl = pickle.load( open( \"v1.4\\DATA_ANALSISIS_crawl.p\", \"rb\" ) )\n",
    "crawlIndicator = pd.DataFrame([DATACrawl.crawlMem,DATACrawl.crawlTime]).transpose()\n",
    "crawlIndicator.describe()"
   ]
  },
  {
   "cell_type": "code",
   "execution_count": 4,
   "metadata": {
    "collapsed": false
   },
   "outputs": [
    {
     "name": "stdout",
     "output_type": "stream",
     "text": [
      "Memory Pos :  348976.0 Byte\n",
      "Memory Neg :  1135544.0 Byte\n",
      "Time Pos :  21.1329 Detik\n",
      "Time Neg :  81.9429 Detik\n"
     ]
    },
    {
     "data": {
      "text/html": [
       "<div>\n",
       "<table border=\"1\" class=\"dataframe\">\n",
       "  <thead>\n",
       "    <tr style=\"text-align: right;\">\n",
       "      <th></th>\n",
       "      <th>Memory Pos</th>\n",
       "      <th>Time Pos</th>\n",
       "      <th>Memory Neg</th>\n",
       "      <th>Time Neg</th>\n",
       "    </tr>\n",
       "  </thead>\n",
       "  <tbody>\n",
       "    <tr>\n",
       "      <th>count</th>\n",
       "      <td>101.000000</td>\n",
       "      <td>101.000000</td>\n",
       "      <td>406.000000</td>\n",
       "      <td>406.000000</td>\n",
       "    </tr>\n",
       "    <tr>\n",
       "      <th>mean</th>\n",
       "      <td>3455.207921</td>\n",
       "      <td>0.209237</td>\n",
       "      <td>2796.906404</td>\n",
       "      <td>0.201830</td>\n",
       "    </tr>\n",
       "    <tr>\n",
       "      <th>std</th>\n",
       "      <td>785.354344</td>\n",
       "      <td>0.247792</td>\n",
       "      <td>503.250909</td>\n",
       "      <td>0.309477</td>\n",
       "    </tr>\n",
       "    <tr>\n",
       "      <th>min</th>\n",
       "      <td>2368.000000</td>\n",
       "      <td>0.039900</td>\n",
       "      <td>2368.000000</td>\n",
       "      <td>0.031600</td>\n",
       "    </tr>\n",
       "    <tr>\n",
       "      <th>25%</th>\n",
       "      <td>2520.000000</td>\n",
       "      <td>0.124600</td>\n",
       "      <td>2520.000000</td>\n",
       "      <td>0.074825</td>\n",
       "    </tr>\n",
       "    <tr>\n",
       "      <th>50%</th>\n",
       "      <td>3920.000000</td>\n",
       "      <td>0.141900</td>\n",
       "      <td>2520.000000</td>\n",
       "      <td>0.111750</td>\n",
       "    </tr>\n",
       "    <tr>\n",
       "      <th>75%</th>\n",
       "      <td>4072.000000</td>\n",
       "      <td>0.158200</td>\n",
       "      <td>2808.000000</td>\n",
       "      <td>0.150275</td>\n",
       "    </tr>\n",
       "    <tr>\n",
       "      <th>max</th>\n",
       "      <td>6832.000000</td>\n",
       "      <td>1.492700</td>\n",
       "      <td>4104.000000</td>\n",
       "      <td>1.957100</td>\n",
       "    </tr>\n",
       "  </tbody>\n",
       "</table>\n",
       "</div>"
      ],
      "text/plain": [
       "        Memory Pos    Time Pos   Memory Neg    Time Neg\n",
       "count   101.000000  101.000000   406.000000  406.000000\n",
       "mean   3455.207921    0.209237  2796.906404    0.201830\n",
       "std     785.354344    0.247792   503.250909    0.309477\n",
       "min    2368.000000    0.039900  2368.000000    0.031600\n",
       "25%    2520.000000    0.124600  2520.000000    0.074825\n",
       "50%    3920.000000    0.141900  2520.000000    0.111750\n",
       "75%    4072.000000    0.158200  2808.000000    0.150275\n",
       "max    6832.000000    1.492700  4104.000000    1.957100"
      ]
     },
     "execution_count": 4,
     "metadata": {},
     "output_type": "execute_result"
    }
   ],
   "source": [
    "DATA_ANALSISIS_crawl    = DATACrawl[DATACrawl.flag.isin([-1, 1])]\n",
    "DATA_ANALSISIS_crawlPos = DATA_ANALSISIS_crawl[DATA_ANALSISIS_crawl.flag == 1]\n",
    "DATA_ANALSISIS_crawlNeg = DATA_ANALSISIS_crawl[DATA_ANALSISIS_crawl.flag == -1]\n",
    "crawlAnalysis = pd.DataFrame([DATA_ANALSISIS_crawlPos.crawlMem,DATA_ANALSISIS_crawlPos.crawlTime,\n",
    "                              DATA_ANALSISIS_crawlNeg.crawlMem,DATA_ANALSISIS_crawlNeg.crawlTime]).transpose()\n",
    "crawlAnalysis.columns = ['Memory Positif','Time Positif','Memory Negatif','Time Negatif']\n",
    "print 'Memory Positif : ',sum(DATA_ANALSISIS_crawlPos.crawlMem), 'Byte'\n",
    "print 'Memory Negatif : ',sum(DATA_ANALSISIS_crawlNeg.crawlMem), 'Byte'\n",
    "print 'Time Positif   : ',sum(DATA_ANALSISIS_crawlPos.crawlTime), 'Detik'\n",
    "print 'Time Negatif   : ',sum(DATA_ANALSISIS_crawlNeg.crawlTime),'Detik'\n",
    "crawlAnalysis.describe()"
   ]
  },
  {
   "cell_type": "markdown",
   "metadata": {
    "slideshow": {
     "slide_type": "slide"
    }
   },
   "source": [
    "# 2.Evaluating the Classifier v1.5 vs v1.6\n",
    "\n",
    "\n",
    "## 2.1 Load from the 'Pickled' dump"
   ]
  },
  {
   "cell_type": "code",
   "execution_count": 5,
   "metadata": {
    "collapsed": false
   },
   "outputs": [],
   "source": [
    "DATAStem = pd.DataFrame()\n",
    "DATAPost = pd.DataFrame()"
   ]
  },
  {
   "cell_type": "code",
   "execution_count": 6,
   "metadata": {
    "collapsed": false,
    "slideshow": {
     "slide_type": "subslide"
    }
   },
   "outputs": [
    {
     "name": "stdout",
     "output_type": "stream",
     "text": [
      "Wall time: 176 ms\n",
      "Wall time: 4 ms\n",
      "Wall time: 98 ms\n",
      "Wall time: 32 ms\n",
      "Wall time: 54 ms\n",
      "Wall time: 109 ms\n",
      "Wall time: 75 ms\n"
     ]
    }
   ],
   "source": [
    "#Load from Stemmed Text\n",
    "%time DATAStem['Judul'] = pickle.load( open( \"v1.5\\DATA_JUDULStem.p\", \"rb\" ) )\n",
    "%time DATAStem['Short'] = pickle.load( open( \"v1.5\\DATA_SHORTStem.p\", \"rb\" ) )\n",
    "%time DATAStem['Long']  = pickle.load( open( \"v1.5\\DATA_LONGStem.p\", \"rb\" ) )\n",
    "\n",
    "#Load from PosTagged Text\n",
    "%time DATAPost['Judul'] = pickle.load( open( \"v1.6\\DATA_JUDULpostag.p\", \"rb\" ) )\n",
    "%time DATAPost['Short'] = pickle.load( open( \"v1.6\\DATA_SHORTpostag.p\", \"rb\" ) )\n",
    "%time DATAPost['Long']  = pickle.load( open( \"v1.6\\DATA_LONGpostag.p\", \"rb\" ) )\n",
    "\n",
    "%time DATA_TARGET = pickle.load( open( \"v1.4\\DATA_TARGET.p\", \"rb\" ) )\n",
    "\n",
    "# DATA_TARGET = DATA_TARGET.sort_index()\n",
    "# DATAStem = DATAStem.sort_index()\n",
    "# DATAPost = DATAPost.sort_index()\n",
    "\n",
    "DATA_TARGET = DATA_TARGET.reset_index(drop=True)\n",
    "DATAStem = DATAStem.reset_index(drop=True)\n",
    "DATAPost = DATAPost.reset_index(drop=True)"
   ]
  },
  {
   "cell_type": "code",
   "execution_count": 42,
   "metadata": {
    "collapsed": false
   },
   "outputs": [
    {
     "data": {
      "text/html": [
       "<div>\n",
       "<table border=\"1\" class=\"dataframe\">\n",
       "  <thead>\n",
       "    <tr style=\"text-align: right;\">\n",
       "      <th></th>\n",
       "      <th>Judul</th>\n",
       "      <th>Short</th>\n",
       "      <th>Long</th>\n",
       "    </tr>\n",
       "  </thead>\n",
       "  <tbody>\n",
       "    <tr>\n",
       "      <th>0</th>\n",
       "      <td>keuntungan mengambil kpr lajang</td>\n",
       "      <td>lajang kebutuhan mendesak</td>\n",
       "      <td>merdeka com memiliki rumah menjadi impian oran...</td>\n",
       "    </tr>\n",
       "    <tr>\n",
       "      <th>1</th>\n",
       "      <td>ngototnya pemerintah takkan minta maaf soal ka...</td>\n",
       "      <td>tidak terpikir meminta maaf</td>\n",
       "      <td>merdeka com meski didesak pihak  pemerintah ke...</td>\n",
       "    </tr>\n",
       "  </tbody>\n",
       "</table>\n",
       "</div>"
      ],
      "text/plain": [
       "                                               Judul  \\\n",
       "0                    keuntungan mengambil kpr lajang   \n",
       "1  ngototnya pemerintah takkan minta maaf soal ka...   \n",
       "\n",
       "                         Short  \\\n",
       "0    lajang kebutuhan mendesak   \n",
       "1  tidak terpikir meminta maaf   \n",
       "\n",
       "                                                Long  \n",
       "0  merdeka com memiliki rumah menjadi impian oran...  \n",
       "1  merdeka com meski didesak pihak  pemerintah ke...  "
      ]
     },
     "execution_count": 42,
     "metadata": {},
     "output_type": "execute_result"
    }
   ],
   "source": [
    "DATAPost.head(2)"
   ]
  },
  {
   "cell_type": "code",
   "execution_count": 43,
   "metadata": {
    "collapsed": false
   },
   "outputs": [
    {
     "data": {
      "text/html": [
       "<div>\n",
       "<table border=\"1\" class=\"dataframe\">\n",
       "  <thead>\n",
       "    <tr style=\"text-align: right;\">\n",
       "      <th></th>\n",
       "      <th>Judul</th>\n",
       "      <th>Short</th>\n",
       "      <th>Long</th>\n",
       "    </tr>\n",
       "  </thead>\n",
       "  <tbody>\n",
       "    <tr>\n",
       "      <th>0</th>\n",
       "      <td>6 untung ambil kpr saat masih lajang</td>\n",
       "      <td>saat masih lajang memang butuh tak terlalu desak</td>\n",
       "      <td>merdeka com - milik rumah jadi impi semua oran...</td>\n",
       "    </tr>\n",
       "    <tr>\n",
       "      <th>1</th>\n",
       "      <td>ngototnya perintah tak minta maaf soal kasus 65</td>\n",
       "      <td>tidak pernah kita pikir untuk minta maaf</td>\n",
       "      <td>merdeka com - meski sudah desak jumlah pihak p...</td>\n",
       "    </tr>\n",
       "  </tbody>\n",
       "</table>\n",
       "</div>"
      ],
      "text/plain": [
       "                                             Judul  \\\n",
       "0             6 untung ambil kpr saat masih lajang   \n",
       "1  ngototnya perintah tak minta maaf soal kasus 65   \n",
       "\n",
       "                                              Short  \\\n",
       "0  saat masih lajang memang butuh tak terlalu desak   \n",
       "1          tidak pernah kita pikir untuk minta maaf   \n",
       "\n",
       "                                                Long  \n",
       "0  merdeka com - milik rumah jadi impi semua oran...  \n",
       "1  merdeka com - meski sudah desak jumlah pihak p...  "
      ]
     },
     "execution_count": 43,
     "metadata": {},
     "output_type": "execute_result"
    }
   ],
   "source": [
    "DATAStem.head(2)"
   ]
  },
  {
   "cell_type": "markdown",
   "metadata": {},
   "source": [
    "## 2. Evaluate"
   ]
  },
  {
   "cell_type": "code",
   "execution_count": 7,
   "metadata": {
    "collapsed": false
   },
   "outputs": [],
   "source": [
    "#Stopwords data source : https://www.illc.uva.nl/Research/Publications/Reports/MoL-2003-02.text.pdf\n",
    "stopword_html = open(\"id.stopwords.01.01.2016.txt\",'r').read()\n",
    "stopwords     = stopword_html.split(\"\\n\")"
   ]
  },
  {
   "cell_type": "code",
   "execution_count": 38,
   "metadata": {
    "collapsed": false
   },
   "outputs": [],
   "source": [
    "from sklearn import cross_validation\n",
    "from sklearn.metrics import confusion_matrix, f1_score, accuracy_score\n",
    "from sklearn.metrics import precision_score, recall_score, classification_report, roc_auc_score,roc_curve\n",
    "import datetime\n",
    "\n",
    "def skorStratCV(clf,X,y,nfolds=10):\n",
    "    skf = cross_validation.StratifiedKFold(y, n_folds=nfolds)\n",
    "    metrics = []\n",
    "    \n",
    "    trainTime,testTime = [],[]\n",
    "    precis,recals,f1s,accs,rocs = [],[],[],[],[]\n",
    "    \n",
    "    for train_index, test_index in skf:\n",
    "        X_train,y_train = X[train_index],y[train_index]\n",
    "        X_test,y_test   = X[test_index],y[test_index]\n",
    "        \n",
    "        #training time\n",
    "        start = dt.now()\n",
    "        clf.fit(X_train, y_train)\n",
    "        end = dt.now()\n",
    "        trainTime.append((end-start).microseconds)\n",
    "        \n",
    "        #testing time\n",
    "        start = dt.now()\n",
    "        yhat = clf.predict(X_test)\n",
    "        end = dt.now()\n",
    "        testTime.append((end-start).microseconds)\n",
    "        \n",
    "        #score\n",
    "        precis.append(precision_score(y_test, yhat, average='binary'))\n",
    "        recals.append(recall_score(y_test, yhat, average='binary'))\n",
    "        f1s.append(f1_score(y_test, yhat, average='binary'))\n",
    "        accs.append(accuracy_score(y_test, yhat))\n",
    "        rocs.append(roc_auc_score(y_test,clf.predict_proba(X_test)[:,1]))\n",
    "    \n",
    "    def ave(lis):\n",
    "        return sum(lis)/len(lis)\n",
    "    \n",
    "    metrics.append(ave(trainTime))\n",
    "    metrics.append(ave(testTime))\n",
    "    metrics.append(ave(precis))\n",
    "    metrics.append(ave(recals))\n",
    "    metrics.append(ave(f1s))\n",
    "    metrics.append(ave(accs))\n",
    "    metrics.append(ave(rocs))\n",
    "    return metrics"
   ]
  },
  {
   "cell_type": "code",
   "execution_count": 37,
   "metadata": {
    "collapsed": false
   },
   "outputs": [],
   "source": [
    "from sklearn.linear_model import SGDClassifier\n",
    "from sklearn.naive_bayes import MultinomialNB\n",
    "from sklearn.svm import SVC\n",
    "from sklearn.tree import DecisionTreeClassifier\n",
    "from sklearn.feature_extraction.text import TfidfVectorizer\n",
    "from sklearn.neighbors import KNeighborsClassifier\n",
    "from sklearn.pipeline import Pipeline\n",
    "\n",
    "mnb = MultinomialNB(alpha=0.1)\n",
    "#knn = KNeighborsClassifier()\n",
    "svc = SVC(class_weight='balanced',probability=True,kernel='linear',cache_size=600)\n",
    "#tre = DecisionTreeClassifier(class_weight='balanced')\n",
    "\n",
    "vect = TfidfVectorizer(stop_words=stopwords,decode_error='ignore')\n",
    "\n",
    "models = [{'name' : 'MNB', 'pipe' : Pipeline([('vect', vect),('clf', mnb)])},\n",
    "          #{'name' : 'KNN', 'pipe' : Pipeline([('vect', vect),('clf', knn)])},\n",
    "          {'name' : 'SVM', 'pipe' : Pipeline([('vect', vect),('clf', svc)])},\n",
    "          #{'name' : 'TREE', 'pipe' : Pipeline([('vect', vect),('clf', tre)])}\n",
    "         ]"
   ]
  },
  {
   "cell_type": "code",
   "execution_count": 39,
   "metadata": {
    "collapsed": false
   },
   "outputs": [],
   "source": [
    "X = []\n",
    "metric = []\n",
    "X.append({'name':'Judul','Prep':'Stem','Data':DATAStem['Judul']})\n",
    "X.append({'name':'Judul','Prep':'Post','Data':DATAPost['Judul']})\n",
    "\n",
    "X.append({'name':'Short','Prep':'Stem','Data':DATAStem['Short']})\n",
    "X.append({'name':'Short','Prep':'Post','Data':DATAPost['Short']})\n",
    "\n",
    "X.append({'name':'Long','Prep':'Stem','Data':DATAStem['Long']})\n",
    "X.append({'name':'Long','Prep':'Post','Data':DATAPost['Long']})\n",
    "\n",
    "y  = DATA_TARGET\n",
    "for xi in X:\n",
    "    x = xi['Data']\n",
    "    for mod in models:\n",
    "        metric.append({'name':xi['name']+' '+xi['Prep']+' '+mod['name'],\n",
    "                       'metrics':skorStratCV(mod['pipe'],x,y)})"
   ]
  },
  {
   "cell_type": "code",
   "execution_count": 40,
   "metadata": {
    "collapsed": false
   },
   "outputs": [
    {
     "data": {
      "text/html": [
       "<table border=\"1\" cellpadding=\"3\" cellspacing=\"0\"  style=\"border:1px solid black;border-collapse:collapse;\"><tr><td  style=\"background-color:White;border-left: 1px solid transparent;border-top: 1px solid transparent;\"><b>id</b></td><td  style=\"background-color:LightGray;\"><b>nama</b></td><td  style=\"background-color:LightGray;\"><b>training&nbsptime</b></td><td  style=\"background-color:LightGray;\"><b>testing&nbsptime</b></td><td  style=\"background-color:LightGray;\"><b>p_1</b></td><td  style=\"background-color:LightGray;\"><b>r_1</b></td><td  style=\"background-color:LightGray;\"><b>F1&nbspscore</b></td><td  style=\"background-color:LightGray;text-align:center;\"><b>accuracy</b></td><td  style=\"background-color:LightGray;\"><b>ROC</b></td></tr><tr><td  style=\"background-color:LightGray;\"><b>1</b></td><td  style=\"background-color:Ivory;\">Judul&nbspStem&nbspMNB</td><td  style=\"background-color:Ivory;\">14100</td><td  style=\"background-color:Ivory;\">1800</td><td  style=\"background-color:Ivory;\">0.7653</td><td  style=\"background-color:Ivory;\">0.6464</td><td  style=\"background-color:Ivory;\">0.6681</td><td  style=\"background-color:Ivory;text-align:center;\">0.8703</td><td  style=\"background-color:Ivory;\">0.8960</td></tr><tr><td  style=\"background-color:LightGray;\"><b>2</b></td><td  style=\"background-color:AliceBlue;\">Judul&nbspStem&nbspSVM</td><td  style=\"background-color:AliceBlue;\">96200</td><td  style=\"background-color:AliceBlue;\">4200</td><td  style=\"background-color:AliceBlue;\">0.6940</td><td  style=\"background-color:AliceBlue;\">0.6364</td><td  style=\"background-color:AliceBlue;\">0.6365</td><td  style=\"background-color:AliceBlue;text-align:center;\">0.8516</td><td  style=\"background-color:AliceBlue;\">0.8956</td></tr><tr><td  style=\"background-color:LightGray;\"><b>3</b></td><td  style=\"background-color:Ivory;\">Judul&nbspPost&nbspMNB</td><td  style=\"background-color:Ivory;\">11700</td><td  style=\"background-color:Ivory;\">1600</td><td  style=\"background-color:Ivory;\">0.7695</td><td  style=\"background-color:Ivory;\">0.6573</td><td  style=\"background-color:Ivory;\">0.6738</td><td  style=\"background-color:Ivory;text-align:center;\">0.8682</td><td  style=\"background-color:Ivory;\">0.8837</td></tr><tr><td  style=\"background-color:LightGray;\"><b>4</b></td><td  style=\"background-color:AliceBlue;\">Judul&nbspPost&nbspSVM</td><td  style=\"background-color:AliceBlue;\">87500</td><td  style=\"background-color:AliceBlue;\">2800</td><td  style=\"background-color:AliceBlue;\">0.7132</td><td  style=\"background-color:AliceBlue;\">0.6173</td><td  style=\"background-color:AliceBlue;\">0.6263</td><td  style=\"background-color:AliceBlue;text-align:center;\">0.8516</td><td  style=\"background-color:AliceBlue;\">0.8791</td></tr><tr><td  style=\"background-color:LightGray;\"><b>5</b></td><td  style=\"background-color:Ivory;\">Short&nbspStem&nbspMNB</td><td  style=\"background-color:Ivory;\">13900</td><td  style=\"background-color:Ivory;\">2000</td><td  style=\"background-color:Ivory;\">0.7689</td><td  style=\"background-color:Ivory;\">0.7464</td><td  style=\"background-color:Ivory;\">0.7424</td><td  style=\"background-color:Ivory;text-align:center;\">0.8931</td><td  style=\"background-color:Ivory;\">0.8983</td></tr><tr><td  style=\"background-color:LightGray;\"><b>6</b></td><td  style=\"background-color:AliceBlue;\">Short&nbspStem&nbspSVM</td><td  style=\"background-color:AliceBlue;\">97000</td><td  style=\"background-color:AliceBlue;\">3300</td><td  style=\"background-color:AliceBlue;\">0.8336</td><td  style=\"background-color:AliceBlue;\">0.7355</td><td  style=\"background-color:AliceBlue;\">0.7641</td><td  style=\"background-color:AliceBlue;text-align:center;\">0.9031</td><td  style=\"background-color:AliceBlue;\">0.8980</td></tr><tr><td  style=\"background-color:LightGray;\"><b>7</b></td><td  style=\"background-color:Ivory;\">Short&nbspPost&nbspMNB</td><td  style=\"background-color:Ivory;\">11800</td><td  style=\"background-color:Ivory;\">1600</td><td  style=\"background-color:Ivory;\">0.7010</td><td  style=\"background-color:Ivory;\">0.7673</td><td  style=\"background-color:Ivory;\">0.7094</td><td  style=\"background-color:Ivory;text-align:center;\">0.8725</td><td  style=\"background-color:Ivory;\">0.8982</td></tr><tr><td  style=\"background-color:LightGray;\"><b>8</b></td><td  style=\"background-color:AliceBlue;\">Short&nbspPost&nbspSVM</td><td  style=\"background-color:AliceBlue;\">96800</td><td  style=\"background-color:AliceBlue;\">2700</td><td  style=\"background-color:AliceBlue;\">0.8137</td><td  style=\"background-color:AliceBlue;\">0.7173</td><td  style=\"background-color:AliceBlue;\">0.7324</td><td  style=\"background-color:AliceBlue;text-align:center;\">0.8909</td><td  style=\"background-color:AliceBlue;\">0.8873</td></tr><tr><td  style=\"background-color:LightGray;\"><b>9</b></td><td  style=\"background-color:Ivory;\">Long&nbspStem&nbspMNB</td><td  style=\"background-color:Ivory;\">146400</td><td  style=\"background-color:Ivory;\">16000</td><td  style=\"background-color:Ivory;\">0.9026</td><td  style=\"background-color:Ivory;\">0.6845</td><td  style=\"background-color:Ivory;\">0.7493</td><td  style=\"background-color:Ivory;text-align:center;\">0.9136</td><td  style=\"background-color:Ivory;\">0.9392</td></tr><tr><td  style=\"background-color:LightGray;\"><b>10</b></td><td  style=\"background-color:AliceBlue;\">Long&nbspStem&nbspSVM</td><td  style=\"background-color:AliceBlue;\">93000</td><td  style=\"background-color:AliceBlue;\">31300</td><td  style=\"background-color:AliceBlue;\">0.8474</td><td  style=\"background-color:AliceBlue;\">0.7436</td><td  style=\"background-color:AliceBlue;\">0.7688</td><td  style=\"background-color:AliceBlue;text-align:center;\">0.9136</td><td  style=\"background-color:AliceBlue;\">0.9482</td></tr><tr><td  style=\"background-color:LightGray;\"><b>11</b></td><td  style=\"background-color:Ivory;\">Long&nbspPost&nbspMNB</td><td  style=\"background-color:Ivory;\">128700</td><td  style=\"background-color:Ivory;\">13600</td><td  style=\"background-color:Ivory;\">0.9276</td><td  style=\"background-color:Ivory;\">0.7145</td><td  style=\"background-color:Ivory;\">0.7732</td><td  style=\"background-color:Ivory;text-align:center;\">0.9218</td><td  style=\"background-color:Ivory;\">0.9294</td></tr><tr><td  style=\"background-color:LightGray;\"><b>12</b></td><td  style=\"background-color:AliceBlue;\">Long&nbspPost&nbspSVM</td><td  style=\"background-color:AliceBlue;\">194900</td><td  style=\"background-color:AliceBlue;\">30200</td><td  style=\"background-color:AliceBlue;\">0.8470</td><td  style=\"background-color:AliceBlue;\">0.7055</td><td  style=\"background-color:AliceBlue;\">0.7457</td><td  style=\"background-color:AliceBlue;text-align:center;\">0.9095</td><td  style=\"background-color:AliceBlue;\">0.9385</td></tr></table>"
      ],
      "text/plain": [
       "<ipy_table.IpyTable at 0xcfcbe10>"
      ]
     },
     "execution_count": 40,
     "metadata": {},
     "output_type": "execute_result"
    }
   ],
   "source": [
    "from ipy_table import *\n",
    "metrics_table = []\n",
    "tables = []\n",
    "columns = (['id', 'nama','training time', 'testing time','p_1',\n",
    "            'r_1','F1 score','accuracy','ROC'])\n",
    "tables.append(columns)\n",
    "\n",
    "i = 0\n",
    "\n",
    "for me in metric:\n",
    "    i += 1\n",
    "    \n",
    "    metr = []\n",
    "    metr.append(i)\n",
    "    metr.append(me['name'])\n",
    "    for m in me['metrics']:\n",
    "        metr.append(m)\n",
    "\n",
    "    tables.append(metr)\n",
    "    metrics_table.append(metr)\n",
    "    #print metric\n",
    "    \n",
    "make_table(tables)\n",
    "\n",
    "# styling\n",
    "apply_theme('basic_both')\n",
    "set_column_style(7, align='center')"
   ]
  },
  {
   "cell_type": "code",
   "execution_count": 44,
   "metadata": {
    "collapsed": false
   },
   "outputs": [],
   "source": [
    "evals = pd.DataFrame(metrics_table,columns=columns)\n",
    "evals['Vars'] = [i.split()[0] for i in evals['nama']]\n",
    "evals['Prep'] = [i.split()[1] for i in evals['nama']]\n",
    "evals['Algs'] = [i.split()[2] for i in evals['nama']]\n",
    "evals.drop('nama',axis=1,inplace=True)\n",
    "evals.drop('id',axis=1,inplace=True)"
   ]
  },
  {
   "cell_type": "code",
   "execution_count": 45,
   "metadata": {
    "collapsed": false
   },
   "outputs": [
    {
     "data": {
      "text/html": [
       "<div>\n",
       "<table border=\"1\" class=\"dataframe\">\n",
       "  <thead>\n",
       "    <tr style=\"text-align: right;\">\n",
       "      <th></th>\n",
       "      <th>Judul</th>\n",
       "      <th>Short</th>\n",
       "      <th>Long</th>\n",
       "    </tr>\n",
       "  </thead>\n",
       "  <tbody>\n",
       "    <tr>\n",
       "      <th>training time</th>\n",
       "      <td>52375.000000</td>\n",
       "      <td>54875.000000</td>\n",
       "      <td>140750.000000</td>\n",
       "    </tr>\n",
       "    <tr>\n",
       "      <th>testing time</th>\n",
       "      <td>2600.000000</td>\n",
       "      <td>2400.000000</td>\n",
       "      <td>22775.000000</td>\n",
       "    </tr>\n",
       "    <tr>\n",
       "      <th>p_1</th>\n",
       "      <td>0.735505</td>\n",
       "      <td>0.779305</td>\n",
       "      <td>0.881181</td>\n",
       "    </tr>\n",
       "    <tr>\n",
       "      <th>r_1</th>\n",
       "      <td>0.639318</td>\n",
       "      <td>0.741591</td>\n",
       "      <td>0.712045</td>\n",
       "    </tr>\n",
       "    <tr>\n",
       "      <th>F1 score</th>\n",
       "      <td>0.651181</td>\n",
       "      <td>0.737075</td>\n",
       "      <td>0.759212</td>\n",
       "    </tr>\n",
       "    <tr>\n",
       "      <th>accuracy</th>\n",
       "      <td>0.860446</td>\n",
       "      <td>0.889878</td>\n",
       "      <td>0.914606</td>\n",
       "    </tr>\n",
       "    <tr>\n",
       "      <th>ROC</th>\n",
       "      <td>0.888603</td>\n",
       "      <td>0.895460</td>\n",
       "      <td>0.938808</td>\n",
       "    </tr>\n",
       "  </tbody>\n",
       "</table>\n",
       "</div>"
      ],
      "text/plain": [
       "                      Judul         Short           Long\n",
       "training time  52375.000000  54875.000000  140750.000000\n",
       "testing time    2600.000000   2400.000000   22775.000000\n",
       "p_1                0.735505      0.779305       0.881181\n",
       "r_1                0.639318      0.741591       0.712045\n",
       "F1 score           0.651181      0.737075       0.759212\n",
       "accuracy           0.860446      0.889878       0.914606\n",
       "ROC                0.888603      0.895460       0.938808"
      ]
     },
     "execution_count": 45,
     "metadata": {},
     "output_type": "execute_result"
    }
   ],
   "source": [
    "splitter = ['Judul','Short','Long']\n",
    "eval_teks = pd.DataFrame([evals[evals.Vars == i].mean() for i in splitter]).transpose()\n",
    "eval_teks.set_axis(1,splitter)\n",
    "eval_teks"
   ]
  },
  {
   "cell_type": "code",
   "execution_count": 46,
   "metadata": {
    "collapsed": false
   },
   "outputs": [
    {
     "data": {
      "text/html": [
       "<div>\n",
       "<table border=\"1\" class=\"dataframe\">\n",
       "  <thead>\n",
       "    <tr style=\"text-align: right;\">\n",
       "      <th></th>\n",
       "      <th>Post</th>\n",
       "      <th>Stem</th>\n",
       "    </tr>\n",
       "  </thead>\n",
       "  <tbody>\n",
       "    <tr>\n",
       "      <th>training time</th>\n",
       "      <td>88566.666667</td>\n",
       "      <td>76766.666667</td>\n",
       "    </tr>\n",
       "    <tr>\n",
       "      <th>testing time</th>\n",
       "      <td>8750.000000</td>\n",
       "      <td>9766.666667</td>\n",
       "    </tr>\n",
       "    <tr>\n",
       "      <th>p_1</th>\n",
       "      <td>0.795341</td>\n",
       "      <td>0.801987</td>\n",
       "    </tr>\n",
       "    <tr>\n",
       "      <th>r_1</th>\n",
       "      <td>0.696515</td>\n",
       "      <td>0.698788</td>\n",
       "    </tr>\n",
       "    <tr>\n",
       "      <th>F1 score</th>\n",
       "      <td>0.710116</td>\n",
       "      <td>0.721529</td>\n",
       "    </tr>\n",
       "    <tr>\n",
       "      <th>accuracy</th>\n",
       "      <td>0.885765</td>\n",
       "      <td>0.890855</td>\n",
       "    </tr>\n",
       "    <tr>\n",
       "      <th>ROC</th>\n",
       "      <td>0.902711</td>\n",
       "      <td>0.912536</td>\n",
       "    </tr>\n",
       "  </tbody>\n",
       "</table>\n",
       "</div>"
      ],
      "text/plain": [
       "                       Post          Stem\n",
       "training time  88566.666667  76766.666667\n",
       "testing time    8750.000000   9766.666667\n",
       "p_1                0.795341      0.801987\n",
       "r_1                0.696515      0.698788\n",
       "F1 score           0.710116      0.721529\n",
       "accuracy           0.885765      0.890855\n",
       "ROC                0.902711      0.912536"
      ]
     },
     "execution_count": 46,
     "metadata": {},
     "output_type": "execute_result"
    }
   ],
   "source": [
    "splitter = ['Post','Stem']\n",
    "eval_prep = pd.DataFrame([evals[evals.Prep == i].mean() for i in splitter]).transpose()\n",
    "eval_prep.set_axis(1,splitter)\n",
    "eval_prep"
   ]
  },
  {
   "cell_type": "code",
   "execution_count": 49,
   "metadata": {
    "collapsed": false
   },
   "outputs": [
    {
     "data": {
      "text/html": [
       "<div>\n",
       "<table border=\"1\" class=\"dataframe\">\n",
       "  <thead>\n",
       "    <tr style=\"text-align: right;\">\n",
       "      <th></th>\n",
       "      <th>MNB</th>\n",
       "      <th>SVM</th>\n",
       "    </tr>\n",
       "  </thead>\n",
       "  <tbody>\n",
       "    <tr>\n",
       "      <th>training time</th>\n",
       "      <td>54433.333333</td>\n",
       "      <td>110900.000000</td>\n",
       "    </tr>\n",
       "    <tr>\n",
       "      <th>testing time</th>\n",
       "      <td>6100.000000</td>\n",
       "      <td>12416.666667</td>\n",
       "    </tr>\n",
       "    <tr>\n",
       "      <th>p_1</th>\n",
       "      <td>0.805834</td>\n",
       "      <td>0.791494</td>\n",
       "    </tr>\n",
       "    <tr>\n",
       "      <th>r_1</th>\n",
       "      <td>0.702727</td>\n",
       "      <td>0.692576</td>\n",
       "    </tr>\n",
       "    <tr>\n",
       "      <th>F1 score</th>\n",
       "      <td>0.719350</td>\n",
       "      <td>0.712295</td>\n",
       "    </tr>\n",
       "    <tr>\n",
       "      <th>accuracy</th>\n",
       "      <td>0.889904</td>\n",
       "      <td>0.886716</td>\n",
       "    </tr>\n",
       "    <tr>\n",
       "      <th>ROC</th>\n",
       "      <td>0.907466</td>\n",
       "      <td>0.907780</td>\n",
       "    </tr>\n",
       "  </tbody>\n",
       "</table>\n",
       "</div>"
      ],
      "text/plain": [
       "                        MNB            SVM\n",
       "training time  54433.333333  110900.000000\n",
       "testing time    6100.000000   12416.666667\n",
       "p_1                0.805834       0.791494\n",
       "r_1                0.702727       0.692576\n",
       "F1 score           0.719350       0.712295\n",
       "accuracy           0.889904       0.886716\n",
       "ROC                0.907466       0.907780"
      ]
     },
     "execution_count": 49,
     "metadata": {},
     "output_type": "execute_result"
    }
   ],
   "source": [
    "splitter = ['MNB','SVM']\n",
    "eval_teks = pd.DataFrame([evals[evals.Algs == i].mean() for i in splitter]).transpose()\n",
    "eval_teks.set_axis(1,splitter)\n",
    "eval_teks"
   ]
  },
  {
   "cell_type": "code",
   "execution_count": 31,
   "metadata": {
    "collapsed": false
   },
   "outputs": [
    {
     "data": {
      "text/plain": [
       "MultinomialNB(alpha=0.1, class_prior=None, fit_prior=True)"
      ]
     },
     "execution_count": 31,
     "metadata": {},
     "output_type": "execute_result"
    }
   ],
   "source": [
    "mnb"
   ]
  },
  {
   "cell_type": "code",
   "execution_count": 50,
   "metadata": {
    "collapsed": false
   },
   "outputs": [],
   "source": [
    "#knn\n",
    "# knn_params = {'n_neighbors': range(1,21), 'weights': ['uniform', 'distance'], 'algorithm': ['ball_tree', 'kd_tree'],\n",
    "#               'leaf_size': [15, 30, 50, 100], 'p': [1,2]}"
   ]
  },
  {
   "cell_type": "code",
   "execution_count": 33,
   "metadata": {
    "collapsed": false
   },
   "outputs": [
    {
     "data": {
      "text/plain": [
       "SVC(C=1.0, cache_size=600, class_weight='balanced', coef0=0.0,\n",
       "  decision_function_shape=None, degree=3, gamma='auto', kernel='linear',\n",
       "  max_iter=-1, probability=True, random_state=None, shrinking=True,\n",
       "  tol=0.001, verbose=False)"
      ]
     },
     "execution_count": 33,
     "metadata": {},
     "output_type": "execute_result"
    }
   ],
   "source": [
    "svc\n",
    "# lsvm_params = {'loss':['hinge', 'squared_hinge'],'class_weight':['balanced']}"
   ]
  },
  {
   "cell_type": "code",
   "execution_count": 51,
   "metadata": {
    "collapsed": false
   },
   "outputs": [],
   "source": [
    "#tre\n",
    "# tree_param = {\"criterion\": [\"gini\", \"entropy\"],\"class_weight\" : ['balanced']}"
   ]
  },
  {
   "cell_type": "code",
   "execution_count": 58,
   "metadata": {
    "collapsed": false
   },
   "outputs": [],
   "source": [
    "xplot = [[],[]]\n",
    "yplot = evals.Vars.values + evals.Prep.values\n",
    "xplot[0] = evals[evals.Algs == 'MNB']['F1 score']\n",
    "#xplot[1] = evals[evals.Algs == 'KNN']['F1 score']\n",
    "xplot[1] = evals[evals.Algs == 'SVM']['F1 score']"
   ]
  },
  {
   "cell_type": "code",
   "execution_count": 57,
   "metadata": {
    "collapsed": false
   },
   "outputs": [
    {
     "data": {
      "image/png": "[encoded data removed]",
      "text/plain": [
       "<matplotlib.figure.Figure at 0xcacf048>"
      ]
     },
     "metadata": {},
     "output_type": "display_data"
    }
   ],
   "source": [
    "import matplotlib.pyplot as plt\n",
    "\n",
    "for xi in xplot:\n",
    "    plt.plot(xi)\n",
    "plt.show()"
   ]
  }
 ],
 "metadata": {
  "kernelspec": {
   "display_name": "Python 2",
   "language": "python",
   "name": "python2"
  },
  "language_info": {
   "codemirror_mode": {
    "name": "ipython",
    "version": 2
   },
   "file_extension": ".py",
   "mimetype": "text/x-python",
   "name": "python",
   "nbconvert_exporter": "python",
   "pygments_lexer": "ipython2",
   "version": "2.7.11"
  }
 },
 "nbformat": 4,
 "nbformat_minor": 0
}
