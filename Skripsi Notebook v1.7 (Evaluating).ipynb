{
 "cells": [
  {
   "cell_type": "code",
   "execution_count": 151,
   "metadata": {
    "collapsed": true,
    "slideshow": {
     "slide_type": "slide"
    }
   },
   "outputs": [],
   "source": [
    "import matplotlib.pyplot as plt\n",
    "import os, re\n",
    "import pandas as pd\n",
    "import numpy as np\n",
    "\n",
    "from datetime import datetime as dt\n",
    "import cPickle as pickle\n",
    "import re #Regex\n",
    "%matplotlib inline"
   ]
  },
  {
   "cell_type": "markdown",
   "metadata": {},
   "source": [
    "# 1. Evaluating Crawling Indicator"
   ]
  },
  {
   "cell_type": "code",
   "execution_count": 34,
   "metadata": {
    "collapsed": false
   },
   "outputs": [
    {
     "name": "stdout",
     "output_type": "stream",
     "text": [
      "Wall time: 5.92 s\n"
     ]
    },
    {
     "data": {
      "text/html": [
       "<div>\n",
       "<table border=\"1\" class=\"dataframe\">\n",
       "  <thead>\n",
       "    <tr style=\"text-align: right;\">\n",
       "      <th></th>\n",
       "      <th>crawlMem</th>\n",
       "      <th>crawlTime</th>\n",
       "    </tr>\n",
       "  </thead>\n",
       "  <tbody>\n",
       "    <tr>\n",
       "      <th>count</th>\n",
       "      <td>13965.000000</td>\n",
       "      <td>13965.000000</td>\n",
       "    </tr>\n",
       "    <tr>\n",
       "      <th>mean</th>\n",
       "      <td>3252.317651</td>\n",
       "      <td>0.434459</td>\n",
       "    </tr>\n",
       "    <tr>\n",
       "      <th>std</th>\n",
       "      <td>701.726627</td>\n",
       "      <td>0.734470</td>\n",
       "    </tr>\n",
       "    <tr>\n",
       "      <th>min</th>\n",
       "      <td>2080.000000</td>\n",
       "      <td>0.000000</td>\n",
       "    </tr>\n",
       "    <tr>\n",
       "      <th>25%</th>\n",
       "      <td>2808.000000</td>\n",
       "      <td>0.132800</td>\n",
       "    </tr>\n",
       "    <tr>\n",
       "      <th>50%</th>\n",
       "      <td>2808.000000</td>\n",
       "      <td>0.156600</td>\n",
       "    </tr>\n",
       "    <tr>\n",
       "      <th>75%</th>\n",
       "      <td>4072.000000</td>\n",
       "      <td>0.511900</td>\n",
       "    </tr>\n",
       "    <tr>\n",
       "      <th>max</th>\n",
       "      <td>6832.000000</td>\n",
       "      <td>21.701800</td>\n",
       "    </tr>\n",
       "  </tbody>\n",
       "</table>\n",
       "</div>"
      ],
      "text/plain": [
       "           crawlMem     crawlTime\n",
       "count  13965.000000  13965.000000\n",
       "mean    3252.317651      0.434459\n",
       "std      701.726627      0.734470\n",
       "min     2080.000000      0.000000\n",
       "25%     2808.000000      0.132800\n",
       "50%     2808.000000      0.156600\n",
       "75%     4072.000000      0.511900\n",
       "max     6832.000000     21.701800"
      ]
     },
     "execution_count": 34,
     "metadata": {},
     "output_type": "execute_result"
    }
   ],
   "source": [
    "# %time DATACrawl = pickle.load( open( \"v1.4\\DATA_ANALSISIS_crawl.p\", \"rb\" ) )\n",
    "%time DATACrawl = pickle.load( open( \"v1.4\\DATA_ANALSISIS_crawl-v2.p\", \"rb\" ) )\n",
    "crawlIndicator = pd.DataFrame([DATACrawl.crawlMem,DATACrawl.crawlTime]).transpose()\n",
    "crawlIndicator.describe()"
   ]
  },
  {
   "cell_type": "code",
   "execution_count": 35,
   "metadata": {
    "collapsed": false
   },
   "outputs": [
    {
     "name": "stdout",
     "output_type": "stream",
     "text": [
      "Memory Positif :  470608.0 Byte\n",
      "Memory Negatif :  44948008.0 Byte\n",
      "Time Positif   :  40.3581 Detik\n",
      "Time Negatif   :  6026.8659 Detik\n"
     ]
    },
    {
     "data": {
      "text/html": [
       "<div>\n",
       "<table border=\"1\" class=\"dataframe\">\n",
       "  <thead>\n",
       "    <tr style=\"text-align: right;\">\n",
       "      <th></th>\n",
       "      <th>Memory Positif</th>\n",
       "      <th>Time Positif</th>\n",
       "      <th>Memory Negatif</th>\n",
       "      <th>Time Negatif</th>\n",
       "    </tr>\n",
       "  </thead>\n",
       "  <tbody>\n",
       "    <tr>\n",
       "      <th>count</th>\n",
       "      <td>138.000000</td>\n",
       "      <td>138.000000</td>\n",
       "      <td>13827.000000</td>\n",
       "      <td>13827.000000</td>\n",
       "    </tr>\n",
       "    <tr>\n",
       "      <th>mean</th>\n",
       "      <td>3410.202899</td>\n",
       "      <td>0.292450</td>\n",
       "      <td>3250.741882</td>\n",
       "      <td>0.435877</td>\n",
       "    </tr>\n",
       "    <tr>\n",
       "      <th>std</th>\n",
       "      <td>830.281081</td>\n",
       "      <td>0.518246</td>\n",
       "      <td>700.180738</td>\n",
       "      <td>0.736183</td>\n",
       "    </tr>\n",
       "    <tr>\n",
       "      <th>min</th>\n",
       "      <td>2368.000000</td>\n",
       "      <td>0.046600</td>\n",
       "      <td>2080.000000</td>\n",
       "      <td>0.000000</td>\n",
       "    </tr>\n",
       "    <tr>\n",
       "      <th>25%</th>\n",
       "      <td>2520.000000</td>\n",
       "      <td>0.128025</td>\n",
       "      <td>2808.000000</td>\n",
       "      <td>0.132900</td>\n",
       "    </tr>\n",
       "    <tr>\n",
       "      <th>50%</th>\n",
       "      <td>3916.000000</td>\n",
       "      <td>0.144650</td>\n",
       "      <td>2808.000000</td>\n",
       "      <td>0.156900</td>\n",
       "    </tr>\n",
       "    <tr>\n",
       "      <th>75%</th>\n",
       "      <td>4072.000000</td>\n",
       "      <td>0.198550</td>\n",
       "      <td>4072.000000</td>\n",
       "      <td>0.513300</td>\n",
       "    </tr>\n",
       "    <tr>\n",
       "      <th>max</th>\n",
       "      <td>6832.000000</td>\n",
       "      <td>4.256200</td>\n",
       "      <td>6824.000000</td>\n",
       "      <td>21.701800</td>\n",
       "    </tr>\n",
       "  </tbody>\n",
       "</table>\n",
       "</div>"
      ],
      "text/plain": [
       "       Memory Positif  Time Positif  Memory Negatif  Time Negatif\n",
       "count      138.000000    138.000000    13827.000000  13827.000000\n",
       "mean      3410.202899      0.292450     3250.741882      0.435877\n",
       "std        830.281081      0.518246      700.180738      0.736183\n",
       "min       2368.000000      0.046600     2080.000000      0.000000\n",
       "25%       2520.000000      0.128025     2808.000000      0.132900\n",
       "50%       3916.000000      0.144650     2808.000000      0.156900\n",
       "75%       4072.000000      0.198550     4072.000000      0.513300\n",
       "max       6832.000000      4.256200     6824.000000     21.701800"
      ]
     },
     "execution_count": 35,
     "metadata": {},
     "output_type": "execute_result"
    }
   ],
   "source": [
    "DATA_ANALSISIS_crawl    = DATACrawl[DATACrawl.flag.isin([-1, 1])]\n",
    "DATA_ANALSISIS_crawlPos = DATA_ANALSISIS_crawl[DATA_ANALSISIS_crawl.flag == 1]\n",
    "DATA_ANALSISIS_crawlNeg = DATA_ANALSISIS_crawl[DATA_ANALSISIS_crawl.flag == -1]\n",
    "crawlAnalysis = pd.DataFrame([DATA_ANALSISIS_crawlPos.crawlMem,DATA_ANALSISIS_crawlPos.crawlTime,\n",
    "                              DATA_ANALSISIS_crawlNeg.crawlMem,DATA_ANALSISIS_crawlNeg.crawlTime]).transpose()\n",
    "crawlAnalysis.columns = ['Memory Positif','Time Positif','Memory Negatif','Time Negatif']\n",
    "print 'Memory Positif : ',sum(DATA_ANALSISIS_crawlPos.crawlMem), 'Byte'\n",
    "print 'Memory Negatif : ',sum(DATA_ANALSISIS_crawlNeg.crawlMem), 'Byte'\n",
    "print 'Time Positif   : ',sum(DATA_ANALSISIS_crawlPos.crawlTime), 'Detik'\n",
    "print 'Time Negatif   : ',sum(DATA_ANALSISIS_crawlNeg.crawlTime),'Detik'\n",
    "crawlAnalysis.describe()"
   ]
  },
  {
   "cell_type": "markdown",
   "metadata": {},
   "source": [
    "#### Terlihat total penggunaan waktu dan memory sangat signifikan, hal tersebut karena jumlah berita positif dan negatif yang berbeda jauh"
   ]
  },
  {
   "cell_type": "markdown",
   "metadata": {
    "slideshow": {
     "slide_type": "slide"
    }
   },
   "source": [
    "# 2.Evaluating the Classifier v1.4 vs v1.6 vs v2.0\n",
    "\n",
    "\n",
    "## 2.1 Load from the 'Pickled' dump"
   ]
  },
  {
   "cell_type": "code",
   "execution_count": 97,
   "metadata": {
    "collapsed": false,
    "slideshow": {
     "slide_type": "subslide"
    }
   },
   "outputs": [
    {
     "name": "stdout",
     "output_type": "stream",
     "text": [
      "Wall time: 87 ms\n",
      "Wall time: 87 ms\n",
      "Wall time: 1.08 s\n",
      "Wall time: 66 ms\n",
      "Wall time: 84 ms\n",
      "Wall time: 691 ms\n",
      "Wall time: 39 ms\n",
      "Wall time: 19 ms\n",
      "Wall time: 29 ms\n",
      "Wall time: 45 ms\n"
     ]
    }
   ],
   "source": [
    "DATAStd  = pd.DataFrame()\n",
    "DATAPost = pd.DataFrame()\n",
    "\n",
    "#Load standard striped Text\n",
    "%time DATAStd['Judul'] = pickle.load( open( \"v1.4\\DATA_JUDULStriped-v2.p\", \"rb\" ) )\n",
    "%time DATAStd['Short'] = pickle.load( open( \"v1.4\\DATA_SHORTStriped-v2.p\", \"rb\" ) )\n",
    "%time DATAStd['Long']  = pickle.load( open( \"v1.4\\DATA_LONGStriped-v2.p\", \"rb\" ) )\n",
    "\n",
    "#Load from PosTagged Text\n",
    "%time DATAPost['Judul'] = pickle.load( open( \"v1.6\\DATA_JUDULpostag-v2.p\", \"rb\" ) )\n",
    "%time DATAPost['Short'] = pickle.load( open( \"v1.6\\DATA_SHORTpostag-v2.p\", \"rb\" ) )\n",
    "%time DATAPost['Long']  = pickle.load( open( \"v1.6\\DATA_LONGpostag-v2.p\", \"rb\" ) )\n",
    "\n",
    "#Load from Fraction of PosTagged Text\n",
    "%time DATAFracJudul = pickle.load( open( \"v2.0\\DATA_JUDUL-v2.p\", \"rb\" ) )\n",
    "%time DATAFracShort = pickle.load( open( \"v2.0\\DATA_SHORT-v2.p\", \"rb\" ) )\n",
    "%time DATAFracLong  = pickle.load( open( \"v2.0\\DATA_LONG-v2.p\", \"rb\" ) )\n",
    "\n",
    "%time DATA_TARGET = pickle.load( open( \"v1.4\\DATA_TARGET-v2.p\", \"rb\" ) )\n",
    "\n",
    "# DATA_TARGET = DATA_TARGET.sort_index()\n",
    "# DATAStem = DATAStem.sort_index()\n",
    "# DATAPost = DATAPost.sort_index()\n",
    "\n",
    "DATA_TARGET = DATA_TARGET.reset_index(drop=True)\n",
    "DATAStd  = DATAStd.reset_index(drop=True)\n",
    "DATAPost = DATAPost.reset_index(drop=True)"
   ]
  },
  {
   "cell_type": "markdown",
   "metadata": {},
   "source": [
    "#### Data Teks berita yang sudah dibersihkan dari tag HTML di v1.4"
   ]
  },
  {
   "cell_type": "code",
   "execution_count": 265,
   "metadata": {
    "collapsed": false
   },
   "outputs": [
    {
     "data": {
      "text/plain": [
       "0    tiba di kpk, bos agung sedayu group diam serib...\n",
       "1    edarkan ganja ke nelayan  &  pelajar, kardiman...\n",
       "Name: Judul, dtype: object"
      ]
     },
     "execution_count": 265,
     "metadata": {},
     "output_type": "execute_result"
    }
   ],
   "source": [
    "DATAStd.Judul.head(2)"
   ]
  },
  {
   "cell_type": "markdown",
   "metadata": {},
   "source": [
    "#### Data Teks berita yang sudah di-POSTag verb dan noun di v1.6"
   ]
  },
  {
   "cell_type": "code",
   "execution_count": 266,
   "metadata": {
    "collapsed": false
   },
   "outputs": [
    {
     "data": {
      "text/plain": [
       "0    tiba kpk bos agung sedayu group diam seribu ba...\n",
       "1    edarkan ganja nelayan pelajar kardiman ditangk...\n",
       "Name: Judul, dtype: object"
      ]
     },
     "execution_count": 266,
     "metadata": {},
     "output_type": "execute_result"
    }
   ],
   "source": [
    "DATAPost.Judul.head(2)"
   ]
  },
  {
   "cell_type": "markdown",
   "metadata": {},
   "source": [
    "#### Data Teks berita yang sudah diambil fraction verb dan noun di v2.0"
   ]
  },
  {
   "cell_type": "code",
   "execution_count": 243,
   "metadata": {
    "collapsed": false
   },
   "outputs": [
    {
     "data": {
      "text/plain": [
       "array([[ 0.57142857,  0.        ],\n",
       "       [ 0.83333333,  0.        ]])"
      ]
     },
     "execution_count": 243,
     "metadata": {},
     "output_type": "execute_result"
    }
   ],
   "source": [
    "DATAFracJudul[:2]"
   ]
  },
  {
   "cell_type": "markdown",
   "metadata": {},
   "source": [
    "## 2. Evaluate"
   ]
  },
  {
   "cell_type": "code",
   "execution_count": 50,
   "metadata": {
    "collapsed": false
   },
   "outputs": [],
   "source": [
    "#Stopwords data source : https://www.illc.uva.nl/Research/Publications/Reports/MoL-2003-02.text.pdf\n",
    "stopword_html = open(\"id.stopwords.01.01.2016.txt\",'r').read()\n",
    "stopwords     = stopword_html.split(\"\\n\")"
   ]
  },
  {
   "cell_type": "code",
   "execution_count": 223,
   "metadata": {
    "collapsed": false
   },
   "outputs": [],
   "source": [
    "from sklearn import cross_validation\n",
    "from sklearn.metrics import confusion_matrix, f1_score, accuracy_score\n",
    "from sklearn.metrics import precision_score, recall_score, classification_report, roc_auc_score,roc_curve,auc\n",
    "from scipy import interp\n",
    "import datetime\n",
    "\n",
    "def skorStratCV(clf,X,y,nfolds=10):\n",
    "    metrics = []\n",
    "    \n",
    "    trainTime,testTime = [],[]\n",
    "    precis,recals,f1s,accs,rocs = [],[],[],[],[]\n",
    "    \n",
    "    mean_tpr = 0.0\n",
    "    mean_fpr = np.linspace(0, 1, 100)\n",
    "    all_tpr = []\n",
    "\n",
    "    skf = cross_validation.StratifiedKFold(y, n_folds=nfolds)\n",
    "    for train_index, test_index in skf:\n",
    "        X_train,y_train = X[train_index],y[train_index]\n",
    "        X_test,y_test   = X[test_index],y[test_index]\n",
    "        \n",
    "        #training time\n",
    "        start = dt.now()\n",
    "        clf.fit(X_train, y_train)\n",
    "        end = dt.now()\n",
    "        trainTime.append((end-start).microseconds)\n",
    "        \n",
    "        #testing time\n",
    "        start = dt.now()\n",
    "        yhat = clf.predict(X_test)\n",
    "        end = dt.now()\n",
    "        testTime.append((end-start).microseconds)\n",
    "        \n",
    "        #score\n",
    "        precis.append(precision_score(y_test, yhat, average='binary'))\n",
    "        recals.append(recall_score(y_test, yhat, average='binary'))\n",
    "        f1s.append(f1_score(y_test, yhat, average='binary'))\n",
    "        accs.append(accuracy_score(y_test, yhat))\n",
    "        \n",
    "        probas_              = clf.fit(X_train, y_train).predict_proba(X_test)\n",
    "        fpr, tpr, thresholds = roc_curve(y_test, probas_[:, 1])\n",
    "        mean_tpr            += interp(mean_fpr, fpr, tpr)\n",
    "        mean_tpr[0]          = 0.0\n",
    "        \n",
    "    def ave(lis):\n",
    "        return sum(lis)/len(lis)\n",
    "    \n",
    "    metrics.append(ave(trainTime))\n",
    "    metrics.append(ave(testTime))\n",
    "    metrics.append(ave(precis))\n",
    "    metrics.append(ave(recals))\n",
    "    metrics.append(ave(f1s))\n",
    "    metrics.append(ave(accs))\n",
    "    \n",
    "    mean_tpr /= nfolds\n",
    "    mean_tpr[-1] = 1.0\n",
    "    mean_auc = auc(mean_fpr, mean_tpr)\n",
    "    metrics.append(mean_auc)\n",
    "    \n",
    "    return metrics,mean_fpr,mean_tpr"
   ]
  },
  {
   "cell_type": "code",
   "execution_count": 168,
   "metadata": {
    "collapsed": false
   },
   "outputs": [],
   "source": [
    "from sklearn.linear_model import SGDClassifier\n",
    "from sklearn.naive_bayes import MultinomialNB\n",
    "from sklearn.svm import SVC\n",
    "from sklearn.tree import DecisionTreeClassifier\n",
    "from sklearn.feature_extraction.text import TfidfVectorizer\n",
    "from sklearn.neighbors import KNeighborsClassifier\n",
    "from sklearn.pipeline import Pipeline\n",
    "\n",
    "mnb = MultinomialNB(alpha=0.1)\n",
    "#knn = KNeighborsClassifier()\n",
    "svc = SVC(class_weight='balanced',probability=True,kernel='linear',cache_size=800)\n",
    "#tre = DecisionTreeClassifier(class_weight='balanced')\n",
    "\n",
    "vect = TfidfVectorizer(stop_words=stopwords,decode_error='ignore')\n",
    "\n",
    "models = [{'name' : 'MNB', 'pipe' : Pipeline([('vect', vect),('clf', mnb)])},\n",
    "          #{'name' : 'KNN', 'pipe' : Pipeline([('vect', vect),('clf', knn)])},\n",
    "          {'name' : 'SVM', 'pipe' : Pipeline([('vect', vect),('clf', svc)])},\n",
    "          #{'name' : 'TREE', 'pipe' : Pipeline([('vect', vect),('clf', tre)])}\n",
    "         ]\n",
    "\n",
    "models_frac = [{'name' : 'MNB', 'pipe' : mnb},\n",
    "               {'name' : 'SVM', 'pipe' : svc},\n",
    "              ]"
   ]
  },
  {
   "cell_type": "code",
   "execution_count": 257,
   "metadata": {
    "collapsed": false
   },
   "outputs": [
    {
     "name": "stdout",
     "output_type": "stream",
     "text": [
      "Total Negative Instances    :  12582\n",
      "Training Negative Instances :  629\n"
     ]
    }
   ],
   "source": [
    "X1 = []\n",
    "\n",
    "X1.append({'name':'Judul','Prep':'Std','Data':DATAStd['Judul']})\n",
    "X1.append({'name':'Short','Prep':'Std','Data':DATAStd['Short']})\n",
    "X1.append({'name':'Long' ,'Prep':'Std','Data':DATAStd['Long']})\n",
    "X1.append({'name':'Judul','Prep':'Post','Data':DATAPost['Judul']})\n",
    "X1.append({'name':'Short','Prep':'Post','Data':DATAPost['Short']})\n",
    "X1.append({'name':'Long' ,'Prep':'Post','Data':DATAPost['Long']})\n",
    "\n",
    "X2 = []\n",
    "X2.append({'name':'Judul','Prep':'Frac','Data':DATAFracJudul})\n",
    "X2.append({'name':'Short','Prep':'Frac','Data':DATAFracShort})\n",
    "X2.append({'name':'Long' ,'Prep':'Frac','Data':DATAFracLong})\n",
    "\n",
    "y_  = DATA_TARGET\n",
    "\n",
    "#We only use 5% of total negative instance\n",
    "factor = 5.0/100\n",
    "size   = int(factor*DATA_TARGET[DATA_TARGET.values == -1].count())\n",
    "print 'Total Negative Instances    : ',DATA_TARGET[DATA_TARGET.values == -1].count()\n",
    "print 'Training Negative Instances : ',size"
   ]
  },
  {
   "cell_type": "code",
   "execution_count": 255,
   "metadata": {
    "collapsed": false
   },
   "outputs": [
    {
     "data": {
      "image/png": "[encoded data removed]",
      "text/plain": [
       "<matplotlib.figure.Figure at 0x2ee4a898>"
      ]
     },
     "metadata": {},
     "output_type": "display_data"
    }
   ],
   "source": [
    "import matplotlib.pyplot as plt\n",
    "import seaborn as sns\n",
    "sns.set()\n",
    "\n",
    "metric = []\n",
    "for xi in X1:\n",
    "    X_ = xi['Data']\n",
    "    for mod in models:\n",
    "        xP = X_[y_[y_.values == 1].index]\n",
    "        xN = X_[y_[y_.values == -1].index][:size]\n",
    "        X  = np.append(xP,xN)\n",
    "        \n",
    "        yP = y_[y_.values == 1]\n",
    "        yN = y_[y_.values == -1][:size]\n",
    "        y  = np.append(yP,yN)\n",
    "        \n",
    "        metrics,mean_fpr,mean_tpr = skorStratCV(mod['pipe'],X,y)\n",
    "        name = xi['name']+' '+xi['Prep']+' '+mod['name']\n",
    "        plt.plot(mean_fpr, mean_tpr,label='Mean ROC %s (area = %0.2f)' % (name,metrics[6]), lw=2)\n",
    "        \n",
    "        metric.append({'name':name,'metrics':metrics})\n",
    "\n",
    "plt.plot([0, 1], [0, 1], '--', color=(0.6, 0.6, 0.6), label='Luck')\n",
    "plt.xlim([-0.05, 1.05])\n",
    "plt.ylim([-0.05, 1.05])\n",
    "plt.xlabel('False Positive Rate')\n",
    "plt.ylabel('True Positive Rate')\n",
    "plt.title('Receiver Operating Characteristic of News Text')\n",
    "plt.legend(loc=\"lower right\")\n",
    "plt.show()"
   ]
  },
  {
   "cell_type": "code",
   "execution_count": 256,
   "metadata": {
    "collapsed": false
   },
   "outputs": [
    {
     "data": {
      "image/png": "[encoded data removed]",
      "text/plain": [
       "<matplotlib.figure.Figure at 0x21430828>"
      ]
     },
     "metadata": {},
     "output_type": "display_data"
    }
   ],
   "source": [
    "for xi in X2:\n",
    "    X_ = xi['Data']\n",
    "    for mod in models_frac:\n",
    "        xP = X_[y_[y_.values == 1].index]\n",
    "        xN = X_[y_[y_.values == -1].index][:size]\n",
    "        X  = np.vstack((xP,xN))\n",
    "        \n",
    "        yP = y_[y_.values == 1]\n",
    "        yN = y_[y_.values == -1][:size]\n",
    "        y  = np.append(yP,yN)\n",
    "        \n",
    "        metrics,mean_fpr,mean_tpr = skorStratCV(mod['pipe'],X,y)\n",
    "        name = xi['name']+' '+xi['Prep']+' '+mod['name']\n",
    "        plt.plot(mean_fpr, mean_tpr,label='Mean ROC %s (area = %0.2f)' % (name,metrics[6]), lw=2)\n",
    "        \n",
    "        metric.append({'name':name,'metrics':metrics})\n",
    "\n",
    "plt.plot([0, 1], [0, 1], '--', color=(0.6, 0.6, 0.6), label='Luck')\n",
    "plt.xlim([-0.05, 1.05])\n",
    "plt.ylim([-0.05, 1.05])\n",
    "plt.xlabel('False Positive Rate')\n",
    "plt.ylabel('True Positive Rate')\n",
    "plt.title('Receiver Operating Characteristic of Noun-Verb Fraction')\n",
    "plt.legend(loc=\"lower right\")\n",
    "plt.show()"
   ]
  },
  {
   "cell_type": "code",
   "execution_count": 258,
   "metadata": {
    "collapsed": false
   },
   "outputs": [
    {
     "data": {
      "text/html": [
       "<table border=\"1\" cellpadding=\"3\" cellspacing=\"0\"  style=\"border:1px solid black;border-collapse:collapse;\"><tr><td  style=\"background-color:White;border-left: 1px solid transparent;border-top: 1px solid transparent;\"><b>id</b></td><td  style=\"background-color:LightGray;\"><b>nama</b></td><td  style=\"background-color:LightGray;\"><b>training&nbsptime</b></td><td  style=\"background-color:LightGray;\"><b>testing&nbsptime</b></td><td  style=\"background-color:LightGray;\"><b>p_1</b></td><td  style=\"background-color:LightGray;\"><b>r_1</b></td><td  style=\"background-color:LightGray;\"><b>F1&nbspscore</b></td><td  style=\"background-color:LightGray;text-align:center;\"><b>accuracy</b></td><td  style=\"background-color:LightGray;\"><b>ROC</b></td></tr><tr><td  style=\"background-color:LightGray;\"><b>1</b></td><td  style=\"background-color:Ivory;\">Judul&nbspStd&nbspMNB</td><td  style=\"background-color:Ivory;\">19000</td><td  style=\"background-color:Ivory;\">2000</td><td  style=\"background-color:Ivory;\">0.8332</td><td  style=\"background-color:Ivory;\">0.7758</td><td  style=\"background-color:Ivory;\">0.7913</td><td  style=\"background-color:Ivory;text-align:center;\">0.9280</td><td  style=\"background-color:Ivory;\">0.9487</td></tr><tr><td  style=\"background-color:LightGray;\"><b>2</b></td><td  style=\"background-color:AliceBlue;\">Judul&nbspStd&nbspSVM</td><td  style=\"background-color:AliceBlue;\">227100</td><td  style=\"background-color:AliceBlue;\">5600</td><td  style=\"background-color:AliceBlue;\">0.8158</td><td  style=\"background-color:AliceBlue;\">0.7516</td><td  style=\"background-color:AliceBlue;\">0.7570</td><td  style=\"background-color:AliceBlue;text-align:center;\">0.9150</td><td  style=\"background-color:AliceBlue;\">0.9375</td></tr><tr><td  style=\"background-color:LightGray;\"><b>3</b></td><td  style=\"background-color:Ivory;\">Short&nbspStd&nbspMNB</td><td  style=\"background-color:Ivory;\">34100</td><td  style=\"background-color:Ivory;\">3400</td><td  style=\"background-color:Ivory;\">0.8061</td><td  style=\"background-color:Ivory;\">0.6505</td><td  style=\"background-color:Ivory;\">0.7020</td><td  style=\"background-color:Ivory;text-align:center;\">0.9058</td><td  style=\"background-color:Ivory;\">0.9148</td></tr><tr><td  style=\"background-color:LightGray;\"><b>4</b></td><td  style=\"background-color:AliceBlue;\">Short&nbspStd&nbspSVM</td><td  style=\"background-color:AliceBlue;\">300900</td><td  style=\"background-color:AliceBlue;\">6400</td><td  style=\"background-color:AliceBlue;\">0.7748</td><td  style=\"background-color:AliceBlue;\">0.6577</td><td  style=\"background-color:AliceBlue;\">0.6981</td><td  style=\"background-color:AliceBlue;text-align:center;\">0.9018</td><td  style=\"background-color:AliceBlue;\">0.9051</td></tr><tr><td  style=\"background-color:LightGray;\"><b>5</b></td><td  style=\"background-color:Ivory;\">Long&nbspStd&nbspMNB</td><td  style=\"background-color:Ivory;\">328900</td><td  style=\"background-color:Ivory;\">35000</td><td  style=\"background-color:Ivory;\">0.9244</td><td  style=\"background-color:Ivory;\">0.7769</td><td  style=\"background-color:Ivory;\">0.8329</td><td  style=\"background-color:Ivory;text-align:center;\">0.9476</td><td  style=\"background-color:Ivory;\">0.9663</td></tr><tr><td  style=\"background-color:LightGray;\"><b>6</b></td><td  style=\"background-color:AliceBlue;\">Long&nbspStd&nbspSVM</td><td  style=\"background-color:AliceBlue;\">648400</td><td  style=\"background-color:AliceBlue;\">70900</td><td  style=\"background-color:AliceBlue;\">0.9299</td><td  style=\"background-color:AliceBlue;\">0.8297</td><td  style=\"background-color:AliceBlue;\">0.8705</td><td  style=\"background-color:AliceBlue;text-align:center;\">0.9568</td><td  style=\"background-color:AliceBlue;\">0.9733</td></tr><tr><td  style=\"background-color:LightGray;\"><b>7</b></td><td  style=\"background-color:Ivory;\">Judul&nbspPost&nbspMNB</td><td  style=\"background-color:Ivory;\">14900</td><td  style=\"background-color:Ivory;\">3400</td><td  style=\"background-color:Ivory;\">0.8378</td><td  style=\"background-color:Ivory;\">0.7753</td><td  style=\"background-color:Ivory;\">0.7935</td><td  style=\"background-color:Ivory;text-align:center;\">0.9293</td><td  style=\"background-color:Ivory;\">0.9471</td></tr><tr><td  style=\"background-color:LightGray;\"><b>8</b></td><td  style=\"background-color:AliceBlue;\">Judul&nbspPost&nbspSVM</td><td  style=\"background-color:AliceBlue;\">185700</td><td  style=\"background-color:AliceBlue;\">3100</td><td  style=\"background-color:AliceBlue;\">0.8073</td><td  style=\"background-color:AliceBlue;\">0.7890</td><td  style=\"background-color:AliceBlue;\">0.7785</td><td  style=\"background-color:AliceBlue;text-align:center;\">0.9202</td><td  style=\"background-color:AliceBlue;\">0.9391</td></tr><tr><td  style=\"background-color:LightGray;\"><b>9</b></td><td  style=\"background-color:Ivory;\">Short&nbspPost&nbspMNB</td><td  style=\"background-color:Ivory;\">17600</td><td  style=\"background-color:Ivory;\">3200</td><td  style=\"background-color:Ivory;\">0.7798</td><td  style=\"background-color:Ivory;\">0.6286</td><td  style=\"background-color:Ivory;\">0.6850</td><td  style=\"background-color:Ivory;text-align:center;\">0.8993</td><td  style=\"background-color:Ivory;\">0.9109</td></tr><tr><td  style=\"background-color:LightGray;\"><b>10</b></td><td  style=\"background-color:AliceBlue;\">Short&nbspPost&nbspSVM</td><td  style=\"background-color:AliceBlue;\">221700</td><td  style=\"background-color:AliceBlue;\">3100</td><td  style=\"background-color:AliceBlue;\">0.7331</td><td  style=\"background-color:AliceBlue;\">0.6357</td><td  style=\"background-color:AliceBlue;\">0.6684</td><td  style=\"background-color:AliceBlue;text-align:center;\">0.8900</td><td  style=\"background-color:AliceBlue;\">0.8960</td></tr><tr><td  style=\"background-color:LightGray;\"><b>11</b></td><td  style=\"background-color:Ivory;\">Long&nbspPost&nbspMNB</td><td  style=\"background-color:Ivory;\">218600</td><td  style=\"background-color:Ivory;\">19100</td><td  style=\"background-color:Ivory;\">0.9328</td><td  style=\"background-color:Ivory;\">0.7912</td><td  style=\"background-color:Ivory;\">0.8452</td><td  style=\"background-color:Ivory;text-align:center;\">0.9515</td><td  style=\"background-color:Ivory;\">0.9686</td></tr><tr><td  style=\"background-color:LightGray;\"><b>12</b></td><td  style=\"background-color:AliceBlue;\">Long&nbspPost&nbspSVM</td><td  style=\"background-color:AliceBlue;\">399000</td><td  style=\"background-color:AliceBlue;\">51000</td><td  style=\"background-color:AliceBlue;\">0.9229</td><td  style=\"background-color:AliceBlue;\">0.8297</td><td  style=\"background-color:AliceBlue;\">0.8674</td><td  style=\"background-color:AliceBlue;text-align:center;\">0.9555</td><td  style=\"background-color:AliceBlue;\">0.9716</td></tr><tr><td  style=\"background-color:LightGray;\"><b>13</b></td><td  style=\"background-color:Ivory;\">Judul&nbspFrac&nbspMNB</td><td  style=\"background-color:Ivory;\">700</td><td  style=\"background-color:Ivory;\">100</td><td  style=\"background-color:Ivory;\">0.0000</td><td  style=\"background-color:Ivory;\">0.0000</td><td  style=\"background-color:Ivory;\">0.0000</td><td  style=\"background-color:Ivory;text-align:center;\">0.8223</td><td  style=\"background-color:Ivory;\">0.5410</td></tr><tr><td  style=\"background-color:LightGray;\"><b>14</b></td><td  style=\"background-color:AliceBlue;\">Judul&nbspFrac&nbspSVM</td><td  style=\"background-color:AliceBlue;\">41500</td><td  style=\"background-color:AliceBlue;\">1700</td><td  style=\"background-color:AliceBlue;\">0.1646</td><td  style=\"background-color:AliceBlue;\">0.2456</td><td  style=\"background-color:AliceBlue;\">0.1793</td><td  style=\"background-color:AliceBlue;text-align:center;\">0.6450</td><td  style=\"background-color:AliceBlue;\">0.5306</td></tr><tr><td  style=\"background-color:LightGray;\"><b>15</b></td><td  style=\"background-color:Ivory;\">Short&nbspFrac&nbspMNB</td><td  style=\"background-color:Ivory;\">0</td><td  style=\"background-color:Ivory;\">0</td><td  style=\"background-color:Ivory;\">0.0000</td><td  style=\"background-color:Ivory;\">0.0000</td><td  style=\"background-color:Ivory;\">0.0000</td><td  style=\"background-color:Ivory;text-align:center;\">0.8223</td><td  style=\"background-color:Ivory;\">0.4322</td></tr><tr><td  style=\"background-color:LightGray;\"><b>16</b></td><td  style=\"background-color:AliceBlue;\">Short&nbspFrac&nbspSVM</td><td  style=\"background-color:AliceBlue;\">39100</td><td  style=\"background-color:AliceBlue;\">0</td><td  style=\"background-color:AliceBlue;\">0.1972</td><td  style=\"background-color:AliceBlue;\">0.6258</td><td  style=\"background-color:AliceBlue;\">0.2976</td><td  style=\"background-color:AliceBlue;text-align:center;\">0.4743</td><td  style=\"background-color:AliceBlue;\">0.4370</td></tr><tr><td  style=\"background-color:LightGray;\"><b>17</b></td><td  style=\"background-color:Ivory;\">Long&nbspFrac&nbspMNB</td><td  style=\"background-color:Ivory;\">1600</td><td  style=\"background-color:Ivory;\">0</td><td  style=\"background-color:Ivory;\">0.0000</td><td  style=\"background-color:Ivory;\">0.0000</td><td  style=\"background-color:Ivory;\">0.0000</td><td  style=\"background-color:Ivory;text-align:center;\">0.8223</td><td  style=\"background-color:Ivory;\">0.4343</td></tr><tr><td  style=\"background-color:LightGray;\"><b>18</b></td><td  style=\"background-color:AliceBlue;\">Long&nbspFrac&nbspSVM</td><td  style=\"background-color:AliceBlue;\">39100</td><td  style=\"background-color:AliceBlue;\">3100</td><td  style=\"background-color:AliceBlue;\">0.1604</td><td  style=\"background-color:AliceBlue;\">0.9000</td><td  style=\"background-color:AliceBlue;\">0.2723</td><td  style=\"background-color:AliceBlue;text-align:center;\">0.2431</td><td  style=\"background-color:AliceBlue;\">0.5856</td></tr></table>"
      ],
      "text/plain": [
       "<ipy_table.IpyTable at 0x20809898>"
      ]
     },
     "execution_count": 258,
     "metadata": {},
     "output_type": "execute_result"
    }
   ],
   "source": [
    "from ipy_table import *\n",
    "metrics_table = []\n",
    "tables = []\n",
    "columns = (['id', 'nama','training time', 'testing time','p_1',\n",
    "            'r_1','F1 score','accuracy','ROC'])\n",
    "tables.append(columns)\n",
    "\n",
    "i = 0\n",
    "\n",
    "for me in metric:\n",
    "    i += 1\n",
    "    \n",
    "    metr = []\n",
    "    metr.append(i)\n",
    "    metr.append(me['name'])\n",
    "    for m in me['metrics']:\n",
    "        metr.append(m)\n",
    "\n",
    "    tables.append(metr)\n",
    "    metrics_table.append(metr)\n",
    "    #print metric\n",
    "    \n",
    "make_table(tables)\n",
    "\n",
    "# styling\n",
    "apply_theme('basic_both')\n",
    "set_column_style(7, align='center')"
   ]
  },
  {
   "cell_type": "code",
   "execution_count": 259,
   "metadata": {
    "collapsed": false
   },
   "outputs": [],
   "source": [
    "evals = pd.DataFrame(metrics_table,columns=columns)\n",
    "evals['Vars'] = [i.split()[0] for i in evals['nama']]\n",
    "evals['Prep'] = [i.split()[1] for i in evals['nama']]\n",
    "evals['Algs'] = [i.split()[2] for i in evals['nama']]\n",
    "evals.drop('nama',axis=1,inplace=True)\n",
    "evals.drop('id',axis=1,inplace=True)"
   ]
  },
  {
   "cell_type": "code",
   "execution_count": 260,
   "metadata": {
    "collapsed": false
   },
   "outputs": [
    {
     "data": {
      "text/html": [
       "<div>\n",
       "<table border=\"1\" class=\"dataframe\">\n",
       "  <thead>\n",
       "    <tr style=\"text-align: right;\">\n",
       "      <th></th>\n",
       "      <th>Judul</th>\n",
       "      <th>Short</th>\n",
       "      <th>Long</th>\n",
       "    </tr>\n",
       "  </thead>\n",
       "  <tbody>\n",
       "    <tr>\n",
       "      <th>training time</th>\n",
       "      <td>81483.333333</td>\n",
       "      <td>102233.333333</td>\n",
       "      <td>272600.000000</td>\n",
       "    </tr>\n",
       "    <tr>\n",
       "      <th>testing time</th>\n",
       "      <td>2650.000000</td>\n",
       "      <td>2683.333333</td>\n",
       "      <td>29850.000000</td>\n",
       "    </tr>\n",
       "    <tr>\n",
       "      <th>p_1</th>\n",
       "      <td>0.576455</td>\n",
       "      <td>0.548484</td>\n",
       "      <td>0.645066</td>\n",
       "    </tr>\n",
       "    <tr>\n",
       "      <th>r_1</th>\n",
       "      <td>0.556227</td>\n",
       "      <td>0.533059</td>\n",
       "      <td>0.687912</td>\n",
       "    </tr>\n",
       "    <tr>\n",
       "      <th>F1 score</th>\n",
       "      <td>0.549925</td>\n",
       "      <td>0.508528</td>\n",
       "      <td>0.614725</td>\n",
       "    </tr>\n",
       "    <tr>\n",
       "      <th>accuracy</th>\n",
       "      <td>0.859955</td>\n",
       "      <td>0.815560</td>\n",
       "      <td>0.812807</td>\n",
       "    </tr>\n",
       "    <tr>\n",
       "      <th>ROC</th>\n",
       "      <td>0.807347</td>\n",
       "      <td>0.749320</td>\n",
       "      <td>0.816625</td>\n",
       "    </tr>\n",
       "  </tbody>\n",
       "</table>\n",
       "</div>"
      ],
      "text/plain": [
       "                      Judul          Short           Long\n",
       "training time  81483.333333  102233.333333  272600.000000\n",
       "testing time    2650.000000    2683.333333   29850.000000\n",
       "p_1                0.576455       0.548484       0.645066\n",
       "r_1                0.556227       0.533059       0.687912\n",
       "F1 score           0.549925       0.508528       0.614725\n",
       "accuracy           0.859955       0.815560       0.812807\n",
       "ROC                0.807347       0.749320       0.816625"
      ]
     },
     "execution_count": 260,
     "metadata": {},
     "output_type": "execute_result"
    }
   ],
   "source": [
    "splitter = ['Judul','Short','Long']\n",
    "eval_teks = pd.DataFrame([evals[evals.Vars == i].mean() for i in splitter]).transpose()\n",
    "eval_teks.set_axis(1,splitter)\n",
    "eval_teks"
   ]
  },
  {
   "cell_type": "code",
   "execution_count": 261,
   "metadata": {
    "collapsed": false
   },
   "outputs": [
    {
     "data": {
      "text/html": [
       "<div>\n",
       "<table border=\"1\" class=\"dataframe\">\n",
       "  <thead>\n",
       "    <tr style=\"text-align: right;\">\n",
       "      <th></th>\n",
       "      <th>Post</th>\n",
       "      <th>Std</th>\n",
       "      <th>Frac</th>\n",
       "    </tr>\n",
       "  </thead>\n",
       "  <tbody>\n",
       "    <tr>\n",
       "      <th>training time</th>\n",
       "      <td>176250.000000</td>\n",
       "      <td>259733.333333</td>\n",
       "      <td>20333.333333</td>\n",
       "    </tr>\n",
       "    <tr>\n",
       "      <th>testing time</th>\n",
       "      <td>13816.666667</td>\n",
       "      <td>20550.000000</td>\n",
       "      <td>816.666667</td>\n",
       "    </tr>\n",
       "    <tr>\n",
       "      <th>p_1</th>\n",
       "      <td>0.835605</td>\n",
       "      <td>0.847365</td>\n",
       "      <td>0.087034</td>\n",
       "    </tr>\n",
       "    <tr>\n",
       "      <th>r_1</th>\n",
       "      <td>0.741575</td>\n",
       "      <td>0.740385</td>\n",
       "      <td>0.295238</td>\n",
       "    </tr>\n",
       "    <tr>\n",
       "      <th>F1 score</th>\n",
       "      <td>0.773017</td>\n",
       "      <td>0.775303</td>\n",
       "      <td>0.124859</td>\n",
       "    </tr>\n",
       "    <tr>\n",
       "      <th>accuracy</th>\n",
       "      <td>0.924308</td>\n",
       "      <td>0.925837</td>\n",
       "      <td>0.638177</td>\n",
       "    </tr>\n",
       "    <tr>\n",
       "      <th>ROC</th>\n",
       "      <td>0.938883</td>\n",
       "      <td>0.940955</td>\n",
       "      <td>0.493455</td>\n",
       "    </tr>\n",
       "  </tbody>\n",
       "</table>\n",
       "</div>"
      ],
      "text/plain": [
       "                        Post            Std          Frac\n",
       "training time  176250.000000  259733.333333  20333.333333\n",
       "testing time    13816.666667   20550.000000    816.666667\n",
       "p_1                 0.835605       0.847365      0.087034\n",
       "r_1                 0.741575       0.740385      0.295238\n",
       "F1 score            0.773017       0.775303      0.124859\n",
       "accuracy            0.924308       0.925837      0.638177\n",
       "ROC                 0.938883       0.940955      0.493455"
      ]
     },
     "execution_count": 261,
     "metadata": {},
     "output_type": "execute_result"
    }
   ],
   "source": [
    "splitter = ['Post','Std','Frac']\n",
    "eval_prep = pd.DataFrame([evals[evals.Prep == i].mean() for i in splitter]).transpose()\n",
    "eval_prep.set_axis(1,splitter)\n",
    "eval_prep"
   ]
  },
  {
   "cell_type": "code",
   "execution_count": 262,
   "metadata": {
    "collapsed": false
   },
   "outputs": [
    {
     "data": {
      "text/html": [
       "<div>\n",
       "<table border=\"1\" class=\"dataframe\">\n",
       "  <thead>\n",
       "    <tr style=\"text-align: right;\">\n",
       "      <th></th>\n",
       "      <th>MNB</th>\n",
       "      <th>SVM</th>\n",
       "    </tr>\n",
       "  </thead>\n",
       "  <tbody>\n",
       "    <tr>\n",
       "      <th>training time</th>\n",
       "      <td>70600.000000</td>\n",
       "      <td>233611.111111</td>\n",
       "    </tr>\n",
       "    <tr>\n",
       "      <th>testing time</th>\n",
       "      <td>7355.555556</td>\n",
       "      <td>16100.000000</td>\n",
       "    </tr>\n",
       "    <tr>\n",
       "      <th>p_1</th>\n",
       "      <td>0.568227</td>\n",
       "      <td>0.611775</td>\n",
       "    </tr>\n",
       "    <tr>\n",
       "      <th>r_1</th>\n",
       "      <td>0.488706</td>\n",
       "      <td>0.696093</td>\n",
       "    </tr>\n",
       "    <tr>\n",
       "      <th>F1 score</th>\n",
       "      <td>0.516660</td>\n",
       "      <td>0.598793</td>\n",
       "    </tr>\n",
       "    <tr>\n",
       "      <th>accuracy</th>\n",
       "      <td>0.892033</td>\n",
       "      <td>0.766849</td>\n",
       "    </tr>\n",
       "    <tr>\n",
       "      <th>ROC</th>\n",
       "      <td>0.784889</td>\n",
       "      <td>0.797306</td>\n",
       "    </tr>\n",
       "  </tbody>\n",
       "</table>\n",
       "</div>"
      ],
      "text/plain": [
       "                        MNB            SVM\n",
       "training time  70600.000000  233611.111111\n",
       "testing time    7355.555556   16100.000000\n",
       "p_1                0.568227       0.611775\n",
       "r_1                0.488706       0.696093\n",
       "F1 score           0.516660       0.598793\n",
       "accuracy           0.892033       0.766849\n",
       "ROC                0.784889       0.797306"
      ]
     },
     "execution_count": 262,
     "metadata": {},
     "output_type": "execute_result"
    }
   ],
   "source": [
    "splitter = ['MNB','SVM']\n",
    "eval_teks = pd.DataFrame([evals[evals.Algs == i].mean() for i in splitter]).transpose()\n",
    "eval_teks.set_axis(1,splitter)\n",
    "eval_teks"
   ]
  },
  {
   "cell_type": "code",
   "execution_count": 31,
   "metadata": {
    "collapsed": false
   },
   "outputs": [
    {
     "data": {
      "text/plain": [
       "MultinomialNB(alpha=0.1, class_prior=None, fit_prior=True)"
      ]
     },
     "execution_count": 31,
     "metadata": {},
     "output_type": "execute_result"
    }
   ],
   "source": [
    "mnb"
   ]
  },
  {
   "cell_type": "code",
   "execution_count": 50,
   "metadata": {
    "collapsed": false
   },
   "outputs": [],
   "source": [
    "#knn\n",
    "# knn_params = {'n_neighbors': range(1,21), 'weights': ['uniform', 'distance'], 'algorithm': ['ball_tree', 'kd_tree'],\n",
    "#               'leaf_size': [15, 30, 50, 100], 'p': [1,2]}"
   ]
  },
  {
   "cell_type": "code",
   "execution_count": 33,
   "metadata": {
    "collapsed": false
   },
   "outputs": [
    {
     "data": {
      "text/plain": [
       "SVC(C=1.0, cache_size=600, class_weight='balanced', coef0=0.0,\n",
       "  decision_function_shape=None, degree=3, gamma='auto', kernel='linear',\n",
       "  max_iter=-1, probability=True, random_state=None, shrinking=True,\n",
       "  tol=0.001, verbose=False)"
      ]
     },
     "execution_count": 33,
     "metadata": {},
     "output_type": "execute_result"
    }
   ],
   "source": [
    "svc\n",
    "# lsvm_params = {'loss':['hinge', 'squared_hinge'],'class_weight':['balanced']}"
   ]
  },
  {
   "cell_type": "code",
   "execution_count": 51,
   "metadata": {
    "collapsed": false
   },
   "outputs": [],
   "source": [
    "#tre\n",
    "# tree_param = {\"criterion\": [\"gini\", \"entropy\"],\"class_weight\" : ['balanced']}"
   ]
  }
 ],
 "metadata": {
  "kernelspec": {
   "display_name": "Python 2",
   "language": "python",
   "name": "python2"
  },
  "language_info": {
   "codemirror_mode": {
    "name": "ipython",
    "version": 2
   },
   "file_extension": ".py",
   "mimetype": "text/x-python",
   "name": "python",
   "nbconvert_exporter": "python",
   "pygments_lexer": "ipython2",
   "version": "2.7.11"
  }
 },
 "nbformat": 4,
 "nbformat_minor": 0
}
